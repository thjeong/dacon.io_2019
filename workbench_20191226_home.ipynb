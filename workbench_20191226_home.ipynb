{
 "cells": [
  {
   "cell_type": "code",
   "execution_count": 7,
   "metadata": {},
   "outputs": [],
   "source": [
    "from datetime import datetime\n",
    "import numpy as np\n",
    "import pandas as pd\n",
    "from matplotlib import pyplot as plt\n",
    "\n",
    "from konlpy.tag import Mecab\n",
    "mecab = Mecab()\n",
    "\n",
    "#import lightgbm as lgb\n",
    "\n",
    "import tensorflow as tf\n",
    "import keras"
   ]
  },
  {
   "cell_type": "code",
   "execution_count": 8,
   "metadata": {},
   "outputs": [],
   "source": [
    "pd.options.display.max_rows = 1000"
   ]
  },
  {
   "cell_type": "code",
   "execution_count": 9,
   "metadata": {},
   "outputs": [],
   "source": [
    "df = pd.read_csv('./data/train.csv')"
   ]
  },
  {
   "cell_type": "code",
   "execution_count": 96,
   "metadata": {},
   "outputs": [],
   "source": [
    "import re\n",
    "\n",
    "num_re = re.compile('([0-9X]+[\\-\\.]+[\\-.0-9X]+|[0-9X]+[.0-9X]+\\%|[0-9X]+[년월일천만억원]+)')\n",
    "#num_re = re.compile('[0-9X]+[년월일천만억원]+|[0-9X]+[\\-\\.]+[\\-.0-9X]+')\n",
    "fon_re = re.compile('[0-9X]{2,4}-[0-9Xx]{2,4}-[0-9Xx]{4}')\n",
    "\n",
    "deny_re = re.compile(\"무료거부|무료수신거부\")\n"
   ]
  },
  {
   "cell_type": "code",
   "execution_count": 97,
   "metadata": {},
   "outputs": [],
   "source": [
    "def parse_sentence(sentence):\n",
    "    ret = []\n",
    "    nouns = []\n",
    "    etc = []\n",
    "    condition = False\n",
    "    \n",
    "    if sentence[:4] == '(광고)':\n",
    "        etc.append(1)\n",
    "        sentence = sentence[4:]\n",
    "    else:\n",
    "        etc.append(0)\n",
    "    \n",
    "    # 무료거부 메시지 있는가\n",
    "    etc.append(1 if len(deny_re.findall(sentence)) > 0 else 0)\n",
    "    # 전화번호 형식이 있는가\n",
    "    etc.append(1 if len(fon_re.findall(sentence)) > 0 else 0)\n",
    "    \n",
    "    prev_pos = ''\n",
    "    count_ec, count_m, count_n, count_vv = 0, 0, 0, 0\n",
    "    ss = ''\n",
    "    for word in mecab.pos(sentence):\n",
    "        # 계시다면 등에서 다면이 N으로 파싱됨\n",
    "        if word[1][:1] == 'S' and word[0][:1] not in '()':\n",
    "            # 숫자나 X등\n",
    "            if ss == '' and word[1] == 'SF':\n",
    "                # 점으로 시작하는 경우는 무시\n",
    "                pass\n",
    "            else:\n",
    "                ss += word[0]\n",
    "        elif len(ss) > 0:\n",
    "            # 숫자 뒤에 명사가 와서 의미를 만드는 경우 : 1월, 20일, 1만원 등\n",
    "            if word[1][:1] == 'N':\n",
    "                ss += word[0]\n",
    "            nouns.append(re.sub('[0-9.X]+', 'X', ss))\n",
    "            ss = ''\n",
    "            \n",
    "        if word[1][:1] == 'M':\n",
    "            nouns.append(word[0])\n",
    "            count_m += 1\n",
    "        elif word[1][:1] == 'N':\n",
    "            count_n += 1\n",
    "            if word[0][:2] in ('경우', '필요', '라면', '다면'): # 경우, 필요 단어 등장 시 조건절로 판단\n",
    "                condition = True\n",
    "            elif word[0] == '시' and prev_pos[:1] == 'N':  # 넣으나 마나.. 왜 그렇지?\n",
    "                condition = True\n",
    "            else:\n",
    "                nouns.append(word[0])\n",
    "        # 도 : 여도, 라도\n",
    "        # 면 : 라면, 면\n",
    "        elif word[1] == 'EC':\n",
    "            count_ec += 1\n",
    "            if word[0][-1:] in ('면', '도') or word[0][-2:] in ('도록'):\n",
    "                condition = True\n",
    "        elif word[1][:1] == 'V':\n",
    "            count_vv += 1\n",
    "            nouns.append(word[0])\n",
    "        elif word[1][-2:] in ('EF'): # and word[0][-1:] in ['요', '다']:\n",
    "            # nouns가 꼭 명사를 뜻하는 게 아니고 특색있는 키워드 모두를 포함\n",
    "            nouns.append(word[0])\n",
    "            ret.append([word[0], condition, nouns])\n",
    "            nouns = []\n",
    "            condition = False\n",
    "        prev_pos = word[1]\n",
    "    if len(nouns) > 0:\n",
    "        nouns.append(word[0])\n",
    "        ret.append([word[0], condition, nouns])\n",
    "    \n",
    "    etc += [count_ec, count_m, count_n, count_vv]\n",
    "    \n",
    "    # 가장 많은 단어를 가진 조건절만 남기고 나머지는 일반문장으로 원복\n",
    "    max_len, selected = 0, -1\n",
    "    for idx, item in enumerate(ret):\n",
    "        if item[1] == True and len(item[2]) > max_len:\n",
    "            selected, max_len = idx, len(item[2])\n",
    "        ret[idx][1] = False\n",
    "    if selected >= 0:\n",
    "        ret[selected][1] = True\n",
    "    return ret, etc"
   ]
  },
  {
   "cell_type": "code",
   "execution_count": 98,
   "metadata": {},
   "outputs": [
    {
     "name": "stdout",
     "output_type": "stream",
     "text": [
      "2019-12-26 21:20:39.000781 0\n",
      "2019-12-26 21:21:34.855632 100000\n",
      "2019-12-26 21:22:31.762933 200000\n"
     ]
    }
   ],
   "source": [
    "smishings = []\n",
    "normals = []\n",
    "idx = 0\n",
    "for idx, item in df.iterrows():\n",
    "    #print(item.text)\n",
    "    splited, etc = parse_sentence(item.text)\n",
    "    # 일반 피쳐를 여기에서 etc에 넣는다\n",
    "    etc.append(len(item.text))\n",
    "    splited.append(etc)\n",
    "    splited.append(item.id)\n",
    "    #splited = m.parse(item.text).split()\n",
    "    if item.smishing == 1:\n",
    "        smishings.append(splited)\n",
    "    else:\n",
    "        normals.append(splited)\n",
    "    if idx % 100000 == 0:\n",
    "        print(datetime.now(), idx)\n",
    "    idx += 1\n",
    "#     if idx > 20000:\n",
    "#         break"
   ]
  },
  {
   "cell_type": "code",
   "execution_count": 99,
   "metadata": {},
   "outputs": [],
   "source": [
    "class wordCounter():\n",
    "    def __init__(self):\n",
    "        self.word_bank = {}\n",
    "    \n",
    "    def add_bucket(self, bucket_name):\n",
    "        self.word_bank[bucket_name] = {}\n",
    "        \n",
    "    def add_list(self, bucket_name, word_list:[]):\n",
    "        bucket = self.word_bank[bucket_name]\n",
    "        for keyword in word_list:\n",
    "            if keyword in bucket:\n",
    "                bucket[keyword] += 1\n",
    "            else:\n",
    "                bucket[keyword] = 1\n",
    "                \n",
    "    def get_counts(self, bucket_name):\n",
    "        return self.word_bank[bucket_name]"
   ]
  },
  {
   "cell_type": "code",
   "execution_count": 100,
   "metadata": {},
   "outputs": [],
   "source": [
    "wc = wordCounter()\n",
    "wc.add_bucket('conditioned')\n",
    "wc.add_bucket('general')\n",
    "\n",
    "for normal in normals:\n",
    "    for item in normal[:-2]:\n",
    "        if item[1] == True:\n",
    "            wc.add_list('conditioned', item[2])\n",
    "        else:\n",
    "            wc.add_list('general', item[2])\n",
    "\n",
    "for smishing in smishings:\n",
    "    for item in smishing[:-2]:\n",
    "        if item[1] == True:\n",
    "            wc.add_list('conditioned', item[2])\n",
    "        else:\n",
    "            wc.add_list('general', item[2])"
   ]
  },
  {
   "cell_type": "code",
   "execution_count": 101,
   "metadata": {},
   "outputs": [
    {
     "data": {
      "text/plain": [
       "첫날                           98\n",
       "아니                         2562\n",
       "누군가                         249\n",
       "행복                        13282\n",
       "내내                          144\n",
       "                          ...  \n",
       "!X주택                         59\n",
       "openXkakaoXcomostXEPOX       52\n",
       "openXkakaoXcomosjqKQOX       61\n",
       "openXkakaoXcomosHLITOX       59\n",
       "자절                           56\n",
       "Length: 3231, dtype: int64"
      ]
     },
     "metadata": {},
     "output_type": "display_data"
    },
    {
     "data": {
      "text/plain": [
       "행성               659\n",
       "X팀장            20966\n",
       "팀장             33486\n",
       "입니다            81362\n",
       "행복             96179\n",
       "               ...  \n",
       ":X%(차등           866\n",
       "도최              1272\n",
       "ID:citiX아이디     1752\n",
       "승인서              660\n",
       "X:X담당자           571\n",
       "Length: 1602, dtype: int64"
      ]
     },
     "metadata": {},
     "output_type": "display_data"
    }
   ],
   "source": [
    "conditioned_df = pd.Series(wc.get_counts('conditioned'))\n",
    "general_df = pd.Series(wc.get_counts('general'))\n",
    "\n",
    "# 글자가 2개 이상인 것만 모아보자\n",
    "conditioned_df = conditioned_df[conditioned_df.index.map(len) > 1]\n",
    "general_df = general_df[general_df.index.map(len) > 1]\n",
    "\n",
    "# 출현빈도가 일정 개수 이상되는 키워드만 표시해보면\n",
    "display(conditioned_df[conditioned_df > 50])  # 조건절이 있는 문장에서 출현 빈도\n",
    "display(general_df[general_df > 500])"
   ]
  },
  {
   "cell_type": "code",
   "execution_count": 102,
   "metadata": {},
   "outputs": [],
   "source": [
    "# size of feature vector : 아래 두 숫자를 합한 것만큼이 피쳐개수가 됨 \\ 위의 출현개수 기반으로 판단해볼것\n",
    "# 참고 : 400/400 에서 늘려서.. 700/500 800/400 600/600 이렇게 해봐도.. 아래 케이스에서 못맞히는 개수가 12~14개 꾸준함... ㅎㅎ\n",
    "# 400/400 일 때는 15개 틀림.. 좀 늘리면 12개 까지는 좋아질 수 있음.. 합이 1200을 넘으면 너무 느려져서 사용불가 (이 mac기준)\n",
    "CONDITION_WORD_FTR_SIZE = 300  \n",
    "GENERAL_WORD_FTR_SIZE = 400\n",
    "\n",
    "conditioned_dic = list(conditioned_df.sort_values(ascending=False).head(CONDITION_WORD_FTR_SIZE).index)\n",
    "general_dic = list(general_df.sort_values(ascending=False).head(GENERAL_WORD_FTR_SIZE).index)"
   ]
  },
  {
   "cell_type": "code",
   "execution_count": 103,
   "metadata": {},
   "outputs": [],
   "source": [
    "train_conditioned = []\n",
    "train_general = []\n",
    "train_etc = []"
   ]
  },
  {
   "cell_type": "code",
   "execution_count": 104,
   "metadata": {},
   "outputs": [],
   "source": [
    "original_idx = []\n",
    "for normal in normals:\n",
    "    # 하나의 문자메시지에서 여러개의 문장이 있을 때, 한문장씩 처리(조건절 있는 경우 없는경우 나눠서)\n",
    "    conditioned = []\n",
    "    general = []\n",
    "    for item in normal[:-2]:\n",
    "        if item[1] == True:  # conditioned\n",
    "            conditioned += [x for x in item[2] if x in conditioned_dic]\n",
    "        else:\n",
    "            general += [x for x in item[2] if x in general_dic]\n",
    "    train_conditioned.append(list(conditioned))\n",
    "    train_general.append(list(general))\n",
    "    train_etc.append(normal[-2])\n",
    "    original_idx.append(normal[-1])"
   ]
  },
  {
   "cell_type": "code",
   "execution_count": 105,
   "metadata": {},
   "outputs": [],
   "source": [
    "for smishing in smishings:\n",
    "    # 하나의 문자메시지에서 여러개의 문장이 있을 때, 한문장씩 처리(조건절 있는 경우 없는경우 나눠서)\n",
    "    conditioned = []\n",
    "    general = []\n",
    "    for item in smishing[:-2]:\n",
    "        if item[1] == True:  # conditioned\n",
    "            conditioned += [x for x in item[2] if x in conditioned_dic]\n",
    "        else:\n",
    "            general += [x for x in item[2] if x in general_dic]\n",
    "    train_conditioned.append(list(conditioned))\n",
    "    train_general.append(list(general))\n",
    "    train_etc.append(smishing[-2])\n",
    "    original_idx.append(smishing[-1])"
   ]
  },
  {
   "cell_type": "code",
   "execution_count": 106,
   "metadata": {},
   "outputs": [],
   "source": [
    "from sklearn.feature_extraction.text import TfidfVectorizer\n",
    "vectorizer_conditioned = TfidfVectorizer(tokenizer=lambda x: x, lowercase=False)\n",
    "vectorizer_general = TfidfVectorizer(tokenizer=lambda x: x, lowercase=False)\n",
    "\n",
    "tidf_conditioned = vectorizer_conditioned.fit_transform(train_conditioned)\n",
    "tidf_general = vectorizer_general.fit_transform(train_general)"
   ]
  },
  {
   "cell_type": "code",
   "execution_count": null,
   "metadata": {},
   "outputs": [],
   "source": []
  },
  {
   "cell_type": "code",
   "execution_count": 107,
   "metadata": {},
   "outputs": [],
   "source": [
    "# 훈련용, 훈련검증용, 결과검증용 분리\n",
    "tidf_conditioned = np.array(tidf_conditioned.toarray())\n",
    "tidf_general = np.array(tidf_general.toarray())\n",
    "ftr_etc = np.array(train_etc)\n",
    "tidf_label = np.array([1 if x >= len(normals) else 0 for x in range(tidf_conditioned.shape[0])])"
   ]
  },
  {
   "cell_type": "code",
   "execution_count": 108,
   "metadata": {},
   "outputs": [
    {
     "data": {
      "text/plain": [
       "((177533, 300), (59281, 300))"
      ]
     },
     "execution_count": 108,
     "metadata": {},
     "output_type": "execute_result"
    }
   ],
   "source": [
    "TRAIN_RATIO, VALID_RATIO = 0.6, 0.8\n",
    "np.random.seed(0)\n",
    "split = np.random.rand(tidf_conditioned.shape[0])\n",
    "tidf_cond_train = tidf_conditioned[split < TRAIN_RATIO]\n",
    "tidf_cond_valid = tidf_conditioned[(split >= TRAIN_RATIO) & (split < VALID_RATIO)]\n",
    "tidf_cond_test = tidf_conditioned[split >= VALID_RATIO]\n",
    "\n",
    "tidf_gen_train = tidf_general[split < TRAIN_RATIO]\n",
    "tidf_gen_valid = tidf_general[(split >= TRAIN_RATIO) & (split < VALID_RATIO)]\n",
    "tidf_gen_test = tidf_general[split >= VALID_RATIO]\n",
    "\n",
    "ftr_etc_train = ftr_etc[split < TRAIN_RATIO]\n",
    "ftr_etc_valid = ftr_etc[(split >= TRAIN_RATIO) & (split < VALID_RATIO)]\n",
    "ftr_etc_test = ftr_etc[split >= VALID_RATIO]\n",
    "\n",
    "tidf_label_train = tidf_label[split < TRAIN_RATIO]\n",
    "tidf_label_valid = tidf_label[(split >= TRAIN_RATIO) & (split < VALID_RATIO)]\n",
    "tidf_label_test = tidf_label[split >= VALID_RATIO]\n",
    "\n",
    "tidf_cond_train.shape, tidf_cond_valid.shape #, tidf_cond_test.shape"
   ]
  },
  {
   "cell_type": "code",
   "execution_count": 109,
   "metadata": {},
   "outputs": [
    {
     "data": {
      "text/plain": [
       "((177533, 400), (59281, 400))"
      ]
     },
     "execution_count": 109,
     "metadata": {},
     "output_type": "execute_result"
    }
   ],
   "source": [
    "tidf_gen_train.shape, tidf_gen_valid.shape #, tidf_gen_test.shape"
   ]
  },
  {
   "cell_type": "code",
   "execution_count": 160,
   "metadata": {},
   "outputs": [
    {
     "name": "stderr",
     "output_type": "stream",
     "text": [
      "/home/xikizima/.conda/lib/python3.7/site-packages/ipykernel_launcher.py:38: UserWarning: Update your `Model` call to the Keras 2 API: `Model(inputs=[<tf.Tenso..., outputs=Tensor(\"Ac...)`\n"
     ]
    }
   ],
   "source": [
    "INPUT1, INPUT2, DENSE1, DENSE2, DENSE3, DENSE4 = 24, 40, 12, 12, 12, 12\n",
    "\n",
    "n_cond, n_gen = CONDITION_WORD_FTR_SIZE, GENERAL_WORD_FTR_SIZE\n",
    "n_etc = ftr_etc.shape[1]\n",
    "cond_input = keras.layers.Input(shape=(n_cond,), name='Cond')\n",
    "gen_input = keras.layers.Input(shape=(n_gen,), name='General')\n",
    "etc_input = keras.layers.Input(shape=(n_etc,), name='Etc')\n",
    "\n",
    "#cond_vec_mlp = keras.layers.Embedding(n_cond, num_predictive_factors, )(cond_input)\n",
    "#cond_vec_mlp = keras.layers.Flatten(name='Flattenconds-MLP')(cond_vec_mlp)\n",
    "#cond_vec_mlp = keras.layers.Dropout(0.3)(cond_vec_mlp)\n",
    "\n",
    "#gen_vec_mlp = keras.layers.Embedding(n_gen, num_predictive_factors)(gen_input)\n",
    "#gen_vec_mlp = keras.layers.Flatten(name='Flattengens-MLP')(gen_vec_mlp)\n",
    "#gen_vec_mlp = keras.layers.Dropout(0.3)(gen_vec_mlp)\n",
    "\n",
    "enc_input1 = keras.layers.Dense(INPUT1, name='AutoEncoder-1')(cond_input)\n",
    "dropout_input1 = keras.layers.Dropout(0.2, name='enc_input1')(enc_input1)\n",
    "enc_input2 = keras.layers.Dense(INPUT2, name='AutoEncoder-2')(gen_input)\n",
    "dropout_input2 = keras.layers.Dropout(0.2, name='enc_input2')(enc_input2)\n",
    "\n",
    "concat_mlp = keras.layers.merge.concatenate([dropout_input1, dropout_input2, etc_input])\n",
    "concat_dropout_mlp = keras.layers.Dropout(0.2)(concat_mlp)\n",
    "\n",
    "dense = keras.layers.Dense(DENSE1, kernel_regularizer=keras.regularizers.l2(0.0025), name='FullyConnected-1', activation='relu')(concat_dropout_mlp)\n",
    "dropout_1 = keras.layers.Dropout(0.3, name='Dropout-1')(dense)\n",
    "\n",
    "dense_2 = keras.layers.Dense(DENSE2, kernel_regularizer=keras.regularizers.l2(0.0025), name='FullyConnected-2', activation='relu')(dropout_1)\n",
    "dropout_2 = keras.layers.Dropout(0.3, name='Dropout-2')(dense_2)\n",
    "\n",
    "dense_3 = keras.layers.Dense(DENSE3, kernel_regularizer=keras.regularizers.l2(0.0025), name='FullyConnected-3', activation='relu')(dropout_2)\n",
    "dropout_3 = keras.layers.Dropout(0.3, name='Dropout-3')(dense_3)\n",
    "\n",
    "dense_4 = keras.layers.Dense(DENSE4, kernel_regularizer=keras.regularizers.l2(0.0025), name='FullyConnected-4', activation='relu')(dropout_3)\n",
    "\n",
    "pred_mlp = keras.layers.Dense(1, activation='sigmoid', name='Activation')(dense_4)\n",
    "\n",
    "model = keras.Model(inputs=[cond_input, gen_input, etc_input], output=pred_mlp)\n",
    "model.compile(optimizer=keras.optimizers.Adam(lr=1e-4), loss='binary_crossentropy', metrics=['binary_crossentropy', 'accuracy'])\n",
    "#model.compile(optimizer=keras.optimizers.Adamax(lr=1e-3), loss='binary_crossentropy', metrics=['binary_crossentropy', 'accuracy'])"
   ]
  },
  {
   "cell_type": "code",
   "execution_count": 161,
   "metadata": {},
   "outputs": [
    {
     "data": {
      "text/plain": [
       "((59281,), 3724)"
      ]
     },
     "execution_count": 161,
     "metadata": {},
     "output_type": "execute_result"
    }
   ],
   "source": [
    "tidf_label_valid.shape, sum(tidf_label_valid)"
   ]
  },
  {
   "cell_type": "code",
   "execution_count": 162,
   "metadata": {},
   "outputs": [],
   "source": [
    "class DataGenerator(keras.utils.Sequence):\n",
    "    def __init__(self, tidf_cond_train, tidf_gen_train, ftr_etc_train, tidf_label_train, normal_size=160, smishing_size=160):\n",
    "        self.tidf_cond_train_normal = tidf_cond_train[tidf_label_train == 0]\n",
    "        self.tidf_gen_train_normal = tidf_gen_train[tidf_label_train == 0]\n",
    "        self.tidf_cond_train_smishing = tidf_cond_train[tidf_label_train == 1]\n",
    "        self.tidf_gen_train_smishing = tidf_gen_train[tidf_label_train == 1]\n",
    "        self.ftr_etc_train_normal = ftr_etc_train[tidf_label_train == 0]\n",
    "        self.ftr_etc_train_smishing = ftr_etc_train[tidf_label_train == 1]\n",
    "        self.normal_sample_size = normal_size\n",
    "        self.smishing_sample_size = smishing_size\n",
    "        self.num_batch = int(np.ceil(len(self.tidf_cond_train_normal) / (self.normal_sample_size + self.smishing_sample_size)))\n",
    "        print('num_batch:', self.num_batch)\n",
    "    \n",
    "    def __len__(self):\n",
    "        return self.num_batch\n",
    "    \n",
    "    def __getitem__(self, index):\n",
    "        # random sampling. ignore index\n",
    "        normal_sampling = np.random.choice(len(self.tidf_cond_train_normal), self.normal_sample_size)\n",
    "        normal_cond_sample = self.tidf_cond_train_normal[normal_sampling]\n",
    "        normal_gen_sample = self.tidf_gen_train_normal[normal_sampling]\n",
    "        normal_etc_sample = self.ftr_etc_train_normal[normal_sampling]\n",
    "        smishing_sampling = np.random.choice(len(self.tidf_cond_train_smishing), self.smishing_sample_size)\n",
    "        smishing_cond_sample = self.tidf_cond_train_smishing[smishing_sampling]\n",
    "        smishing_gen_sample = self.tidf_gen_train_smishing[smishing_sampling]\n",
    "        smishing_etc_sample = self.ftr_etc_train_smishing[smishing_sampling]\n",
    "        sample_cond_train = np.concatenate([normal_cond_sample, smishing_cond_sample])\n",
    "        sample_gen_train = np.concatenate([normal_gen_sample, smishing_gen_sample])\n",
    "        sample_etc_train = np.concatenate([normal_etc_sample, smishing_etc_sample])\n",
    "        sample_label_train = [1 if x >= self.normal_sample_size else 0 for x in range(len(sample_cond_train))]\n",
    "        return [sample_cond_train, sample_gen_train, sample_etc_train], sample_label_train\n",
    "\n",
    "    def on_epoch_end(self):\n",
    "        pass"
   ]
  },
  {
   "cell_type": "code",
   "execution_count": 163,
   "metadata": {},
   "outputs": [
    {
     "name": "stdout",
     "output_type": "stream",
     "text": [
      "num_batch: 520\n",
      "num_batch: 28\n",
      "Epoch 1/50\n",
      "520/520 [==============================] - 11s 21ms/step - loss: 2.1853 - binary_crossentropy: 2.0607 - acc: 0.5327 - val_loss: 0.6126 - val_binary_crossentropy: 0.4989 - val_acc: 0.7354\n",
      "Epoch 2/50\n",
      "520/520 [==============================] - 6s 12ms/step - loss: 1.0341 - binary_crossentropy: 0.9292 - acc: 0.6272 - val_loss: 0.6903 - val_binary_crossentropy: 0.5934 - val_acc: 0.9394\n",
      "Epoch 3/50\n",
      "520/520 [==============================] - 6s 12ms/step - loss: 0.7248 - binary_crossentropy: 0.6340 - acc: 0.7269 - val_loss: 0.6335 - val_binary_crossentropy: 0.5481 - val_acc: 0.9468\n",
      "Epoch 4/50\n",
      "520/520 [==============================] - 7s 13ms/step - loss: 0.6180 - binary_crossentropy: 0.5370 - acc: 0.7875 - val_loss: 0.6132 - val_binary_crossentropy: 0.5360 - val_acc: 0.9214\n",
      "Epoch 5/50\n",
      "520/520 [==============================] - 6s 12ms/step - loss: 0.5622 - binary_crossentropy: 0.4876 - acc: 0.8210 - val_loss: 0.5988 - val_binary_crossentropy: 0.5263 - val_acc: 0.8993\n",
      "Epoch 6/50\n",
      "520/520 [==============================] - 6s 11ms/step - loss: 0.5154 - binary_crossentropy: 0.4441 - acc: 0.8473 - val_loss: 0.4910 - val_binary_crossentropy: 0.4203 - val_acc: 0.9532\n",
      "Epoch 7/50\n",
      "520/520 [==============================] - 7s 13ms/step - loss: 0.4681 - binary_crossentropy: 0.3972 - acc: 0.8770 - val_loss: 0.4358 - val_binary_crossentropy: 0.3645 - val_acc: 0.9627\n",
      "Epoch 8/50\n",
      "520/520 [==============================] - 6s 12ms/step - loss: 0.4198 - binary_crossentropy: 0.3475 - acc: 0.9000 - val_loss: 0.3847 - val_binary_crossentropy: 0.3112 - val_acc: 0.9733\n",
      "Epoch 9/50\n",
      "520/520 [==============================] - 7s 14ms/step - loss: 0.3650 - binary_crossentropy: 0.2903 - acc: 0.9239 - val_loss: 0.3091 - val_binary_crossentropy: 0.2331 - val_acc: 0.9881\n",
      "Epoch 10/50\n",
      "520/520 [==============================] - 7s 13ms/step - loss: 0.3076 - binary_crossentropy: 0.2307 - acc: 0.9451 - val_loss: 0.2353 - val_binary_crossentropy: 0.1577 - val_acc: 0.9952\n",
      "Epoch 11/50\n",
      "520/520 [==============================] - 7s 14ms/step - loss: 0.2547 - binary_crossentropy: 0.1773 - acc: 0.9612 - val_loss: 0.1817 - val_binary_crossentropy: 0.1051 - val_acc: 0.9956\n",
      "Epoch 12/50\n",
      "520/520 [==============================] - 6s 12ms/step - loss: 0.2088 - binary_crossentropy: 0.1337 - acc: 0.9727 - val_loss: 0.1491 - val_binary_crossentropy: 0.0756 - val_acc: 0.9961\n",
      "Epoch 13/50\n",
      "520/520 [==============================] - 6s 11ms/step - loss: 0.1741 - binary_crossentropy: 0.1026 - acc: 0.9795 - val_loss: 0.1233 - val_binary_crossentropy: 0.0542 - val_acc: 0.9965\n",
      "Epoch 14/50\n",
      "520/520 [==============================] - 6s 12ms/step - loss: 0.1473 - binary_crossentropy: 0.0806 - acc: 0.9835 - val_loss: 0.1056 - val_binary_crossentropy: 0.0411 - val_acc: 0.9964\n",
      "Epoch 15/50\n",
      "520/520 [==============================] - 11s 20ms/step - loss: 0.1239 - binary_crossentropy: 0.0618 - acc: 0.9874 - val_loss: 0.0922 - val_binary_crossentropy: 0.0323 - val_acc: 0.9963\n",
      "Epoch 16/50\n",
      "520/520 [==============================] - 7s 13ms/step - loss: 0.1073 - binary_crossentropy: 0.0499 - acc: 0.9897 - val_loss: 0.0812 - val_binary_crossentropy: 0.0261 - val_acc: 0.9963\n",
      "Epoch 17/50\n",
      "520/520 [==============================] - 8s 16ms/step - loss: 0.0944 - binary_crossentropy: 0.0416 - acc: 0.9911 - val_loss: 0.0710 - val_binary_crossentropy: 0.0204 - val_acc: 0.9967\n",
      "Epoch 18/50\n",
      "520/520 [==============================] - 7s 13ms/step - loss: 0.0838 - binary_crossentropy: 0.0356 - acc: 0.9925 - val_loss: 0.0645 - val_binary_crossentropy: 0.0187 - val_acc: 0.9966\n",
      "Epoch 19/50\n",
      "520/520 [==============================] - 6s 12ms/step - loss: 0.0751 - binary_crossentropy: 0.0314 - acc: 0.9933 - val_loss: 0.0594 - val_binary_crossentropy: 0.0178 - val_acc: 0.9963\n",
      "Epoch 20/50\n",
      "520/520 [==============================] - 8s 15ms/step - loss: 0.0694 - binary_crossentropy: 0.0299 - acc: 0.9936 - val_loss: 0.0534 - val_binary_crossentropy: 0.0159 - val_acc: 0.9966\n",
      "Epoch 21/50\n",
      "520/520 [==============================] - 9s 18ms/step - loss: 0.0629 - binary_crossentropy: 0.0272 - acc: 0.9943 - val_loss: 0.0505 - val_binary_crossentropy: 0.0168 - val_acc: 0.9966\n",
      "Epoch 22/50\n",
      "520/520 [==============================] - 9s 18ms/step - loss: 0.0547 - binary_crossentropy: 0.0226 - acc: 0.9951 - val_loss: 0.0474 - val_binary_crossentropy: 0.0170 - val_acc: 0.9965\n",
      "Epoch 23/50\n",
      "520/520 [==============================] - 8s 14ms/step - loss: 0.0493 - binary_crossentropy: 0.0204 - acc: 0.9955 - val_loss: 0.0427 - val_binary_crossentropy: 0.0153 - val_acc: 0.9968\n",
      "Epoch 24/50\n",
      "520/520 [==============================] - 8s 16ms/step - loss: 0.0460 - binary_crossentropy: 0.0200 - acc: 0.9956 - val_loss: 0.0402 - val_binary_crossentropy: 0.0155 - val_acc: 0.9963\n",
      "Epoch 25/50\n",
      "520/520 [==============================] - 9s 17ms/step - loss: 0.0421 - binary_crossentropy: 0.0188 - acc: 0.9958 - val_loss: 0.0365 - val_binary_crossentropy: 0.0142 - val_acc: 0.9970\n",
      "Epoch 26/50\n",
      "520/520 [==============================] - 9s 18ms/step - loss: 0.0384 - binary_crossentropy: 0.0172 - acc: 0.9961 - val_loss: 0.0343 - val_binary_crossentropy: 0.0140 - val_acc: 0.9969\n",
      "Epoch 27/50\n",
      "520/520 [==============================] - 10s 20ms/step - loss: 0.0362 - binary_crossentropy: 0.0168 - acc: 0.9961 - val_loss: 0.0333 - val_binary_crossentropy: 0.0146 - val_acc: 0.9961\n",
      "Epoch 28/50\n",
      "520/520 [==============================] - 12s 22ms/step - loss: 0.0329 - binary_crossentropy: 0.0150 - acc: 0.9965 - val_loss: 0.0292 - val_binary_crossentropy: 0.0121 - val_acc: 0.9969\n",
      "Epoch 29/50\n",
      "520/520 [==============================] - 12s 23ms/step - loss: 0.0302 - binary_crossentropy: 0.0137 - acc: 0.9968 - val_loss: 0.0292 - val_binary_crossentropy: 0.0132 - val_acc: 0.9969\n",
      "Epoch 30/50\n",
      "520/520 [==============================] - 10s 19ms/step - loss: 0.0282 - binary_crossentropy: 0.0127 - acc: 0.9969 - val_loss: 0.0271 - val_binary_crossentropy: 0.0120 - val_acc: 0.9971\n",
      "Epoch 31/50\n",
      "520/520 [==============================] - 12s 23ms/step - loss: 0.0274 - binary_crossentropy: 0.0127 - acc: 0.9968 - val_loss: 0.0254 - val_binary_crossentropy: 0.0113 - val_acc: 0.9974\n",
      "Epoch 32/50\n",
      "520/520 [==============================] - 11s 20ms/step - loss: 0.0256 - binary_crossentropy: 0.0119 - acc: 0.9971 - val_loss: 0.0228 - val_binary_crossentropy: 0.0094 - val_acc: 0.9976\n",
      "Epoch 33/50\n",
      "520/520 [==============================] - 10s 20ms/step - loss: 0.0258 - binary_crossentropy: 0.0128 - acc: 0.9968 - val_loss: 0.0239 - val_binary_crossentropy: 0.0111 - val_acc: 0.9975\n",
      "Epoch 34/50\n",
      "520/520 [==============================] - 12s 22ms/step - loss: 0.0232 - binary_crossentropy: 0.0106 - acc: 0.9974 - val_loss: 0.0231 - val_binary_crossentropy: 0.0108 - val_acc: 0.9970\n",
      "Epoch 35/50\n",
      "520/520 [==============================] - 21s 41ms/step - loss: 0.0231 - binary_crossentropy: 0.0110 - acc: 0.9972 - val_loss: 0.0222 - val_binary_crossentropy: 0.0102 - val_acc: 0.9973\n",
      "Epoch 36/50\n",
      "520/520 [==============================] - 10s 20ms/step - loss: 0.0214 - binary_crossentropy: 0.0095 - acc: 0.9975 - val_loss: 0.0203 - val_binary_crossentropy: 0.0086 - val_acc: 0.9978\n",
      "Epoch 37/50\n",
      "520/520 [==============================] - 10s 20ms/step - loss: 0.0208 - binary_crossentropy: 0.0092 - acc: 0.9976 - val_loss: 0.0226 - val_binary_crossentropy: 0.0113 - val_acc: 0.9973\n",
      "Epoch 38/50\n",
      "520/520 [==============================] - 12s 23ms/step - loss: 0.0207 - binary_crossentropy: 0.0095 - acc: 0.9976 - val_loss: 0.0192 - val_binary_crossentropy: 0.0081 - val_acc: 0.9982\n",
      "Epoch 39/50\n",
      "520/520 [==============================] - 17s 32ms/step - loss: 0.0204 - binary_crossentropy: 0.0094 - acc: 0.9974 - val_loss: 0.0196 - val_binary_crossentropy: 0.0088 - val_acc: 0.9981\n",
      "Epoch 40/50\n",
      "520/520 [==============================] - 11s 20ms/step - loss: 0.0194 - binary_crossentropy: 0.0086 - acc: 0.9977 - val_loss: 0.0186 - val_binary_crossentropy: 0.0079 - val_acc: 0.9983\n",
      "Epoch 41/50\n",
      "520/520 [==============================] - 13s 25ms/step - loss: 0.0201 - binary_crossentropy: 0.0095 - acc: 0.9975 - val_loss: 0.0182 - val_binary_crossentropy: 0.0077 - val_acc: 0.9983\n",
      "Epoch 42/50\n"
     ]
    },
    {
     "name": "stdout",
     "output_type": "stream",
     "text": [
      "520/520 [==============================] - 11s 21ms/step - loss: 0.0186 - binary_crossentropy: 0.0082 - acc: 0.9977 - val_loss: 0.0181 - val_binary_crossentropy: 0.0077 - val_acc: 0.9982\n",
      "Epoch 43/50\n",
      "520/520 [==============================] - 15s 28ms/step - loss: 0.0189 - binary_crossentropy: 0.0086 - acc: 0.9976 - val_loss: 0.0189 - val_binary_crossentropy: 0.0086 - val_acc: 0.9981\n",
      "Epoch 44/50\n",
      "520/520 [==============================] - 12s 22ms/step - loss: 0.0186 - binary_crossentropy: 0.0083 - acc: 0.9977 - val_loss: 0.0197 - val_binary_crossentropy: 0.0096 - val_acc: 0.9978\n",
      "Epoch 45/50\n",
      "520/520 [==============================] - 11s 21ms/step - loss: 0.0184 - binary_crossentropy: 0.0084 - acc: 0.9978 - val_loss: 0.0189 - val_binary_crossentropy: 0.0088 - val_acc: 0.9981\n",
      "Epoch 46/50\n",
      "520/520 [==============================] - 14s 26ms/step - loss: 0.0182 - binary_crossentropy: 0.0082 - acc: 0.9979 - val_loss: 0.0184 - val_binary_crossentropy: 0.0085 - val_acc: 0.9982\n",
      "Epoch 47/50\n",
      "520/520 [==============================] - 12s 24ms/step - loss: 0.0187 - binary_crossentropy: 0.0088 - acc: 0.9975 - val_loss: 0.0184 - val_binary_crossentropy: 0.0085 - val_acc: 0.9982\n",
      "Epoch 48/50\n",
      "520/520 [==============================] - 9s 18ms/step - loss: 0.0179 - binary_crossentropy: 0.0082 - acc: 0.9978 - val_loss: 0.0170 - val_binary_crossentropy: 0.0074 - val_acc: 0.9984\n",
      "Epoch 49/50\n",
      "520/520 [==============================] - 10s 20ms/step - loss: 0.0172 - binary_crossentropy: 0.0075 - acc: 0.9979 - val_loss: 0.0174 - val_binary_crossentropy: 0.0077 - val_acc: 0.9985\n",
      "Epoch 50/50\n",
      "520/520 [==============================] - 12s 23ms/step - loss: 0.0166 - binary_crossentropy: 0.0070 - acc: 0.9983 - val_loss: 0.0182 - val_binary_crossentropy: 0.0086 - val_acc: 0.9983\n"
     ]
    }
   ],
   "source": [
    "train_gen = DataGenerator(tidf_cond_train, tidf_gen_train, ftr_etc_train, tidf_label_train, 160, 160)\n",
    "valid_gen = DataGenerator(tidf_cond_valid, tidf_gen_valid, ftr_etc_valid, tidf_label_valid, 1000, 1000)\n",
    "\n",
    "history = model.fit_generator(generator=train_gen,\n",
    "                             epochs = 50,\n",
    "#                              use_multiprocessing=True,\n",
    "#                               workers=3,\n",
    "                             validation_data=valid_gen,\n",
    "                             verbose=1)"
   ]
  },
  {
   "cell_type": "code",
   "execution_count": 164,
   "metadata": {},
   "outputs": [
    {
     "data": {
      "image/png": "[encoded data removed]",
      "text/plain": [
       "<Figure size 1440x720 with 2 Axes>"
      ]
     },
     "metadata": {
      "needs_background": "light"
     },
     "output_type": "display_data"
    }
   ],
   "source": [
    "import matplotlib.pyplot as plt\n",
    "fig, loss_ax = plt.subplots()\n",
    "fig.set_figheight(10)\n",
    "fig.set_figwidth(20)\n",
    "acc_ax = loss_ax.twinx()\n",
    "loss_ax.plot(history.history['loss'], 'y', label='train_loss')\n",
    "loss_ax.plot(history.history['val_loss'], 'r', label='val_loss')\n",
    "\n",
    "acc_ax.plot(history.history['acc'], 'b', label='train_acc')\n",
    "acc_ax.plot(history.history['val_acc'], 'g', label='val_acc')\n",
    "\n",
    "loss_ax.set_xlabel('epoch')\n",
    "loss_ax.set_ylabel('loss')\n",
    "acc_ax.set_ylabel('accuracy')\n",
    "loss_ax.legend(loc='upper left')\n",
    "acc_ax.legend(loc='lower left')\n",
    "\n",
    "plt.show()"
   ]
  },
  {
   "cell_type": "code",
   "execution_count": 165,
   "metadata": {},
   "outputs": [
    {
     "data": {
      "text/plain": [
       "[<matplotlib.lines.Line2D at 0x7febc9af8c50>]"
      ]
     },
     "execution_count": 165,
     "metadata": {},
     "output_type": "execute_result"
    },
    {
     "data": {
      "image/png": "[encoded data removed]",
      "text/plain": [
       "<Figure size 1440x720 with 1 Axes>"
      ]
     },
     "metadata": {
      "needs_background": "light"
     },
     "output_type": "display_data"
    }
   ],
   "source": [
    "# 결과검증(overfit, underfit)\n",
    "pred_test = model.predict(x=[tidf_cond_test, tidf_gen_test, ftr_etc_test], batch_size=160)\n",
    "gap = np.abs(tidf_label_test - pred_test.reshape([-1,]))\n",
    "\n",
    "plt.figure(figsize=(20,10))\n",
    "plt.plot(gap)"
   ]
  },
  {
   "cell_type": "code",
   "execution_count": 166,
   "metadata": {},
   "outputs": [
    {
     "name": "stdout",
     "output_type": "stream",
     "text": [
      "177533/177533 [==============================] - 25s 143us/step\n",
      "59281/59281 [==============================] - 7s 110us/step\n"
     ]
    },
    {
     "data": {
      "text/plain": [
       "(0.9990553465697273, 0.9990705953259394, '99.998%')"
      ]
     },
     "execution_count": 166,
     "metadata": {},
     "output_type": "execute_result"
    }
   ],
   "source": [
    "*_, train_acc = model.evaluate([tidf_cond_train, tidf_gen_train, ftr_etc_train], tidf_label_train)\n",
    "*_, valid_acc = model.evaluate([tidf_cond_valid, tidf_gen_valid, ftr_etc_valid], tidf_label_valid)\n",
    "valid_acc, train_acc, '{:.3f}%'.format(valid_acc / train_acc * 100)"
   ]
  },
  {
   "cell_type": "code",
   "execution_count": 167,
   "metadata": {},
   "outputs": [
    {
     "name": "stdout",
     "output_type": "stream",
     "text": [
      "auc : 0.9999896760902881\n"
     ]
    },
    {
     "data": {
      "image/png": "[encoded data removed]",
      "text/plain": [
       "<Figure size 360x360 with 1 Axes>"
      ]
     },
     "metadata": {
      "needs_background": "light"
     },
     "output_type": "display_data"
    }
   ],
   "source": [
    "from sklearn.metrics import confusion_matrix, roc_curve\n",
    "from sklearn.metrics import auc\n",
    "from matplotlib import pyplot as plt\n",
    "\n",
    "fpr, tpr, thresholds = roc_curve(tidf_label_test, pred_test)\n",
    "print('auc :', auc(fpr,tpr))\n",
    "\n",
    "plt.figure(figsize=(5,5))\n",
    "plt.plot(fpr,tpr,'-')\n",
    "plt.plot([0,1],[0,1], 'k--')\n",
    "plt.show()"
   ]
  },
  {
   "cell_type": "code",
   "execution_count": null,
   "metadata": {},
   "outputs": [],
   "source": []
  },
  {
   "cell_type": "code",
   "execution_count": null,
   "metadata": {},
   "outputs": [],
   "source": []
  },
  {
   "cell_type": "code",
   "execution_count": null,
   "metadata": {},
   "outputs": [],
   "source": []
  },
  {
   "cell_type": "code",
   "execution_count": null,
   "metadata": {},
   "outputs": [],
   "source": [
    "# 제출 준비"
   ]
  },
  {
   "cell_type": "code",
   "execution_count": 168,
   "metadata": {},
   "outputs": [],
   "source": [
    "submit_df = pd.read_csv('./data/public_test.csv')"
   ]
  },
  {
   "cell_type": "code",
   "execution_count": 169,
   "metadata": {},
   "outputs": [
    {
     "name": "stdout",
     "output_type": "stream",
     "text": [
      "2019-12-26 22:29:04.802295 0\n"
     ]
    }
   ],
   "source": [
    "unknowns = []\n",
    "\n",
    "idx = 0\n",
    "for idx, item in submit_df.iterrows():\n",
    "    splited, etc = parse_sentence(item.text)\n",
    "    # 일반 피쳐를 여기에서 etc에 넣는다\n",
    "    etc.append(len(item.text))\n",
    "    splited.append(etc)\n",
    "    splited.append(item.id)\n",
    "    unknowns.append(splited)\n",
    "    if idx % 100000 == 0:\n",
    "        print(datetime.now(), idx)\n",
    "    idx += 1"
   ]
  },
  {
   "cell_type": "code",
   "execution_count": 170,
   "metadata": {},
   "outputs": [],
   "source": [
    "test_conditioned = []\n",
    "test_general = []\n",
    "test_etc = []\n",
    "\n",
    "original_idx = []\n",
    "for unknown in unknowns:\n",
    "    conditioned = []\n",
    "    general = []\n",
    "    for item in unknown[:-2]:\n",
    "        if item[1] == True:\n",
    "            conditioned += [x for x in item[2] if x in conditioned_dic]\n",
    "        else:\n",
    "            general += [x for x in item[2] if x in general_dic]\n",
    "    test_conditioned.append(list(conditioned))\n",
    "    test_general.append(list(general))\n",
    "    test_etc.append(unknown[-2])\n",
    "    original_idx.append(unknown[-1])"
   ]
  },
  {
   "cell_type": "code",
   "execution_count": 171,
   "metadata": {},
   "outputs": [],
   "source": [
    "tidf_conditioned = vectorizer_conditioned.transform(test_conditioned).toarray()\n",
    "tidf_general = vectorizer_general.transform(test_general).toarray()\n",
    "ftr_etc = np.array(test_etc)"
   ]
  },
  {
   "cell_type": "code",
   "execution_count": 172,
   "metadata": {},
   "outputs": [
    {
     "name": "stdout",
     "output_type": "stream",
     "text": [
      "1626/1626 [==============================] - 0s 87us/step\n"
     ]
    }
   ],
   "source": [
    "pred_y = model.predict(x=[tidf_conditioned, tidf_general, ftr_etc], verbose=1)"
   ]
  },
  {
   "cell_type": "code",
   "execution_count": 173,
   "metadata": {},
   "outputs": [],
   "source": [
    "pred_y[pred_y > 1.0] = 1.0"
   ]
  },
  {
   "cell_type": "code",
   "execution_count": 174,
   "metadata": {},
   "outputs": [],
   "source": [
    "submit_df['smishing'] = np.abs(pred_y)"
   ]
  },
  {
   "cell_type": "code",
   "execution_count": 175,
   "metadata": {},
   "outputs": [],
   "source": [
    "submit_df[['id', 'smishing']].to_csv('./data/submission_20191226_3.csv', index=False)"
   ]
  },
  {
   "cell_type": "code",
   "execution_count": null,
   "metadata": {},
   "outputs": [],
   "source": []
  },
  {
   "cell_type": "code",
   "execution_count": null,
   "metadata": {},
   "outputs": [],
   "source": []
  }
 ],
 "metadata": {
  "kernelspec": {
   "display_name": "Python 3",
   "language": "python",
   "name": "python3"
  },
  "language_info": {
   "codemirror_mode": {
    "name": "ipython",
    "version": 3
   },
   "file_extension": ".py",
   "mimetype": "text/x-python",
   "name": "python",
   "nbconvert_exporter": "python",
   "pygments_lexer": "ipython3",
   "version": "3.7.4"
  }
 },
 "nbformat": 4,
 "nbformat_minor": 2
}
