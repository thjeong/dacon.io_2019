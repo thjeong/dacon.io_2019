{
 "cells": [
  {
   "cell_type": "code",
   "execution_count": 1,
   "metadata": {},
   "outputs": [
    {
     "name": "stderr",
     "output_type": "stream",
     "text": [
      "Using TensorFlow backend.\n"
     ]
    }
   ],
   "source": [
    "from datetime import datetime\n",
    "import numpy as np\n",
    "import pandas as pd\n",
    "from matplotlib import pyplot as plt\n",
    "\n",
    "from konlpy.tag import Mecab\n",
    "mecab = Mecab()\n",
    "\n",
    "#import lightgbm as lgb\n",
    "\n",
    "import tensorflow as tf\n",
    "import keras"
   ]
  },
  {
   "cell_type": "code",
   "execution_count": 2,
   "metadata": {},
   "outputs": [],
   "source": [
    "df = pd.read_csv('./data/train.csv')"
   ]
  },
  {
   "cell_type": "code",
   "execution_count": 3,
   "metadata": {},
   "outputs": [],
   "source": [
    "def parse_sentence(sentence):\n",
    "    ret = []\n",
    "    nouns = []\n",
    "    condition = False\n",
    "    for word in mecab.pos(sentence):\n",
    "        # 계시다면 등에서 다면이 N으로 파싱됨\n",
    "        if word[1][:1] == 'N':\n",
    "            if word[0][:2] in ('경우', '필요', '라면', '다면'): # 경우, 필요 단어 등장 시 조건절로 판단\n",
    "                condition = True\n",
    "            else:\n",
    "                nouns.append(word[0])\n",
    "        # 도 : 여도, 라도\n",
    "        # 면 : 라면, 면\n",
    "        elif word[1] == 'EC' and (word[0][-1:] in ('면', '도') or word[0][-2:] in ('도록')):\n",
    "            condition = True\n",
    "        elif word[1][-2:] in ('EF'): # and word[0][-1:] in ['요', '다']:\n",
    "            ret.append((word[0], condition, nouns))\n",
    "            nouns = []\n",
    "            condition = False\n",
    "    if len(nouns) > 0:\n",
    "        ret.append((word[0], condition, nouns))\n",
    "    return ret"
   ]
  },
  {
   "cell_type": "code",
   "execution_count": 4,
   "metadata": {},
   "outputs": [
    {
     "name": "stdout",
     "output_type": "stream",
     "text": [
      "2019-12-22 11:27:39.177602 0\n",
      "2019-12-22 11:28:18.786486 100000\n",
      "2019-12-22 11:29:05.924474 200000\n"
     ]
    }
   ],
   "source": [
    "smishings = []\n",
    "normals = []\n",
    "idx = 0\n",
    "for idx, item in df.iterrows():\n",
    "    #print(item.text)\n",
    "    splited = parse_sentence(item.text)\n",
    "    splited.append(item.id)\n",
    "    #splited = m.parse(item.text).split()\n",
    "    if item.smishing == 1:\n",
    "        smishings.append(splited)\n",
    "    else:\n",
    "        normals.append(splited)\n",
    "    if idx % 100000 == 0:\n",
    "        print(datetime.now(), idx)\n",
    "    idx += 1\n",
    "#     if idx > 20000:\n",
    "#         break"
   ]
  },
  {
   "cell_type": "code",
   "execution_count": 5,
   "metadata": {},
   "outputs": [],
   "source": [
    "class wordCounter():\n",
    "    def __init__(self):\n",
    "        self.word_bank = {}\n",
    "    \n",
    "    def add_bucket(self, bucket_name):\n",
    "        self.word_bank[bucket_name] = {}\n",
    "        \n",
    "    def add_list(self, bucket_name, word_list:[]):\n",
    "        bucket = self.word_bank[bucket_name]\n",
    "        for keyword in word_list:\n",
    "            if keyword in bucket:\n",
    "                bucket[keyword] += 1\n",
    "            else:\n",
    "                bucket[keyword] = 1\n",
    "                \n",
    "    def get_counts(self, bucket_name):\n",
    "        return self.word_bank[bucket_name]"
   ]
  },
  {
   "cell_type": "code",
   "execution_count": 6,
   "metadata": {},
   "outputs": [],
   "source": [
    "wc = wordCounter()\n",
    "wc.add_bucket('conditioned')\n",
    "wc.add_bucket('general')\n",
    "\n",
    "for normal in normals:\n",
    "    for item in normal[:-1]:\n",
    "        if item[1] == True:\n",
    "            wc.add_list('conditioned', item[2])\n",
    "        else:\n",
    "            wc.add_list('general', item[2])\n",
    "\n",
    "for smishing in smishings:\n",
    "    for item in smishing[:-1]:\n",
    "        if item[1] == True:\n",
    "            wc.add_list('conditioned', item[2])\n",
    "        else:\n",
    "            wc.add_list('general', item[2])"
   ]
  },
  {
   "cell_type": "code",
   "execution_count": 7,
   "metadata": {},
   "outputs": [
    {
     "data": {
      "text/plain": [
       "첫날        37\n",
       "누군가      242\n",
       "행복      7022\n",
       "문자     24824\n",
       "라운지      533\n",
       "dtype: int64"
      ]
     },
     "execution_count": 7,
     "metadata": {},
     "output_type": "execute_result"
    }
   ],
   "source": [
    "cond_test = pd.Series(wc.get_counts('conditioned'))\n",
    "cond_test[cond_test.index.map(len) > 1].head(5)"
   ]
  },
  {
   "cell_type": "code",
   "execution_count": 8,
   "metadata": {},
   "outputs": [
    {
     "data": {
      "text/plain": [
       "누군가      242\n",
       "행복      7022\n",
       "문자     24824\n",
       "라운지      533\n",
       "이용     11239\n",
       "       ...  \n",
       "대성       125\n",
       "신전        53\n",
       "자채        92\n",
       "자절       316\n",
       "채팅       503\n",
       "Length: 1571, dtype: int64"
      ]
     },
     "metadata": {},
     "output_type": "display_data"
    },
    {
     "data": {
      "text/plain": [
       "행성        683\n",
       "팀장      31276\n",
       "행복     102438\n",
       "주말      49903\n",
       "오늘      30588\n",
       "        ...  \n",
       "전폭        560\n",
       "이용자       583\n",
       "도최       1497\n",
       "사대        968\n",
       "승인서       660\n",
       "Length: 1087, dtype: int64"
      ]
     },
     "metadata": {},
     "output_type": "display_data"
    }
   ],
   "source": [
    "conditioned_df = pd.Series(wc.get_counts('conditioned'))\n",
    "general_df = pd.Series(wc.get_counts('general'))\n",
    "\n",
    "# 글자가 2개 이상인 것만 모아보자\n",
    "conditioned_df = conditioned_df[conditioned_df.index.map(len) > 1]\n",
    "general_df = general_df[general_df.index.map(len) > 1]\n",
    "\n",
    "# 출현빈도가 일정 개수 이상되는 키워드만 표시해보면\n",
    "display(conditioned_df[conditioned_df > 50])  # 조건절이 있는 문장에서 출현 빈도\n",
    "display(general_df[general_df > 500])"
   ]
  },
  {
   "cell_type": "code",
   "execution_count": 9,
   "metadata": {},
   "outputs": [],
   "source": [
    "# size of feature vector : 아래 두 숫자를 합한 것만큼이 피쳐개수가 됨 \\ 위의 출현개수 기반으로 판단해볼것\n",
    "# 참고 : 400/400 에서 늘려서.. 700/500 800/400 600/600 이렇게 해봐도.. 아래 케이스에서 못맞히는 개수가 12~14개 꾸준함... ㅎㅎ\n",
    "# 400/400 일 때는 15개 틀림.. 좀 늘리면 12개 까지는 좋아질 수 있음.. 합이 1200을 넘으면 너무 느려져서 사용불가 (이 mac기준)\n",
    "CONDITION_WORD_FTR_SIZE = 250  \n",
    "GENERAL_WORD_FTR_SIZE = 350\n",
    "\n",
    "conditioned_dic = list(conditioned_df.sort_values(ascending=False).head(CONDITION_WORD_FTR_SIZE).index)\n",
    "general_dic = list(general_df.sort_values(ascending=False).head(GENERAL_WORD_FTR_SIZE).index)"
   ]
  },
  {
   "cell_type": "code",
   "execution_count": 10,
   "metadata": {},
   "outputs": [],
   "source": [
    "train_normal = []\n",
    "train_smishing = []\n",
    "train_conditioned = []\n",
    "train_general = []"
   ]
  },
  {
   "cell_type": "code",
   "execution_count": 11,
   "metadata": {},
   "outputs": [],
   "source": [
    "original_idx = []\n",
    "for normal in normals:\n",
    "    # 하나의 문자메시지에서 여러개의 문장이 있을 때, 한문장씩 처리(조건절 있는 경우 없는경우 나눠서)\n",
    "    conditioned = []\n",
    "    general = []\n",
    "    for item in normal[:-1]:\n",
    "        if item[1] == True:  # conditioned\n",
    "            conditioned += [x for x in item[2] if x in conditioned_dic]\n",
    "        else:\n",
    "            general += [x for x in item[2] if x in general_dic]\n",
    "    train_conditioned.append(list(conditioned))\n",
    "    train_general.append(list(general))\n",
    "    original_idx.append(normal[-1])"
   ]
  },
  {
   "cell_type": "code",
   "execution_count": 12,
   "metadata": {},
   "outputs": [],
   "source": [
    "for smishing in smishings:\n",
    "    # 하나의 문자메시지에서 여러개의 문장이 있을 때, 한문장씩 처리(조건절 있는 경우 없는경우 나눠서)\n",
    "    conditioned = []\n",
    "    general = []\n",
    "    for item in smishing[:-1]:\n",
    "        if item[1] == True:  # conditioned\n",
    "            conditioned += [x for x in item[2] if x in conditioned_dic]\n",
    "        else:\n",
    "            general += [x for x in item[2] if x in general_dic]\n",
    "    train_conditioned.append(list(conditioned))\n",
    "    train_general.append(list(general))\n",
    "    original_idx.append(smishing[-1])"
   ]
  },
  {
   "cell_type": "code",
   "execution_count": 13,
   "metadata": {},
   "outputs": [],
   "source": [
    "from sklearn.feature_extraction.text import TfidfVectorizer\n",
    "vectorizer_conditioned = TfidfVectorizer(tokenizer=lambda x: x, lowercase=False)\n",
    "vectorizer_general = TfidfVectorizer(tokenizer=lambda x: x, lowercase=False)\n",
    "\n",
    "tidf_conditioned = vectorizer_conditioned.fit_transform(train_conditioned)\n",
    "tidf_general = vectorizer_general.fit_transform(train_general)"
   ]
  },
  {
   "cell_type": "code",
   "execution_count": null,
   "metadata": {},
   "outputs": [],
   "source": []
  },
  {
   "cell_type": "code",
   "execution_count": 14,
   "metadata": {},
   "outputs": [
    {
     "data": {
      "text/plain": [
       "((177533, 250), (59281, 250))"
      ]
     },
     "execution_count": 14,
     "metadata": {},
     "output_type": "execute_result"
    }
   ],
   "source": [
    "# 훈련용, 훈련검증용, 결과검증용 분리\n",
    "tidf_conditioned = np.array(tidf_conditioned.toarray())\n",
    "tidf_general = np.array(tidf_general.toarray())\n",
    "tidf_label = np.array([1 if x >= len(normals) else 0 for x in range(tidf_conditioned.shape[0])])\n",
    "\n",
    "np.random.seed(0)\n",
    "split = np.random.rand(tidf_conditioned.shape[0])\n",
    "tidf_cond_train = tidf_conditioned[split < 0.6]\n",
    "tidf_cond_valid = tidf_conditioned[(split >= 0.6) & (split < 0.8)]\n",
    "tidf_cond_test = tidf_conditioned[split >= 0.8]\n",
    "\n",
    "tidf_gen_train = tidf_general[split < 0.6]\n",
    "tidf_gen_valid = tidf_general[(split >= 0.6) & (split < 0.8)]\n",
    "tidf_gen_test = tidf_general[split >= 0.8]\n",
    "\n",
    "tidf_label_train = tidf_label[split < 0.6]\n",
    "tidf_label_valid = tidf_label[(split >= 0.6) & (split < 0.8)]\n",
    "tidf_label_test = tidf_label[split >= 0.8]\n",
    "\n",
    "tidf_cond_train.shape, tidf_cond_valid.shape #, tidf_cond_test.shape"
   ]
  },
  {
   "cell_type": "code",
   "execution_count": 15,
   "metadata": {},
   "outputs": [
    {
     "data": {
      "text/plain": [
       "((177533, 350), (59281, 350))"
      ]
     },
     "execution_count": 15,
     "metadata": {},
     "output_type": "execute_result"
    }
   ],
   "source": [
    "tidf_gen_train.shape, tidf_gen_valid.shape #, tidf_gen_test.shape"
   ]
  },
  {
   "cell_type": "code",
   "execution_count": 30,
   "metadata": {},
   "outputs": [
    {
     "name": "stderr",
     "output_type": "stream",
     "text": [
      "/home/xikizima/.conda/lib/python3.7/site-packages/ipykernel_launcher.py:29: UserWarning: Update your `Model` call to the Keras 2 API: `Model(inputs=[<tf.Tenso..., outputs=Tensor(\"Ac...)`\n"
     ]
    }
   ],
   "source": [
    "n_cond, n_gen = CONDITION_WORD_FTR_SIZE, GENERAL_WORD_FTR_SIZE\n",
    "cond_input = keras.layers.Input(shape=(n_cond,), name='Cond')\n",
    "gen_input = keras.layers.Input(shape=(n_gen,), name='General')\n",
    "\n",
    "#cond_vec_mlp = keras.layers.Embedding(n_cond, num_predictive_factors, )(cond_input)\n",
    "#cond_vec_mlp = keras.layers.Flatten(name='Flattenconds-MLP')(cond_vec_mlp)\n",
    "#cond_vec_mlp = keras.layers.Dropout(0.3)(cond_vec_mlp)\n",
    "\n",
    "#gen_vec_mlp = keras.layers.Embedding(n_gen, num_predictive_factors)(gen_input)\n",
    "#gen_vec_mlp = keras.layers.Flatten(name='Flattengens-MLP')(gen_vec_mlp)\n",
    "#gen_vec_mlp = keras.layers.Dropout(0.3)(gen_vec_mlp)\n",
    "\n",
    "concat_mlp = keras.layers.merge.concatenate([cond_input, gen_input])\n",
    "#concat_dropout_mlp = keras.layers.Dropout(0.3)(concat_mlp)\n",
    "\n",
    "dense = keras.layers.Dense(64, name='FullyConnected-1')(concat_mlp)\n",
    "dropout_1 = keras.layers.Dropout(0.3, name='Dropout-1')(dense)\n",
    "\n",
    "# dense_2 = keras.layers.Dense(128, name='FullyConnected-2')(dropout_1)\n",
    "# dropout_2 = keras.layers.Dropout(0.3, name='Dropout-2')(dense_2)\n",
    "\n",
    "# dense_3 = keras.layers.Dense(512, name='FullyConnected-3')(dropout_2)\n",
    "# dropout_3 = keras.layers.Dropout(0.2, name='Dropout-3')(dense_3)\n",
    "\n",
    "dense_4 = keras.layers.Dense(64, kernel_regularizer=keras.regularizers.l2(0.0025), name='FullyConnected-4', activation='relu')(dropout_1)\n",
    "\n",
    "pred_mlp = keras.layers.Dense(1, activation='sigmoid', name='Activation')(dense_4)\n",
    "\n",
    "model = keras.Model(inputs=[cond_input, gen_input], output=pred_mlp)\n",
    "model.compile(optimizer=keras.optimizers.Adam(lr=1e-4), loss='mae', metrics=['mae', 'accuracy'])"
   ]
  },
  {
   "cell_type": "code",
   "execution_count": 31,
   "metadata": {},
   "outputs": [
    {
     "data": {
      "text/plain": [
       "((59281,), 3724)"
      ]
     },
     "execution_count": 31,
     "metadata": {},
     "output_type": "execute_result"
    }
   ],
   "source": [
    "tidf_label_valid.shape, sum(tidf_label_valid)"
   ]
  },
  {
   "cell_type": "code",
   "execution_count": 32,
   "metadata": {},
   "outputs": [],
   "source": [
    "class DataGenerator(keras.utils.Sequence):\n",
    "    def __init__(self, tidf_cond_train, tidf_gen_train, tidf_label_train, normal_size=160, smishing_size=160):\n",
    "        self.tidf_cond_train_normal = tidf_cond_train[tidf_label_train == 0]\n",
    "        self.tidf_gen_train_normal = tidf_gen_train[tidf_label_train == 0]\n",
    "        self.tidf_cond_train_smishing = tidf_cond_train[tidf_label_train == 1]\n",
    "        self.tidf_gen_train_smishing = tidf_gen_train[tidf_label_train == 1]\n",
    "        self.normal_sample_size = normal_size\n",
    "        self.smishing_sample_size = smishing_size\n",
    "        # 2로 나눠서 전체의 50%만 샘플링해보자\n",
    "        self.num_batch = int(np.ceil(len(self.tidf_cond_train_normal) / (self.normal_sample_size + self.smishing_sample_size) / 2))\n",
    "        print('num_batch:', self.num_batch)\n",
    "    \n",
    "    def __len__(self):\n",
    "        return self.num_batch\n",
    "    \n",
    "    def __getitem__(self, index):\n",
    "        # random sampling. ignore index\n",
    "        normal_sampling = np.random.choice(len(self.tidf_cond_train_normal), self.normal_sample_size)\n",
    "        normal_cond_sample = self.tidf_cond_train_normal[normal_sampling]\n",
    "        normal_gen_sample = self.tidf_gen_train_normal[normal_sampling]\n",
    "        smishing_sampling = np.random.choice(len(self.tidf_cond_train_smishing), self.smishing_sample_size)\n",
    "        smishing_cond_sample = self.tidf_cond_train_smishing[smishing_sampling]\n",
    "        smishing_gen_sample = self.tidf_gen_train_smishing[smishing_sampling]\n",
    "        sample_cond_train = np.concatenate([normal_cond_sample, smishing_cond_sample])\n",
    "        sample_gen_train = np.concatenate([normal_gen_sample, smishing_gen_sample])\n",
    "        sample_label_train = [1 if x >= self.normal_sample_size else 0 for x in range(len(sample_cond_train))]\n",
    "        return [sample_cond_train, sample_gen_train], sample_label_train\n",
    "\n",
    "    def on_epoch_end(self):\n",
    "        pass"
   ]
  },
  {
   "cell_type": "code",
   "execution_count": 33,
   "metadata": {},
   "outputs": [
    {
     "name": "stdout",
     "output_type": "stream",
     "text": [
      "num_batch: 174\n",
      "num_batch: 2\n",
      "Epoch 1/50\n",
      "174/174 [==============================] - 2s 11ms/step - loss: 0.5571 - mean_absolute_error: 0.4080 - acc: 0.8819 - val_loss: 0.4696 - val_mean_absolute_error: 0.3272 - val_acc: 0.9804\n",
      "Epoch 2/50\n",
      "174/174 [==============================] - 1s 6ms/step - loss: 0.3056 - mean_absolute_error: 0.1665 - acc: 0.9892 - val_loss: 0.2307 - val_mean_absolute_error: 0.0961 - val_acc: 0.9944\n",
      "Epoch 3/50\n",
      "174/174 [==============================] - 1s 6ms/step - loss: 0.1828 - mean_absolute_error: 0.0556 - acc: 0.9939 - val_loss: 0.1574 - val_mean_absolute_error: 0.0385 - val_acc: 0.9962\n",
      "Epoch 4/50\n",
      "174/174 [==============================] - 1s 6ms/step - loss: 0.1394 - mean_absolute_error: 0.0296 - acc: 0.9953 - val_loss: 0.1232 - val_mean_absolute_error: 0.0226 - val_acc: 0.9975\n",
      "Epoch 5/50\n",
      "174/174 [==============================] - 1s 6ms/step - loss: 0.1121 - mean_absolute_error: 0.0200 - acc: 0.9971 - val_loss: 0.1005 - val_mean_absolute_error: 0.0166 - val_acc: 0.9977\n",
      "Epoch 6/50\n",
      "174/174 [==============================] - 1s 6ms/step - loss: 0.0920 - mean_absolute_error: 0.0156 - acc: 0.9977 - val_loss: 0.0827 - val_mean_absolute_error: 0.0134 - val_acc: 0.9977\n",
      "Epoch 7/50\n",
      "174/174 [==============================] - 1s 6ms/step - loss: 0.0761 - mean_absolute_error: 0.0132 - acc: 0.9977 - val_loss: 0.0680 - val_mean_absolute_error: 0.0111 - val_acc: 0.9985\n",
      "Epoch 8/50\n",
      "174/174 [==============================] - 1s 6ms/step - loss: 0.0630 - mean_absolute_error: 0.0113 - acc: 0.9982 - val_loss: 0.0561 - val_mean_absolute_error: 0.0094 - val_acc: 0.9988\n",
      "Epoch 9/50\n",
      "174/174 [==============================] - 1s 6ms/step - loss: 0.0522 - mean_absolute_error: 0.0099 - acc: 0.9983 - val_loss: 0.0465 - val_mean_absolute_error: 0.0083 - val_acc: 0.9990\n",
      "Epoch 10/50\n",
      "174/174 [==============================] - 1s 6ms/step - loss: 0.0437 - mean_absolute_error: 0.0090 - acc: 0.9984 - val_loss: 0.0387 - val_mean_absolute_error: 0.0073 - val_acc: 0.9993\n",
      "Epoch 11/50\n",
      "174/174 [==============================] - 1s 6ms/step - loss: 0.0367 - mean_absolute_error: 0.0082 - acc: 0.9983 - val_loss: 0.0324 - val_mean_absolute_error: 0.0067 - val_acc: 0.9994\n",
      "Epoch 12/50\n",
      "174/174 [==============================] - 1s 6ms/step - loss: 0.0305 - mean_absolute_error: 0.0071 - acc: 0.9988 - val_loss: 0.0274 - val_mean_absolute_error: 0.0063 - val_acc: 0.9993\n",
      "Epoch 13/50\n",
      "174/174 [==============================] - 1s 6ms/step - loss: 0.0261 - mean_absolute_error: 0.0068 - acc: 0.9986 - val_loss: 0.0229 - val_mean_absolute_error: 0.0054 - val_acc: 0.9993\n",
      "Epoch 14/50\n",
      "174/174 [==============================] - 1s 6ms/step - loss: 0.0225 - mean_absolute_error: 0.0064 - acc: 0.9984 - val_loss: 0.0197 - val_mean_absolute_error: 0.0051 - val_acc: 0.9992\n",
      "Epoch 15/50\n",
      "174/174 [==============================] - 1s 6ms/step - loss: 0.0192 - mean_absolute_error: 0.0058 - acc: 0.9987 - val_loss: 0.0168 - val_mean_absolute_error: 0.0045 - val_acc: 0.9995\n",
      "Epoch 16/50\n",
      "174/174 [==============================] - 1s 6ms/step - loss: 0.0168 - mean_absolute_error: 0.0054 - acc: 0.9987 - val_loss: 0.0150 - val_mean_absolute_error: 0.0045 - val_acc: 0.9993\n",
      "Epoch 17/50\n",
      "174/174 [==============================] - 1s 6ms/step - loss: 0.0146 - mean_absolute_error: 0.0049 - acc: 0.9988 - val_loss: 0.0131 - val_mean_absolute_error: 0.0041 - val_acc: 0.9994\n",
      "Epoch 18/50\n",
      "174/174 [==============================] - 1s 6ms/step - loss: 0.0133 - mean_absolute_error: 0.0049 - acc: 0.9986 - val_loss: 0.0116 - val_mean_absolute_error: 0.0037 - val_acc: 0.9995\n",
      "Epoch 19/50\n",
      "174/174 [==============================] - 1s 6ms/step - loss: 0.0119 - mean_absolute_error: 0.0045 - acc: 0.9988 - val_loss: 0.0102 - val_mean_absolute_error: 0.0033 - val_acc: 0.9997\n",
      "Epoch 20/50\n",
      "174/174 [==============================] - 1s 6ms/step - loss: 0.0109 - mean_absolute_error: 0.0043 - acc: 0.9987 - val_loss: 0.0093 - val_mean_absolute_error: 0.0031 - val_acc: 0.9996\n",
      "Epoch 21/50\n",
      "174/174 [==============================] - 1s 6ms/step - loss: 0.0100 - mean_absolute_error: 0.0041 - acc: 0.9987 - val_loss: 0.0086 - val_mean_absolute_error: 0.0031 - val_acc: 0.9996\n",
      "Epoch 22/50\n",
      "174/174 [==============================] - 1s 6ms/step - loss: 0.0090 - mean_absolute_error: 0.0037 - acc: 0.9989 - val_loss: 0.0078 - val_mean_absolute_error: 0.0027 - val_acc: 0.9998\n",
      "Epoch 23/50\n",
      "174/174 [==============================] - 1s 6ms/step - loss: 0.0086 - mean_absolute_error: 0.0037 - acc: 0.9987 - val_loss: 0.0073 - val_mean_absolute_error: 0.0026 - val_acc: 0.9996\n",
      "Epoch 24/50\n",
      "174/174 [==============================] - 1s 6ms/step - loss: 0.0079 - mean_absolute_error: 0.0034 - acc: 0.9989 - val_loss: 0.0070 - val_mean_absolute_error: 0.0027 - val_acc: 0.9995\n",
      "Epoch 25/50\n",
      "174/174 [==============================] - 1s 6ms/step - loss: 0.0076 - mean_absolute_error: 0.0034 - acc: 0.9987 - val_loss: 0.0061 - val_mean_absolute_error: 0.0021 - val_acc: 0.9998\n",
      "Epoch 26/50\n",
      "174/174 [==============================] - 1s 6ms/step - loss: 0.0069 - mean_absolute_error: 0.0030 - acc: 0.9990 - val_loss: 0.0059 - val_mean_absolute_error: 0.0022 - val_acc: 0.9996\n",
      "Epoch 27/50\n",
      "174/174 [==============================] - 1s 6ms/step - loss: 0.0067 - mean_absolute_error: 0.0031 - acc: 0.9988 - val_loss: 0.0056 - val_mean_absolute_error: 0.0021 - val_acc: 0.9996\n",
      "Epoch 28/50\n",
      "174/174 [==============================] - 1s 6ms/step - loss: 0.0061 - mean_absolute_error: 0.0028 - acc: 0.9989 - val_loss: 0.0051 - val_mean_absolute_error: 0.0019 - val_acc: 0.9996\n",
      "Epoch 29/50\n",
      "174/174 [==============================] - 1s 6ms/step - loss: 0.0060 - mean_absolute_error: 0.0028 - acc: 0.9988 - val_loss: 0.0047 - val_mean_absolute_error: 0.0016 - val_acc: 0.9998\n",
      "Epoch 30/50\n",
      "174/174 [==============================] - 1s 7ms/step - loss: 0.0055 - mean_absolute_error: 0.0025 - acc: 0.9990 - val_loss: 0.0045 - val_mean_absolute_error: 0.0016 - val_acc: 0.9998\n",
      "Epoch 31/50\n",
      "174/174 [==============================] - 1s 6ms/step - loss: 0.0052 - mean_absolute_error: 0.0024 - acc: 0.9991 - val_loss: 0.0043 - val_mean_absolute_error: 0.0016 - val_acc: 0.9999\n",
      "Epoch 32/50\n",
      "174/174 [==============================] - 1s 6ms/step - loss: 0.0053 - mean_absolute_error: 0.0026 - acc: 0.9988 - val_loss: 0.0043 - val_mean_absolute_error: 0.0017 - val_acc: 0.9996\n",
      "Epoch 33/50\n",
      "174/174 [==============================] - 1s 6ms/step - loss: 0.0047 - mean_absolute_error: 0.0022 - acc: 0.9991 - val_loss: 0.0040 - val_mean_absolute_error: 0.0016 - val_acc: 0.9995\n",
      "Epoch 34/50\n",
      "174/174 [==============================] - 1s 6ms/step - loss: 0.0047 - mean_absolute_error: 0.0023 - acc: 0.9989 - val_loss: 0.0038 - val_mean_absolute_error: 0.0015 - val_acc: 0.9996\n",
      "Epoch 35/50\n",
      "174/174 [==============================] - 1s 6ms/step - loss: 0.0044 - mean_absolute_error: 0.0022 - acc: 0.9990 - val_loss: 0.0036 - val_mean_absolute_error: 0.0014 - val_acc: 0.9996\n",
      "Epoch 36/50\n",
      "174/174 [==============================] - 1s 6ms/step - loss: 0.0042 - mean_absolute_error: 0.0021 - acc: 0.9990 - val_loss: 0.0034 - val_mean_absolute_error: 0.0014 - val_acc: 0.9995\n",
      "Epoch 37/50\n",
      "174/174 [==============================] - 1s 6ms/step - loss: 0.0041 - mean_absolute_error: 0.0022 - acc: 0.9989 - val_loss: 0.0032 - val_mean_absolute_error: 0.0013 - val_acc: 0.9996\n",
      "Epoch 38/50\n",
      "174/174 [==============================] - 1s 6ms/step - loss: 0.0039 - mean_absolute_error: 0.0020 - acc: 0.9990 - val_loss: 0.0029 - val_mean_absolute_error: 0.0011 - val_acc: 0.9998\n",
      "Epoch 39/50\n",
      "174/174 [==============================] - 1s 6ms/step - loss: 0.0037 - mean_absolute_error: 0.0019 - acc: 0.9991 - val_loss: 0.0033 - val_mean_absolute_error: 0.0015 - val_acc: 0.9992\n",
      "Epoch 40/50\n",
      "174/174 [==============================] - 1s 6ms/step - loss: 0.0034 - mean_absolute_error: 0.0017 - acc: 0.9992 - val_loss: 0.0030 - val_mean_absolute_error: 0.0013 - val_acc: 0.9995\n",
      "Epoch 41/50\n",
      "174/174 [==============================] - 1s 6ms/step - loss: 0.0037 - mean_absolute_error: 0.0021 - acc: 0.9988 - val_loss: 0.0028 - val_mean_absolute_error: 0.0012 - val_acc: 0.9996\n",
      "Epoch 42/50\n"
     ]
    },
    {
     "name": "stdout",
     "output_type": "stream",
     "text": [
      "174/174 [==============================] - 1s 6ms/step - loss: 0.0033 - mean_absolute_error: 0.0017 - acc: 0.9992 - val_loss: 0.0027 - val_mean_absolute_error: 0.0012 - val_acc: 0.9994\n",
      "Epoch 43/50\n",
      "174/174 [==============================] - 1s 6ms/step - loss: 0.0033 - mean_absolute_error: 0.0018 - acc: 0.9990 - val_loss: 0.0025 - val_mean_absolute_error: 0.0011 - val_acc: 0.9997\n",
      "Epoch 44/50\n",
      "174/174 [==============================] - 1s 6ms/step - loss: 0.0032 - mean_absolute_error: 0.0018 - acc: 0.9989 - val_loss: 0.0023 - val_mean_absolute_error: 9.5887e-04 - val_acc: 0.9997\n",
      "Epoch 45/50\n",
      "174/174 [==============================] - 1s 6ms/step - loss: 0.0034 - mean_absolute_error: 0.0021 - acc: 0.9986 - val_loss: 0.0021 - val_mean_absolute_error: 8.1476e-04 - val_acc: 0.9997\n",
      "Epoch 46/50\n",
      "174/174 [==============================] - 1s 6ms/step - loss: 0.0029 - mean_absolute_error: 0.0016 - acc: 0.9991 - val_loss: 0.0022 - val_mean_absolute_error: 9.4600e-04 - val_acc: 0.9997\n",
      "Epoch 47/50\n",
      "174/174 [==============================] - 1s 6ms/step - loss: 0.0030 - mean_absolute_error: 0.0017 - acc: 0.9989 - val_loss: 0.0022 - val_mean_absolute_error: 0.0010 - val_acc: 0.9996\n",
      "Epoch 48/50\n",
      "174/174 [==============================] - 1s 6ms/step - loss: 0.0026 - mean_absolute_error: 0.0015 - acc: 0.9991 - val_loss: 0.0020 - val_mean_absolute_error: 8.3058e-04 - val_acc: 0.9997\n",
      "Epoch 49/50\n",
      "174/174 [==============================] - 1s 6ms/step - loss: 0.0026 - mean_absolute_error: 0.0015 - acc: 0.9991 - val_loss: 0.0021 - val_mean_absolute_error: 0.0010 - val_acc: 0.9996\n",
      "Epoch 50/50\n",
      "174/174 [==============================] - 1s 6ms/step - loss: 0.0027 - mean_absolute_error: 0.0017 - acc: 0.9989 - val_loss: 0.0018 - val_mean_absolute_error: 7.2206e-04 - val_acc: 0.9998\n"
     ]
    }
   ],
   "source": [
    "train_gen = DataGenerator(tidf_cond_train, tidf_gen_train, tidf_label_train, 320, 160)\n",
    "valid_gen = DataGenerator(tidf_cond_valid, tidf_gen_valid, tidf_label_valid, 16000, 1000)\n",
    "\n",
    "history = model.fit_generator(generator=train_gen,\n",
    "                             epochs = 50,\n",
    "#                              use_multiprocessing=True,\n",
    "#                               workers=3,\n",
    "                             validation_data=valid_gen,\n",
    "                             verbose=1)"
   ]
  },
  {
   "cell_type": "code",
   "execution_count": 34,
   "metadata": {},
   "outputs": [
    {
     "data": {
      "image/png": "[encoded data removed]",
      "text/plain": [
       "<Figure size 1440x720 with 2 Axes>"
      ]
     },
     "metadata": {
      "needs_background": "light"
     },
     "output_type": "display_data"
    }
   ],
   "source": [
    "import matplotlib.pyplot as plt\n",
    "fig, loss_ax = plt.subplots()\n",
    "fig.set_figheight(10)\n",
    "fig.set_figwidth(20)\n",
    "acc_ax = loss_ax.twinx()\n",
    "loss_ax.plot(history.history['loss'], 'y', label='train_loss')\n",
    "loss_ax.plot(history.history['val_loss'], 'r', label='val_loss')\n",
    "\n",
    "acc_ax.plot(history.history['acc'], 'b', label='train_acc')\n",
    "acc_ax.plot(history.history['val_acc'], 'g', label='val_acc')\n",
    "\n",
    "loss_ax.set_xlabel('epoch')\n",
    "loss_ax.set_ylabel('loss')\n",
    "acc_ax.set_ylabel('accuracy')\n",
    "loss_ax.legend(loc='upper left')\n",
    "acc_ax.legend(loc='lower left')\n",
    "\n",
    "plt.show()"
   ]
  },
  {
   "cell_type": "code",
   "execution_count": 38,
   "metadata": {},
   "outputs": [
    {
     "data": {
      "text/plain": [
       "array([False, False, False, ..., False, False, False])"
      ]
     },
     "execution_count": 38,
     "metadata": {},
     "output_type": "execute_result"
    }
   ],
   "source": [
    "gap > 0.5"
   ]
  },
  {
   "cell_type": "code",
   "execution_count": 35,
   "metadata": {},
   "outputs": [
    {
     "data": {
      "text/plain": [
       "[<matplotlib.lines.Line2D at 0x7ffcedca3490>]"
      ]
     },
     "execution_count": 35,
     "metadata": {},
     "output_type": "execute_result"
    },
    {
     "data": {
      "image/png": "[encoded data removed]",
      "text/plain": [
       "<Figure size 1440x720 with 1 Axes>"
      ]
     },
     "metadata": {
      "needs_background": "light"
     },
     "output_type": "display_data"
    }
   ],
   "source": [
    "# 결과검증(overfit, underfit)\n",
    "pred_test = model.predict(x=[tidf_cond_test, tidf_gen_test], batch_size=320)\n",
    "gap = tidf_label_test - pred_test.reshape([-1,])\n",
    "\n",
    "plt.figure(figsize=(20,10))\n",
    "plt.plot(gap)"
   ]
  },
  {
   "cell_type": "code",
   "execution_count": 45,
   "metadata": {},
   "outputs": [
    {
     "name": "stdout",
     "output_type": "stream",
     "text": [
      "(광고)XXX신년특별빠르게천만원월39000원통화1번(무료거부XXX-XXX-XXX)\n",
      "(광고) 정관장에서 미리 설 준비하시고 특별한 혜택 받으세요!! 예약기간 : 13(화)  19(월) 행사내용 :- 밝을윤세트 은혜은세트 원앙세트 3종 구매 예약시 5% 포인트 추가 적립- 예약방법은 매장으로 문의하여 주세요. 20만원 XXX입 시 1만원 할인- 기간:11128까지적용카드: 현대이마트카드.삼성카드.XXX국민카드.현대카드.XXX카드 결재 시 적용됨. 예약문의 : 정관장 서울 이마트가양점 전화:XX-XXX-XXX 무료수신거부 : XXX-XXX-XXX(광고)정관장 사전예XXX\n",
      "SK텔레콤 2017년 1월 XXX이번달 납부하실 금액은 20650원 입니다.XXX 고객번호 : 010-16-3505 자동납부접수번호 : XXX-XXX-XXX 납기일 : 2017.1.23. 말일이 지나면 2%의 가산금이 두 달 후에 청구됩니다.이번달 금액 상세내역 단말기할부금 단말기할부금() - 단말기할부원금 : 20450원 - 단말기할부이자 : 200원 이번달금액 : 20650원 단말기 할부 대수 : 1대 단말기 총 할부금 : 743616원(총 할부개월 : 36개월) 단말기할부금 잔액 : 40056원(잔여개월 : 2개월) 자동납부은행 : XXX 계좌번호 : 고객요청에 의한 미기재 인출예정일 : 2017.1.23. ()표시 항목은 당사에서 청구 대행하는 타사 요금입니다. 표시 항목은 부가가치세 제외 대상입니다. 고객님께서 요청하신 번호로 문자XXX를 보내드리오니 이동전화번호가 변경될 경우 SK텔레콤 고객센터로 연락바랍니다. 1월 5일 기준으로 작성된 금액입니다.SK텔레콤 문자 XXX\n",
      "피플라이프재무설계XXX팀장입니다 이번에찾아뵙는 금융서비스라고해서은행 예.적금CMAMMF 등관련하여 1:1 재무설계를직접 찾아뵙고 무료상담을 도와드리고있습니다Ex) 현재-시중은행 1.25% 금리이용하시는분들같은 경우상담후-최저보증2.9% 비과세상품 이용하실수있는 방법을 기본베이스로안내를 도와드리고XXX고객님께서 가입되어있는 금융상품들을 다시한번 점검및진단을 함으로써개개인의 현금흐름표에 맞게(목돈마련결혼자금노후자금 등)맞춤형 포트폴리오 또한 안내를 드리고있습니다.평소 바쁘시다보니 전문가에게 이런 안내와 상담서비스를 받아보시지 못하셨을텐데 무료상담을 원하시면직접 집이나 회사앞까지 찾아뵙는 서비스이기XXX 시간절약도 하실수가 있습니다.현재 높은만족도와 많은혜택들을 받으시고 있기XXX 고객님께서도상담신청이라고 답장을 남겨주시면일정 확인차 전화를 드리겠습니다.감사합니다.제목없음\n",
      "XXX 가양동지점 서민금융(XXX새희망홀씨) 지원 안내생활자금이 필XXX 고객님 타금융기관 고금리 대출로 높은 이자를 부담하고XXX 고객님 낮은 신용등급으로 대출을 받을 수 XXX 고객님! 고객님께 새 희망이 될 은행권 대표 서민금융지원 상품인 XXX새희망홀씨 상품을 안내드립니다.-대상: 연소득 35백만원 이하인 자 35백만원 초과 45백만원 이하로서 CB 68등급인 자-한도: 연소득금액 범위 내 최고 3천만 원 이내 (전 금융기관 신용대출 및 현금서비스 포함)-금리: 최저 연 3.1%최고 9.5% 일반신용대출이 불가한 낮은 신용등급도 가능!  (단 다중채무등급 9등급 이하 불가) 타금융기관 고금리 대출도 낮은 금리로 대환 가능!서민금융의 씨앗! XXX이 함께 하겠습니다! 문의: XX-XXX-XXX (내선513 XXX 계장 내선 514 XXX 차장 내선 330 XXX 부지점장)대출금리는 시장금리 및 대출조건(기간 금액) 신용등급에 따라 변동될 수 있습니다.대출한도 및 대출가능여부는 개인의 신용등급 소득 재직확인 등에 따라 달라질 수 있으므로 정확한 안내는 영업점으로 문의하시기 바랍니다.제목없음\n",
      "(광고)이마트 은평점 추석 선물세트 사전예약 특별혜택 마감일 917XXX입니다.예약접수:814(월)917XXX상품배송:915(금)929(금)(혜택1)11대 카드로 인기세트 구매시 최대 30%할인 및 구매 금액대별 최대 100만원 상품권 증정현대e삼성XXX국민XXX현대비씨XXX우리하나롯데XXX 이마트 카드로 구매시상품권 증정은 카드단체선물신세계포인트 신선N1 할인 이후의 실제 결제금액 기준(혜택2)신선 선물세트 신세계이마트 포인트 카드 적립시 10%할인(혜택3)단체선물(동일품목)50만원 이상 구매시 최대 30%할인(혜택4)사전예약 선물 세트 구매시 사은품 증정사전 예약 문의:1층 고객 만족 센터 상담 데스크선물 세트 전시 장소:1층 무빙워크 상행선10만원 이상:갑티슈(3입)증정(200명 한정)50만원 이상:와인 한병 증정(200명 한정)행사기간:817(목)917XXX까지이마트 은평점에 한함증정장소:1층 고객만족센터조기품절가능1인1회 한정당일 영수증에 한함이마트 은평점 일렉트로마트(가전전문매장)단독행사가전 행사 기간:914(목)927(수)(혜택1)대형가전컴퓨터매장 방문후 상담만 받으셔도 갑티슈(1입)증정(혜택2)대형가전 200만원 이상 구매시 일렉트로가방 증정(혜택3)300만원 이상 구매시 코렐 국그릇세트 증정이마트 은평점에 한함증정장소:7층 페이서비스 데스크조기품절 가능1인1회 한정당일 영수증에 한함이마트 은평점: XX-XXX-XXX자세한 사항은 매장내 고지물을 참조 하세요.일부 품목은 조기 품절 될 수 있습니다.이마트 은평점은 매월 두번째네번째 일요일 휴점 합니다.문의 : XX-XXX-XXX무료수신거부:XXX-XXX-XXX(광고)이마트은평점명절 사전 예XXX\n",
      "씽XXX탁론 XXX 9월증시일정- 9월14일 선물 옵션만기    - 8.2710.22사이 : 독일총선   - 9.7 : 유럽XXX(ECB) 통화정책회의    - 9.199.20 : 미국 FOMC 회의   -9.209.21 : 일본은행(BOJ) 금융정책위원회    - 9.21 : XXX 금융 통화위원회 코스피지수가 월간 기준으로 9개월 만에 하락했다. 각종 이슈에 바람 잘 날 없었던 8월이었다. 외국인은 한 달 사이 국내 주식시장에서 2조원을 순매도  9월도 8월과 마찬가지로 증시의 변동성을 키울 수 있는 이벤트들이 기다리고 있다. 다만 시간이 지날수록 불확실성을 하나씩 걷어내며 반등의 기회를 모색할 것으로 전망 뉴욕마감뉴욕증시 지표호조 금리인상 가능성 하락에 상승...나스닥 7월 후 첫 최고가   유가 숏커버링에 상승...휘발유 2015년 6월 이후 최고가 유럽증시 마감 물가지표 호조에 상승  9월  이벤트- 9월 최저금리 월0.2416%- 2년고정3.7% 재개- 취급수수료 인하이벤트- 마이너스통장식  - 신용미수 주식매도없이 대환- 키움증권 100% 투자 상품 출시문의XX-XXX-XXX무료수신거부 XXX-XXX-XXX 씽XXX\n",
      "노사발전재단 경기중장년일XXX망센터 9월 단기취업특강 안내안녕하세요. 고용노동부 산하 중장년 재취업전직을 지원하는 공XXX입니다.  9월 단기취업특강 안내드립니다. 선착순으로 30명 신청을 받고 있습니다. 아래의 일정과 장소 꼭! 확인하시고 연락주세요.  일정- 9월 21일(목) 오후2시오후4시 행복한 노후를 위한 여정- 9월 28일(목) 오후2시오후4시 역경을 이겨내는 힘 감사하기 장소: 노사발전재단 경기중장년일XXX망센터 강의실(수원시 권선구 권광로149 안동빌딩 3층  대중교통: 지하철 분당선 수원시청역 3번출구 앞 1층 아웃백스테이크하우스 XXX 있음) 선착순 30명 모집. 참여 희망시 XXX-XXX-XXX(김나형 컨설턴트) 로 전화주세요.  교육참가확인증 발급노사발전재단 경기중장년일XXX\n",
      "(광고) 비전21학원비전21 독학재수관 재학생 겨울방학 자습전용실 신청 안내비전21학원에서 재수생 전용 독학재수관을 겨울방학 동안 재학생에게도 개방하여 방학 학습에 실질적인 도움을 드리고자 합니다.개강일시: 1월2일(화)운영시간: AM 8:00  PM 11:00(학원 개방은 7시부터 7:50까지 등원  하원은 10시 또는 11시)장소: 비전21학원 독학재수학원대치4동 문화센터 옆  XXX 932번지 자유빌딩 23층 (세븐일레븐 건물) 학습관리 서비스-자기주도 학습 기반-효율적인 시간 관리-학습법 멘토링-1일 주간 월간 계획표 작성 후 매일 2회 점검-독서실 내 실장(담임) 상주하며 학습관리-철저한 생활 관리 지도 출결 및 생활 벌점 제도-개인별 맞춤 인강 추천비전21 단과 수업과 연계(단과 수업 수강 시 할인 혜택)모집요강-개강: 2018. 1. 2(화)-모집대상 : 2018 고1고3 재수생-구비서류 : 입학 원서(본원 비치)-접수방법 : 전화상담(XX-XXX-XXX) 및 방문상담 (비전21 본관 - XXX 영양센터 옆 XXX 건물 3층)- 선착순 남여 각 40명---비전21학원  비전N독학재수학원---무료거부 XXX-XXX-XXX제목없음\n",
      "(광고)트레이더스 서면점 명절행사 및 가XXX 안내명절 선물세트도 트레이더스 서면점이 확실히 저렴 합니다.혜택1:이마트포인트카드 소지 고객설날 선물세트 최대 30%할인행사기간 :1229(금)  215(목) 까지혜택2:선물세트 행사카드 구매 금액대별 최대 100만원 상품권 증정 125(목)131(수) 구매 시-카드종류:삼성국민XXX현대비씨XXX우리하나롯데XXXXXX이마트카드-3050만원이상 구매시:상품권 1만5천원2만5천원 증정-1001000만원 구매시 100만원당 상품권 5만원 증정1000만원 이상 구매시 상품권 100만원 증정트레이더스 서면점 삼성엘지대유위니아 브랜드 대전행사기간: 2018년 02월01일04일 (4일간)행사1.삼성엘지대유위니아 대형가전 초특가전-자세한 내용은 전화문의 부탁드립니다.행사2.TV냉장고세탁기김치냉장고 대형가전 초특가전 엘지 65형55형 울트라 스마트 TV 최종 혜택가 180만원대120만원대 초특가 판매 엘지 850리터 4도어 상 냉장고 최종혜택가 180만원대 1한정 초특가 판매 엘지 16kg3.5kg 트윈워시 건조형 드럼세탁기 최종 혜택가 150만원대 10대 한정 초특가 판매 엘지 트롬 전기식 건조기 초특가 판매 삼성 65형55형 UHD 스마트 TV 초특가 판매(사운드바증정) 삼성 840리터 4도어 냉장고 최종혜택가 190만원대 초특가 판매 삼성 17kg3kg 플랙스 워시 최종헤택가 160만원대 초특가 판매 삼성 전기식 건조기 선착순 10대한정 90만원 초특가 판매행사3.행사카드로 XXX품 구매시 신세계상품권 최대 70만원 추가증정행사4.행사카드로 구매시 최대 10개월 무이자 혜택단일품목 50만원이상 구매시 혜택 적용행사5.삼성카드로 제품 구매시 추가할인 적용행사6.노트북데스크탑 컴퓨터 삼성엘지 브랜드 대전 자세한 금액사전 예약은 전화문의 부탁드립니다.문의 : XXX-XXX-XXX무료수신거부:XXX-XXX-XXX(광고)트레이더스 서면점 명절가XXX\n",
      "(광고)SSG청담점 설 사전예XXX 행사 SSG푸드마켓 청담점 설 세트 사전예약 특별혜택 예약접수: 18(월)131(수) 상품배송: 21(목)214(수) 행사카드로 구매 시 최대 40% 할인 -행사카드: 삼성XXX국민XXX현대비씨XXX우리하나XXXXXX 이마트카드 이마트e카드 동일품목 50만원 이상 구매 시 최대 20% 할인 신세계포인트 소지 고객 대상 신선 10% 할인 XXX품에 한함 행사카드로 세트 구매 시 금액대별 최대 100만원 상품권 증정 -30만원 이상 : 3만원 상품권 증정 -50만원 이상 : 5만원 상품권 증정 -1001000만원: 100만원당 10만원 -1000만원 이상: 100만원 상품권 증정은 위 행사 할인 이후의 실제 금액을 기준으로 합니다. 법인카드 제외 자세한 행사카드 구매 금액대별 상품권 증정행사 내용은 점내 고지물 참조 휴점안내: 128(일) 휴점합니다 (단 1층 매장과 B1층 베키아에누보 그래머시홀 정상영업) 문의 : XX-XXX-XXX 무료수신거부:XXX-XXX-XXX(광고)SSG청담점 설 사전예XXX 행사\n",
      "안녕하십니까 한국자산관리공사(캠코) 취업센터입니다.공사는 새로운 일자리를 찾고 계신 분 보다 나은 일자리를 찾고 계신 분들께 원하시는 일자리를 알선해 드리고자 무료로 취업센터를 운영하고 있으니 많은 이용 바랍니다. 구직신청 상담전화  XXX-XXX-XXX4 인터넷 구직신청 서민금융나들목(홈페이지) 화면우측 행복잡(Job)이로 일자리찾기 클릭  구직신청  구직등록(비회원) 방문신청 캠코 행복잡이 취업센터: 부산 국제금융센터(BIFC) 40층 (2호선 국제금융센터XXX역 3번출구)행복잡(Job)이 취업센터를 통해 꼭 취업에 성공하세요!! 캠코 행복잡(Job)이 취업센터 \n",
      "당신의 행복한 출근을 위해 공사가 힘이 되겠습니다.안녕하십니까? 한국자산관리공사(캠코) 취XXX센터입니다. 신규 취업을 희망하시거나 새로운 일자리로 이직을 고민하시는 분들께공사가 도움을 드리겠습니다. 공사의 취XXX센터에 노크하세요.고객님의 취업을 응원하겠습니다.  구직신청 상담전화  XXX-XXX-XXX36643675 방문신청  캠코 행복잡이 취업센터:부산 국제금융센터(BIFC) 40층 (2호선 국제금융센터XXX역 3번출구)     행복잡(Job)이 취업센터를 통해 꼭 취업에 성공하세요!! 일하는 행복! 활기찬 일터! 한국자산관리공사 취XXX 안내 \n",
      "요즘 열XXX 인해 잠 못 이루는밤....많으실텐데피로가 누적되지않게 심신을 잘 챙기시고휴가 잘 다녀오세요XXX? 둔산중앙지점대부계 XXX차장입니다.2018년 7월 27일자아파트전세담보대출금리안내드립니다.XXX 1년주기변동  --- 3.22%-은행권상품중 최저가상품-만기최대35년분할상환(기존주택 조건충족시 거치5년 가능- 구입자금제외)MI상품시 최대 75% 한도-- 3.25%(PrB고객다자녀장애인등우대금리적용시 3.02%)-부동산중개수수료 0.2%전은행사 상품중 가장 최저가 금리진행. 3년고정 ---3.53%(PrB고객다자녀장애인등우대금리적용시 3.33%)-부동산중개수수료 0.2%현재 가장 많이? 판매되는 상품임.  심사완료후부터 90일간 유효함  (2018년 710월잔금까지 미리 접수가능)임차인보증금 제외한 후순위대출 30년전체고정금리 3.63%-   10년30년 전체기간 고정금리(200억한정판매)(카드적금급여이체등 부수거래조건 하나도 없음)-부동산중개수수료 0.25% 전세자금대출금리 특판 3.20% 전은XXX품중 최저가(서울신용보증상품) 다자녀3.10%-매년 납부하는 보증보험료 전액면제상품임--부동산중개수수료  0.25% 신용XXX드림론 최저 3%중도상환수수료 100%면제가능단기사용자 최적상품 대형상가대출(빌딩)-BB모기지론 최저 3.2%오랜경험과 노하우로 최적의 상품을진행해드리겠습니다..중개시 대환 및 매매잔금대출소개 많이 부탁드립니다대출상담? 및 부동산출장자서 문의HP: XXX-XXX-XXX둔산중앙지점 대부계 XXX차장전달: 전달: 요즘 열XXX 인\n",
      "(광고) 한국경제TV 와우스탁론Fed  기준금리 동결 2일 미국 8월 연방공개시장위원회(FOMC)에 대해 시장이 예상한 수준에서 크게 벗어나지 않았다고 분석미국 XXX(Fed)은 이틀간 FOMC 정례회의를 열고 기준금리를 현 1.752.00%로 유지하기로 만장일치로 결정했다고 밝혔다.뉴욕 증시다우산업 25333.82 81.37 -0.32%나스닥종합 7707.29 35.50 0.46%SP500 2813.36 2.93 -0.1%5월 프로모션 상품 RMS사용료  연장수수료  중도상환수수료  업계최저금리 월 0.4% 사용가능 한종목 100% 매수가능 최장 5년까지 이용가능 증권사 신용미수스탁론매도없이 저금리 대환가능와우스탁론 박숙향XX-XXX-XXX XXX-XXX-XXX 수신거부포함제목없음\n",
      "(광고) 한국경제TV 와우스탁론Fed  기준금리 동결 2일 미국 8월 연방공개시장위원회(FOMC)에 대해 시장이 예상한 수준에서 크게 벗어나지 않았다고 분석미국 XXX(Fed)은 이틀간 FOMC 정례회의를 열고 기준금리를 현 1.752.00%로 유지하기로 만장일치로 결정했다고 밝혔다.뉴욕 증시다우산업 25333.82 81.37 -0.32%나스닥종합 7707.29 35.50 0.46%SP500 2813.36 2.93 -0.1%5월 프로모션 상품 RMS사용료  연장수수료  중도상환수수료  업계최저금리 월 0.4% 사용가능 한종목 100% 매수가능 최장 5년까지 이용가능 증권사 신용미수스탁론   매도없이 저금리 대환가능와우스탁론 박숙향XX-XXX-XXX XXX-XXX-XXX 수신거부포함제목없음\n",
      "LGU XXX청구월: 2018년08월고객명: 원미란고객번호 - XXX-XXX-XXX서비스번호 - 070-56-6327       이용기간 - 2018.07.012018.07.31XXX 작성 기준일 : 2018년 08월 06일----------------------------------------------청구요금 상세보기  cv.uplus.kr180.html----------------------------------------------요금청구내역 U인터넷전화 요금 : 9634원   기본료 : 2000원   인터넷전화 할부금 : 2000원   발신자번호표시 : 1000원   국내통화료 : 456원   이동전화통화료 : 4048원   전국대표번호통화요금 : 130원 부가가치세 : 958원 기타할인 및 요금 : -62원   자동이체 할인 : -53원   10원미만 할인() : -9원이번달 요금 계(A) : 10530원미납 요금 계(B): 0원----------------------------------------------청구금액(AB): 10530원----------------------------------------------()표시 항목은 부가가치세가 포함된 요금으로 XXX에는 별도로 표기하지 않습니다.납부정보납입기한: 2018.08.31납부방법: 은행자동이체금융기관: XXX계좌카드번호 - 217XXX고객님만의 가상 계좌 XXX XXX-XXX-XXX01 XXX XXX-XXX-XXX64 XXX하나 XXX-XXX-XXX37 월요일은 통화량이 많아 고객센터 연결이 지연될 수 있으니 고객센터 문의 시 참고 부탁드립니다.원란님 LG U XXX\n"
     ]
    },
    {
     "data": {
      "text/plain": [
       "440       None\n",
       "938       None\n",
       "5711      None\n",
       "6221      None\n",
       "76671     None\n",
       "137858    None\n",
       "138214    None\n",
       "149795    None\n",
       "186024    None\n",
       "195865    None\n",
       "196896    None\n",
       "208304    None\n",
       "223491    None\n",
       "252122    None\n",
       "255484    None\n",
       "256005    None\n",
       "256306    None\n",
       "Name: text, dtype: object"
      ]
     },
     "execution_count": 45,
     "metadata": {},
     "output_type": "execute_result"
    }
   ],
   "source": [
    "df[df['id'].isin(np.array(original_idx)[split >= 0.8][gap > 0.5])].text.map(print)"
   ]
  },
  {
   "cell_type": "code",
   "execution_count": 36,
   "metadata": {},
   "outputs": [
    {
     "name": "stdout",
     "output_type": "stream",
     "text": [
      "auc : 0.9998555465352693\n"
     ]
    },
    {
     "data": {
      "image/png": "[encoded data removed]",
      "text/plain": [
       "<Figure size 360x360 with 1 Axes>"
      ]
     },
     "metadata": {
      "needs_background": "light"
     },
     "output_type": "display_data"
    }
   ],
   "source": [
    "from sklearn.metrics import confusion_matrix, roc_curve\n",
    "from sklearn.metrics import auc\n",
    "from matplotlib import pyplot as plt\n",
    "\n",
    "fpr, tpr, thresholds = roc_curve(tidf_label_test, pred_test)\n",
    "print('auc :', auc(fpr,tpr))\n",
    "\n",
    "plt.figure(figsize=(5,5))\n",
    "plt.plot(fpr,tpr,'-')\n",
    "plt.plot([0,1],[0,1], 'k--')\n",
    "plt.show()"
   ]
  },
  {
   "cell_type": "code",
   "execution_count": 46,
   "metadata": {},
   "outputs": [
    {
     "data": {
      "text/plain": [
       "[('피플', 'NNP'),\n",
       " ('라이프', 'NNG'),\n",
       " ('재무', 'NNG'),\n",
       " ('설계', 'NNG'),\n",
       " ('XXX', 'SL'),\n",
       " ('팀장', 'NNG'),\n",
       " ('입니다', 'VCP+EF'),\n",
       " ('이번', 'NNG'),\n",
       " ('에', 'JKB'),\n",
       " ('찾아뵙', 'VV'),\n",
       " ('는', 'ETM'),\n",
       " ('금융', 'NNG'),\n",
       " ('서비스', 'NNG'),\n",
       " ('라고', 'VCP+EC'),\n",
       " ('해서', 'VV+EC'),\n",
       " ('은행', 'NNG'),\n",
       " ('예', 'IC'),\n",
       " ('.', 'SF'),\n",
       " ('적금', 'NNG'),\n",
       " ('CMAMMF', 'SL'),\n",
       " ('등', 'NNB'),\n",
       " ('관련', 'NNG'),\n",
       " ('하', 'XSA'),\n",
       " ('여', 'EC'),\n",
       " ('1', 'SN'),\n",
       " (':', 'SC'),\n",
       " ('1', 'SN'),\n",
       " ('재무', 'NNG'),\n",
       " ('설계', 'NNG'),\n",
       " ('를', 'JKO'),\n",
       " ('직접', 'MAG'),\n",
       " ('찾아뵙', 'VV'),\n",
       " ('고', 'EC'),\n",
       " ('무료', 'NNG'),\n",
       " ('상담', 'NNG'),\n",
       " ('을', 'JKO'),\n",
       " ('도와', 'VV+EC'),\n",
       " ('드리', 'VX'),\n",
       " ('고', 'EC'),\n",
       " ('있', 'VX'),\n",
       " ('습니다', 'EF'),\n",
       " ('Ex', 'SL'),\n",
       " (')', 'SSC'),\n",
       " ('현재', 'NNG'),\n",
       " ('-', 'SY'),\n",
       " ('시중', 'NNG'),\n",
       " ('은행', 'NNG'),\n",
       " ('1', 'SN'),\n",
       " ('.', 'SY'),\n",
       " ('25', 'SN'),\n",
       " ('%', 'SY'),\n",
       " ('금리', 'NNG'),\n",
       " ('이용', 'NNG'),\n",
       " ('하', 'XSV'),\n",
       " ('시', 'EP'),\n",
       " ('는', 'ETM'),\n",
       " ('분', 'NNB'),\n",
       " ('들', 'XSN'),\n",
       " ('같', 'VA'),\n",
       " ('은', 'ETM'),\n",
       " ('경우', 'NNG'),\n",
       " ('상담', 'NNG'),\n",
       " ('후', 'NNG'),\n",
       " ('-', 'SY'),\n",
       " ('최저', 'NNG'),\n",
       " ('보증', 'NNG'),\n",
       " ('2', 'SN'),\n",
       " ('.', 'SY'),\n",
       " ('9', 'SN'),\n",
       " ('%', 'SY'),\n",
       " ('비', 'XPN'),\n",
       " ('과세', 'NNG'),\n",
       " ('상품', 'NNG'),\n",
       " ('이용', 'NNG'),\n",
       " ('하', 'XSV'),\n",
       " ('실', 'EP+ETM'),\n",
       " ('수', 'NNB'),\n",
       " ('있', 'VV'),\n",
       " ('는', 'ETM'),\n",
       " ('방법', 'NNG'),\n",
       " ('을', 'JKO'),\n",
       " ('기본', 'NNG'),\n",
       " ('베이스', 'NNG'),\n",
       " ('로', 'JKB'),\n",
       " ('안내', 'NNG'),\n",
       " ('를', 'JKO'),\n",
       " ('도와', 'VV+EC'),\n",
       " ('드리', 'VX'),\n",
       " ('고', 'EC'),\n",
       " ('XXX', 'SL'),\n",
       " ('고객', 'NNG'),\n",
       " ('님', 'XSN'),\n",
       " ('께서', 'JKS'),\n",
       " ('가입', 'NNG'),\n",
       " ('되', 'XSV'),\n",
       " ('어', 'EC'),\n",
       " ('있', 'VX'),\n",
       " ('는', 'ETM'),\n",
       " ('금융', 'NNG'),\n",
       " ('상품', 'NNG'),\n",
       " ('들', 'XSN'),\n",
       " ('을', 'JKO'),\n",
       " ('다시', 'MAG'),\n",
       " ('한', 'MM'),\n",
       " ('번', 'NNBC'),\n",
       " ('점검', 'NNG'),\n",
       " ('및', 'MAJ'),\n",
       " ('진단', 'NNG'),\n",
       " ('을', 'JKO'),\n",
       " ('함', 'VV+ETN'),\n",
       " ('으로써', 'JKB'),\n",
       " ('개개인', 'NNG'),\n",
       " ('의', 'JKG'),\n",
       " ('현금', 'NNG'),\n",
       " ('흐름', 'NNG'),\n",
       " ('표', 'NNG'),\n",
       " ('에', 'JKB'),\n",
       " ('맞', 'VV'),\n",
       " ('게', 'EC'),\n",
       " ('(', 'SSO'),\n",
       " ('목돈', 'NNG'),\n",
       " ('마련', 'NNG'),\n",
       " ('결혼', 'NNG'),\n",
       " ('자금', 'NNG'),\n",
       " ('노후', 'NNG'),\n",
       " ('자금', 'NNG'),\n",
       " ('등', 'NNB'),\n",
       " (')', 'SSC'),\n",
       " ('맞춤', 'NNG'),\n",
       " ('형', 'XSN'),\n",
       " ('포트폴리오', 'NNG'),\n",
       " ('또한', 'MAJ'),\n",
       " ('안내', 'NNG'),\n",
       " ('를', 'JKO'),\n",
       " ('드리', 'VV'),\n",
       " ('고', 'EC'),\n",
       " ('있', 'VX'),\n",
       " ('습니다', 'EF'),\n",
       " ('.', 'SF'),\n",
       " ('평소', 'NNG'),\n",
       " ('바쁘', 'VA'),\n",
       " ('시', 'EP'),\n",
       " ('다', 'EC'),\n",
       " ('보', 'VX'),\n",
       " ('니', 'EC'),\n",
       " ('전문가', 'NNG'),\n",
       " ('에게', 'JKB'),\n",
       " ('이런', 'MM'),\n",
       " ('안내', 'NNG'),\n",
       " ('와', 'JC'),\n",
       " ('상담', 'NNG'),\n",
       " ('서비스', 'NNG'),\n",
       " ('를', 'JKO'),\n",
       " ('받', 'VV'),\n",
       " ('아', 'EC'),\n",
       " ('보', 'VX'),\n",
       " ('시', 'EP'),\n",
       " ('지', 'EC'),\n",
       " ('못하', 'VX'),\n",
       " ('셨', 'EP+EP'),\n",
       " ('을', 'ETM'),\n",
       " ('텐데', 'NNB+VCP+EC'),\n",
       " ('무료', 'NNG'),\n",
       " ('상담', 'NNG'),\n",
       " ('을', 'JKO'),\n",
       " ('원하', 'VV'),\n",
       " ('시', 'EP'),\n",
       " ('면', 'EC'),\n",
       " ('직접', 'MAG'),\n",
       " ('집', 'NNG'),\n",
       " ('이나', 'JC'),\n",
       " ('회사', 'NNG'),\n",
       " ('앞', 'NNG'),\n",
       " ('까지', 'JX'),\n",
       " ('찾아뵙', 'VV'),\n",
       " ('는', 'ETM'),\n",
       " ('서비스', 'NNG'),\n",
       " ('이', 'VCP'),\n",
       " ('기', 'ETN'),\n",
       " ('XXX', 'SL'),\n",
       " ('시간', 'NNG'),\n",
       " ('절약', 'NNG'),\n",
       " ('도', 'JX'),\n",
       " ('하', 'VV'),\n",
       " ('실', 'EP+ETM'),\n",
       " ('수', 'NNB'),\n",
       " ('가', 'JKS'),\n",
       " ('있', 'VA'),\n",
       " ('습니다', 'EF'),\n",
       " ('.', 'SF'),\n",
       " ('현재', 'MAG'),\n",
       " ('높', 'VA'),\n",
       " ('은', 'ETM'),\n",
       " ('만족도', 'NNG'),\n",
       " ('와', 'JKB'),\n",
       " ('많', 'VA'),\n",
       " ('은', 'ETM'),\n",
       " ('혜택', 'NNG'),\n",
       " ('들', 'XSN'),\n",
       " ('을', 'JKO'),\n",
       " ('받', 'VV'),\n",
       " ('으시', 'EP'),\n",
       " ('고', 'EC'),\n",
       " ('있', 'VX'),\n",
       " ('기', 'ETN'),\n",
       " ('XXX', 'SL'),\n",
       " ('고객', 'NNG'),\n",
       " ('님', 'XSN'),\n",
       " ('께서', 'JKS'),\n",
       " ('도', 'JX'),\n",
       " ('상담', 'NNG'),\n",
       " ('신청', 'NNG'),\n",
       " ('이', 'VCP'),\n",
       " ('라고', 'EC'),\n",
       " ('답장', 'NNG'),\n",
       " ('을', 'JKO'),\n",
       " ('남겨', 'VV+EC'),\n",
       " ('주', 'VX'),\n",
       " ('시', 'EP'),\n",
       " ('면', 'EC'),\n",
       " ('일정', 'NNG'),\n",
       " ('확인', 'NNG'),\n",
       " ('차', 'NNG'),\n",
       " ('전화', 'NNG'),\n",
       " ('를', 'JKO'),\n",
       " ('드리', 'VV'),\n",
       " ('겠', 'EP'),\n",
       " ('습니다', 'EF'),\n",
       " ('.', 'SF'),\n",
       " ('감사', 'NNG'),\n",
       " ('합니다', 'XSV+EF'),\n",
       " ('.', 'SF'),\n",
       " ('제목', 'NNG'),\n",
       " ('없', 'VA'),\n",
       " ('음', 'ETN')]"
      ]
     },
     "execution_count": 46,
     "metadata": {},
     "output_type": "execute_result"
    }
   ],
   "source": [
    "mecab.pos(\"\"\"피플라이프재무설계XXX팀장입니다 이번에찾아뵙는 금융서비스라고해서은행 예.적금CMAMMF 등관련하여 1:1 재무설계를직접 찾아뵙고 무료상담을 도와드리고있습니다Ex) 현재-시중은행 1.25% 금리이용하시는분들같은 경우상담후-최저보증2.9% 비과세상품 이용하실수있는 방법을 기본베이스로안내를 도와드리고XXX고객님께서 가입되어있는 금융상품들을 다시한번 점검및진단을 함으로써개개인의 현금흐름표에 맞게(목돈마련결혼자금노후자금 등)맞춤형 포트폴리오 또한 안내를 드리고있습니다.평소 바쁘시다보니 전문가에게 이런 안내와 상담서비스를 받아보시지 못하셨을텐데 무료상담을 원하시면직접 집이나 회사앞까지 찾아뵙는 서비스이기XXX 시간절약도 하실수가 있습니다.현재 높은만족도와 많은혜택들을 받으시고 있기XXX 고객님께서도상담신청이라고 답장을 남겨주시면일정 확인차 전화를 드리겠습니다.감사합니다.제목없음\"\"\")"
   ]
  },
  {
   "cell_type": "code",
   "execution_count": 49,
   "metadata": {},
   "outputs": [
    {
     "data": {
      "text/plain": [
       "[('XXX', 'SL'),\n",
       " ('고객', 'NNG'),\n",
       " ('님', 'XSN'),\n",
       " ('안녕', 'NNG'),\n",
       " ('하', 'XSV'),\n",
       " ('세요', 'EP+EF'),\n",
       " ('XXX', 'SL'),\n",
       " ('은행', 'NNG'),\n",
       " ('무교', 'NNG'),\n",
       " ('지점', 'NNG'),\n",
       " ('XXX', 'SL'),\n",
       " ('과장', 'NNG'),\n",
       " ('입니다', 'VCP+EF'),\n",
       " ('오늘', 'MAG'),\n",
       " ('아침', 'NNG'),\n",
       " ('에', 'JKB'),\n",
       " ('눈', 'NNG'),\n",
       " ('을', 'JKO'),\n",
       " ('뜨', 'VV'),\n",
       " ('니', 'EC'),\n",
       " ('눈', 'NNG'),\n",
       " ('이', 'JKS'),\n",
       " ('많이', 'MAG'),\n",
       " ('와서', 'VV+EC'),\n",
       " ('온', 'VX+ETM'),\n",
       " ('세상', 'NNG'),\n",
       " ('이', 'JKS'),\n",
       " ('하얗', 'VA'),\n",
       " ('게', 'EC'),\n",
       " ('변했', 'VV+EP'),\n",
       " ('더군요', 'EC'),\n",
       " ('어릴', 'VA+ETM'),\n",
       " ('적', 'NNB'),\n",
       " ('에', 'JKB'),\n",
       " ('는', 'JX'),\n",
       " ('눈', 'NNG'),\n",
       " ('이', 'JKS'),\n",
       " ('마냥', 'MAG'),\n",
       " ('좋', 'VA'),\n",
       " ('기', 'ETN'),\n",
       " ('만', 'JX'),\n",
       " ('했', 'VV+EP'),\n",
       " ('는데', 'EC'),\n",
       " ('눈', 'NNG'),\n",
       " ('을', 'JKO'),\n",
       " ('보', 'VV'),\n",
       " ('는', 'ETM'),\n",
       " ('순간', 'NNG'),\n",
       " ('좋', 'VA'),\n",
       " ('기', 'ETN'),\n",
       " ('보다', 'JKB'),\n",
       " ('는', 'JX'),\n",
       " ('먼저', 'MAG'),\n",
       " ('.', 'SF'),\n",
       " ('출근', 'NNG'),\n",
       " ('을', 'JKO'),\n",
       " ('걱정', 'NNG'),\n",
       " ('하', 'XSV'),\n",
       " ('게', 'EC'),\n",
       " ('되', 'VV'),\n",
       " ('더라구요', 'EF'),\n",
       " ('이제', 'MAG'),\n",
       " ('진정', 'XR'),\n",
       " ('한', 'XSA+ETM'),\n",
       " ('어른', 'NNG'),\n",
       " ('이', 'JKS'),\n",
       " ('되', 'VV'),\n",
       " ('었', 'EP'),\n",
       " ('음', 'ETN'),\n",
       " ('을', 'JKO'),\n",
       " ('느끼', 'VV'),\n",
       " ('게', 'EC'),\n",
       " ('됩니다', 'VV+EF'),\n",
       " ('새해', 'NNG'),\n",
       " ('인사', 'NNG'),\n",
       " ('를', 'JKO'),\n",
       " ('드리', 'VV'),\n",
       " ('기', 'ETN'),\n",
       " ('전', 'NNG'),\n",
       " ('에', 'JKB'),\n",
       " ('.', 'SF'),\n",
       " ('.', 'SY'),\n",
       " ('제', 'NP'),\n",
       " ('가', 'JKS'),\n",
       " ('발령', 'NNG'),\n",
       " ('이', 'JKS'),\n",
       " ('나', 'NP'),\n",
       " ('서', 'JKB'),\n",
       " ('본점', 'NNG'),\n",
       " ('으로', 'JKB'),\n",
       " ('가', 'VV'),\n",
       " ('게', 'EC'),\n",
       " ('되', 'VV'),\n",
       " ('었', 'EP'),\n",
       " ('어요', 'EF'),\n",
       " ('ㅠㅠ', 'UNKNOWN'),\n",
       " ('.', 'SF'),\n",
       " ('진정한', 'VA+ETM'),\n",
       " ('구정', 'NNG'),\n",
       " ('새해', 'NNG'),\n",
       " ('인사', 'NNG'),\n",
       " ('보다', 'JKB'),\n",
       " ('이별', 'NNG'),\n",
       " ('인사', 'NNG'),\n",
       " ('를', 'JKO'),\n",
       " ('먼저', 'MAG'),\n",
       " ('드리', 'VV'),\n",
       " ('게', 'EC'),\n",
       " ('되', 'VV'),\n",
       " ('어', 'EC'),\n",
       " ('송구', 'XR'),\n",
       " ('할', 'XSA+ETM'),\n",
       " ('뿐', 'NNB'),\n",
       " ('입니다', 'VCP+EF'),\n",
       " ('그', 'MM'),\n",
       " ('동안', 'NNG'),\n",
       " ('보내', 'VV+EC'),\n",
       " ('주', 'VX'),\n",
       " ('신', 'EP+ETM'),\n",
       " ('성원', 'NNG'),\n",
       " ('에', 'JKB'),\n",
       " ('감사', 'NNG'),\n",
       " ('.', 'SF'),\n",
       " ('또', 'MAG'),\n",
       " ('감사', 'NNG'),\n",
       " ('드리', 'VV'),\n",
       " ('며', 'EC'),\n",
       " ('XXX', 'SL'),\n",
       " ('은행', 'NNG'),\n",
       " ('에', 'JKB'),\n",
       " ('있', 'VV'),\n",
       " ('는', 'ETM'),\n",
       " ('XXX', 'SL'),\n",
       " ('고객', 'NNG'),\n",
       " ('님', 'XSN'),\n",
       " ('을', 'JKO'),\n",
       " ('평생', 'MAG'),\n",
       " ('저', 'NP'),\n",
       " ('의', 'JKG'),\n",
       " ('고객', 'NNG'),\n",
       " ('으로', 'JKB'),\n",
       " ('모시', 'VV'),\n",
       " ('겠', 'EP'),\n",
       " ('습니다', 'EF'),\n",
       " ('.', 'SF'),\n",
       " ('새해', 'NNG'),\n",
       " ('복', 'NNG'),\n",
       " ('많이', 'MAG'),\n",
       " ('받', 'VV'),\n",
       " ('으시', 'EP'),\n",
       " ('고', 'EC'),\n",
       " ('2017', 'SN'),\n",
       " ('년', 'NNBC'),\n",
       " ('원', 'NNG'),\n",
       " ('하', 'XSV'),\n",
       " ('고', 'EC'),\n",
       " ('바라', 'VV'),\n",
       " ('시', 'EP'),\n",
       " ('는', 'ETM'),\n",
       " ('모든', 'MM'),\n",
       " ('일', 'NNG'),\n",
       " ('이루', 'VV'),\n",
       " ('시', 'EP'),\n",
       " ('길', 'ETN+JKO'),\n",
       " ('기원', 'NNG'),\n",
       " ('합니다', 'XSV+EF'),\n",
       " ('XXX', 'SL'),\n",
       " ('은행', 'NNG'),\n",
       " ('무교', 'NNG'),\n",
       " ('지점', 'NNG'),\n",
       " ('XXX', 'SL'),\n",
       " ('과장', 'NNG'),\n",
       " ('올림', 'VV+EC')]"
      ]
     },
     "execution_count": 49,
     "metadata": {},
     "output_type": "execute_result"
    }
   ],
   "source": [
    "mecab.pos(\"\"\"XXX 고객님 안녕하세요XXX은행 무교지점 XXX과장입니다 오늘 아침에 눈을 뜨니 눈이 많이 와서 온 세상이 하얗게 변했더군요어릴적에는 눈이 마냥 좋기만 했는데눈을 보는 순간 좋기보다는 먼저. 출근을 걱정하게 되더라구요이제 진정한 어른이 되었음을 느끼게 됩니다새해 인사를 드리기전에..제가 발령이 나서 본점으로 가게되었어요ㅠㅠ. 진정한 구정 새해인사보다 이별인사를 먼저 드리게 되어 송구할 뿐입니다그동안 보내주신 성원에 감사.또 감사드리며XXX은행에 있는XXX고객님을 평생 저의 고객으로 모시겠습니다.새해 복 많이 받으시고 2017년 원하고 바라시는 모든일 이루시길 기원합니다XXX은행 무교지점 XXX과장올림\"\"\")"
   ]
  },
  {
   "cell_type": "code",
   "execution_count": 48,
   "metadata": {},
   "outputs": [
    {
     "name": "stdout",
     "output_type": "stream",
     "text": [
      "XXX은행성산XXX팀장입니다.행복한주말되세요\n",
      "오늘도많이웃으시는하루시작하세요XXX은행 진월동VIP라운지 XXX올림\n",
      "안녕하십니까 고객님. XXX은행입니다.금일 납부하셔야 할 금액은 153600원 입니다.감사합니다. 새해 복 많이 받으십시오.XXX은행옥포XXX올림\n",
      "XXX 고객님안녕하세요XXX은행 XXX지점입니다지난 한 해 동안 저희 XXX지점에 보내주신 성원에 감사드립니다. 설렘으로 시작한 2017년소망하시는 일 모두 이XXX 고객님의 가정에 늘 건강과 행복이 함께하길 기원하겠습니다. 사랑하는 가족과 함께 정을 나누는 행복한 설 명절 보내세요 XXX은행 XXX지점직원일동\n",
      "1월은 새로움이 가득XXX입니다.올 한해 더 많이행복한 한해되시길바랍니다\n",
      "행복한주말보내세요XXX용현남전담직원대리 XXX올림\n",
      "XXX 고객님 안녕하세요XXX은행 무교지점 XXX과장입니다 오늘 아침에 눈을 뜨니 눈이 많이 와서 온 세상이 하얗게 변했더군요어릴적에는 눈이 마냥 좋기만 했는데눈을 보는 순간 좋기보다는 먼저. 출근을 걱정하게 되더라구요이제 진정한 어른이 되었음을 느끼게 됩니다새해 인사를 드리기전에..제가 발령이 나서 본점으로 가게되었어요ㅠㅠ. 진정한 구정 새해인사보다 이별인사를 먼저 드리게 되어 송구할 뿐입니다그동안 보내주신 성원에 감사.또 감사드리며XXX은행에 있는XXX고객님을 평생 저의 고객으로 모시겠습니다.새해 복 많이 받으시고 2017년 원하고 바라시는 모든일 이루시길 기원합니다XXX은행 무교지점 XXX과장올림\n",
      "XXX 고객님지난 한해 베풀어 주신 은혜 진심으로 감사 드립니다.가슴 깊이 간직 하겠습니다.정유년 새해 가족 모두 행복하시고 뜻 하는 바 모두이루시길 진심으로 소망합니다XXX XXX은행 XXX 지점장               정 XXX 배상\n",
      "설연휴 가족들과 훈훈한 정 나누시고 정겨운추억 많이 만드세요XXX오XXX올림\n",
      "(광고)XXXBaXXX고객님들 뒤엔XXX 언제나 XXX새로운 마음가짐으로 새롭게 준비합니다.당행상품의 자격기준과 심사기준이 완화되어 상품에 대해 간단하게 상품정보 전달드립니다.수신을 희망하지 않으실 경우에는 거부 라는 답장을 주시면 KISA 수신거부 목록에 등록을 시켜 두번 다시 발송되지 않도록 조치를 취해드리겠습니다.신청방법:  XXX-XXX-XXX  터치하셔서 문자로 상담 또는 00시 00분 상담이라고 답장을 보내주시거나 전화를 주시면 친절하고 안전한 상담으로 도움드리겠습니다.카카오톡 상담서비스 시행중 citibankloan친구추가 후 상담신청이런 분들께 권해드립니다.1. 시중은행권에서 기존한도를 모두 사용 중이신 분.2. 기대출의 원리금 균등방식으로 인해 월 불입금액이 부담스러우신 분.3. 총 채무금액은 작으나 채무건수가 많아서 관리가 안 되시는 XXX고객님들께 말씀드립니다. 높은 금리 때문에 힘들다고 느끼셨을 때 대출이 필요하실 때 언제나XXX 고객님들 뒤에서 든든한 파트너로서 도와드리겠습니다.당행 상품특징1. 당행 거래가 없으셔도 진행가능.2. 시중은행권보다 높은 한도.3. 자체 등급으로 판단하므로 낮은신용자도 진행가능.4. 부채가 많다면 부채 통합상품으로 전환가능.5. 원리금 균등방식을 이자만 납입하는 만기일시로 전환가능.6. 가상 조회를 통해 한도 및 금리를 한 번에 확인가능.당행 상품안내1. 직장인전용 신용상품한도: 최대 1억 4000만 원까지.금리: 최저 2.97%자격: XXX은행 자체 등급과 기업 리스트에 따라 차등적용.2. 채무통합 전환상품한도: 연봉 대비 300%까지.금리: 최저 2.97%자격: XXX은행 자체 등급과 기업 리스트에 따라 차등적용.3. 새 희망 홀씨한도: 최대 2500만 원.금리: 8.68%12%자격: 연봉 4000만 원 이하 고객 대상으로 XXX 자체 등급에 따라(광고)XXX\n"
     ]
    },
    {
     "data": {
      "text/plain": [
       "0    None\n",
       "1    None\n",
       "2    None\n",
       "3    None\n",
       "4    None\n",
       "5    None\n",
       "6    None\n",
       "7    None\n",
       "8    None\n",
       "9    None\n",
       "Name: text, dtype: object"
      ]
     },
     "execution_count": 48,
     "metadata": {},
     "output_type": "execute_result"
    }
   ],
   "source": [
    "df.head(10).text.map(print)"
   ]
  },
  {
   "cell_type": "code",
   "execution_count": null,
   "metadata": {},
   "outputs": [],
   "source": [
    "0.999886801482348  #  64 64 l1_0.0035, sigmoid A"
   ]
  },
  {
   "cell_type": "code",
   "execution_count": null,
   "metadata": {},
   "outputs": [],
   "source": [
    "0.999870406857598 # 제출 (32, 32_l2_0.01, sigmoid, Adam_1e-4)"
   ]
  },
  {
   "cell_type": "code",
   "execution_count": null,
   "metadata": {},
   "outputs": [],
   "source": []
  },
  {
   "cell_type": "code",
   "execution_count": null,
   "metadata": {},
   "outputs": [],
   "source": [
    "# 제출 준비"
   ]
  },
  {
   "cell_type": "code",
   "execution_count": 51,
   "metadata": {},
   "outputs": [],
   "source": [
    "submit_df = pd.read_csv('./data/public_test.csv')"
   ]
  },
  {
   "cell_type": "code",
   "execution_count": 52,
   "metadata": {},
   "outputs": [
    {
     "name": "stdout",
     "output_type": "stream",
     "text": [
      "2019-12-22 10:56:09.258422 0\n"
     ]
    }
   ],
   "source": [
    "unknowns = []\n",
    "\n",
    "idx = 0\n",
    "for idx, item in submit_df.iterrows():\n",
    "    splited = parse_sentence(item.text)\n",
    "    splited.append(item.id)\n",
    "    unknowns.append(splited)\n",
    "    if idx % 100000 == 0:\n",
    "        print(datetime.now(), idx)\n",
    "    idx += 1"
   ]
  },
  {
   "cell_type": "code",
   "execution_count": 53,
   "metadata": {},
   "outputs": [],
   "source": [
    "test_conditioned = []\n",
    "test_general = []\n",
    "\n",
    "original_idx = []\n",
    "for unknown in unknowns:\n",
    "    conditioned = []\n",
    "    general = []\n",
    "    for item in unknown[:-1]:\n",
    "        if item[1] == True:\n",
    "            conditioned += [x for x in item[2] if x in conditioned_dic]\n",
    "        else:\n",
    "            general += [x for x in item[2] if x in general_dic]\n",
    "    test_conditioned.append(list(conditioned))\n",
    "    test_general.append(list(general))\n",
    "    original_idx.append(unknown[-1])"
   ]
  },
  {
   "cell_type": "code",
   "execution_count": 54,
   "metadata": {},
   "outputs": [],
   "source": [
    "tidf_conditioned = vectorizer_conditioned.transform(test_conditioned).toarray()\n",
    "tidf_general = vectorizer_general.transform(test_general).toarray()"
   ]
  },
  {
   "cell_type": "code",
   "execution_count": 55,
   "metadata": {},
   "outputs": [
    {
     "name": "stdout",
     "output_type": "stream",
     "text": [
      "1626/1626 [==============================] - 0s 35us/step\n"
     ]
    }
   ],
   "source": [
    "pred_y = model.predict(x=[tidf_conditioned, tidf_general], verbose=1)"
   ]
  },
  {
   "cell_type": "code",
   "execution_count": 56,
   "metadata": {},
   "outputs": [],
   "source": [
    "pred_y[pred_y > 1.0] = 1.0"
   ]
  },
  {
   "cell_type": "code",
   "execution_count": 57,
   "metadata": {},
   "outputs": [],
   "source": [
    "submit_df['smishing'] = np.abs(pred_y)"
   ]
  },
  {
   "cell_type": "code",
   "execution_count": 58,
   "metadata": {},
   "outputs": [],
   "source": [
    "submit_df[['id', 'smishing']].to_csv('./data/submission_20191222_1.csv', index=False)"
   ]
  },
  {
   "cell_type": "code",
   "execution_count": null,
   "metadata": {},
   "outputs": [],
   "source": []
  },
  {
   "cell_type": "code",
   "execution_count": null,
   "metadata": {},
   "outputs": [],
   "source": []
  }
 ],
 "metadata": {
  "kernelspec": {
   "display_name": "Python 3",
   "language": "python",
   "name": "python3"
  },
  "language_info": {
   "codemirror_mode": {
    "name": "ipython",
    "version": 3
   },
   "file_extension": ".py",
   "mimetype": "text/x-python",
   "name": "python",
   "nbconvert_exporter": "python",
   "pygments_lexer": "ipython3",
   "version": "3.7.4"
  }
 },
 "nbformat": 4,
 "nbformat_minor": 2
}
