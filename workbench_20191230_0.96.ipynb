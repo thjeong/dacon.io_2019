{
 "cells": [
  {
   "cell_type": "code",
   "execution_count": 1,
   "metadata": {},
   "outputs": [
    {
     "name": "stderr",
     "output_type": "stream",
     "text": [
      "Using TensorFlow backend.\n"
     ]
    }
   ],
   "source": [
    "from datetime import datetime\n",
    "import numpy as np\n",
    "import pandas as pd\n",
    "from matplotlib import pyplot as plt\n",
    "\n",
    "from konlpy.tag import Mecab\n",
    "mecab = Mecab()\n",
    "\n",
    "#import lightgbm as lgb\n",
    "\n",
    "import tensorflow as tf\n",
    "import keras"
   ]
  },
  {
   "cell_type": "code",
   "execution_count": 2,
   "metadata": {},
   "outputs": [],
   "source": [
    "pd.options.display.max_rows = 1000"
   ]
  },
  {
   "cell_type": "code",
   "execution_count": 3,
   "metadata": {},
   "outputs": [],
   "source": [
    "df = pd.read_csv('./data/train.csv')"
   ]
  },
  {
   "cell_type": "raw",
   "metadata": {},
   "source": [
    "\n",
    "test = {}\n",
    "for row in df.text.map(mecab.pos):\n",
    "    prev_word = ('', '')\n",
    "    for word in row:\n",
    "        if prev_word[1][-3:] == 'ETM':\n",
    "            if word[0] in test:\n",
    "                test[word[0]] += 1\n",
    "            else:\n",
    "                test[word[0]] = 1\n",
    "            if word[0] == '회계사':\n",
    "                print(prev_word, word)\n",
    "        prev_word = word"
   ]
  },
  {
   "cell_type": "code",
   "execution_count": 206,
   "metadata": {},
   "outputs": [
    {
     "name": "stdout",
     "output_type": "stream",
     "text": [
      "['분', '고객', '개인', '사업자', '이', '대상', '당신', '직원', 'VIP', '자', '분도', '전문직', '신용자', '외국인', '본인', '임직원', '부모', '회계사', '귀하', '투자자', '분과']\n"
     ]
    }
   ],
   "source": [
    "result_txt = \"\"\"분         57552\n",
    "고객         9985\n",
    "개인         5210\n",
    "사업자        3527\n",
    "이          1706\n",
    "대상         1540\n",
    "당신         1380\n",
    "직원          861\n",
    "VIP         569\n",
    "자           457\n",
    "분도          323\n",
    "전문직         309\n",
    "신용자         194\n",
    "외국인         125\n",
    "본인          118\n",
    "임직원         115\n",
    "부모          102\n",
    "회계사          81\n",
    "귀하           74\n",
    "투자자          72\n",
    "분과           63\"\"\"\n",
    "print([x.split()[0] for x in result_txt.split('\\n')])"
   ]
  },
  {
   "cell_type": "code",
   "execution_count": 4,
   "metadata": {},
   "outputs": [],
   "source": [
    "import re\n",
    "\n",
    "num_re = re.compile('([0-9X]+[\\-\\.]+[\\-.0-9X]+|[0-9X]+[.0-9X]+\\%|[0-9X]+[년월일천만억원]+)')\n",
    "#num_re = re.compile('[0-9X]+[년월일천만억원]+|[0-9X]+[\\-\\.]+[\\-.0-9X]+')\n",
    "fon_re = re.compile('[0-9X]{2,4}-[0-9Xx]{2,4}-[0-9Xx]{4}')\n",
    "\n",
    "deny_re = re.compile(\"무료거부|무료수신거부\")\n"
   ]
  },
  {
   "cell_type": "code",
   "execution_count": 5,
   "metadata": {},
   "outputs": [],
   "source": [
    "def parse_sentence(sentence):\n",
    "    ret = []\n",
    "    nouns = []\n",
    "    condition = False\n",
    "    \n",
    "    if sentence[:4] == '(광고)':\n",
    "        nouns.append('(광고)')\n",
    "        sentence = sentence[4:]\n",
    "        \n",
    "    prev_wordpos = ('', '')\n",
    "    ss = ''\n",
    "    for word in mecab.pos(sentence):\n",
    "        # 계시다면 등에서 다면이 N으로 파싱됨\n",
    "        if word[1][:1] == 'S' and word[0][:1] not in '()':\n",
    "            # 숫자나 X등\n",
    "            if ss == '' and word[1] == 'SF':\n",
    "                # 점으로 시작하는 경우는 무시\n",
    "                pass\n",
    "            else:\n",
    "                ss += word[0]\n",
    "        elif len(ss) > 0:\n",
    "            # 숫자 뒤에 명사가 와서 의미를 만드는 경우 : 1월, 20일, 1만원 등\n",
    "            #if word[1][:1] == 'N':\n",
    "            #    ss += word[0]\n",
    "            nouns.append(re.sub('[0-9.X]+', 'X', ss))\n",
    "            ss = ''\n",
    "            \n",
    "        if prev_wordpos[1][-3:] == 'ETM' and word[0] in ['분','고객','개인','사업자','이','대상','당신','직원','VIP', '자','분도','전문직','신용자','외국인','본인','임직원','부모','회계사','귀하','투자자','분과']:\n",
    "            condition = True\n",
    "            \n",
    "        if word[1][:1] == 'M':\n",
    "            nouns.append(word[0])\n",
    "        elif word[1][:1] == 'N':\n",
    "            if word[0][:2] in ('경우', '필요', '라면', '다면'): # 경우, 필요 단어 등장 시 조건절로 판단\n",
    "                condition = True\n",
    "            elif word[0] == '시' and prev_wordpos[1][:1] == 'N':  # 넣으나 마나.. 왜 그렇지?\n",
    "                condition = True\n",
    "            else:\n",
    "                nouns.append(word[0])\n",
    "        # 도 : 여도, 라도\n",
    "        # 면 : 라면, 면\n",
    "        elif word[1] == 'EC':\n",
    "            if word[0][-1:] in ('면', '도') or word[0][-2:] in ('도록'):\n",
    "                condition = True\n",
    "        elif word[1][:1] == 'V':\n",
    "            nouns.append(word[0])\n",
    "        elif word[1][-2:] in ('EF'): # and word[0][-1:] in ['요', '다']:\n",
    "            # nouns가 꼭 명사를 뜻하는 게 아니고 특색있는 키워드 모두를 포함\n",
    "            nouns.append(word[0])\n",
    "            ret.append([word[0], condition, nouns])\n",
    "            nouns = []\n",
    "            condition = False\n",
    "        prev_wordpos = word\n",
    "    if len(nouns) > 0:\n",
    "        #nouns.append(word[0])\n",
    "        ret.append([word[0], condition, nouns])\n",
    "    \n",
    "    \n",
    "#     # 가장 많은 단어를 가진 조건절만 남기고 나머지는 일반문장으로 원복\n",
    "#     max_len, selected = 0, -1\n",
    "#     for idx, item in enumerate(ret):\n",
    "#         if item[1] == True and len(item[2]) > max_len:\n",
    "#             selected, max_len = idx, len(item[2])\n",
    "#         ret[idx][1] = False\n",
    "#     if selected >= 0:\n",
    "#         ret[selected][1] = True\n",
    "    return ret"
   ]
  },
  {
   "cell_type": "code",
   "execution_count": 6,
   "metadata": {},
   "outputs": [
    {
     "name": "stdout",
     "output_type": "stream",
     "text": [
      "2019-12-31 08:23:08.775402 0\n",
      "2019-12-31 08:23:53.391903 100000\n",
      "2019-12-31 08:24:45.249162 200000\n"
     ]
    }
   ],
   "source": [
    "smishings = []\n",
    "normals = []\n",
    "idx = 0\n",
    "for idx, item in df.iterrows():\n",
    "    #print(item.text)\n",
    "    splited = parse_sentence(item.text)\n",
    "    splited.append(item.id)\n",
    "    #splited = m.parse(item.text).split()\n",
    "    if item.smishing == 1:\n",
    "        smishings.append(splited)\n",
    "    else:\n",
    "        normals.append(splited)\n",
    "    if idx % 100000 == 0:\n",
    "        print(datetime.now(), idx)\n",
    "    idx += 1\n",
    "#     if idx > 20000:\n",
    "#         break"
   ]
  },
  {
   "cell_type": "code",
   "execution_count": null,
   "metadata": {},
   "outputs": [],
   "source": []
  },
  {
   "cell_type": "code",
   "execution_count": 7,
   "metadata": {},
   "outputs": [],
   "source": [
    "class wordCounter():\n",
    "    def __init__(self):\n",
    "        self.word_bank = {}\n",
    "    \n",
    "    def add_bucket(self, bucket_name):\n",
    "        self.word_bank[bucket_name] = {}\n",
    "        \n",
    "    def add_list(self, bucket_name, word_list:[]):\n",
    "        bucket = self.word_bank[bucket_name]\n",
    "        for keyword in word_list:\n",
    "            if keyword in bucket:\n",
    "                bucket[keyword] += 1\n",
    "            else:\n",
    "                bucket[keyword] = 1\n",
    "                \n",
    "    def get_counts(self, bucket_name):\n",
    "        return self.word_bank[bucket_name]"
   ]
  },
  {
   "cell_type": "code",
   "execution_count": 8,
   "metadata": {},
   "outputs": [],
   "source": [
    "wc = wordCounter()\n",
    "wc.add_bucket('conditioned')\n",
    "wc.add_bucket('general')\n",
    "\n",
    "for normal in normals:\n",
    "    for item in normal[:-1]:\n",
    "        if item[1] == True:\n",
    "            wc.add_list('conditioned', item[2])\n",
    "        else:\n",
    "            wc.add_list('general', item[2])\n",
    "\n",
    "for smishing in smishings:\n",
    "    for item in smishing[:-1]:\n",
    "        if item[1] == True:\n",
    "            wc.add_list('conditioned', item[2])\n",
    "        else:\n",
    "            wc.add_list('general', item[2])"
   ]
  },
  {
   "cell_type": "code",
   "execution_count": 9,
   "metadata": {},
   "outputs": [],
   "source": [
    "conditioned_df = pd.Series(wc.get_counts('conditioned'))\n",
    "general_df = pd.Series(wc.get_counts('general'))\n",
    "\n",
    "# 글자가 2개 이상인 것만 모아보자\n",
    "#conditioned_df = conditioned_df[conditioned_df.index.map(len) > 1]\n",
    "#general_df = general_df[general_df.index.map(len) > 1]"
   ]
  },
  {
   "cell_type": "code",
   "execution_count": 10,
   "metadata": {},
   "outputs": [],
   "source": [
    "general_dic = general_df[general_df > 1].sort_values(ascending=False)\n",
    "general_dic = general_dic.reset_index()['index'].to_dict()\n",
    "general_vocab = {general_dic.get(k):k for k in general_dic}"
   ]
  },
  {
   "cell_type": "code",
   "execution_count": 11,
   "metadata": {},
   "outputs": [],
   "source": [
    "conditioned_dic = conditioned_df[conditioned_df > 1].sort_values(ascending=False)\n",
    "conditioned_dic = conditioned_dic.reset_index()['index'].to_dict()\n",
    "conditioned_vocab = {conditioned_dic.get(k):k for k in conditioned_dic}"
   ]
  },
  {
   "cell_type": "code",
   "execution_count": 12,
   "metadata": {},
   "outputs": [
    {
     "name": "stdout",
     "output_type": "stream",
     "text": [
      "size of vocab (conditioned, general): 17073 21749\n"
     ]
    }
   ],
   "source": [
    "# smishing cases; length of vocab when it's out of vocab\n",
    "tidf_conditioned = []\n",
    "tidf_general = []\n",
    "\n",
    "cond_vocabsize = len(conditioned_vocab)\n",
    "gen_vocabsize = len(general_vocab)\n",
    "\n",
    "print('size of vocab (conditioned, general):', cond_vocabsize, gen_vocabsize)\n",
    "for msg in normals:\n",
    "    tidf_conditioned.append([conditioned_vocab.get(x) if x in conditioned_vocab else cond_vocabsize for row in msg[:-1] if row[1] == True for x in row[2]])\n",
    "    tidf_general.append([general_vocab.get(x) if x in general_vocab else gen_vocabsize for row in msg[:-1] if row[1] == False for x in row[2]])\n",
    "for msg in smishings:\n",
    "    tidf_conditioned.append([conditioned_vocab.get(x) if x in conditioned_vocab else cond_vocabsize for row in msg[:-1] if row[1] == True for x in row[2]])\n",
    "    tidf_general.append([general_vocab.get(x) if x in general_vocab else gen_vocabsize for row in msg[:-1] if row[1] == False for x in row[2]])"
   ]
  },
  {
   "cell_type": "code",
   "execution_count": 14,
   "metadata": {},
   "outputs": [
    {
     "name": "stdout",
     "output_type": "stream",
     "text": [
      "conditioned vector minimum size: 380\n",
      "general vector minimum size: 460\n"
     ]
    }
   ],
   "source": [
    "# 문장 내 인식한 단어의 개수의 최대값 (문장의 길이가 길수록 크겠지..)\n",
    "print('conditioned vector minimum size:', max(max([len(x) for x in tidf_conditioned]), max([len(x) for x in tidf_conditioned])))\n",
    "print('general vector minimum size:', max(max([len(x) for x in tidf_general]), max([len(x) for x in tidf_general])))"
   ]
  },
  {
   "cell_type": "code",
   "execution_count": 15,
   "metadata": {},
   "outputs": [],
   "source": [
    "convec_size, genvec_size = 350, 470  # 15~20씩 여유"
   ]
  },
  {
   "cell_type": "code",
   "execution_count": 16,
   "metadata": {},
   "outputs": [],
   "source": [
    "# 훈련용, 훈련검증용, 결과검증용 분리\n",
    "tidf_conditioned = np.array(tidf_conditioned)\n",
    "tidf_general = np.array(tidf_general)\n",
    "tidf_label = np.array([1 if x >= len(normals) else 0 for x in range(tidf_conditioned.shape[0])])"
   ]
  },
  {
   "cell_type": "code",
   "execution_count": 17,
   "metadata": {},
   "outputs": [],
   "source": [
    "from tensorflow.keras.preprocessing.sequence import pad_sequences\n",
    "\n",
    "class DataGenerator(keras.utils.Sequence):\n",
    "    def __init__(self, tidf_cond_train, tidf_gen_train, tidf_label_train, normal_size=160, smishing_size=160, convec_size=350, genvec_size=470):\n",
    "        self.convec_size = convec_size  # including 0 paddings\n",
    "        self.genvec_size = genvec_size  # including 0 paddings\n",
    "        self.tidf_cond_train_normal = pad_sequences(tidf_cond_train[tidf_label_train == 0], maxlen=self.convec_size, padding='pre')\n",
    "        self.tidf_gen_train_normal = pad_sequences(tidf_gen_train[tidf_label_train == 0], maxlen=self.genvec_size, padding='pre')\n",
    "        self.tidf_cond_train_smishing = pad_sequences(tidf_cond_train[tidf_label_train == 1], maxlen=self.convec_size, padding='pre')\n",
    "        self.tidf_gen_train_smishing = pad_sequences(tidf_gen_train[tidf_label_train == 1], maxlen=self.genvec_size, padding='pre')\n",
    "        self.normal_sample_size = normal_size\n",
    "        self.smishing_sample_size = smishing_size\n",
    "        self.num_batch = int(np.ceil(len(self.tidf_cond_train_normal) / (self.normal_sample_size + self.smishing_sample_size) / 10))\n",
    "        print('num_batch:', self.num_batch)\n",
    "    \n",
    "    def __len__(self):\n",
    "        return self.num_batch\n",
    "    \n",
    "    def __getitem__(self, index):\n",
    "        # random sampling. ignore index\n",
    "        normal_sampling = np.random.choice(len(self.tidf_cond_train_normal), self.normal_sample_size)\n",
    "#         normal_cond_sample = pad_sequences(self.tidf_cond_train_normal[normal_sampling], maxlen=self.convec_size, padding='pre')\n",
    "#         normal_gen_sample = pad_sequences(self.tidf_gen_train_normal[normal_sampling], maxlen=self.genvec_size, padding='pre')\n",
    "        normal_cond_sample = self.tidf_cond_train_normal[normal_sampling]\n",
    "        normal_gen_sample = self.tidf_gen_train_normal[normal_sampling]\n",
    "        smishing_sampling = np.random.choice(len(self.tidf_cond_train_smishing), self.smishing_sample_size)\n",
    "#         smishing_cond_sample = pad_sequences(self.tidf_cond_train_smishing[smishing_sampling], maxlen=self.convec_size, padding='pre')\n",
    "#         smishing_gen_sample = pad_sequences(self.tidf_gen_train_smishing[smishing_sampling], maxlen=self.genvec_size, padding='pre')\n",
    "        smishing_cond_sample = self.tidf_cond_train_smishing[smishing_sampling]\n",
    "        smishing_gen_sample = self.tidf_gen_train_smishing[smishing_sampling]\n",
    "        sample_cond_train = np.concatenate([normal_cond_sample, smishing_cond_sample])\n",
    "        sample_gen_train = np.concatenate([normal_gen_sample, smishing_gen_sample])\n",
    "        sample_label_train = [1 if x >= self.normal_sample_size else 0 for x in range(len(sample_cond_train))]\n",
    "        return [sample_cond_train, sample_gen_train], sample_label_train\n",
    "\n",
    "    def on_epoch_end(self):\n",
    "        pass"
   ]
  },
  {
   "cell_type": "code",
   "execution_count": 18,
   "metadata": {},
   "outputs": [
    {
     "data": {
      "text/plain": [
       "((177533,), (59281,))"
      ]
     },
     "execution_count": 18,
     "metadata": {},
     "output_type": "execute_result"
    }
   ],
   "source": [
    "TRAIN_RATIO, VALID_RATIO = 0.6, 0.8\n",
    "np.random.seed(0)\n",
    "split = np.random.rand(tidf_conditioned.shape[0])\n",
    "tidf_cond_train = tidf_conditioned[split < TRAIN_RATIO]\n",
    "tidf_cond_valid = tidf_conditioned[(split >= TRAIN_RATIO) & (split < VALID_RATIO)]\n",
    "tidf_cond_test = tidf_conditioned[split >= VALID_RATIO]\n",
    "\n",
    "tidf_gen_train = tidf_general[split < TRAIN_RATIO]\n",
    "tidf_gen_valid = tidf_general[(split >= TRAIN_RATIO) & (split < VALID_RATIO)]\n",
    "tidf_gen_test = tidf_general[split >= VALID_RATIO]\n",
    "\n",
    "tidf_label_train = tidf_label[split < TRAIN_RATIO]\n",
    "tidf_label_valid = tidf_label[(split >= TRAIN_RATIO) & (split < VALID_RATIO)]\n",
    "tidf_label_test = tidf_label[split >= VALID_RATIO]\n",
    "\n",
    "tidf_cond_train.shape, tidf_cond_valid.shape #, tidf_cond_test.shape"
   ]
  },
  {
   "cell_type": "code",
   "execution_count": 19,
   "metadata": {},
   "outputs": [
    {
     "name": "stdout",
     "output_type": "stream",
     "text": [
      "WARNING:tensorflow:From /home/xikizima/.conda/lib/python3.7/site-packages/keras/backend/tensorflow_backend.py:517: The name tf.placeholder is deprecated. Please use tf.compat.v1.placeholder instead.\n",
      "\n",
      "WARNING:tensorflow:From /home/xikizima/.conda/lib/python3.7/site-packages/keras/backend/tensorflow_backend.py:74: The name tf.get_default_graph is deprecated. Please use tf.compat.v1.get_default_graph instead.\n",
      "\n",
      "WARNING:tensorflow:From /home/xikizima/.conda/lib/python3.7/site-packages/keras/backend/tensorflow_backend.py:4138: The name tf.random_uniform is deprecated. Please use tf.random.uniform instead.\n",
      "\n",
      "WARNING:tensorflow:From /home/xikizima/.conda/lib/python3.7/site-packages/keras/backend/tensorflow_backend.py:133: The name tf.placeholder_with_default is deprecated. Please use tf.compat.v1.placeholder_with_default instead.\n",
      "\n",
      "WARNING:tensorflow:From /home/xikizima/.conda/lib/python3.7/site-packages/keras/backend/tensorflow_backend.py:3445: calling dropout (from tensorflow.python.ops.nn_ops) with keep_prob is deprecated and will be removed in a future version.\n",
      "Instructions for updating:\n",
      "Please use `rate` instead of `keep_prob`. Rate should be set to `rate = 1 - keep_prob`.\n",
      "WARNING:tensorflow:From /home/xikizima/.conda/lib/python3.7/site-packages/keras/optimizers.py:790: The name tf.train.Optimizer is deprecated. Please use tf.compat.v1.train.Optimizer instead.\n",
      "\n",
      "WARNING:tensorflow:From /home/xikizima/.conda/lib/python3.7/site-packages/keras/backend/tensorflow_backend.py:3376: The name tf.log is deprecated. Please use tf.math.log instead.\n",
      "\n",
      "WARNING:tensorflow:From /home/xikizima/.conda/lib/python3.7/site-packages/tensorflow_core/python/ops/nn_impl.py:183: where (from tensorflow.python.ops.array_ops) is deprecated and will be removed in a future version.\n",
      "Instructions for updating:\n",
      "Use tf.where in 2.0, which has the same broadcast rule as np.where\n"
     ]
    },
    {
     "name": "stderr",
     "output_type": "stream",
     "text": [
      "/home/xikizima/.conda/lib/python3.7/site-packages/ipykernel_launcher.py:33: UserWarning: Update your `Model` call to the Keras 2 API: `Model(inputs=[<tf.Tenso..., outputs=Tensor(\"Ac...)`\n"
     ]
    }
   ],
   "source": [
    "DENSE1, DENSE2, DENSE3, DENSE4 = 32, 12, 12, 32\n",
    "\n",
    "num_predictive_factors = 32\n",
    "#n_cond, n_gen = CONDITION_WORD_FTR_SIZE, GENERAL_WORD_FTR_SIZE\n",
    "n_cond, n_gen = convec_size, genvec_size\n",
    "cond_input = keras.layers.Input(shape=(n_cond,), name='Cond')\n",
    "gen_input = keras.layers.Input(shape=(n_gen,), name='General')\n",
    "\n",
    "cond_vec_mlp = keras.layers.Embedding(cond_vocabsize + 1, num_predictive_factors, )(cond_input)\n",
    "cond_vec_mlp = keras.layers.Flatten(name='Flattenconds-MLP')(cond_vec_mlp)\n",
    "cond_vec_mlp = keras.layers.Dropout(0.3)(cond_vec_mlp)\n",
    "\n",
    "gen_vec_mlp = keras.layers.Embedding(gen_vocabsize + 1, num_predictive_factors, )(gen_input)\n",
    "gen_vec_mlp = keras.layers.Flatten(name='Flattengens-MLP')(gen_vec_mlp)\n",
    "gen_vec_mlp = keras.layers.Dropout(0.3)(gen_vec_mlp)\n",
    "\n",
    "concat_mlp = keras.layers.merge.concatenate([cond_vec_mlp, gen_vec_mlp])\n",
    "concat_dropout_mlp = keras.layers.Dropout(0.2)(concat_mlp)\n",
    "\n",
    "dense = keras.layers.Dense(DENSE1, kernel_regularizer=keras.regularizers.l2(0.001), name='FullyConnected-1', activation='relu')(concat_dropout_mlp)\n",
    "dropout_1 = keras.layers.Dropout(0.3, name='Dropout-1')(dense)\n",
    "\n",
    "#dense_2 = keras.layers.Dense(DENSE2, kernel_regularizer=keras.regularizers.l2(0.001), name='FullyConnected-2', activation='relu')(dropout_1)\n",
    "#dropout_2 = keras.layers.Dropout(0.3, name='Dropout-2')(dense_2)\n",
    "\n",
    "#dense_3 = keras.layers.Dense(DENSE3, kernel_regularizer=keras.regularizers.l2(0.001), name='FullyConnected-3', activation='relu')(dropout_2)\n",
    "#dropout_3 = keras.layers.Dropout(0.3, name='Dropout-3')(dense_3)\n",
    "\n",
    "dense_4 = keras.layers.Dense(DENSE4, kernel_regularizer=keras.regularizers.l2(0.001), name='FullyConnected-4', activation='relu')(dropout_1)\n",
    "\n",
    "pred_mlp = keras.layers.Dense(1, activation='sigmoid', name='Activation')(dense_4)\n",
    "\n",
    "model = keras.Model(inputs=[cond_input, gen_input], output=pred_mlp)\n",
    "model.compile(optimizer=keras.optimizers.Adam(lr=1e-4), loss='binary_crossentropy', metrics=['binary_crossentropy', 'accuracy'])\n",
    "#model.compile(optimizer=keras.optimizers.Adamax(lr=1e-3), loss='binary_crossentropy', metrics=['binary_crossentropy', 'accuracy'])"
   ]
  },
  {
   "cell_type": "code",
   "execution_count": 20,
   "metadata": {},
   "outputs": [
    {
     "name": "stdout",
     "output_type": "stream",
     "text": [
      "num_batch: 52\n",
      "num_batch: 3\n",
      "WARNING:tensorflow:From /home/xikizima/.conda/lib/python3.7/site-packages/keras/backend/tensorflow_backend.py:986: The name tf.assign_add is deprecated. Please use tf.compat.v1.assign_add instead.\n",
      "\n",
      "WARNING:tensorflow:From /home/xikizima/.conda/lib/python3.7/site-packages/keras/backend/tensorflow_backend.py:973: The name tf.assign is deprecated. Please use tf.compat.v1.assign instead.\n",
      "\n",
      "WARNING:tensorflow:From /home/xikizima/.conda/lib/python3.7/site-packages/keras/backend/tensorflow_backend.py:2741: The name tf.Session is deprecated. Please use tf.compat.v1.Session instead.\n",
      "\n",
      "Epoch 1/200\n",
      "WARNING:tensorflow:From /home/xikizima/.conda/lib/python3.7/site-packages/keras/backend/tensorflow_backend.py:174: The name tf.get_default_session is deprecated. Please use tf.compat.v1.get_default_session instead.\n",
      "\n",
      "WARNING:tensorflow:From /home/xikizima/.conda/lib/python3.7/site-packages/keras/backend/tensorflow_backend.py:181: The name tf.ConfigProto is deprecated. Please use tf.compat.v1.ConfigProto instead.\n",
      "\n",
      "WARNING:tensorflow:From /home/xikizima/.conda/lib/python3.7/site-packages/keras/backend/tensorflow_backend.py:190: The name tf.global_variables is deprecated. Please use tf.compat.v1.global_variables instead.\n",
      "\n",
      "WARNING:tensorflow:From /home/xikizima/.conda/lib/python3.7/site-packages/keras/backend/tensorflow_backend.py:199: The name tf.is_variable_initialized is deprecated. Please use tf.compat.v1.is_variable_initialized instead.\n",
      "\n",
      "WARNING:tensorflow:From /home/xikizima/.conda/lib/python3.7/site-packages/keras/backend/tensorflow_backend.py:206: The name tf.variables_initializer is deprecated. Please use tf.compat.v1.variables_initializer instead.\n",
      "\n",
      "52/52 [==============================] - 14s 272ms/step - loss: 0.5299 - binary_crossentropy: 0.4368 - acc: 0.8661 - val_loss: 0.3034 - val_binary_crossentropy: 0.2133 - val_acc: 0.9445\n",
      "Epoch 2/200\n",
      "52/52 [==============================] - 12s 229ms/step - loss: 0.2889 - binary_crossentropy: 0.2019 - acc: 0.9410 - val_loss: 0.2245 - val_binary_crossentropy: 0.1407 - val_acc: 0.9508\n",
      "Epoch 3/200\n",
      "52/52 [==============================] - 12s 230ms/step - loss: 0.2154 - binary_crossentropy: 0.1342 - acc: 0.9556 - val_loss: 0.1625 - val_binary_crossentropy: 0.0838 - val_acc: 0.9592\n",
      "Epoch 4/200\n",
      "52/52 [==============================] - 12s 229ms/step - loss: 0.1727 - binary_crossentropy: 0.0958 - acc: 0.9728 - val_loss: 0.1314 - val_binary_crossentropy: 0.0563 - val_acc: 0.9867\n",
      "Epoch 5/200\n",
      "52/52 [==============================] - 12s 229ms/step - loss: 0.1431 - binary_crossentropy: 0.0697 - acc: 0.9818 - val_loss: 0.1153 - val_binary_crossentropy: 0.0435 - val_acc: 0.9870\n",
      "Epoch 6/200\n",
      "52/52 [==============================] - 12s 228ms/step - loss: 0.1227 - binary_crossentropy: 0.0524 - acc: 0.9868 - val_loss: 0.0987 - val_binary_crossentropy: 0.0301 - val_acc: 0.9927\n",
      "Epoch 7/200\n",
      "52/52 [==============================] - 12s 229ms/step - loss: 0.1094 - binary_crossentropy: 0.0424 - acc: 0.9906 - val_loss: 0.0886 - val_binary_crossentropy: 0.0233 - val_acc: 0.9943\n",
      "Epoch 8/200\n",
      "52/52 [==============================] - 12s 229ms/step - loss: 0.0974 - binary_crossentropy: 0.0336 - acc: 0.9922 - val_loss: 0.0801 - val_binary_crossentropy: 0.0177 - val_acc: 0.9952\n",
      "Epoch 9/200\n",
      "52/52 [==============================] - 12s 230ms/step - loss: 0.0904 - binary_crossentropy: 0.0295 - acc: 0.9941 - val_loss: 0.0776 - val_binary_crossentropy: 0.0182 - val_acc: 0.9965\n",
      "Epoch 10/200\n",
      "52/52 [==============================] - 12s 229ms/step - loss: 0.0855 - binary_crossentropy: 0.0275 - acc: 0.9937 - val_loss: 0.0718 - val_binary_crossentropy: 0.0152 - val_acc: 0.9960\n",
      "Epoch 11/200\n",
      "52/52 [==============================] - 12s 229ms/step - loss: 0.0796 - binary_crossentropy: 0.0243 - acc: 0.9956 - val_loss: 0.0699 - val_binary_crossentropy: 0.0158 - val_acc: 0.9957\n",
      "Epoch 12/200\n",
      "52/52 [==============================] - 12s 228ms/step - loss: 0.0775 - binary_crossentropy: 0.0247 - acc: 0.9946 - val_loss: 0.0636 - val_binary_crossentropy: 0.0121 - val_acc: 0.9973\n",
      "Epoch 13/200\n",
      "52/52 [==============================] - 12s 229ms/step - loss: 0.0696 - binary_crossentropy: 0.0191 - acc: 0.9966 - val_loss: 0.0632 - val_binary_crossentropy: 0.0137 - val_acc: 0.9972\n",
      "Epoch 14/200\n",
      "52/52 [==============================] - 12s 230ms/step - loss: 0.0671 - binary_crossentropy: 0.0187 - acc: 0.9963 - val_loss: 0.0660 - val_binary_crossentropy: 0.0186 - val_acc: 0.9957\n",
      "Epoch 15/200\n",
      "52/52 [==============================] - 12s 229ms/step - loss: 0.0660 - binary_crossentropy: 0.0196 - acc: 0.9966 - val_loss: 0.0589 - val_binary_crossentropy: 0.0134 - val_acc: 0.9972\n",
      "Epoch 16/200\n",
      "52/52 [==============================] - 12s 229ms/step - loss: 0.0599 - binary_crossentropy: 0.0153 - acc: 0.9971 - val_loss: 0.0637 - val_binary_crossentropy: 0.0198 - val_acc: 0.9955\n",
      "Epoch 17/200\n",
      "52/52 [==============================] - 12s 228ms/step - loss: 0.0568 - binary_crossentropy: 0.0135 - acc: 0.9978 - val_loss: 0.0527 - val_binary_crossentropy: 0.0101 - val_acc: 0.9973\n",
      "Epoch 18/200\n",
      "52/52 [==============================] - 12s 231ms/step - loss: 0.0558 - binary_crossentropy: 0.0142 - acc: 0.9969 - val_loss: 0.0507 - val_binary_crossentropy: 0.0099 - val_acc: 0.9978\n",
      "Epoch 19/200\n",
      "52/52 [==============================] - 12s 228ms/step - loss: 0.0523 - binary_crossentropy: 0.0121 - acc: 0.9980 - val_loss: 0.0524 - val_binary_crossentropy: 0.0128 - val_acc: 0.9972\n",
      "Epoch 20/200\n",
      "52/52 [==============================] - 12s 229ms/step - loss: 0.0531 - binary_crossentropy: 0.0141 - acc: 0.9971 - val_loss: 0.0494 - val_binary_crossentropy: 0.0112 - val_acc: 0.9978\n",
      "Epoch 21/200\n",
      "52/52 [==============================] - 12s 229ms/step - loss: 0.0528 - binary_crossentropy: 0.0152 - acc: 0.9974 - val_loss: 0.0456 - val_binary_crossentropy: 0.0086 - val_acc: 0.9977\n",
      "Epoch 22/200\n",
      "52/52 [==============================] - 12s 230ms/step - loss: 0.0511 - binary_crossentropy: 0.0146 - acc: 0.9972 - val_loss: 0.0481 - val_binary_crossentropy: 0.0121 - val_acc: 0.9975\n",
      "Epoch 23/200\n",
      "52/52 [==============================] - 12s 231ms/step - loss: 0.0476 - binary_crossentropy: 0.0120 - acc: 0.9975 - val_loss: 0.0494 - val_binary_crossentropy: 0.0143 - val_acc: 0.9962\n",
      "Epoch 24/200\n",
      "52/52 [==============================] - 12s 231ms/step - loss: 0.0457 - binary_crossentropy: 0.0110 - acc: 0.9977 - val_loss: 0.0414 - val_binary_crossentropy: 0.0072 - val_acc: 0.9978\n",
      "Epoch 25/200\n",
      "52/52 [==============================] - 12s 231ms/step - loss: 0.0456 - binary_crossentropy: 0.0118 - acc: 0.9979 - val_loss: 0.0388 - val_binary_crossentropy: 0.0055 - val_acc: 0.9985\n",
      "Epoch 26/200\n",
      "52/52 [==============================] - 12s 231ms/step - loss: 0.0439 - binary_crossentropy: 0.0110 - acc: 0.9983 - val_loss: 0.0405 - val_binary_crossentropy: 0.0080 - val_acc: 0.9980\n",
      "Epoch 27/200\n",
      "52/52 [==============================] - 12s 231ms/step - loss: 0.0434 - binary_crossentropy: 0.0112 - acc: 0.9981 - val_loss: 0.0416 - val_binary_crossentropy: 0.0098 - val_acc: 0.9970\n",
      "Epoch 28/200\n",
      "52/52 [==============================] - 12s 233ms/step - loss: 0.0413 - binary_crossentropy: 0.0099 - acc: 0.9979 - val_loss: 0.0440 - val_binary_crossentropy: 0.0130 - val_acc: 0.9967\n",
      "Epoch 29/200\n",
      "52/52 [==============================] - 12s 230ms/step - loss: 0.0395 - binary_crossentropy: 0.0088 - acc: 0.9984 - val_loss: 0.0380 - val_binary_crossentropy: 0.0076 - val_acc: 0.9978\n",
      "Epoch 30/200\n",
      "52/52 [==============================] - 12s 232ms/step - loss: 0.0412 - binary_crossentropy: 0.0112 - acc: 0.9979 - val_loss: 0.0364 - val_binary_crossentropy: 0.0069 - val_acc: 0.9968\n",
      "Epoch 31/200\n",
      "52/52 [==============================] - 12s 231ms/step - loss: 0.0401 - binary_crossentropy: 0.0110 - acc: 0.9976 - val_loss: 0.0362 - val_binary_crossentropy: 0.0073 - val_acc: 0.9982\n",
      "Epoch 32/200\n",
      "52/52 [==============================] - 12s 231ms/step - loss: 0.0380 - binary_crossentropy: 0.0094 - acc: 0.9983 - val_loss: 0.0367 - val_binary_crossentropy: 0.0083 - val_acc: 0.9975\n",
      "Epoch 33/200\n",
      "52/52 [==============================] - 12s 232ms/step - loss: 0.0370 - binary_crossentropy: 0.0088 - acc: 0.9984 - val_loss: 0.0419 - val_binary_crossentropy: 0.0141 - val_acc: 0.9967\n"
     ]
    },
    {
     "name": "stdout",
     "output_type": "stream",
     "text": [
      "Epoch 34/200\n",
      "52/52 [==============================] - 12s 229ms/step - loss: 0.0363 - binary_crossentropy: 0.0088 - acc: 0.9989 - val_loss: 0.0333 - val_binary_crossentropy: 0.0061 - val_acc: 0.9980\n",
      "Epoch 35/200\n",
      "52/52 [==============================] - 12s 230ms/step - loss: 0.0356 - binary_crossentropy: 0.0086 - acc: 0.9983 - val_loss: 0.0315 - val_binary_crossentropy: 0.0049 - val_acc: 0.9992\n",
      "Epoch 36/200\n",
      "52/52 [==============================] - 12s 232ms/step - loss: 0.0361 - binary_crossentropy: 0.0097 - acc: 0.9984 - val_loss: 0.0347 - val_binary_crossentropy: 0.0086 - val_acc: 0.9970\n",
      "Epoch 37/200\n",
      "52/52 [==============================] - 12s 229ms/step - loss: 0.0342 - binary_crossentropy: 0.0082 - acc: 0.9986 - val_loss: 0.0341 - val_binary_crossentropy: 0.0084 - val_acc: 0.9972\n",
      "Epoch 38/200\n",
      "52/52 [==============================] - 12s 231ms/step - loss: 0.0335 - binary_crossentropy: 0.0079 - acc: 0.9987 - val_loss: 0.0373 - val_binary_crossentropy: 0.0118 - val_acc: 0.9978\n",
      "Epoch 39/200\n",
      "52/52 [==============================] - 12s 230ms/step - loss: 0.0324 - binary_crossentropy: 0.0071 - acc: 0.9987 - val_loss: 0.0375 - val_binary_crossentropy: 0.0124 - val_acc: 0.9975\n",
      "Epoch 40/200\n",
      "52/52 [==============================] - 12s 229ms/step - loss: 0.0310 - binary_crossentropy: 0.0062 - acc: 0.9988 - val_loss: 0.0353 - val_binary_crossentropy: 0.0108 - val_acc: 0.9970\n",
      "Epoch 41/200\n",
      "52/52 [==============================] - 12s 230ms/step - loss: 0.0305 - binary_crossentropy: 0.0062 - acc: 0.9989 - val_loss: 0.0348 - val_binary_crossentropy: 0.0107 - val_acc: 0.9973\n",
      "Epoch 42/200\n",
      "52/52 [==============================] - 12s 229ms/step - loss: 0.0316 - binary_crossentropy: 0.0079 - acc: 0.9987 - val_loss: 0.0298 - val_binary_crossentropy: 0.0065 - val_acc: 0.9987\n",
      "Epoch 43/200\n",
      "52/52 [==============================] - 12s 229ms/step - loss: 0.0299 - binary_crossentropy: 0.0068 - acc: 0.9987 - val_loss: 0.0275 - val_binary_crossentropy: 0.0045 - val_acc: 0.9985\n",
      "Epoch 44/200\n",
      "52/52 [==============================] - 12s 229ms/step - loss: 0.0305 - binary_crossentropy: 0.0076 - acc: 0.9983 - val_loss: 0.0302 - val_binary_crossentropy: 0.0075 - val_acc: 0.9980\n",
      "Epoch 45/200\n",
      "52/52 [==============================] - 12s 230ms/step - loss: 0.0272 - binary_crossentropy: 0.0046 - acc: 0.9989 - val_loss: 0.0263 - val_binary_crossentropy: 0.0039 - val_acc: 0.9988\n",
      "Epoch 46/200\n",
      "52/52 [==============================] - 12s 230ms/step - loss: 0.0291 - binary_crossentropy: 0.0070 - acc: 0.9987 - val_loss: 0.0302 - val_binary_crossentropy: 0.0082 - val_acc: 0.9977\n",
      "Epoch 47/200\n",
      "52/52 [==============================] - 12s 230ms/step - loss: 0.0289 - binary_crossentropy: 0.0071 - acc: 0.9988 - val_loss: 0.0311 - val_binary_crossentropy: 0.0094 - val_acc: 0.9978\n",
      "Epoch 48/200\n",
      "52/52 [==============================] - 12s 230ms/step - loss: 0.0291 - binary_crossentropy: 0.0077 - acc: 0.9986 - val_loss: 0.0244 - val_binary_crossentropy: 0.0032 - val_acc: 0.9990\n",
      "Epoch 49/200\n",
      "52/52 [==============================] - 12s 230ms/step - loss: 0.0275 - binary_crossentropy: 0.0064 - acc: 0.9991 - val_loss: 0.0305 - val_binary_crossentropy: 0.0097 - val_acc: 0.9973\n",
      "Epoch 50/200\n",
      "52/52 [==============================] - 12s 230ms/step - loss: 0.0283 - binary_crossentropy: 0.0076 - acc: 0.9987 - val_loss: 0.0277 - val_binary_crossentropy: 0.0072 - val_acc: 0.9978\n",
      "Epoch 51/200\n",
      "52/52 [==============================] - 12s 230ms/step - loss: 0.0260 - binary_crossentropy: 0.0057 - acc: 0.9992 - val_loss: 0.0243 - val_binary_crossentropy: 0.0041 - val_acc: 0.9990\n",
      "Epoch 52/200\n",
      "52/52 [==============================] - 12s 228ms/step - loss: 0.0252 - binary_crossentropy: 0.0052 - acc: 0.9993 - val_loss: 0.0250 - val_binary_crossentropy: 0.0053 - val_acc: 0.9985\n",
      "Epoch 53/200\n",
      "52/52 [==============================] - 12s 228ms/step - loss: 0.0247 - binary_crossentropy: 0.0050 - acc: 0.9991 - val_loss: 0.0284 - val_binary_crossentropy: 0.0088 - val_acc: 0.9967\n",
      "Epoch 54/200\n",
      "52/52 [==============================] - 12s 228ms/step - loss: 0.0251 - binary_crossentropy: 0.0056 - acc: 0.9991 - val_loss: 0.0245 - val_binary_crossentropy: 0.0053 - val_acc: 0.9985\n",
      "Epoch 55/200\n",
      "52/52 [==============================] - 12s 228ms/step - loss: 0.0259 - binary_crossentropy: 0.0070 - acc: 0.9986 - val_loss: 0.0272 - val_binary_crossentropy: 0.0085 - val_acc: 0.9977\n",
      "Epoch 56/200\n",
      "52/52 [==============================] - 12s 236ms/step - loss: 0.0242 - binary_crossentropy: 0.0055 - acc: 0.9991 - val_loss: 0.0233 - val_binary_crossentropy: 0.0047 - val_acc: 0.9987\n",
      "Epoch 57/200\n",
      "52/52 [==============================] - 12s 227ms/step - loss: 0.0252 - binary_crossentropy: 0.0068 - acc: 0.9986 - val_loss: 0.0240 - val_binary_crossentropy: 0.0058 - val_acc: 0.9983\n",
      "Epoch 58/200\n",
      "52/52 [==============================] - 12s 228ms/step - loss: 0.0249 - binary_crossentropy: 0.0067 - acc: 0.9988 - val_loss: 0.0250 - val_binary_crossentropy: 0.0069 - val_acc: 0.9980\n",
      "Epoch 59/200\n",
      "52/52 [==============================] - 12s 227ms/step - loss: 0.0228 - binary_crossentropy: 0.0048 - acc: 0.9993 - val_loss: 0.0243 - val_binary_crossentropy: 0.0065 - val_acc: 0.9978\n",
      "Epoch 60/200\n",
      "52/52 [==============================] - 12s 228ms/step - loss: 0.0228 - binary_crossentropy: 0.0052 - acc: 0.9991 - val_loss: 0.0276 - val_binary_crossentropy: 0.0101 - val_acc: 0.9975\n",
      "Epoch 61/200\n",
      "52/52 [==============================] - 12s 228ms/step - loss: 0.0219 - binary_crossentropy: 0.0045 - acc: 0.9993 - val_loss: 0.0255 - val_binary_crossentropy: 0.0083 - val_acc: 0.9978\n",
      "Epoch 62/200\n",
      "52/52 [==============================] - 12s 226ms/step - loss: 0.0212 - binary_crossentropy: 0.0040 - acc: 0.9993 - val_loss: 0.0280 - val_binary_crossentropy: 0.0110 - val_acc: 0.9975\n",
      "Epoch 63/200\n",
      "52/52 [==============================] - 12s 228ms/step - loss: 0.0219 - binary_crossentropy: 0.0051 - acc: 0.9991 - val_loss: 0.0209 - val_binary_crossentropy: 0.0042 - val_acc: 0.9987\n",
      "Epoch 64/200\n",
      "52/52 [==============================] - 12s 228ms/step - loss: 0.0205 - binary_crossentropy: 0.0040 - acc: 0.9995 - val_loss: 0.0241 - val_binary_crossentropy: 0.0078 - val_acc: 0.9980\n",
      "Epoch 65/200\n",
      "52/52 [==============================] - 12s 228ms/step - loss: 0.0217 - binary_crossentropy: 0.0056 - acc: 0.9992 - val_loss: 0.0274 - val_binary_crossentropy: 0.0113 - val_acc: 0.9972\n",
      "Epoch 66/200\n",
      "52/52 [==============================] - 12s 227ms/step - loss: 0.0202 - binary_crossentropy: 0.0042 - acc: 0.9992 - val_loss: 0.0239 - val_binary_crossentropy: 0.0080 - val_acc: 0.9977\n",
      "Epoch 67/200\n",
      "52/52 [==============================] - 12s 227ms/step - loss: 0.0205 - binary_crossentropy: 0.0047 - acc: 0.9995 - val_loss: 0.0254 - val_binary_crossentropy: 0.0099 - val_acc: 0.9975\n",
      "Epoch 68/200\n",
      "52/52 [==============================] - 12s 229ms/step - loss: 0.0205 - binary_crossentropy: 0.0051 - acc: 0.9990 - val_loss: 0.0248 - val_binary_crossentropy: 0.0094 - val_acc: 0.9983\n",
      "Epoch 69/200\n",
      "52/52 [==============================] - 12s 227ms/step - loss: 0.0191 - binary_crossentropy: 0.0038 - acc: 0.9994 - val_loss: 0.0195 - val_binary_crossentropy: 0.0043 - val_acc: 0.9988\n",
      "Epoch 70/200\n",
      "52/52 [==============================] - 12s 228ms/step - loss: 0.0189 - binary_crossentropy: 0.0039 - acc: 0.9993 - val_loss: 0.0232 - val_binary_crossentropy: 0.0083 - val_acc: 0.9977\n",
      "Epoch 71/200\n",
      "52/52 [==============================] - 12s 229ms/step - loss: 0.0182 - binary_crossentropy: 0.0035 - acc: 0.9994 - val_loss: 0.0198 - val_binary_crossentropy: 0.0052 - val_acc: 0.9987\n",
      "Epoch 72/200\n",
      "52/52 [==============================] - 12s 228ms/step - loss: 0.0191 - binary_crossentropy: 0.0046 - acc: 0.9993 - val_loss: 0.0222 - val_binary_crossentropy: 0.0078 - val_acc: 0.9980\n",
      "Epoch 73/200\n",
      "52/52 [==============================] - 12s 227ms/step - loss: 0.0181 - binary_crossentropy: 0.0039 - acc: 0.9995 - val_loss: 0.0187 - val_binary_crossentropy: 0.0046 - val_acc: 0.9988\n",
      "Epoch 74/200\n",
      "52/52 [==============================] - 12s 227ms/step - loss: 0.0177 - binary_crossentropy: 0.0036 - acc: 0.9996 - val_loss: 0.0167 - val_binary_crossentropy: 0.0028 - val_acc: 0.9988\n",
      "Epoch 75/200\n"
     ]
    },
    {
     "name": "stdout",
     "output_type": "stream",
     "text": [
      "52/52 [==============================] - 12s 227ms/step - loss: 0.0187 - binary_crossentropy: 0.0049 - acc: 0.9993 - val_loss: 0.0176 - val_binary_crossentropy: 0.0039 - val_acc: 0.9987\n",
      "Epoch 76/200\n",
      "52/52 [==============================] - 12s 228ms/step - loss: 0.0179 - binary_crossentropy: 0.0041 - acc: 0.9994 - val_loss: 0.0196 - val_binary_crossentropy: 0.0059 - val_acc: 0.9982\n",
      "Epoch 77/200\n",
      "52/52 [==============================] - 12s 236ms/step - loss: 0.0171 - binary_crossentropy: 0.0036 - acc: 0.9996 - val_loss: 0.0181 - val_binary_crossentropy: 0.0047 - val_acc: 0.9980\n",
      "Epoch 78/200\n",
      "52/52 [==============================] - 12s 231ms/step - loss: 0.0173 - binary_crossentropy: 0.0040 - acc: 0.9992 - val_loss: 0.0204 - val_binary_crossentropy: 0.0071 - val_acc: 0.9983\n",
      "Epoch 79/200\n",
      "52/52 [==============================] - 12s 230ms/step - loss: 0.0173 - binary_crossentropy: 0.0041 - acc: 0.9994 - val_loss: 0.0188 - val_binary_crossentropy: 0.0059 - val_acc: 0.9985\n",
      "Epoch 80/200\n",
      "52/52 [==============================] - 12s 231ms/step - loss: 0.0171 - binary_crossentropy: 0.0043 - acc: 0.9993 - val_loss: 0.0186 - val_binary_crossentropy: 0.0058 - val_acc: 0.9985\n",
      "Epoch 81/200\n",
      "52/52 [==============================] - 12s 230ms/step - loss: 0.0164 - binary_crossentropy: 0.0037 - acc: 0.9993 - val_loss: 0.0191 - val_binary_crossentropy: 0.0066 - val_acc: 0.9975\n",
      "Epoch 82/200\n",
      "52/52 [==============================] - 12s 230ms/step - loss: 0.0159 - binary_crossentropy: 0.0034 - acc: 0.9996 - val_loss: 0.0240 - val_binary_crossentropy: 0.0116 - val_acc: 0.9972\n",
      "Epoch 83/200\n",
      "52/52 [==============================] - 12s 229ms/step - loss: 0.0160 - binary_crossentropy: 0.0036 - acc: 0.9994 - val_loss: 0.0170 - val_binary_crossentropy: 0.0047 - val_acc: 0.9988\n",
      "Epoch 84/200\n",
      "52/52 [==============================] - 12s 231ms/step - loss: 0.0150 - binary_crossentropy: 0.0029 - acc: 0.9996 - val_loss: 0.0194 - val_binary_crossentropy: 0.0075 - val_acc: 0.9982\n",
      "Epoch 85/200\n",
      "52/52 [==============================] - 12s 231ms/step - loss: 0.0171 - binary_crossentropy: 0.0052 - acc: 0.9991 - val_loss: 0.0174 - val_binary_crossentropy: 0.0056 - val_acc: 0.9987\n",
      "Epoch 86/200\n",
      "52/52 [==============================] - 12s 230ms/step - loss: 0.0154 - binary_crossentropy: 0.0035 - acc: 0.9996 - val_loss: 0.0159 - val_binary_crossentropy: 0.0042 - val_acc: 0.9980\n",
      "Epoch 87/200\n",
      "52/52 [==============================] - 12s 230ms/step - loss: 0.0165 - binary_crossentropy: 0.0049 - acc: 0.9992 - val_loss: 0.0176 - val_binary_crossentropy: 0.0060 - val_acc: 0.9987\n",
      "Epoch 88/200\n",
      "52/52 [==============================] - 12s 231ms/step - loss: 0.0154 - binary_crossentropy: 0.0038 - acc: 0.9995 - val_loss: 0.0180 - val_binary_crossentropy: 0.0064 - val_acc: 0.9982\n",
      "Epoch 89/200\n",
      "52/52 [==============================] - 12s 230ms/step - loss: 0.0154 - binary_crossentropy: 0.0039 - acc: 0.9992 - val_loss: 0.0184 - val_binary_crossentropy: 0.0070 - val_acc: 0.9978\n",
      "Epoch 90/200\n",
      "52/52 [==============================] - 12s 230ms/step - loss: 0.0148 - binary_crossentropy: 0.0035 - acc: 0.9995 - val_loss: 0.0186 - val_binary_crossentropy: 0.0075 - val_acc: 0.9980\n",
      "Epoch 91/200\n",
      "52/52 [==============================] - 12s 230ms/step - loss: 0.0141 - binary_crossentropy: 0.0029 - acc: 0.9996 - val_loss: 0.0225 - val_binary_crossentropy: 0.0113 - val_acc: 0.9977\n",
      "Epoch 92/200\n",
      "52/52 [==============================] - 12s 231ms/step - loss: 0.0162 - binary_crossentropy: 0.0051 - acc: 0.9989 - val_loss: 0.0194 - val_binary_crossentropy: 0.0084 - val_acc: 0.9967\n",
      "Epoch 93/200\n",
      "52/52 [==============================] - 12s 231ms/step - loss: 0.0134 - binary_crossentropy: 0.0024 - acc: 0.9998 - val_loss: 0.0189 - val_binary_crossentropy: 0.0080 - val_acc: 0.9977\n",
      "Epoch 94/200\n",
      "52/52 [==============================] - 12s 230ms/step - loss: 0.0152 - binary_crossentropy: 0.0046 - acc: 0.9993 - val_loss: 0.0143 - val_binary_crossentropy: 0.0038 - val_acc: 0.9988\n",
      "Epoch 95/200\n",
      "52/52 [==============================] - 12s 232ms/step - loss: 0.0136 - binary_crossentropy: 0.0031 - acc: 0.9995 - val_loss: 0.0176 - val_binary_crossentropy: 0.0071 - val_acc: 0.9982\n",
      "Epoch 96/200\n",
      "52/52 [==============================] - 12s 231ms/step - loss: 0.0139 - binary_crossentropy: 0.0035 - acc: 0.9995 - val_loss: 0.0155 - val_binary_crossentropy: 0.0053 - val_acc: 0.9982\n",
      "Epoch 97/200\n",
      "52/52 [==============================] - 12s 230ms/step - loss: 0.0127 - binary_crossentropy: 0.0025 - acc: 0.9995 - val_loss: 0.0191 - val_binary_crossentropy: 0.0090 - val_acc: 0.9977\n",
      "Epoch 98/200\n",
      "52/52 [==============================] - 12s 231ms/step - loss: 0.0129 - binary_crossentropy: 0.0030 - acc: 0.9996 - val_loss: 0.0147 - val_binary_crossentropy: 0.0049 - val_acc: 0.9985\n",
      "Epoch 99/200\n",
      "52/52 [==============================] - 12s 230ms/step - loss: 0.0135 - binary_crossentropy: 0.0037 - acc: 0.9994 - val_loss: 0.0159 - val_binary_crossentropy: 0.0061 - val_acc: 0.9983\n",
      "Epoch 100/200\n",
      "52/52 [==============================] - 12s 231ms/step - loss: 0.0127 - binary_crossentropy: 0.0029 - acc: 0.9995 - val_loss: 0.0152 - val_binary_crossentropy: 0.0056 - val_acc: 0.9987\n",
      "Epoch 101/200\n",
      "52/52 [==============================] - 12s 230ms/step - loss: 0.0135 - binary_crossentropy: 0.0038 - acc: 0.9992 - val_loss: 0.0152 - val_binary_crossentropy: 0.0056 - val_acc: 0.9982\n",
      "Epoch 102/200\n",
      "52/52 [==============================] - 12s 230ms/step - loss: 0.0120 - binary_crossentropy: 0.0025 - acc: 0.9996 - val_loss: 0.0147 - val_binary_crossentropy: 0.0053 - val_acc: 0.9988\n",
      "Epoch 103/200\n",
      "52/52 [==============================] - 12s 230ms/step - loss: 0.0127 - binary_crossentropy: 0.0032 - acc: 0.9992 - val_loss: 0.0200 - val_binary_crossentropy: 0.0106 - val_acc: 0.9978\n",
      "Epoch 104/200\n",
      "52/52 [==============================] - 12s 231ms/step - loss: 0.0127 - binary_crossentropy: 0.0033 - acc: 0.9995 - val_loss: 0.0209 - val_binary_crossentropy: 0.0116 - val_acc: 0.9967\n",
      "Epoch 105/200\n",
      "52/52 [==============================] - 12s 231ms/step - loss: 0.0120 - binary_crossentropy: 0.0027 - acc: 0.9996 - val_loss: 0.0132 - val_binary_crossentropy: 0.0040 - val_acc: 0.9990\n",
      "Epoch 106/200\n",
      "52/52 [==============================] - 12s 231ms/step - loss: 0.0122 - binary_crossentropy: 0.0030 - acc: 0.9996 - val_loss: 0.0196 - val_binary_crossentropy: 0.0106 - val_acc: 0.9972\n",
      "Epoch 107/200\n",
      "52/52 [==============================] - 12s 230ms/step - loss: 0.0113 - binary_crossentropy: 0.0023 - acc: 0.9997 - val_loss: 0.0149 - val_binary_crossentropy: 0.0061 - val_acc: 0.9983\n",
      "Epoch 108/200\n",
      "52/52 [==============================] - 12s 231ms/step - loss: 0.0126 - binary_crossentropy: 0.0038 - acc: 0.9991 - val_loss: 0.0138 - val_binary_crossentropy: 0.0049 - val_acc: 0.9987\n",
      "Epoch 109/200\n",
      "52/52 [==============================] - 12s 230ms/step - loss: 0.0114 - binary_crossentropy: 0.0026 - acc: 0.9997 - val_loss: 0.0128 - val_binary_crossentropy: 0.0041 - val_acc: 0.9983\n",
      "Epoch 110/200\n",
      "52/52 [==============================] - 12s 230ms/step - loss: 0.0103 - binary_crossentropy: 0.0017 - acc: 0.9999 - val_loss: 0.0166 - val_binary_crossentropy: 0.0081 - val_acc: 0.9977\n",
      "Epoch 111/200\n",
      "52/52 [==============================] - 12s 231ms/step - loss: 0.0121 - binary_crossentropy: 0.0036 - acc: 0.9992 - val_loss: 0.0143 - val_binary_crossentropy: 0.0057 - val_acc: 0.9985\n",
      "Epoch 112/200\n",
      "52/52 [==============================] - 12s 231ms/step - loss: 0.0115 - binary_crossentropy: 0.0028 - acc: 0.9996 - val_loss: 0.0135 - val_binary_crossentropy: 0.0050 - val_acc: 0.9983\n",
      "Epoch 113/200\n",
      "52/52 [==============================] - 12s 230ms/step - loss: 0.0103 - binary_crossentropy: 0.0019 - acc: 0.9998 - val_loss: 0.0118 - val_binary_crossentropy: 0.0035 - val_acc: 0.9988\n",
      "Epoch 114/200\n",
      "52/52 [==============================] - 12s 231ms/step - loss: 0.0101 - binary_crossentropy: 0.0019 - acc: 0.9998 - val_loss: 0.0163 - val_binary_crossentropy: 0.0081 - val_acc: 0.9978\n",
      "Epoch 115/200\n",
      "52/52 [==============================] - 12s 230ms/step - loss: 0.0108 - binary_crossentropy: 0.0026 - acc: 0.9996 - val_loss: 0.0101 - val_binary_crossentropy: 0.0021 - val_acc: 0.9992\n",
      "Epoch 116/200\n"
     ]
    },
    {
     "name": "stdout",
     "output_type": "stream",
     "text": [
      "52/52 [==============================] - 12s 229ms/step - loss: 0.0108 - binary_crossentropy: 0.0029 - acc: 0.9993 - val_loss: 0.0166 - val_binary_crossentropy: 0.0088 - val_acc: 0.9982\n",
      "Epoch 117/200\n",
      "52/52 [==============================] - 12s 230ms/step - loss: 0.0111 - binary_crossentropy: 0.0031 - acc: 0.9996 - val_loss: 0.0126 - val_binary_crossentropy: 0.0047 - val_acc: 0.9980\n",
      "Epoch 118/200\n",
      "52/52 [==============================] - 12s 230ms/step - loss: 0.0110 - binary_crossentropy: 0.0032 - acc: 0.9996 - val_loss: 0.0148 - val_binary_crossentropy: 0.0071 - val_acc: 0.9983\n",
      "Epoch 119/200\n",
      "52/52 [==============================] - 12s 229ms/step - loss: 0.0105 - binary_crossentropy: 0.0028 - acc: 0.9997 - val_loss: 0.0128 - val_binary_crossentropy: 0.0051 - val_acc: 0.9980\n",
      "Epoch 120/200\n",
      "52/52 [==============================] - 12s 230ms/step - loss: 0.0110 - binary_crossentropy: 0.0033 - acc: 0.9995 - val_loss: 0.0138 - val_binary_crossentropy: 0.0062 - val_acc: 0.9978\n",
      "Epoch 121/200\n",
      "52/52 [==============================] - 12s 229ms/step - loss: 0.0101 - binary_crossentropy: 0.0024 - acc: 0.9995 - val_loss: 0.0160 - val_binary_crossentropy: 0.0083 - val_acc: 0.9983\n",
      "Epoch 122/200\n",
      "52/52 [==============================] - 12s 230ms/step - loss: 0.0113 - binary_crossentropy: 0.0037 - acc: 0.9995 - val_loss: 0.0144 - val_binary_crossentropy: 0.0068 - val_acc: 0.9977\n",
      "Epoch 123/200\n",
      "52/52 [==============================] - 12s 230ms/step - loss: 0.0103 - binary_crossentropy: 0.0028 - acc: 0.9995 - val_loss: 0.0143 - val_binary_crossentropy: 0.0069 - val_acc: 0.9980\n",
      "Epoch 124/200\n",
      "52/52 [==============================] - 12s 230ms/step - loss: 0.0101 - binary_crossentropy: 0.0026 - acc: 0.9995 - val_loss: 0.0118 - val_binary_crossentropy: 0.0044 - val_acc: 0.9987\n",
      "Epoch 125/200\n",
      "52/52 [==============================] - 12s 230ms/step - loss: 0.0098 - binary_crossentropy: 0.0024 - acc: 0.9998 - val_loss: 0.0152 - val_binary_crossentropy: 0.0079 - val_acc: 0.9983\n",
      "Epoch 126/200\n",
      "52/52 [==============================] - 12s 230ms/step - loss: 0.0107 - binary_crossentropy: 0.0034 - acc: 0.9993 - val_loss: 0.0178 - val_binary_crossentropy: 0.0103 - val_acc: 0.9978\n",
      "Epoch 127/200\n",
      "52/52 [==============================] - 12s 229ms/step - loss: 0.0104 - binary_crossentropy: 0.0031 - acc: 0.9994 - val_loss: 0.0148 - val_binary_crossentropy: 0.0076 - val_acc: 0.9978\n",
      "Epoch 128/200\n",
      "52/52 [==============================] - 12s 229ms/step - loss: 0.0092 - binary_crossentropy: 0.0019 - acc: 0.9997 - val_loss: 0.0123 - val_binary_crossentropy: 0.0052 - val_acc: 0.9983\n",
      "Epoch 129/200\n",
      "52/52 [==============================] - 12s 232ms/step - loss: 0.0099 - binary_crossentropy: 0.0027 - acc: 0.9995 - val_loss: 0.0093 - val_binary_crossentropy: 0.0021 - val_acc: 0.9993\n",
      "Epoch 130/200\n",
      "52/52 [==============================] - 13s 249ms/step - loss: 0.0089 - binary_crossentropy: 0.0019 - acc: 0.9997 - val_loss: 0.0146 - val_binary_crossentropy: 0.0077 - val_acc: 0.9977\n",
      "Epoch 131/200\n",
      "52/52 [==============================] - 12s 230ms/step - loss: 0.0091 - binary_crossentropy: 0.0023 - acc: 0.9996 - val_loss: 0.0128 - val_binary_crossentropy: 0.0061 - val_acc: 0.9987\n",
      "Epoch 132/200\n",
      "52/52 [==============================] - 12s 231ms/step - loss: 0.0090 - binary_crossentropy: 0.0023 - acc: 0.9994 - val_loss: 0.0130 - val_binary_crossentropy: 0.0063 - val_acc: 0.9983\n",
      "Epoch 133/200\n",
      "52/52 [==============================] - 12s 231ms/step - loss: 0.0105 - binary_crossentropy: 0.0037 - acc: 0.9993 - val_loss: 0.0114 - val_binary_crossentropy: 0.0046 - val_acc: 0.9985\n",
      "Epoch 134/200\n",
      "52/52 [==============================] - 12s 232ms/step - loss: 0.0089 - binary_crossentropy: 0.0020 - acc: 0.9999 - val_loss: 0.0111 - val_binary_crossentropy: 0.0043 - val_acc: 0.9988\n",
      "Epoch 135/200\n",
      "52/52 [==============================] - 12s 231ms/step - loss: 0.0080 - binary_crossentropy: 0.0014 - acc: 0.9998 - val_loss: 0.0127 - val_binary_crossentropy: 0.0062 - val_acc: 0.9983\n",
      "Epoch 136/200\n",
      "52/52 [==============================] - 12s 231ms/step - loss: 0.0095 - binary_crossentropy: 0.0031 - acc: 0.9996 - val_loss: 0.0112 - val_binary_crossentropy: 0.0048 - val_acc: 0.9985\n",
      "Epoch 137/200\n",
      "52/52 [==============================] - 12s 231ms/step - loss: 0.0086 - binary_crossentropy: 0.0022 - acc: 0.9997 - val_loss: 0.0130 - val_binary_crossentropy: 0.0066 - val_acc: 0.9980\n",
      "Epoch 138/200\n",
      "52/52 [==============================] - 12s 232ms/step - loss: 0.0090 - binary_crossentropy: 0.0025 - acc: 0.9993 - val_loss: 0.0100 - val_binary_crossentropy: 0.0034 - val_acc: 0.9987\n",
      "Epoch 139/200\n",
      "52/52 [==============================] - 12s 231ms/step - loss: 0.0081 - binary_crossentropy: 0.0015 - acc: 0.9998 - val_loss: 0.0111 - val_binary_crossentropy: 0.0046 - val_acc: 0.9985\n",
      "Epoch 140/200\n",
      "52/52 [==============================] - 12s 236ms/step - loss: 0.0083 - binary_crossentropy: 0.0019 - acc: 0.9998 - val_loss: 0.0117 - val_binary_crossentropy: 0.0054 - val_acc: 0.9983\n",
      "Epoch 141/200\n",
      "52/52 [==============================] - 12s 231ms/step - loss: 0.0076 - binary_crossentropy: 0.0014 - acc: 0.9998 - val_loss: 0.0190 - val_binary_crossentropy: 0.0129 - val_acc: 0.9973\n",
      "Epoch 142/200\n",
      "52/52 [==============================] - 12s 233ms/step - loss: 0.0096 - binary_crossentropy: 0.0035 - acc: 0.9994 - val_loss: 0.0155 - val_binary_crossentropy: 0.0094 - val_acc: 0.9977\n",
      "Epoch 143/200\n",
      "52/52 [==============================] - 12s 232ms/step - loss: 0.0084 - binary_crossentropy: 0.0023 - acc: 0.9996 - val_loss: 0.0156 - val_binary_crossentropy: 0.0095 - val_acc: 0.9977\n",
      "Epoch 144/200\n",
      "52/52 [==============================] - 12s 231ms/step - loss: 0.0083 - binary_crossentropy: 0.0022 - acc: 0.9995 - val_loss: 0.0110 - val_binary_crossentropy: 0.0048 - val_acc: 0.9985\n",
      "Epoch 145/200\n",
      "52/52 [==============================] - 12s 233ms/step - loss: 0.0083 - binary_crossentropy: 0.0023 - acc: 0.9996 - val_loss: 0.0123 - val_binary_crossentropy: 0.0063 - val_acc: 0.9980\n",
      "Epoch 146/200\n",
      "52/52 [==============================] - 12s 234ms/step - loss: 0.0083 - binary_crossentropy: 0.0024 - acc: 0.9997 - val_loss: 0.0148 - val_binary_crossentropy: 0.0090 - val_acc: 0.9975\n",
      "Epoch 147/200\n",
      "52/52 [==============================] - 12s 231ms/step - loss: 0.0081 - binary_crossentropy: 0.0023 - acc: 0.9996 - val_loss: 0.0109 - val_binary_crossentropy: 0.0051 - val_acc: 0.9987\n",
      "Epoch 148/200\n",
      "52/52 [==============================] - 12s 232ms/step - loss: 0.0086 - binary_crossentropy: 0.0027 - acc: 0.9994 - val_loss: 0.0136 - val_binary_crossentropy: 0.0077 - val_acc: 0.9980\n",
      "Epoch 149/200\n",
      "52/52 [==============================] - 12s 231ms/step - loss: 0.0082 - binary_crossentropy: 0.0022 - acc: 0.9996 - val_loss: 0.0152 - val_binary_crossentropy: 0.0093 - val_acc: 0.9978\n",
      "Epoch 150/200\n",
      "52/52 [==============================] - 12s 231ms/step - loss: 0.0074 - binary_crossentropy: 0.0016 - acc: 0.9998 - val_loss: 0.0151 - val_binary_crossentropy: 0.0093 - val_acc: 0.9980\n",
      "Epoch 151/200\n",
      "52/52 [==============================] - 12s 231ms/step - loss: 0.0077 - binary_crossentropy: 0.0019 - acc: 0.9998 - val_loss: 0.0107 - val_binary_crossentropy: 0.0049 - val_acc: 0.9987\n",
      "Epoch 152/200\n",
      "52/52 [==============================] - 12s 231ms/step - loss: 0.0077 - binary_crossentropy: 0.0020 - acc: 0.9996 - val_loss: 0.0118 - val_binary_crossentropy: 0.0061 - val_acc: 0.9980\n",
      "Epoch 153/200\n",
      "52/52 [==============================] - 12s 230ms/step - loss: 0.0082 - binary_crossentropy: 0.0026 - acc: 0.9996 - val_loss: 0.0085 - val_binary_crossentropy: 0.0029 - val_acc: 0.9987\n",
      "Epoch 154/200\n",
      "52/52 [==============================] - 12s 231ms/step - loss: 0.0082 - binary_crossentropy: 0.0026 - acc: 0.9996 - val_loss: 0.0086 - val_binary_crossentropy: 0.0029 - val_acc: 0.9990\n",
      "Epoch 155/200\n",
      "52/52 [==============================] - 12s 231ms/step - loss: 0.0073 - binary_crossentropy: 0.0016 - acc: 0.9997 - val_loss: 0.0099 - val_binary_crossentropy: 0.0043 - val_acc: 0.9990\n",
      "Epoch 156/200\n",
      "52/52 [==============================] - 12s 231ms/step - loss: 0.0083 - binary_crossentropy: 0.0028 - acc: 0.9995 - val_loss: 0.0113 - val_binary_crossentropy: 0.0058 - val_acc: 0.9987\n",
      "Epoch 157/200\n"
     ]
    },
    {
     "name": "stdout",
     "output_type": "stream",
     "text": [
      "52/52 [==============================] - 12s 229ms/step - loss: 0.0078 - binary_crossentropy: 0.0023 - acc: 0.9995 - val_loss: 0.0179 - val_binary_crossentropy: 0.0124 - val_acc: 0.9975\n",
      "Epoch 158/200\n",
      "52/52 [==============================] - 12s 230ms/step - loss: 0.0080 - binary_crossentropy: 0.0025 - acc: 0.9996 - val_loss: 0.0087 - val_binary_crossentropy: 0.0032 - val_acc: 0.9988\n",
      "Epoch 159/200\n",
      "52/52 [==============================] - 12s 229ms/step - loss: 0.0069 - binary_crossentropy: 0.0015 - acc: 0.9999 - val_loss: 0.0110 - val_binary_crossentropy: 0.0057 - val_acc: 0.9982\n",
      "Epoch 160/200\n",
      "52/52 [==============================] - 12s 230ms/step - loss: 0.0069 - binary_crossentropy: 0.0016 - acc: 0.9998 - val_loss: 0.0096 - val_binary_crossentropy: 0.0043 - val_acc: 0.9988\n",
      "Epoch 161/200\n",
      "52/52 [==============================] - 12s 238ms/step - loss: 0.0075 - binary_crossentropy: 0.0021 - acc: 0.9996 - val_loss: 0.0119 - val_binary_crossentropy: 0.0065 - val_acc: 0.9985\n",
      "Epoch 162/200\n",
      "52/52 [==============================] - 12s 228ms/step - loss: 0.0083 - binary_crossentropy: 0.0028 - acc: 0.9995 - val_loss: 0.0094 - val_binary_crossentropy: 0.0040 - val_acc: 0.9987\n",
      "Epoch 163/200\n",
      "52/52 [==============================] - 12s 230ms/step - loss: 0.0070 - binary_crossentropy: 0.0016 - acc: 0.9997 - val_loss: 0.0108 - val_binary_crossentropy: 0.0054 - val_acc: 0.9985\n",
      "Epoch 164/200\n",
      "52/52 [==============================] - 12s 230ms/step - loss: 0.0077 - binary_crossentropy: 0.0023 - acc: 0.9996 - val_loss: 0.0103 - val_binary_crossentropy: 0.0051 - val_acc: 0.9988\n",
      "Epoch 165/200\n",
      "52/52 [==============================] - 12s 240ms/step - loss: 0.0075 - binary_crossentropy: 0.0022 - acc: 0.9996 - val_loss: 0.0103 - val_binary_crossentropy: 0.0049 - val_acc: 0.9985\n",
      "Epoch 166/200\n",
      "52/52 [==============================] - 12s 231ms/step - loss: 0.0076 - binary_crossentropy: 0.0024 - acc: 0.9996 - val_loss: 0.0112 - val_binary_crossentropy: 0.0060 - val_acc: 0.9985\n",
      "Epoch 167/200\n",
      "52/52 [==============================] - 12s 232ms/step - loss: 0.0070 - binary_crossentropy: 0.0018 - acc: 0.9999 - val_loss: 0.0081 - val_binary_crossentropy: 0.0031 - val_acc: 0.9992\n",
      "Epoch 168/200\n",
      "52/52 [==============================] - 12s 231ms/step - loss: 0.0070 - binary_crossentropy: 0.0020 - acc: 0.9997 - val_loss: 0.0171 - val_binary_crossentropy: 0.0120 - val_acc: 0.9977\n",
      "Epoch 169/200\n",
      "52/52 [==============================] - 12s 233ms/step - loss: 0.0074 - binary_crossentropy: 0.0023 - acc: 0.9996 - val_loss: 0.0072 - val_binary_crossentropy: 0.0021 - val_acc: 0.9995\n",
      "Epoch 170/200\n",
      "52/52 [==============================] - 12s 231ms/step - loss: 0.0067 - binary_crossentropy: 0.0017 - acc: 0.9998 - val_loss: 0.0083 - val_binary_crossentropy: 0.0034 - val_acc: 0.9990\n",
      "Epoch 171/200\n",
      "52/52 [==============================] - 12s 231ms/step - loss: 0.0072 - binary_crossentropy: 0.0022 - acc: 0.9996 - val_loss: 0.0076 - val_binary_crossentropy: 0.0027 - val_acc: 0.9992\n",
      "Epoch 172/200\n",
      "52/52 [==============================] - 12s 230ms/step - loss: 0.0065 - binary_crossentropy: 0.0016 - acc: 0.9997 - val_loss: 0.0097 - val_binary_crossentropy: 0.0048 - val_acc: 0.9987\n",
      "Epoch 173/200\n",
      "52/52 [==============================] - 12s 231ms/step - loss: 0.0065 - binary_crossentropy: 0.0015 - acc: 0.9996 - val_loss: 0.0122 - val_binary_crossentropy: 0.0072 - val_acc: 0.9987\n",
      "Epoch 174/200\n",
      "52/52 [==============================] - 12s 231ms/step - loss: 0.0067 - binary_crossentropy: 0.0018 - acc: 0.9995 - val_loss: 0.0120 - val_binary_crossentropy: 0.0071 - val_acc: 0.9978\n",
      "Epoch 175/200\n",
      "52/52 [==============================] - 12s 231ms/step - loss: 0.0076 - binary_crossentropy: 0.0027 - acc: 0.9996 - val_loss: 0.0107 - val_binary_crossentropy: 0.0058 - val_acc: 0.9982\n",
      "Epoch 176/200\n",
      "52/52 [==============================] - 12s 231ms/step - loss: 0.0062 - binary_crossentropy: 0.0014 - acc: 0.9998 - val_loss: 0.0108 - val_binary_crossentropy: 0.0061 - val_acc: 0.9983\n",
      "Epoch 177/200\n",
      "52/52 [==============================] - 12s 231ms/step - loss: 0.0068 - binary_crossentropy: 0.0020 - acc: 0.9996 - val_loss: 0.0102 - val_binary_crossentropy: 0.0054 - val_acc: 0.9980\n",
      "Epoch 178/200\n",
      "52/52 [==============================] - 12s 231ms/step - loss: 0.0070 - binary_crossentropy: 0.0020 - acc: 0.9996 - val_loss: 0.0088 - val_binary_crossentropy: 0.0039 - val_acc: 0.9990\n",
      "Epoch 179/200\n",
      "52/52 [==============================] - 12s 231ms/step - loss: 0.0067 - binary_crossentropy: 0.0018 - acc: 0.9996 - val_loss: 0.0095 - val_binary_crossentropy: 0.0047 - val_acc: 0.9987\n",
      "Epoch 180/200\n",
      "52/52 [==============================] - 13s 246ms/step - loss: 0.0067 - binary_crossentropy: 0.0018 - acc: 0.9998 - val_loss: 0.0117 - val_binary_crossentropy: 0.0069 - val_acc: 0.9980\n",
      "Epoch 181/200\n",
      "52/52 [==============================] - 12s 232ms/step - loss: 0.0061 - binary_crossentropy: 0.0012 - acc: 0.9999 - val_loss: 0.0111 - val_binary_crossentropy: 0.0062 - val_acc: 0.9987\n",
      "Epoch 182/200\n",
      "52/52 [==============================] - 12s 231ms/step - loss: 0.0069 - binary_crossentropy: 0.0022 - acc: 0.9997 - val_loss: 0.0109 - val_binary_crossentropy: 0.0062 - val_acc: 0.9983\n",
      "Epoch 183/200\n",
      "52/52 [==============================] - 12s 231ms/step - loss: 0.0068 - binary_crossentropy: 0.0022 - acc: 0.9997 - val_loss: 0.0109 - val_binary_crossentropy: 0.0063 - val_acc: 0.9987\n",
      "Epoch 184/200\n",
      "52/52 [==============================] - 12s 231ms/step - loss: 0.0060 - binary_crossentropy: 0.0013 - acc: 0.9999 - val_loss: 0.0100 - val_binary_crossentropy: 0.0054 - val_acc: 0.9987\n",
      "Epoch 185/200\n",
      "52/52 [==============================] - 12s 230ms/step - loss: 0.0058 - binary_crossentropy: 0.0013 - acc: 0.9999 - val_loss: 0.0175 - val_binary_crossentropy: 0.0130 - val_acc: 0.9975\n",
      "Epoch 186/200\n",
      "52/52 [==============================] - 12s 231ms/step - loss: 0.0067 - binary_crossentropy: 0.0022 - acc: 0.9996 - val_loss: 0.0094 - val_binary_crossentropy: 0.0050 - val_acc: 0.9983\n",
      "Epoch 187/200\n",
      "52/52 [==============================] - 12s 231ms/step - loss: 0.0064 - binary_crossentropy: 0.0018 - acc: 0.9997 - val_loss: 0.0092 - val_binary_crossentropy: 0.0045 - val_acc: 0.9985\n",
      "Epoch 188/200\n",
      "52/52 [==============================] - 12s 233ms/step - loss: 0.0061 - binary_crossentropy: 0.0015 - acc: 0.9996 - val_loss: 0.0102 - val_binary_crossentropy: 0.0057 - val_acc: 0.9978\n",
      "Epoch 189/200\n",
      "52/52 [==============================] - 12s 232ms/step - loss: 0.0058 - binary_crossentropy: 0.0012 - acc: 0.9999 - val_loss: 0.0106 - val_binary_crossentropy: 0.0060 - val_acc: 0.9980\n",
      "Epoch 190/200\n",
      "52/52 [==============================] - 12s 231ms/step - loss: 0.0075 - binary_crossentropy: 0.0030 - acc: 0.9995 - val_loss: 0.0106 - val_binary_crossentropy: 0.0060 - val_acc: 0.9985\n",
      "Epoch 191/200\n",
      "52/52 [==============================] - 12s 230ms/step - loss: 0.0061 - binary_crossentropy: 0.0016 - acc: 0.9998 - val_loss: 0.0093 - val_binary_crossentropy: 0.0049 - val_acc: 0.9987\n",
      "Epoch 192/200\n",
      "52/52 [==============================] - 12s 231ms/step - loss: 0.0056 - binary_crossentropy: 0.0012 - acc: 0.9998 - val_loss: 0.0096 - val_binary_crossentropy: 0.0053 - val_acc: 0.9988\n",
      "Epoch 193/200\n",
      "52/52 [==============================] - 12s 231ms/step - loss: 0.0060 - binary_crossentropy: 0.0017 - acc: 0.9997 - val_loss: 0.0113 - val_binary_crossentropy: 0.0069 - val_acc: 0.9982\n",
      "Epoch 194/200\n",
      "52/52 [==============================] - 12s 231ms/step - loss: 0.0053 - binary_crossentropy: 9.6253e-04 - acc: 0.9998 - val_loss: 0.0124 - val_binary_crossentropy: 0.0081 - val_acc: 0.9985\n",
      "Epoch 195/200\n",
      "52/52 [==============================] - 12s 230ms/step - loss: 0.0054 - binary_crossentropy: 0.0011 - acc: 0.9998 - val_loss: 0.0113 - val_binary_crossentropy: 0.0070 - val_acc: 0.9982\n",
      "Epoch 196/200\n",
      "52/52 [==============================] - 12s 230ms/step - loss: 0.0055 - binary_crossentropy: 0.0012 - acc: 0.9998 - val_loss: 0.0094 - val_binary_crossentropy: 0.0051 - val_acc: 0.9985\n",
      "Epoch 197/200\n",
      "52/52 [==============================] - 12s 231ms/step - loss: 0.0066 - binary_crossentropy: 0.0024 - acc: 0.9997 - val_loss: 0.0113 - val_binary_crossentropy: 0.0070 - val_acc: 0.9982\n",
      "Epoch 198/200\n"
     ]
    },
    {
     "name": "stdout",
     "output_type": "stream",
     "text": [
      "52/52 [==============================] - 12s 230ms/step - loss: 0.0054 - binary_crossentropy: 0.0011 - acc: 0.9998 - val_loss: 0.0074 - val_binary_crossentropy: 0.0031 - val_acc: 0.9990\n",
      "Epoch 199/200\n",
      "52/52 [==============================] - 12s 228ms/step - loss: 0.0058 - binary_crossentropy: 0.0016 - acc: 0.9997 - val_loss: 0.0113 - val_binary_crossentropy: 0.0073 - val_acc: 0.9980\n",
      "Epoch 200/200\n",
      "52/52 [==============================] - 12s 229ms/step - loss: 0.0052 - binary_crossentropy: 0.0011 - acc: 0.9999 - val_loss: 0.0077 - val_binary_crossentropy: 0.0036 - val_acc: 0.9990\n"
     ]
    }
   ],
   "source": [
    "train_gen = DataGenerator(tidf_cond_train, tidf_gen_train, tidf_label_train, 160, 160, )\n",
    "valid_gen = DataGenerator(tidf_cond_valid, tidf_gen_valid, tidf_label_valid, 1000, 1000)\n",
    "\n",
    "history = model.fit_generator(generator=train_gen,\n",
    "                             epochs = 200,\n",
    "#                              use_multiprocessing=True,\n",
    "#                               workers=3,\n",
    "                             validation_data=valid_gen,\n",
    "                             verbose=1)"
   ]
  },
  {
   "cell_type": "code",
   "execution_count": 21,
   "metadata": {},
   "outputs": [
    {
     "data": {
      "image/png": "[encoded data removed]",
      "text/plain": [
       "<Figure size 1440x720 with 2 Axes>"
      ]
     },
     "metadata": {
      "needs_background": "light"
     },
     "output_type": "display_data"
    }
   ],
   "source": [
    "import matplotlib.pyplot as plt\n",
    "fig, loss_ax = plt.subplots()\n",
    "fig.set_figheight(10)\n",
    "fig.set_figwidth(20)\n",
    "acc_ax = loss_ax.twinx()\n",
    "loss_ax.plot(history.history['loss'], 'y', label='train_loss')\n",
    "loss_ax.plot(history.history['val_loss'], 'r', label='val_loss')\n",
    "\n",
    "acc_ax.plot(history.history['acc'], 'b', label='train_acc')\n",
    "acc_ax.plot(history.history['val_acc'], 'g', label='val_acc')\n",
    "\n",
    "loss_ax.set_xlabel('epoch')\n",
    "loss_ax.set_ylabel('loss')\n",
    "acc_ax.set_ylabel('accuracy')\n",
    "loss_ax.legend(loc='upper left')\n",
    "acc_ax.legend(loc='lower left')\n",
    "\n",
    "plt.show()"
   ]
  },
  {
   "cell_type": "code",
   "execution_count": 231,
   "metadata": {},
   "outputs": [],
   "source": [
    "data_gen_train = pad_sequences(tidf_gen_train, maxlen=genvec_size, padding='pre')\n",
    "data_cond_train = pad_sequences(tidf_cond_train, maxlen=convec_size, padding='pre')\n",
    "data_gen_valid = pad_sequences(tidf_gen_valid, maxlen=genvec_size, padding='pre')\n",
    "data_cond_valid = pad_sequences(tidf_cond_valid, maxlen=convec_size, padding='pre')"
   ]
  },
  {
   "cell_type": "code",
   "execution_count": 232,
   "metadata": {},
   "outputs": [
    {
     "name": "stdout",
     "output_type": "stream",
     "text": [
      "177533/177533 [==============================] - 43s 244us/step\n",
      "59281/59281 [==============================] - 15s 249us/step\n"
     ]
    },
    {
     "data": {
      "text/plain": [
       "(0.999126922881943, 0.9987179703446298, '99.959%')"
      ]
     },
     "execution_count": 232,
     "metadata": {},
     "output_type": "execute_result"
    }
   ],
   "source": [
    "*_, train_acc = model.evaluate([data_cond_train, data_gen_train], tidf_label_train)\n",
    "*_, valid_acc = model.evaluate([data_cond_valid, data_gen_valid], tidf_label_valid)\n",
    "train_acc, valid_acc, '{:.3f}%'.format(valid_acc / train_acc * 100)"
   ]
  },
  {
   "cell_type": "code",
   "execution_count": 22,
   "metadata": {},
   "outputs": [],
   "source": [
    "data_gen_test = pad_sequences(tidf_gen_test, maxlen=genvec_size, padding='pre')\n",
    "data_cond_test = pad_sequences(tidf_cond_test, maxlen=convec_size, padding='pre')"
   ]
  },
  {
   "cell_type": "code",
   "execution_count": 23,
   "metadata": {},
   "outputs": [
    {
     "data": {
      "text/plain": [
       "[<matplotlib.lines.Line2D at 0x7f81f7553390>]"
      ]
     },
     "execution_count": 23,
     "metadata": {},
     "output_type": "execute_result"
    },
    {
     "data": {
      "image/png": "[encoded data removed]",
      "text/plain": [
       "<Figure size 1440x720 with 1 Axes>"
      ]
     },
     "metadata": {
      "needs_background": "light"
     },
     "output_type": "display_data"
    }
   ],
   "source": [
    "# 결과검증(overfit, underfit)\n",
    "pred_test = model.predict(x=[data_cond_test, data_gen_test], batch_size=160)\n",
    "gap = np.abs(tidf_label_test - pred_test.reshape([-1,]))\n",
    "\n",
    "plt.figure(figsize=(20,10))\n",
    "plt.plot(gap)"
   ]
  },
  {
   "cell_type": "code",
   "execution_count": 241,
   "metadata": {},
   "outputs": [
    {
     "name": "stdout",
     "output_type": "stream",
     "text": [
      "auc : 0.9999874891552156\n"
     ]
    },
    {
     "data": {
      "image/png": "[encoded data removed]",
      "text/plain": [
       "<Figure size 360x360 with 1 Axes>"
      ]
     },
     "metadata": {
      "needs_background": "light"
     },
     "output_type": "display_data"
    }
   ],
   "source": [
    "from sklearn.metrics import confusion_matrix, roc_curve\n",
    "from sklearn.metrics import auc\n",
    "from matplotlib import pyplot as plt\n",
    "\n",
    "fpr, tpr, thresholds = roc_curve(tidf_label_test, pred_test)\n",
    "print('auc :', auc(fpr,tpr))\n",
    "\n",
    "plt.figure(figsize=(5,5))\n",
    "plt.plot(fpr,tpr,'-')\n",
    "plt.plot([0,1],[0,1], 'k--')\n",
    "plt.show()"
   ]
  },
  {
   "cell_type": "code",
   "execution_count": null,
   "metadata": {},
   "outputs": [],
   "source": []
  },
  {
   "cell_type": "code",
   "execution_count": null,
   "metadata": {},
   "outputs": [],
   "source": []
  },
  {
   "cell_type": "code",
   "execution_count": null,
   "metadata": {},
   "outputs": [],
   "source": [
    "# 제출 준비"
   ]
  },
  {
   "cell_type": "code",
   "execution_count": 24,
   "metadata": {},
   "outputs": [],
   "source": [
    "submit_df = pd.read_csv('./data/public_test.csv')"
   ]
  },
  {
   "cell_type": "code",
   "execution_count": 25,
   "metadata": {},
   "outputs": [
    {
     "name": "stdout",
     "output_type": "stream",
     "text": [
      "2019-12-31 11:54:53.695749 0\n"
     ]
    }
   ],
   "source": [
    "unknowns = []\n",
    "\n",
    "idx = 0\n",
    "for idx, item in submit_df.iterrows():\n",
    "    splited = parse_sentence(item.text)\n",
    "    splited.append(item.id)\n",
    "    unknowns.append(splited)\n",
    "    if idx % 100000 == 0:\n",
    "        print(datetime.now(), idx)\n",
    "    idx += 1"
   ]
  },
  {
   "cell_type": "code",
   "execution_count": 26,
   "metadata": {},
   "outputs": [
    {
     "name": "stdout",
     "output_type": "stream",
     "text": [
      "size of vocab (conditioned, general): 17073 21749\n"
     ]
    }
   ],
   "source": [
    "# smishing cases; length of vocab when it's out of vocab\n",
    "submit_conditioned = []\n",
    "submit_general = []\n",
    "\n",
    "cond_vocabsize = len(conditioned_vocab)\n",
    "gen_vocabsize = len(general_vocab)\n",
    "\n",
    "print('size of vocab (conditioned, general):', cond_vocabsize, gen_vocabsize)\n",
    "for msg in unknowns:\n",
    "    submit_conditioned.append([conditioned_vocab.get(x) if x in conditioned_vocab else cond_vocabsize for row in msg[:-1] if row[1] == True for x in row[2]])\n",
    "    submit_general.append([general_vocab.get(x) if x in general_vocab else gen_vocabsize for row in msg[:-1] if row[1] == False for x in row[2]])\n"
   ]
  },
  {
   "cell_type": "code",
   "execution_count": 27,
   "metadata": {},
   "outputs": [],
   "source": [
    "data_submit_conditioned = pad_sequences(submit_conditioned, maxlen=convec_size, padding='pre')\n",
    "data_submit_general = pad_sequences(submit_general, maxlen=genvec_size, padding='pre')"
   ]
  },
  {
   "cell_type": "code",
   "execution_count": 28,
   "metadata": {},
   "outputs": [
    {
     "name": "stdout",
     "output_type": "stream",
     "text": [
      "1626/1626 [==============================] - 0s 103us/step\n"
     ]
    }
   ],
   "source": [
    "pred_y = model.predict(x=[data_submit_conditioned, data_submit_general], verbose=1)"
   ]
  },
  {
   "cell_type": "code",
   "execution_count": 29,
   "metadata": {},
   "outputs": [],
   "source": [
    "pred_y[pred_y > 1.0] = 1.0"
   ]
  },
  {
   "cell_type": "code",
   "execution_count": 30,
   "metadata": {},
   "outputs": [],
   "source": [
    "submit_df['smishing'] = np.abs(pred_y)"
   ]
  },
  {
   "cell_type": "code",
   "execution_count": 249,
   "metadata": {},
   "outputs": [],
   "source": [
    "submit_df[['id', 'smishing']].to_csv('./data/submission_20191230_0.96test.csv', index=False)"
   ]
  },
  {
   "cell_type": "code",
   "execution_count": null,
   "metadata": {},
   "outputs": [],
   "source": []
  },
  {
   "cell_type": "code",
   "execution_count": 31,
   "metadata": {},
   "outputs": [
    {
     "data": {
      "text/html": [
       "<div>\n",
       "<style scoped>\n",
       "    .dataframe tbody tr th:only-of-type {\n",
       "        vertical-align: middle;\n",
       "    }\n",
       "\n",
       "    .dataframe tbody tr th {\n",
       "        vertical-align: top;\n",
       "    }\n",
       "\n",
       "    .dataframe thead th {\n",
       "        text-align: right;\n",
       "    }\n",
       "</style>\n",
       "<table border=\"1\" class=\"dataframe\">\n",
       "  <thead>\n",
       "    <tr style=\"text-align: right;\">\n",
       "      <th></th>\n",
       "      <th>id</th>\n",
       "      <th>year_month</th>\n",
       "      <th>text</th>\n",
       "      <th>smishing</th>\n",
       "    </tr>\n",
       "  </thead>\n",
       "  <tbody>\n",
       "    <tr>\n",
       "      <th>0</th>\n",
       "      <td>340000</td>\n",
       "      <td>2019-01</td>\n",
       "      <td>XXX고객님! 안녕하세요? 새롭게 시작하는 한 주 행복 가득하시길 기원합니다. 지난...</td>\n",
       "      <td>0.000157</td>\n",
       "    </tr>\n",
       "    <tr>\n",
       "      <th>1</th>\n",
       "      <td>340001</td>\n",
       "      <td>2019-01</td>\n",
       "      <td>긴급 안내  XXX은행 가락동 지점  - 헬리오XXX 기본XXX    대출이자를 ...</td>\n",
       "      <td>0.002653</td>\n",
       "    </tr>\n",
       "    <tr>\n",
       "      <th>2</th>\n",
       "      <td>340002</td>\n",
       "      <td>2019-01</td>\n",
       "      <td>XXX 고객님 안녕하세요올해는 미세먼지가 유난인거 같습니다.엊그제 새해가 시작된거같...</td>\n",
       "      <td>0.000079</td>\n",
       "    </tr>\n",
       "    <tr>\n",
       "      <th>3</th>\n",
       "      <td>340003</td>\n",
       "      <td>2019-01</td>\n",
       "      <td>XXX 고객님찾아온 행운을 잡으셨나요? 못잡으셨다면 이번에 다시 잡으시길 기원합니다...</td>\n",
       "      <td>0.000092</td>\n",
       "    </tr>\n",
       "    <tr>\n",
       "      <th>4</th>\n",
       "      <td>340004</td>\n",
       "      <td>2019-01</td>\n",
       "      <td>XXX 고객님새해 복 많이 받으세요 XXX은행 코스트코 퇴직연금 담당자입니다.  고...</td>\n",
       "      <td>0.000183</td>\n",
       "    </tr>\n",
       "    <tr>\n",
       "      <th>...</th>\n",
       "      <td>...</td>\n",
       "      <td>...</td>\n",
       "      <td>...</td>\n",
       "      <td>...</td>\n",
       "    </tr>\n",
       "    <tr>\n",
       "      <th>1621</th>\n",
       "      <td>341621</td>\n",
       "      <td>2019-04</td>\n",
       "      <td>(광고)XXX 고객님안녕하십니까!!고객님의 소중한 업무처리를 도와드린 kb창원중앙동...</td>\n",
       "      <td>0.000162</td>\n",
       "    </tr>\n",
       "    <tr>\n",
       "      <th>1622</th>\n",
       "      <td>341622</td>\n",
       "      <td>2019-04</td>\n",
       "      <td>고객님 항상 저희 지점을 거래해 주셔서 감사합니다  본점 서비스 설문 전화 받으시면...</td>\n",
       "      <td>0.000090</td>\n",
       "    </tr>\n",
       "    <tr>\n",
       "      <th>1623</th>\n",
       "      <td>341623</td>\n",
       "      <td>2019-04</td>\n",
       "      <td>XXX 고객님 저희 XXX은행 XXX지점을 이용해주셔서 감사드립니다  이번주도 더 ...</td>\n",
       "      <td>0.000073</td>\n",
       "    </tr>\n",
       "    <tr>\n",
       "      <th>1624</th>\n",
       "      <td>341624</td>\n",
       "      <td>2019-04</td>\n",
       "      <td>(광고)알림 신청하면 매일 현금 100만원! XXX부동산 리브온지금 XXX부동산 리...</td>\n",
       "      <td>0.002719</td>\n",
       "    </tr>\n",
       "    <tr>\n",
       "      <th>1625</th>\n",
       "      <td>341625</td>\n",
       "      <td>2019-04</td>\n",
       "      <td>(광고) XXX 고객님 안녕하세요.XXX봉XXX점 XXX대리입니다. 군인연금수급권자...</td>\n",
       "      <td>0.001275</td>\n",
       "    </tr>\n",
       "  </tbody>\n",
       "</table>\n",
       "<p>1626 rows × 4 columns</p>\n",
       "</div>"
      ],
      "text/plain": [
       "          id year_month                                               text  \\\n",
       "0     340000    2019-01  XXX고객님! 안녕하세요? 새롭게 시작하는 한 주 행복 가득하시길 기원합니다. 지난...   \n",
       "1     340001    2019-01   긴급 안내  XXX은행 가락동 지점  - 헬리오XXX 기본XXX    대출이자를 ...   \n",
       "2     340002    2019-01  XXX 고객님 안녕하세요올해는 미세먼지가 유난인거 같습니다.엊그제 새해가 시작된거같...   \n",
       "3     340003    2019-01  XXX 고객님찾아온 행운을 잡으셨나요? 못잡으셨다면 이번에 다시 잡으시길 기원합니다...   \n",
       "4     340004    2019-01  XXX 고객님새해 복 많이 받으세요 XXX은행 코스트코 퇴직연금 담당자입니다.  고...   \n",
       "...      ...        ...                                                ...   \n",
       "1621  341621    2019-04  (광고)XXX 고객님안녕하십니까!!고객님의 소중한 업무처리를 도와드린 kb창원중앙동...   \n",
       "1622  341622    2019-04  고객님 항상 저희 지점을 거래해 주셔서 감사합니다  본점 서비스 설문 전화 받으시면...   \n",
       "1623  341623    2019-04  XXX 고객님 저희 XXX은행 XXX지점을 이용해주셔서 감사드립니다  이번주도 더 ...   \n",
       "1624  341624    2019-04  (광고)알림 신청하면 매일 현금 100만원! XXX부동산 리브온지금 XXX부동산 리...   \n",
       "1625  341625    2019-04  (광고) XXX 고객님 안녕하세요.XXX봉XXX점 XXX대리입니다. 군인연금수급권자...   \n",
       "\n",
       "      smishing  \n",
       "0     0.000157  \n",
       "1     0.002653  \n",
       "2     0.000079  \n",
       "3     0.000092  \n",
       "4     0.000183  \n",
       "...        ...  \n",
       "1621  0.000162  \n",
       "1622  0.000090  \n",
       "1623  0.000073  \n",
       "1624  0.002719  \n",
       "1625  0.001275  \n",
       "\n",
       "[1626 rows x 4 columns]"
      ]
     },
     "execution_count": 31,
     "metadata": {},
     "output_type": "execute_result"
    }
   ],
   "source": [
    "submit_df"
   ]
  },
  {
   "cell_type": "code",
   "execution_count": 37,
   "metadata": {},
   "outputs": [],
   "source": [
    "old_df = pd.read_csv('./data/submission_20191230_1.csv')"
   ]
  },
  {
   "cell_type": "code",
   "execution_count": 38,
   "metadata": {},
   "outputs": [],
   "source": [
    "compare = old_df.set_index('id') - submit_df[['id', 'smishing']].set_index('id')"
   ]
  },
  {
   "cell_type": "code",
   "execution_count": 39,
   "metadata": {},
   "outputs": [
    {
     "data": {
      "text/plain": [
       "[<matplotlib.lines.Line2D at 0x7f81dffdd6d0>]"
      ]
     },
     "execution_count": 39,
     "metadata": {},
     "output_type": "execute_result"
    },
    {
     "data": {
      "image/png": "[encoded data removed]",
      "text/plain": [
       "<Figure size 432x288 with 1 Axes>"
      ]
     },
     "metadata": {
      "needs_background": "light"
     },
     "output_type": "display_data"
    }
   ],
   "source": [
    "plt.plot(compare)"
   ]
  },
  {
   "cell_type": "code",
   "execution_count": null,
   "metadata": {},
   "outputs": [],
   "source": []
  }
 ],
 "metadata": {
  "kernelspec": {
   "display_name": "Python 3",
   "language": "python",
   "name": "python3"
  },
  "language_info": {
   "codemirror_mode": {
    "name": "ipython",
    "version": 3
   },
   "file_extension": ".py",
   "mimetype": "text/x-python",
   "name": "python",
   "nbconvert_exporter": "python",
   "pygments_lexer": "ipython3",
   "version": "3.7.4"
  }
 },
 "nbformat": 4,
 "nbformat_minor": 2
}
