{
 "cells": [
  {
   "cell_type": "code",
   "execution_count": 1,
   "metadata": {},
   "outputs": [
    {
     "name": "stderr",
     "output_type": "stream",
     "text": [
      "Using TensorFlow backend.\n"
     ]
    }
   ],
   "source": [
    "from datetime import datetime\n",
    "import numpy as np\n",
    "import pandas as pd\n",
    "from matplotlib import pyplot as plt\n",
    "\n",
    "from konlpy.tag import Mecab\n",
    "mecab = Mecab()\n",
    "\n",
    "#import lightgbm as lgb\n",
    "\n",
    "import tensorflow as tf\n",
    "import keras"
   ]
  },
  {
   "cell_type": "code",
   "execution_count": 2,
   "metadata": {},
   "outputs": [],
   "source": [
    "df = pd.read_csv('./data/train.csv')"
   ]
  },
  {
   "cell_type": "code",
   "execution_count": 3,
   "metadata": {},
   "outputs": [],
   "source": [
    "def parse_sentence(sentence):\n",
    "    ret = []\n",
    "    nouns = []\n",
    "    endword = []\n",
    "    decorword = []\n",
    "    condition = False\n",
    "    for word in mecab.pos(sentence):\n",
    "        # 계시다면 등에서 다면이 N으로 파싱됨\n",
    "        if word[1][:1] == 'N':\n",
    "            if word[0][:2] in ('경우', '필요', '라면', '다면'): # 경우, 필요 단어 등장 시 조건절로 판단\n",
    "                condition = True\n",
    "            else:\n",
    "                nouns.append(word[0])\n",
    "        elif word[1][:1] == 'M':\n",
    "            decorword.append(word[0])\n",
    "        elif word[1][-2:] == 'EC':\n",
    "            endword.append(word[0])\n",
    "            if (word[0][-1:] in ('면', '도') or word[0][-2:] in ('도록')):\n",
    "                condition = True\n",
    "        elif word[1][-2:] in ('EF'): # and word[0][-1:] in ['요', '다']:\n",
    "            endword.append(word[0])\n",
    "            ret.append((word[0], condition, nouns, endword, decorword))\n",
    "            nouns = []\n",
    "            condition = False\n",
    "    if len(nouns) > 0:\n",
    "        ret.append((word[0], condition, nouns, endword, decorword))\n",
    "    return ret"
   ]
  },
  {
   "cell_type": "code",
   "execution_count": 4,
   "metadata": {},
   "outputs": [
    {
     "name": "stdout",
     "output_type": "stream",
     "text": [
      "2019-12-22 16:36:12.137456 0\n",
      "2019-12-22 16:36:53.606049 100000\n",
      "2019-12-22 16:37:43.424403 200000\n"
     ]
    }
   ],
   "source": [
    "smishings = []\n",
    "normals = []\n",
    "idx = 0\n",
    "for idx, item in df.iterrows():\n",
    "    #print(item.text)\n",
    "    splited = parse_sentence(item.text)\n",
    "    splited.append(item.id)\n",
    "    #splited = m.parse(item.text).split()\n",
    "    if item.smishing == 1:\n",
    "        smishings.append(splited)\n",
    "    else:\n",
    "        normals.append(splited)\n",
    "    if idx % 100000 == 0:\n",
    "        print(datetime.now(), idx)\n",
    "    idx += 1\n",
    "#     if idx > 20000:\n",
    "#         break"
   ]
  },
  {
   "cell_type": "code",
   "execution_count": 5,
   "metadata": {},
   "outputs": [],
   "source": [
    "class wordCounter():\n",
    "    def __init__(self):\n",
    "        self.word_bank = {}\n",
    "    \n",
    "    def add_bucket(self, bucket_name):\n",
    "        self.word_bank[bucket_name] = {}\n",
    "        \n",
    "    def add_list(self, bucket_name, word_list:[]):\n",
    "        bucket = self.word_bank[bucket_name]\n",
    "        for keyword in word_list:\n",
    "            if keyword in bucket:\n",
    "                bucket[keyword] += 1\n",
    "            else:\n",
    "                bucket[keyword] = 1\n",
    "                \n",
    "    def get_counts(self, bucket_name):\n",
    "        return self.word_bank[bucket_name]"
   ]
  },
  {
   "cell_type": "code",
   "execution_count": 6,
   "metadata": {},
   "outputs": [],
   "source": [
    "wc = wordCounter()\n",
    "wc.add_bucket('conditioned')\n",
    "wc.add_bucket('general')\n",
    "wc.add_bucket('endword')\n",
    "wc.add_bucket('decorword')\n",
    "\n",
    "for normal in normals:\n",
    "    for item in normal[:-1]:\n",
    "        wc.add_list('endword', item[3])\n",
    "        wc.add_list('decorword', item[4])\n",
    "        if item[1] == True:\n",
    "            wc.add_list('conditioned', item[2])\n",
    "        else:\n",
    "            wc.add_list('general', item[2])\n",
    "\n",
    "for smishing in smishings:\n",
    "    for item in smishing[:-1]:\n",
    "        wc.add_list('endword', item[3])\n",
    "        wc.add_list('decorword', item[4])\n",
    "        if item[1] == True:\n",
    "            wc.add_list('conditioned', item[2])\n",
    "        else:\n",
    "            wc.add_list('general', item[2])"
   ]
  },
  {
   "cell_type": "raw",
   "metadata": {},
   "source": [
    "cond_test = pd.Series(wc.get_counts('conditioned'))\n",
    "cond_test[cond_test.index.map(len) > 1].head(5)"
   ]
  },
  {
   "cell_type": "code",
   "execution_count": 7,
   "metadata": {},
   "outputs": [],
   "source": [
    "conditioned_df = pd.Series(wc.get_counts('conditioned'))\n",
    "general_df = pd.Series(wc.get_counts('general'))\n",
    "endword_df = pd.Series(wc.get_counts('endword'))\n",
    "decorword_df = pd.Series(wc.get_counts('decorword'))\n",
    "\n",
    "# 글자가 2개 이상인 것만 모아보자\n",
    "conditioned_df = conditioned_df[conditioned_df.index.map(len) > 1]\n",
    "general_df = general_df[general_df.index.map(len) > 1]\n",
    "endword_df = endword_df[endword_df.index.map(len) > 1]\n",
    "decorword_df = decorword_df[decorword_df.index.map(len) > 1]"
   ]
  },
  {
   "cell_type": "code",
   "execution_count": 8,
   "metadata": {},
   "outputs": [
    {
     "data": {
      "text/plain": [
       "많이      128212\n",
       "모두       78086\n",
       "함께      111463\n",
       "가득      178524\n",
       "오늘      107242\n",
       "         ...  \n",
       "결코        5627\n",
       "똑똑        8126\n",
       "당연히       7437\n",
       "아무래도      9713\n",
       "솔직히       6628\n",
       "Length: 114, dtype: int64"
      ]
     },
     "metadata": {},
     "output_type": "display_data"
    }
   ],
   "source": [
    "# 출현빈도가 일정 개수 이상되는 키워드만 표시해보면\n",
    "#display(conditioned_df[conditioned_df > 50])  # 조건절이 있는 문장에서 출현 빈도\n",
    "#display(general_df[general_df > 500])\n",
    "display(decorword_df[decorword_df > 5000])"
   ]
  },
  {
   "cell_type": "code",
   "execution_count": 9,
   "metadata": {},
   "outputs": [],
   "source": [
    "# size of feature vector : 아래 두 숫자를 합한 것만큼이 피쳐개수가 됨 \\ 위의 출현개수 기반으로 판단해볼것\n",
    "# 참고 : 400/400 에서 늘려서.. 700/500 800/400 600/600 이렇게 해봐도.. 아래 케이스에서 못맞히는 개수가 12~14개 꾸준함... ㅎㅎ\n",
    "# 400/400 일 때는 15개 틀림.. 좀 늘리면 12개 까지는 좋아질 수 있음.. 합이 1200을 넘으면 너무 느려져서 사용불가 (이 mac기준)\n",
    "CONDITION_WORD_FTR_SIZE = 150 + 50 \n",
    "GENERAL_WORD_FTR_SIZE = 250 + 50\n",
    "ENDWORD_WORD_FTR_SIZE = 150 + 50\n",
    "DECORWORD_WORD_FTR_SIZE = 150 + 50\n",
    "\n",
    "conditioned_dic = list(conditioned_df.sort_values(ascending=False).head(CONDITION_WORD_FTR_SIZE).index)\n",
    "general_dic = list(general_df.sort_values(ascending=False).head(GENERAL_WORD_FTR_SIZE).index)\n",
    "endword_dic = list(endword_df.sort_values(ascending=False).head(ENDWORD_WORD_FTR_SIZE).index)\n",
    "decorword_dic = list(decorword_df.sort_values(ascending=False).head(DECORWORD_WORD_FTR_SIZE).index)"
   ]
  },
  {
   "cell_type": "code",
   "execution_count": 10,
   "metadata": {},
   "outputs": [],
   "source": [
    "#train_normal = []\n",
    "#train_smishing = []\n",
    "train_conditioned = []\n",
    "train_general = []\n",
    "train_endwords = []\n",
    "train_decorwords = []"
   ]
  },
  {
   "cell_type": "code",
   "execution_count": 11,
   "metadata": {},
   "outputs": [],
   "source": [
    "original_idx = []\n",
    "for normal in normals:\n",
    "    # 하나의 문자메시지에서 여러개의 문장이 있을 때, 한문장씩 처리(조건절 있는 경우 없는경우 나눠서)\n",
    "    conditioned = []\n",
    "    general = []\n",
    "    endwords = []\n",
    "    decorwords = []\n",
    "    for item in normal[:-1]:\n",
    "        endwords += [x for x in item[3] if x in endword_dic]\n",
    "        decorwords += [x for x in item[4] if x in decorword_dic]\n",
    "        if item[1] == True:  # conditioned\n",
    "            conditioned += [x for x in item[2] if x in conditioned_dic]\n",
    "        else:\n",
    "            general += [x for x in item[2] if x in general_dic]\n",
    "    train_conditioned.append(list(conditioned))\n",
    "    train_general.append(list(general))\n",
    "    train_endwords.append(list(endwords))\n",
    "    train_decorwords.append(list(decorwords))\n",
    "    original_idx.append(normal[-1])"
   ]
  },
  {
   "cell_type": "code",
   "execution_count": 12,
   "metadata": {},
   "outputs": [],
   "source": [
    "for smishing in smishings:\n",
    "    # 하나의 문자메시지에서 여러개의 문장이 있을 때, 한문장씩 처리(조건절 있는 경우 없는경우 나눠서)\n",
    "    conditioned = []\n",
    "    general = []\n",
    "    endwords = []\n",
    "    decorwords = []\n",
    "    for item in smishing[:-1]:\n",
    "        endwords += [x for x in item[3] if x in endword_dic]\n",
    "        decorwords += [x for x in item[4] if x in decorword_dic]\n",
    "        if item[1] == True:  # conditioned\n",
    "            conditioned += [x for x in item[2] if x in conditioned_dic]\n",
    "        else:\n",
    "            general += [x for x in item[2] if x in general_dic]\n",
    "    train_conditioned.append(list(conditioned))\n",
    "    train_general.append(list(general))\n",
    "    train_endwords.append(list(endwords))\n",
    "    train_decorwords.append(list(decorwords))\n",
    "    original_idx.append(smishing[-1])"
   ]
  },
  {
   "cell_type": "code",
   "execution_count": 13,
   "metadata": {},
   "outputs": [],
   "source": [
    "from sklearn.feature_extraction.text import TfidfVectorizer\n",
    "vectorizer_conditioned = TfidfVectorizer(tokenizer=lambda x: x, lowercase=False)\n",
    "vectorizer_general = TfidfVectorizer(tokenizer=lambda x: x, lowercase=False)\n",
    "vectorizer_endwords = TfidfVectorizer(tokenizer=lambda x: x, lowercase=False)\n",
    "vectorizer_decorwords = TfidfVectorizer(tokenizer=lambda x: x, lowercase=False)\n",
    "\n",
    "tidf_conditioned = vectorizer_conditioned.fit_transform(train_conditioned)\n",
    "tidf_general = vectorizer_general.fit_transform(train_general)\n",
    "tidf_endwords = vectorizer_endwords.fit_transform(train_endwords)\n",
    "tidf_decorwords = vectorizer_decorwords.fit_transform(train_decorwords)"
   ]
  },
  {
   "cell_type": "code",
   "execution_count": null,
   "metadata": {},
   "outputs": [],
   "source": []
  },
  {
   "cell_type": "code",
   "execution_count": 14,
   "metadata": {},
   "outputs": [
    {
     "data": {
      "text/plain": [
       "((177533, 200), (59281, 200), (59131, 200))"
      ]
     },
     "execution_count": 14,
     "metadata": {},
     "output_type": "execute_result"
    }
   ],
   "source": [
    "# 훈련용, 훈련검증용, 결과검증용 분리\n",
    "tidf_conditioned = np.array(tidf_conditioned.toarray())\n",
    "tidf_general = np.array(tidf_general.toarray())\n",
    "tidf_endwords = np.array(tidf_endwords.toarray())\n",
    "tidf_decorwords = np.array(tidf_decorwords.toarray())\n",
    "tidf_label = np.array([1 if x >= len(normals) else 0 for x in range(tidf_conditioned.shape[0])])\n",
    "\n",
    "np.random.seed(0)\n",
    "split = np.random.rand(tidf_conditioned.shape[0])\n",
    "tidf_cond_train = tidf_conditioned[split < 0.6]\n",
    "tidf_cond_valid = tidf_conditioned[(split >= 0.6) & (split < 0.8)]\n",
    "tidf_cond_test = tidf_conditioned[split >= 0.8]\n",
    "\n",
    "tidf_gen_train = tidf_general[split < 0.6]\n",
    "tidf_gen_valid = tidf_general[(split >= 0.6) & (split < 0.8)]\n",
    "tidf_gen_test = tidf_general[split >= 0.8]\n",
    "\n",
    "tidf_endw_train = tidf_endwords[split < 0.6]\n",
    "tidf_endw_valid = tidf_endwords[(split >= 0.6) & (split < 0.8)]\n",
    "tidf_endw_test = tidf_endwords[split >= 0.8]\n",
    "\n",
    "tidf_decorw_train = tidf_decorwords[split < 0.6]\n",
    "tidf_decorw_valid = tidf_decorwords[(split >= 0.6) & (split < 0.8)]\n",
    "tidf_decorw_test = tidf_decorwords[split >= 0.8]\n",
    "\n",
    "tidf_label_train = tidf_label[split < 0.6]\n",
    "tidf_label_valid = tidf_label[(split >= 0.6) & (split < 0.8)]\n",
    "tidf_label_test = tidf_label[split >= 0.8]\n",
    "\n",
    "tidf_cond_train.shape, tidf_cond_valid.shape ,tidf_cond_test.shape"
   ]
  },
  {
   "cell_type": "code",
   "execution_count": 137,
   "metadata": {},
   "outputs": [
    {
     "name": "stderr",
     "output_type": "stream",
     "text": [
      "/home/xikizima/.conda/lib/python3.7/site-packages/ipykernel_launcher.py:31: UserWarning: Update your `Model` call to the Keras 2 API: `Model(inputs=[<tf.Tenso..., outputs=Tensor(\"Ac...)`\n"
     ]
    }
   ],
   "source": [
    "n_cond, n_gen, n_endw, n_decorw = CONDITION_WORD_FTR_SIZE, GENERAL_WORD_FTR_SIZE, ENDWORD_WORD_FTR_SIZE, DECORWORD_WORD_FTR_SIZE\n",
    "cond_input = keras.layers.Input(shape=(n_cond,), name='Cond')\n",
    "gen_input = keras.layers.Input(shape=(n_gen,), name='General')\n",
    "endw_input = keras.layers.Input(shape=(n_endw,), name='Endword')\n",
    "decorw_input = keras.layers.Input(shape=(n_decorw,), name='Decorword')\n",
    "\n",
    "#cond_vec_mlp = keras.layers.Embedding(n_cond, num_predictive_factors, )(cond_input)\n",
    "#cond_vec_mlp = keras.layers.Flatten(name='Flattenconds-MLP')(cond_vec_mlp)\n",
    "#cond_vec_mlp = keras.layers.Dropout(0.3)(cond_vec_mlp)\n",
    "\n",
    "#gen_vec_mlp = keras.layers.Embedding(n_gen, num_predictive_factors)(gen_input)\n",
    "#gen_vec_mlp = keras.layers.Flatten(name='Flattengens-MLP')(gen_vec_mlp)\n",
    "#gen_vec_mlp = keras.layers.Dropout(0.3)(gen_vec_mlp)\n",
    "\n",
    "concat_mlp = keras.layers.merge.concatenate([cond_input, gen_input, endw_input, decorw_input])\n",
    "concat_dropout_mlp = keras.layers.Dropout(0.2)(concat_mlp)\n",
    "\n",
    "dense = keras.layers.Dense(32, name='FullyConnected-1')(concat_dropout_mlp)\n",
    "dropout_1 = keras.layers.Dropout(0.4, name='Dropout-1')(dense)\n",
    "\n",
    "# dense_2 = keras.layers.Dense(64, name='FullyConnected-2')(dropout_1)\n",
    "# dropout_2 = keras.layers.Dropout(0.4, name='Dropout-2')(dense_2)\n",
    "\n",
    "dense_3 = keras.layers.Dense(16, kernel_regularizer=keras.regularizers.l1(0.001), name='FullyConnected-3', activation='relu')(dropout_1)\n",
    "dropout_3 = keras.layers.Dropout(0.4, name='Dropout-3')(dense_3)\n",
    "\n",
    "dense_4 = keras.layers.Dense(16, kernel_regularizer=keras.regularizers.l2(0.001), name='FullyConnected-4', activation='relu')(dropout_3)\n",
    "\n",
    "pred_mlp = keras.layers.Dense(1, activation='sigmoid', name='Activation')(dense_4)\n",
    "\n",
    "model = keras.Model(inputs=[cond_input, gen_input, endw_input, decorw_input], output=pred_mlp)\n",
    "model.compile(optimizer=keras.optimizers.Adam(lr=1e-4), loss='binary_crossentropy', metrics=['binary_crossentropy', 'accuracy'])"
   ]
  },
  {
   "cell_type": "code",
   "execution_count": 138,
   "metadata": {},
   "outputs": [
    {
     "data": {
      "text/plain": [
       "((59281,), 3724)"
      ]
     },
     "execution_count": 138,
     "metadata": {},
     "output_type": "execute_result"
    }
   ],
   "source": [
    "tidf_label_valid.shape, sum(tidf_label_valid)"
   ]
  },
  {
   "cell_type": "code",
   "execution_count": 139,
   "metadata": {},
   "outputs": [],
   "source": [
    "class DataGenerator(keras.utils.Sequence):\n",
    "    def __init__(self, tidf_cond_train, tidf_gen_train, tidf_endw_train, tidf_decorw_train, tidf_label_train, normal_size=160, smishing_size=160):\n",
    "        self.tidf_cond_train_normal = tidf_cond_train[tidf_label_train == 0]\n",
    "        self.tidf_gen_train_normal = tidf_gen_train[tidf_label_train == 0]\n",
    "        self.tidf_endw_train_normal = tidf_endw_train[tidf_label_train == 0]\n",
    "        self.tidf_decorw_train_normal = tidf_decorw_train[tidf_label_train == 0]\n",
    "        self.tidf_cond_train_smishing = tidf_cond_train[tidf_label_train == 1]\n",
    "        self.tidf_gen_train_smishing = tidf_gen_train[tidf_label_train == 1]\n",
    "        self.tidf_endw_train_smishing = tidf_endw_train[tidf_label_train == 1]\n",
    "        self.tidf_decorw_train_smishing = tidf_decorw_train[tidf_label_train == 1]\n",
    "        self.normal_sample_size = normal_size\n",
    "        self.smishing_sample_size = smishing_size\n",
    "        self.num_batch = int(np.ceil(len(self.tidf_cond_train_normal) / (self.normal_sample_size + self.smishing_sample_size)))\n",
    "        print('num_batch:', self.num_batch)\n",
    "    \n",
    "    def __len__(self):\n",
    "        return self.num_batch\n",
    "    \n",
    "    def __getitem__(self, index):\n",
    "        # random sampling. ignore index\n",
    "        np.random.seed(index)\n",
    "        normal_sampling = np.random.choice(len(self.tidf_cond_train_normal), self.normal_sample_size)\n",
    "        normal_cond_sample = self.tidf_cond_train_normal[normal_sampling]\n",
    "        normal_gen_sample = self.tidf_gen_train_normal[normal_sampling]\n",
    "        normal_endw_sample = self.tidf_endw_train_normal[normal_sampling]\n",
    "        normal_decorw_sample = self.tidf_decorw_train_normal[normal_sampling]\n",
    "        smishing_sampling = np.random.choice(len(self.tidf_cond_train_smishing), self.smishing_sample_size)\n",
    "        smishing_cond_sample = self.tidf_cond_train_smishing[smishing_sampling]\n",
    "        smishing_gen_sample = self.tidf_gen_train_smishing[smishing_sampling]\n",
    "        smishing_endw_sample = self.tidf_endw_train_normal[smishing_sampling]\n",
    "        smishing_decorw_sample = self.tidf_decorw_train_normal[smishing_sampling]\n",
    "        sample_cond_train = np.concatenate([normal_cond_sample, smishing_cond_sample])\n",
    "        sample_gen_train = np.concatenate([normal_gen_sample, smishing_gen_sample])\n",
    "        sample_endw_train = np.concatenate([normal_endw_sample, smishing_endw_sample])\n",
    "        sample_decorw_train = np.concatenate([normal_decorw_sample, smishing_decorw_sample])\n",
    "        sample_label_train = [1 if x >= self.normal_sample_size else 0 for x in range(len(sample_cond_train))]\n",
    "        return [sample_cond_train, sample_gen_train, sample_endw_train, sample_decorw_train], sample_label_train\n",
    "\n",
    "    def on_epoch_end(self):\n",
    "        pass"
   ]
  },
  {
   "cell_type": "code",
   "execution_count": 140,
   "metadata": {},
   "outputs": [
    {
     "name": "stdout",
     "output_type": "stream",
     "text": [
      "num_batch: 347\n",
      "num_batch: 7\n",
      "Epoch 1/50\n",
      "347/347 [==============================] - 11s 31ms/step - loss: 0.6367 - binary_crossentropy: 0.5325 - acc: 0.8596 - val_loss: 0.4219 - val_binary_crossentropy: 0.3187 - val_acc: 0.9938\n",
      "Epoch 2/50\n",
      "347/347 [==============================] - 5s 13ms/step - loss: 0.2897 - binary_crossentropy: 0.1870 - acc: 0.9842 - val_loss: 0.1624 - val_binary_crossentropy: 0.0608 - val_acc: 0.9975\n",
      "Epoch 3/50\n",
      "347/347 [==============================] - 8s 22ms/step - loss: 0.1766 - binary_crossentropy: 0.0769 - acc: 0.9907 - val_loss: 0.1166 - val_binary_crossentropy: 0.0191 - val_acc: 0.9982\n",
      "Epoch 4/50\n",
      "347/347 [==============================] - 6s 19ms/step - loss: 0.1392 - binary_crossentropy: 0.0445 - acc: 0.9935 - val_loss: 0.1005 - val_binary_crossentropy: 0.0087 - val_acc: 0.9989\n",
      "Epoch 5/50\n",
      "347/347 [==============================] - 7s 20ms/step - loss: 0.1193 - binary_crossentropy: 0.0308 - acc: 0.9953 - val_loss: 0.0904 - val_binary_crossentropy: 0.0053 - val_acc: 0.9994\n",
      "Epoch 6/50\n",
      "347/347 [==============================] - 8s 23ms/step - loss: 0.1062 - binary_crossentropy: 0.0246 - acc: 0.9961 - val_loss: 0.0828 - val_binary_crossentropy: 0.0047 - val_acc: 0.9993\n",
      "Epoch 7/50\n",
      "347/347 [==============================] - 5s 15ms/step - loss: 0.0957 - binary_crossentropy: 0.0213 - acc: 0.9964 - val_loss: 0.0750 - val_binary_crossentropy: 0.0043 - val_acc: 0.9993\n",
      "Epoch 8/50\n",
      "347/347 [==============================] - 6s 17ms/step - loss: 0.0862 - binary_crossentropy: 0.0189 - acc: 0.9968 - val_loss: 0.0672 - val_binary_crossentropy: 0.0035 - val_acc: 0.9994\n",
      "Epoch 9/50\n",
      "347/347 [==============================] - 5s 14ms/step - loss: 0.0776 - binary_crossentropy: 0.0172 - acc: 0.9971 - val_loss: 0.0611 - val_binary_crossentropy: 0.0039 - val_acc: 0.9992\n",
      "Epoch 10/50\n",
      "347/347 [==============================] - 6s 17ms/step - loss: 0.0705 - binary_crossentropy: 0.0162 - acc: 0.9971 - val_loss: 0.0544 - val_binary_crossentropy: 0.0030 - val_acc: 0.9994\n",
      "Epoch 11/50\n",
      "347/347 [==============================] - 5s 14ms/step - loss: 0.0640 - binary_crossentropy: 0.0152 - acc: 0.9975 - val_loss: 0.0491 - val_binary_crossentropy: 0.0027 - val_acc: 0.9994\n",
      "Epoch 12/50\n",
      "347/347 [==============================] - 5s 16ms/step - loss: 0.0589 - binary_crossentropy: 0.0148 - acc: 0.9974 - val_loss: 0.0447 - val_binary_crossentropy: 0.0028 - val_acc: 0.9995\n",
      "Epoch 13/50\n",
      "347/347 [==============================] - 7s 19ms/step - loss: 0.0539 - binary_crossentropy: 0.0139 - acc: 0.9976 - val_loss: 0.0407 - val_binary_crossentropy: 0.0026 - val_acc: 0.9995\n",
      "Epoch 14/50\n",
      "347/347 [==============================] - 5s 14ms/step - loss: 0.0496 - binary_crossentropy: 0.0132 - acc: 0.9976 - val_loss: 0.0374 - val_binary_crossentropy: 0.0026 - val_acc: 0.9995\n",
      "Epoch 15/50\n",
      "347/347 [==============================] - 5s 15ms/step - loss: 0.0457 - binary_crossentropy: 0.0123 - acc: 0.9978 - val_loss: 0.0346 - val_binary_crossentropy: 0.0025 - val_acc: 0.9995\n",
      "Epoch 16/50\n",
      "347/347 [==============================] - 8s 22ms/step - loss: 0.0430 - binary_crossentropy: 0.0121 - acc: 0.9979 - val_loss: 0.0324 - val_binary_crossentropy: 0.0026 - val_acc: 0.9995\n",
      "Epoch 17/50\n",
      "347/347 [==============================] - 4s 12ms/step - loss: 0.0399 - binary_crossentropy: 0.0112 - acc: 0.9979 - val_loss: 0.0303 - val_binary_crossentropy: 0.0024 - val_acc: 0.9995\n",
      "Epoch 18/50\n",
      "347/347 [==============================] - 4s 12ms/step - loss: 0.0379 - binary_crossentropy: 0.0110 - acc: 0.9978 - val_loss: 0.0283 - val_binary_crossentropy: 0.0024 - val_acc: 0.9996\n",
      "Epoch 19/50\n",
      "347/347 [==============================] - 5s 14ms/step - loss: 0.0355 - binary_crossentropy: 0.0103 - acc: 0.9979 - val_loss: 0.0265 - val_binary_crossentropy: 0.0021 - val_acc: 0.9997\n",
      "Epoch 20/50\n",
      "347/347 [==============================] - 4s 12ms/step - loss: 0.0338 - binary_crossentropy: 0.0101 - acc: 0.9978 - val_loss: 0.0254 - val_binary_crossentropy: 0.0024 - val_acc: 0.9996\n",
      "Epoch 21/50\n",
      "347/347 [==============================] - 5s 14ms/step - loss: 0.0320 - binary_crossentropy: 0.0097 - acc: 0.9979 - val_loss: 0.0242 - val_binary_crossentropy: 0.0026 - val_acc: 0.9995\n",
      "Epoch 22/50\n",
      "347/347 [==============================] - 6s 17ms/step - loss: 0.0305 - binary_crossentropy: 0.0094 - acc: 0.9980 - val_loss: 0.0230 - val_binary_crossentropy: 0.0025 - val_acc: 0.9995\n",
      "Epoch 23/50\n",
      "347/347 [==============================] - 6s 17ms/step - loss: 0.0290 - binary_crossentropy: 0.0090 - acc: 0.9980 - val_loss: 0.0223 - val_binary_crossentropy: 0.0026 - val_acc: 0.9995\n",
      "Epoch 24/50\n",
      "347/347 [==============================] - 5s 14ms/step - loss: 0.0278 - binary_crossentropy: 0.0086 - acc: 0.9981 - val_loss: 0.0210 - val_binary_crossentropy: 0.0023 - val_acc: 0.9996\n",
      "Epoch 25/50\n",
      "347/347 [==============================] - 4s 13ms/step - loss: 0.0269 - binary_crossentropy: 0.0086 - acc: 0.9981 - val_loss: 0.0198 - val_binary_crossentropy: 0.0019 - val_acc: 0.9997\n",
      "Epoch 26/50\n",
      "347/347 [==============================] - 4s 12ms/step - loss: 0.0257 - binary_crossentropy: 0.0083 - acc: 0.9982 - val_loss: 0.0194 - val_binary_crossentropy: 0.0023 - val_acc: 0.9996\n",
      "Epoch 27/50\n",
      "347/347 [==============================] - 6s 17ms/step - loss: 0.0249 - binary_crossentropy: 0.0081 - acc: 0.9980 - val_loss: 0.0184 - val_binary_crossentropy: 0.0020 - val_acc: 0.9997\n",
      "Epoch 28/50\n",
      "347/347 [==============================] - 4s 13ms/step - loss: 0.0241 - binary_crossentropy: 0.0078 - acc: 0.9981 - val_loss: 0.0178 - val_binary_crossentropy: 0.0017 - val_acc: 0.9997\n",
      "Epoch 29/50\n",
      "347/347 [==============================] - 4s 13ms/step - loss: 0.0236 - binary_crossentropy: 0.0079 - acc: 0.9981 - val_loss: 0.0175 - val_binary_crossentropy: 0.0020 - val_acc: 0.9997\n",
      "Epoch 30/50\n",
      "347/347 [==============================] - 5s 14ms/step - loss: 0.0228 - binary_crossentropy: 0.0075 - acc: 0.9982 - val_loss: 0.0171 - val_binary_crossentropy: 0.0022 - val_acc: 0.9996\n",
      "Epoch 31/50\n",
      "347/347 [==============================] - 5s 15ms/step - loss: 0.0223 - binary_crossentropy: 0.0075 - acc: 0.9982 - val_loss: 0.0160 - val_binary_crossentropy: 0.0014 - val_acc: 0.9998\n",
      "Epoch 32/50\n",
      "347/347 [==============================] - 6s 16ms/step - loss: 0.0216 - binary_crossentropy: 0.0074 - acc: 0.9982 - val_loss: 0.0161 - val_binary_crossentropy: 0.0020 - val_acc: 0.9997\n",
      "Epoch 33/50\n",
      "347/347 [==============================] - 5s 15ms/step - loss: 0.0209 - binary_crossentropy: 0.0070 - acc: 0.9983 - val_loss: 0.0161 - val_binary_crossentropy: 0.0024 - val_acc: 0.9996\n",
      "Epoch 34/50\n",
      "347/347 [==============================] - 5s 14ms/step - loss: 0.0208 - binary_crossentropy: 0.0073 - acc: 0.9982 - val_loss: 0.0154 - val_binary_crossentropy: 0.0020 - val_acc: 0.9997\n",
      "Epoch 35/50\n",
      "347/347 [==============================] - 6s 17ms/step - loss: 0.0201 - binary_crossentropy: 0.0068 - acc: 0.9983 - val_loss: 0.0146 - val_binary_crossentropy: 0.0017 - val_acc: 0.9997\n",
      "Epoch 36/50\n",
      "347/347 [==============================] - 4s 12ms/step - loss: 0.0197 - binary_crossentropy: 0.0068 - acc: 0.9984 - val_loss: 0.0144 - val_binary_crossentropy: 0.0017 - val_acc: 0.9997\n",
      "Epoch 37/50\n",
      "347/347 [==============================] - 4s 12ms/step - loss: 0.0192 - binary_crossentropy: 0.0065 - acc: 0.9983 - val_loss: 0.0141 - val_binary_crossentropy: 0.0017 - val_acc: 0.9997\n",
      "Epoch 38/50\n",
      "347/347 [==============================] - 5s 14ms/step - loss: 0.0190 - binary_crossentropy: 0.0067 - acc: 0.9983 - val_loss: 0.0140 - val_binary_crossentropy: 0.0019 - val_acc: 0.9997\n",
      "Epoch 39/50\n",
      "347/347 [==============================] - 5s 15ms/step - loss: 0.0186 - binary_crossentropy: 0.0065 - acc: 0.9983 - val_loss: 0.0141 - val_binary_crossentropy: 0.0021 - val_acc: 0.9996\n",
      "Epoch 40/50\n",
      "347/347 [==============================] - 5s 14ms/step - loss: 0.0183 - binary_crossentropy: 0.0064 - acc: 0.9983 - val_loss: 0.0133 - val_binary_crossentropy: 0.0017 - val_acc: 0.9998\n",
      "Epoch 41/50\n",
      "347/347 [==============================] - 4s 12ms/step - loss: 0.0180 - binary_crossentropy: 0.0064 - acc: 0.9983 - val_loss: 0.0132 - val_binary_crossentropy: 0.0017 - val_acc: 0.9997\n",
      "Epoch 42/50\n"
     ]
    },
    {
     "name": "stdout",
     "output_type": "stream",
     "text": [
      "347/347 [==============================] - 5s 13ms/step - loss: 0.0176 - binary_crossentropy: 0.0062 - acc: 0.9984 - val_loss: 0.0128 - val_binary_crossentropy: 0.0017 - val_acc: 0.9997\n",
      "Epoch 43/50\n",
      "347/347 [==============================] - 5s 15ms/step - loss: 0.0174 - binary_crossentropy: 0.0062 - acc: 0.9983 - val_loss: 0.0132 - val_binary_crossentropy: 0.0020 - val_acc: 0.9996\n",
      "Epoch 44/50\n",
      "347/347 [==============================] - 4s 11ms/step - loss: 0.0171 - binary_crossentropy: 0.0060 - acc: 0.9984 - val_loss: 0.0123 - val_binary_crossentropy: 0.0014 - val_acc: 0.9998\n",
      "Epoch 45/50\n",
      "347/347 [==============================] - 4s 11ms/step - loss: 0.0167 - binary_crossentropy: 0.0059 - acc: 0.9985 - val_loss: 0.0123 - val_binary_crossentropy: 0.0015 - val_acc: 0.9998\n",
      "Epoch 46/50\n",
      "347/347 [==============================] - 4s 12ms/step - loss: 0.0163 - binary_crossentropy: 0.0057 - acc: 0.9986 - val_loss: 0.0127 - val_binary_crossentropy: 0.0021 - val_acc: 0.9996\n",
      "Epoch 47/50\n",
      "347/347 [==============================] - 4s 11ms/step - loss: 0.0165 - binary_crossentropy: 0.0059 - acc: 0.9984 - val_loss: 0.0121 - val_binary_crossentropy: 0.0017 - val_acc: 0.9997\n",
      "Epoch 48/50\n",
      "347/347 [==============================] - 4s 12ms/step - loss: 0.0164 - binary_crossentropy: 0.0061 - acc: 0.9984 - val_loss: 0.0118 - val_binary_crossentropy: 0.0017 - val_acc: 0.9998\n",
      "Epoch 49/50\n",
      "347/347 [==============================] - 4s 12ms/step - loss: 0.0159 - binary_crossentropy: 0.0058 - acc: 0.9985 - val_loss: 0.0118 - val_binary_crossentropy: 0.0017 - val_acc: 0.9997\n",
      "Epoch 50/50\n",
      "347/347 [==============================] - 5s 15ms/step - loss: 0.0161 - binary_crossentropy: 0.0060 - acc: 0.9985 - val_loss: 0.0117 - val_binary_crossentropy: 0.0018 - val_acc: 0.9997\n"
     ]
    }
   ],
   "source": [
    "train_gen = DataGenerator(tidf_cond_train, tidf_gen_train, tidf_endw_train, tidf_decorw_train, tidf_label_train, 320, 160)\n",
    "valid_gen = DataGenerator(tidf_cond_valid, tidf_gen_valid, tidf_endw_valid, tidf_decorw_valid, tidf_label_valid, 8000, 500)\n",
    "\n",
    "history = model.fit_generator(generator=train_gen,\n",
    "                             epochs = 50,\n",
    "#                              use_multiprocessing=True,\n",
    "#                               workers=3,\n",
    "                             validation_data=valid_gen,\n",
    "                             verbose=1)"
   ]
  },
  {
   "cell_type": "code",
   "execution_count": 141,
   "metadata": {},
   "outputs": [
    {
     "data": {
      "image/png": "[encoded data removed]",
      "text/plain": [
       "<Figure size 1440x720 with 2 Axes>"
      ]
     },
     "metadata": {
      "needs_background": "light"
     },
     "output_type": "display_data"
    }
   ],
   "source": [
    "import matplotlib.pyplot as plt\n",
    "fig, loss_ax = plt.subplots()\n",
    "fig.set_figheight(10)\n",
    "fig.set_figwidth(20)\n",
    "acc_ax = loss_ax.twinx()\n",
    "loss_ax.plot(history.history['loss'], 'y', label='train_loss')\n",
    "loss_ax.plot(history.history['val_loss'], 'r', label='val_loss')\n",
    "\n",
    "acc_ax.plot(history.history['acc'], 'b', label='train_acc')\n",
    "acc_ax.plot(history.history['val_acc'], 'g', label='val_acc')\n",
    "\n",
    "loss_ax.set_xlabel('epoch')\n",
    "loss_ax.set_ylabel('loss')\n",
    "acc_ax.set_ylabel('accuracy')\n",
    "loss_ax.legend(loc='upper left')\n",
    "acc_ax.legend(loc='lower left')\n",
    "\n",
    "plt.show()"
   ]
  },
  {
   "cell_type": "code",
   "execution_count": 142,
   "metadata": {},
   "outputs": [],
   "source": [
    "###### 결과검증(overfit, underfit)\n",
    "gap_prev = gap\n",
    "pred_test = model.predict(x=[tidf_cond_test, tidf_gen_test, tidf_endw_test, tidf_decorw_test], batch_size=320)\n",
    "gap = tidf_label_test - pred_test.reshape([-1,])"
   ]
  },
  {
   "cell_type": "code",
   "execution_count": 147,
   "metadata": {},
   "outputs": [
    {
     "data": {
      "text/plain": [
       "[<matplotlib.lines.Line2D at 0x7fed0095aa10>]"
      ]
     },
     "execution_count": 147,
     "metadata": {},
     "output_type": "execute_result"
    },
    {
     "data": {
      "image/png": "[encoded data removed]",
      "text/plain": [
       "<Figure size 1440x720 with 1 Axes>"
      ]
     },
     "metadata": {
      "needs_background": "light"
     },
     "output_type": "display_data"
    }
   ],
   "source": [
    "###### 결과검증(overfit, underfit)\n",
    "#pred_test = model.predict(x=[tidf_cond_test, tidf_gen_test, tidf_endw_test, tidf_decorw_test], batch_size=320)\n",
    "#gap = tidf_label_test - pred_test.reshape([-1,])\n",
    "plt.figure(figsize=(20,10))\n",
    "plt.plot(gap_prev[-4000:], 'r')\n",
    "plt.plot(gap[-4020:-20], 'b')"
   ]
  },
  {
   "cell_type": "code",
   "execution_count": 149,
   "metadata": {},
   "outputs": [
    {
     "data": {
      "text/plain": [
       "[<matplotlib.lines.Line2D at 0x7fed00860b90>]"
      ]
     },
     "execution_count": 149,
     "metadata": {},
     "output_type": "execute_result"
    },
    {
     "data": {
      "image/png": "[encoded data removed]",
      "text/plain": [
       "<Figure size 1440x720 with 1 Axes>"
      ]
     },
     "metadata": {
      "needs_background": "light"
     },
     "output_type": "display_data"
    }
   ],
   "source": [
    "plt.figure(figsize=(20,10))\n",
    "plt.plot(gap_prev, 'r')\n",
    "plt.plot(gap, 'b')\n"
   ]
  },
  {
   "cell_type": "code",
   "execution_count": 150,
   "metadata": {},
   "outputs": [
    {
     "name": "stdout",
     "output_type": "stream",
     "text": [
      "auc : 0.9999496019827423\n"
     ]
    },
    {
     "data": {
      "image/png": "[encoded data removed]",
      "text/plain": [
       "<Figure size 360x360 with 1 Axes>"
      ]
     },
     "metadata": {
      "needs_background": "light"
     },
     "output_type": "display_data"
    }
   ],
   "source": [
    "##### from sklearn.metrics import confusion_matrix, roc_curve\n",
    "from sklearn.metrics import auc\n",
    "from matplotlib import pyplot as plt\n",
    "\n",
    "fpr, tpr, thresholds = roc_curve(tidf_label_test, pred_test)\n",
    "print('auc :', auc(fpr,tpr))\n",
    "\n",
    "plt.figure(figsize=(5,5))\n",
    "plt.plot(fpr,tpr,'-')\n",
    "plt.plot([0,1],[0,1], 'k--')\n",
    "plt.show()"
   ]
  },
  {
   "cell_type": "code",
   "execution_count": 44,
   "metadata": {},
   "outputs": [
    {
     "data": {
      "text/plain": [
       "0.9998961402861712"
      ]
     },
     "execution_count": 44,
     "metadata": {},
     "output_type": "execute_result"
    }
   ],
   "source": [
    "0.9998961402861712 # best"
   ]
  },
  {
   "cell_type": "code",
   "execution_count": null,
   "metadata": {},
   "outputs": [],
   "source": []
  },
  {
   "cell_type": "code",
   "execution_count": null,
   "metadata": {},
   "outputs": [],
   "source": [
    "df[df['id'].isin(np.array(original_idx)[split >= 0.8][gap > 0.5])].text.map(print)"
   ]
  },
  {
   "cell_type": "code",
   "execution_count": null,
   "metadata": {},
   "outputs": [],
   "source": [
    "0.999886801482348  #  64 64 l1_0.0035, sigmoid A"
   ]
  },
  {
   "cell_type": "code",
   "execution_count": null,
   "metadata": {},
   "outputs": [],
   "source": [
    "0.999870406857598 # 제출 (32, 32_l2_0.01, sigmoid, Adam_1e-4) ==> 93.0"
   ]
  },
  {
   "cell_type": "code",
   "execution_count": null,
   "metadata": {},
   "outputs": [],
   "source": []
  },
  {
   "cell_type": "code",
   "execution_count": null,
   "metadata": {},
   "outputs": [],
   "source": [
    "# 제출 준비"
   ]
  },
  {
   "cell_type": "code",
   "execution_count": 151,
   "metadata": {},
   "outputs": [],
   "source": [
    "submit_df = pd.read_csv('./data/public_test.csv')"
   ]
  },
  {
   "cell_type": "code",
   "execution_count": 152,
   "metadata": {},
   "outputs": [
    {
     "name": "stdout",
     "output_type": "stream",
     "text": [
      "2019-12-22 18:56:40.765287 0\n"
     ]
    }
   ],
   "source": [
    "unknowns = []\n",
    "\n",
    "idx = 0\n",
    "for idx, item in submit_df.iterrows():\n",
    "    splited = parse_sentence(item.text)\n",
    "    splited.append(item.id)\n",
    "    unknowns.append(splited)\n",
    "    if idx % 100000 == 0:\n",
    "        print(datetime.now(), idx)\n",
    "    idx += 1"
   ]
  },
  {
   "cell_type": "code",
   "execution_count": 153,
   "metadata": {},
   "outputs": [],
   "source": [
    "test_conditioned = []\n",
    "test_general = []\n",
    "test_endwords = []\n",
    "test_decorwords = []\n",
    "\n",
    "original_idx = []\n",
    "for unknown in unknowns:\n",
    "    conditioned = []\n",
    "    general = []\n",
    "    endwords = []\n",
    "    decorwords = []\n",
    "    for item in unknown[:-1]:\n",
    "        endwords += [x for x in item[3] if x in endword_dic]\n",
    "        decorwords += [x for x in item[4] if x in decorword_dic]\n",
    "        if item[1] == True:\n",
    "            conditioned += [x for x in item[2] if x in conditioned_dic]\n",
    "        else:\n",
    "            general += [x for x in item[2] if x in general_dic]\n",
    "    test_conditioned.append(list(conditioned))\n",
    "    test_general.append(list(general))\n",
    "    test_endwords.append(list(endwords))\n",
    "    test_decorwords.append(list(decorwords))\n",
    "    original_idx.append(unknown[-1])"
   ]
  },
  {
   "cell_type": "code",
   "execution_count": 154,
   "metadata": {},
   "outputs": [],
   "source": [
    "tidf_conditioned = vectorizer_conditioned.transform(test_conditioned).toarray()\n",
    "tidf_general = vectorizer_general.transform(test_general).toarray()\n",
    "tidf_endwords = vectorizer_endwords.transform(test_endwords).toarray()\n",
    "tidf_decorwords = vectorizer_decorwords.transform(test_decorwords).toarray()"
   ]
  },
  {
   "cell_type": "code",
   "execution_count": 155,
   "metadata": {},
   "outputs": [
    {
     "name": "stdout",
     "output_type": "stream",
     "text": [
      "1626/1626 [==============================] - 0s 95us/step\n"
     ]
    }
   ],
   "source": [
    "pred_y = model.predict(x=[tidf_conditioned, tidf_general, tidf_endwords, tidf_decorwords], verbose=1)"
   ]
  },
  {
   "cell_type": "code",
   "execution_count": 156,
   "metadata": {},
   "outputs": [],
   "source": [
    "pred_y[pred_y > 1.0] = 1.0"
   ]
  },
  {
   "cell_type": "code",
   "execution_count": 157,
   "metadata": {},
   "outputs": [],
   "source": [
    "submit_df['smishing'] = np.abs(pred_y)"
   ]
  },
  {
   "cell_type": "code",
   "execution_count": 158,
   "metadata": {},
   "outputs": [],
   "source": [
    "submit_df[['id', 'smishing']].to_csv('./data/submission_20191222_3.csv', index=False)"
   ]
  },
  {
   "cell_type": "code",
   "execution_count": null,
   "metadata": {},
   "outputs": [],
   "source": []
  },
  {
   "cell_type": "code",
   "execution_count": null,
   "metadata": {},
   "outputs": [],
   "source": []
  }
 ],
 "metadata": {
  "kernelspec": {
   "display_name": "Python 3",
   "language": "python",
   "name": "python3"
  },
  "language_info": {
   "codemirror_mode": {
    "name": "ipython",
    "version": 3
   },
   "file_extension": ".py",
   "mimetype": "text/x-python",
   "name": "python",
   "nbconvert_exporter": "python",
   "pygments_lexer": "ipython3",
   "version": "3.7.4"
  }
 },
 "nbformat": 4,
 "nbformat_minor": 2
}
