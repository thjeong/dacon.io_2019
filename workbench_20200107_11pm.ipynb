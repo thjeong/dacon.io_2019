{
 "cells": [
  {
   "cell_type": "code",
   "execution_count": 1,
   "metadata": {},
   "outputs": [
    {
     "name": "stderr",
     "output_type": "stream",
     "text": [
      "Using TensorFlow backend.\n"
     ]
    }
   ],
   "source": [
    "from datetime import datetime\n",
    "import numpy as np\n",
    "import pandas as pd\n",
    "from matplotlib import pyplot as plt\n",
    "import re\n",
    "from konlpy.tag import Mecab\n",
    "mecab = Mecab()\n",
    "\n",
    "#import lightgbm as lgb\n",
    "\n",
    "import tensorflow as tf\n",
    "import keras"
   ]
  },
  {
   "cell_type": "code",
   "execution_count": 2,
   "metadata": {},
   "outputs": [],
   "source": [
    "pd.options.display.max_rows = 1000"
   ]
  },
  {
   "cell_type": "code",
   "execution_count": 3,
   "metadata": {},
   "outputs": [],
   "source": [
    "df = pd.read_csv('./data/train.csv')"
   ]
  },
  {
   "cell_type": "code",
   "execution_count": 30,
   "metadata": {},
   "outputs": [],
   "source": [
    "def parse_sentence(sentence):\n",
    "    prev_word, prev_pos = '', ''\n",
    "    nouns = []\n",
    "    words = []\n",
    "    etc = []\n",
    "    buff = ''\n",
    "    ret = []\n",
    "    condition = False\n",
    "    idx, condidx = 0, 0\n",
    "    \n",
    "    if sentence[:4] == '(광고)':\n",
    "        words.append('(광고)')\n",
    "        nouns.append('(광고)')\n",
    "        sentence = sentence[4:]\n",
    "\n",
    "    for word, pos in mecab.pos(sentence):\n",
    "\n",
    "        if pos in ('SF') or pos[:1] in ('J'):\n",
    "            # 은/는/이/가/. 등\n",
    "            prev_word, prev_pos = '', ''\n",
    "            continue\n",
    "\n",
    "        if pos[:1] == 'N' and prev_pos[:1] == 'S':\n",
    "            # 1억, 1천만원 등\n",
    "            word = re.sub('[억천만]', '', word)\n",
    "            if len(word) == 0:\n",
    "                continue\n",
    "\n",
    "        if pos[:1] == 'S':\n",
    "            word = re.sub('[(:)]', '', word)\n",
    "            word = re.sub('[0-9.X]+', 'X', word)\n",
    "\n",
    "        # 조건절 판단\n",
    "        if prev_pos[-3:] == 'ETM' and word in ['분','고객','개인','사업자','이','대상','당신','직원','VIP', '자','분도','전문직','신용자','외국인','본인','임직원','부모','회계사','귀하','투자자','분과']:\n",
    "            condition = True  \n",
    "        elif pos[:1] == 'N':\n",
    "            if word[:2] in ('경우', '필요', '라면', '다면'): # 경우, 필요 단어 등장 시 조건절로 판단\n",
    "                condition = True\n",
    "        elif pos[-2:] == 'EC':\n",
    "            # 여도, 라도, 라면, 면\n",
    "            if word[-1:] in ('면', '도') or word[-2:] in ('도록'):\n",
    "                condition = True\n",
    "\n",
    "        if pos[:1] == 'E':\n",
    "            buff += word\n",
    "        #elif pos[:1] == 'N' and prev_pos[:1] == 'N' and len(word) == 1:\n",
    "        #    buff += word\n",
    "        elif pos[:1] == 'S' and prev_pos[:1] == 'S' and word[:1] in 'X0123456789%.-': #('%', '.', '-'):\n",
    "            if buff[-1:] in ('시', '원', '%'):\n",
    "                words.append(buff)\n",
    "                buff = ''\n",
    "            buff += word\n",
    "            #buff += re.sub('[0-9.X]+', 'X', word)\n",
    "            #buff = re.sub('[0-9.X]+', 'X', buff)\n",
    "        elif pos[:1] == 'N' and prev_pos[:1] == 'S' and len(buff) > 0 and word in ('시', '분', '초', '시간'):\n",
    "            buff = re.sub('시', '', buff)\n",
    "            buff += '시'\n",
    "        elif pos[:1] == 'N' and prev_pos[:1] == 'S' and len(buff) > 0 and word in ('년', '월', '일', '개월'):\n",
    "            buff = re.sub('일', '', buff)\n",
    "            buff += '일'\n",
    "        elif pos[:1] == 'N' and prev_pos[:1] == 'S' and len(buff) > 0 and word in ('원'):\n",
    "            buff = re.sub('원', '', buff)\n",
    "            buff += '원'\n",
    "        elif pos[:1] == 'N' and prev_pos[:1] == 'S' and len(buff) > 0 and word in ('건', '배', 'pt'):\n",
    "            buff += word\n",
    "        else:\n",
    "            if len(buff) > 0:\n",
    "                buff = re.sub('[0-9.X]+', 'X', buff)\n",
    "                buff = re.sub('[-]+', '-', buff)\n",
    "                buff = re.sub('[X]+', 'X', buff)\n",
    "                if True: #buff != 'X':\n",
    "                    words.append(buff)\n",
    "                    # M, N 경우만 저장해보자\n",
    "                    if prev_pos[:1] in ('N'):  # 'M', \n",
    "                        nouns.append(buff)\n",
    "            buff = word\n",
    "            prev_word, prev_pos = word, pos\n",
    "\n",
    "        if pos[-2:] in ('EF'): # and word[0][-1:] in ['요', '다']:\n",
    "            # words가 꼭 명사를 뜻하는 게 아니고 특색있는 키워드 모두를 포함\n",
    "            if len(buff) > 0:\n",
    "                words.append(buff)\n",
    "            buff = ''\n",
    "            # 문장의 끝을 구분\n",
    "            words.append('(절취선)')\n",
    "            ret.append([word, condition, words, nouns])\n",
    "            idx += 1\n",
    "            if condition: condidx += 1\n",
    "            nouns = []\n",
    "            words = []\n",
    "            condition = False\n",
    "    if len(buff) > 0:\n",
    "        words.append(buff)\n",
    "    if len(words) > 0:\n",
    "        ret.append([word, condition, words, nouns])\n",
    "        #ret.append([word, condition, nouns])\n",
    "        idx += 1\n",
    "        if condition: condidx += 1\n",
    "    etc.append(condidx / idx)\n",
    "    return ret, etc"
   ]
  },
  {
   "cell_type": "code",
   "execution_count": 31,
   "metadata": {},
   "outputs": [
    {
     "name": "stdout",
     "output_type": "stream",
     "text": [
      "2020-01-07 20:46:59.945045 0\n",
      "2020-01-07 20:48:09.226246 100000\n",
      "2020-01-07 20:49:32.060501 200000\n"
     ]
    }
   ],
   "source": [
    "smishings = []\n",
    "normals = []\n",
    "idx = 0\n",
    "for idx, item in df.iterrows():\n",
    "    #print(item.text)\n",
    "    splited, etc = parse_sentence(item.text)\n",
    "    etc.append(np.log(len(item.text))/8)  # 문장 전체의 길이\n",
    "    etc.append(np.log(len(splited))/4)  # 문장의 개수\n",
    "    splited.append(etc)\n",
    "    splited.append(item.id)\n",
    "    #splited = m.parse(item.text).split()\n",
    "    if item.smishing == 1:\n",
    "        smishings.append(splited)\n",
    "    else:\n",
    "        normals.append(splited)\n",
    "    if idx % 100000 == 0:\n",
    "        print(datetime.now(), idx)\n",
    "    idx += 1\n",
    "#     if idx > 20000:\n",
    "#         break"
   ]
  },
  {
   "cell_type": "code",
   "execution_count": 32,
   "metadata": {},
   "outputs": [
    {
     "name": "stdout",
     "output_type": "stream",
     "text": [
      "selected normal-like words count: 1892\n",
      "selected smishing-like words count: 1026\n"
     ]
    }
   ],
   "source": [
    "# 스미싱에만 등장하는 문자들 : smish_target_words\n",
    "NORM_THRESHOLD, SMISH_THRESHOLD = 1000, 2\n",
    "norm_dict = {}\n",
    "for item in [x for normal in normals for row in normal if type(row) == list and len(row) > 3 for x in row[3]]:\n",
    "    if item in norm_dict:\n",
    "        norm_dict[item] += 1\n",
    "    else:\n",
    "        norm_dict[item] = 1\n",
    "norm_filter_words = {x:norm_dict.get(x) for x in norm_dict if norm_dict.get(x) > NORM_THRESHOLD}\n",
    "\n",
    "smish_dict = {}\n",
    "for item in [x for smishing in smishings for row in smishing if type(row) == list and len(row) > 3 for x in row[3]]:\n",
    "    if item in smish_dict:\n",
    "        smish_dict[item] += 1\n",
    "    else:\n",
    "        smish_dict[item] = 1\n",
    "smish_filter_words = {x:smish_dict.get(x) for x in smish_dict if smish_dict.get(x) > SMISH_THRESHOLD}\n",
    "        \n",
    "word_only_in_smishings = [word for word in smish_dict if word not in norm_filter_words]\n",
    "word_only_in_normals = [word for word in norm_dict if word not in smish_filter_words]\n",
    "\n",
    "norm_target_words = {x:norm_dict.get(x) for x in word_only_in_normals if norm_dict.get(x) > NORM_THRESHOLD}\n",
    "smish_target_words = {x:smish_dict.get(x) for x in word_only_in_smishings if smish_dict.get(x) > SMISH_THRESHOLD}\n",
    "print('selected normal-like words count:', len(norm_target_words))\n",
    "print('selected smishing-like words count:', len(smish_target_words))"
   ]
  },
  {
   "cell_type": "code",
   "execution_count": 33,
   "metadata": {},
   "outputs": [],
   "source": [
    "smishing_word_cnt = []\n",
    "normal_word_cnt = []\n",
    "for smishing in smishings:\n",
    "    notarget_word_list = [x for row in smishing[:-2] for x in row[3] if x in norm_target_words]\n",
    "    target_word_list = [x for row in smishing[:-2] for x in row[3] if x in smish_target_words]\n",
    "    smishing.insert(-2, notarget_word_list)\n",
    "    smishing.insert(-2, target_word_list)\n",
    "    smishing_word_cnt.append(len(target_word_list))\n",
    "for normal in normals:\n",
    "    notarget_word_list = [x for row in normal[:-2] for x in row[3] if x in norm_target_words]\n",
    "    target_word_list = [x for row in normal[:-2] for x in row[3] if x in smish_target_words]\n",
    "    normal.insert(-2, notarget_word_list)\n",
    "    normal.insert(-2, target_word_list)\n",
    "    normal_word_cnt.append(len(target_word_list))"
   ]
  },
  {
   "cell_type": "code",
   "execution_count": 34,
   "metadata": {},
   "outputs": [
    {
     "data": {
      "text/plain": [
       "[<matplotlib.lines.Line2D at 0x7fba36e8b310>]"
      ]
     },
     "execution_count": 34,
     "metadata": {},
     "output_type": "execute_result"
    },
    {
     "data": {
      "image/png": "[encoded data removed]",
      "text/plain": [
       "<Figure size 432x288 with 1 Axes>"
      ]
     },
     "metadata": {
      "needs_background": "light"
     },
     "output_type": "display_data"
    }
   ],
   "source": [
    "#plt.subplots(ncols=2)\n",
    "plt.plot(smishing_word_cnt)\n",
    "plt.plot(normal_word_cnt)"
   ]
  },
  {
   "cell_type": "code",
   "execution_count": 74,
   "metadata": {},
   "outputs": [
    {
     "name": "stdout",
     "output_type": "stream",
     "text": [
      "['십니까', False, ['안녕', '하십니까', '(절취선)'], ['안녕']]\n",
      "['입니다', False, ['고객', '님', 'X', '은행', '입니다', '(절취선)'], ['고객', '은행']]\n",
      "['입니다', False, ['금일', '납부', '하셔야', '할', '금액', 'X원', '입니다', '(절취선)'], ['금일', '납부', '금액']]\n",
      "['합니다', False, ['감사', '합니다', '(절취선)'], ['감사']]\n",
      "['으십시오', False, ['새해', '복', '많이', '받으십시오', '(절취선)'], ['새해', '복']]\n",
      "['올림', False, ['X', '은행', '옥포', 'X', '올림'], ['은행', '옥포']]\n",
      "['옥포']\n",
      "[]\n",
      "[0.0, 0.5493061443340549, 0.44793986730701374]\n",
      "2\n"
     ]
    },
    {
     "data": {
      "text/plain": [
       "[None, None, None, None, None, None, None, None, None, None]"
      ]
     },
     "execution_count": 74,
     "metadata": {},
     "output_type": "execute_result"
    }
   ],
   "source": [
    "[print(x) for x in normals[2]]"
   ]
  },
  {
   "cell_type": "code",
   "execution_count": 36,
   "metadata": {},
   "outputs": [],
   "source": [
    "class wordCounter():\n",
    "    def __init__(self):\n",
    "        self.word_bank = {}\n",
    "    \n",
    "    def add_bucket(self, bucket_name):\n",
    "        self.word_bank[bucket_name] = {}\n",
    "        \n",
    "    def add_list(self, bucket_name, word_list:[]):\n",
    "        bucket = self.word_bank[bucket_name]\n",
    "        for keyword in word_list:\n",
    "            if keyword in bucket:\n",
    "                bucket[keyword] += 1\n",
    "            else:\n",
    "                bucket[keyword] = 1\n",
    "                \n",
    "    def get_counts(self, bucket_name):\n",
    "        return self.word_bank[bucket_name]"
   ]
  },
  {
   "cell_type": "code",
   "execution_count": 37,
   "metadata": {},
   "outputs": [],
   "source": [
    "wc = wordCounter()\n",
    "wc.add_bucket('conditioned')\n",
    "wc.add_bucket('general')\n",
    "wc.add_bucket('whole')\n",
    "wc.add_bucket('notargets')\n",
    "wc.add_bucket('targets')\n",
    "\n",
    "LEN_OF_OTHERS = 4\n",
    "\n",
    "for normal in normals:\n",
    "    for item in normal[:-LEN_OF_OTHERS]:\n",
    "        wc.add_list('whole', item[2])\n",
    "        if item[1] == True:\n",
    "            wc.add_list('conditioned', item[3])\n",
    "        else:\n",
    "            wc.add_list('general', item[3])\n",
    "    wc.add_list('notargets', normal[-4])\n",
    "    wc.add_list('targets', normal[-3])\n",
    "\n",
    "for smishing in smishings:\n",
    "    for item in smishing[:-LEN_OF_OTHERS]:\n",
    "        wc.add_list('whole', item[2])\n",
    "        if item[1] == True:\n",
    "            wc.add_list('conditioned', item[3])\n",
    "        else:\n",
    "            wc.add_list('general', item[3])\n",
    "    wc.add_list('notargets', smishing[-4])\n",
    "    wc.add_list('targets', smishing[-3])"
   ]
  },
  {
   "cell_type": "code",
   "execution_count": 38,
   "metadata": {},
   "outputs": [],
   "source": [
    "conditioned_df = pd.Series(wc.get_counts('conditioned'))\n",
    "general_df = pd.Series(wc.get_counts('general'))\n",
    "whole_df = pd.Series(wc.get_counts('whole'))\n",
    "notargets_df = pd.Series(wc.get_counts('notargets'))\n",
    "targets_df = pd.Series(wc.get_counts('targets'))\n",
    "\n",
    "# 글자가 2개 이상인 것만 모아보자\n",
    "conditioned_df = conditioned_df[conditioned_df.index.map(len) > 1]  # M 만 포함시켰으므로.. 길이 2이상인것만\n",
    "general_df = general_df[general_df.index.map(len) > 1]  # M 만 포함시켰으므로.. 길이 2이상인것만\n",
    "# targets_df 일단 생략\n",
    "\n",
    "# 3번 이상 출현한 것만 모아보자\n",
    "#conditioned_df = conditioned_df[conditioned_df.sort_values() > 2]\n",
    "#general_df = general_df[general_df.sort_values() > 2]"
   ]
  },
  {
   "cell_type": "code",
   "execution_count": 39,
   "metadata": {},
   "outputs": [],
   "source": [
    "general_dic = general_df[general_df > 1].sort_values(ascending=False)\n",
    "general_dic = general_dic.reset_index()['index'].to_dict()\n",
    "general_vocab = {general_dic.get(k):k for k in general_dic}"
   ]
  },
  {
   "cell_type": "code",
   "execution_count": 40,
   "metadata": {},
   "outputs": [],
   "source": [
    "conditioned_dic = conditioned_df[conditioned_df > 1].sort_values(ascending=False)\n",
    "conditioned_dic = conditioned_dic.reset_index()['index'].to_dict()\n",
    "conditioned_vocab = {conditioned_dic.get(k):k for k in conditioned_dic}"
   ]
  },
  {
   "cell_type": "code",
   "execution_count": 41,
   "metadata": {},
   "outputs": [],
   "source": [
    "whole_dic = whole_df[whole_df > 1].sort_values(ascending=False)\n",
    "whole_dic = whole_dic.reset_index()['index'].to_dict()\n",
    "whole_vocab = {whole_dic.get(k):k for k in whole_dic}"
   ]
  },
  {
   "cell_type": "code",
   "execution_count": 42,
   "metadata": {},
   "outputs": [],
   "source": [
    "notargets_dic = notargets_df[notargets_df > 1].sort_values(ascending=False)\n",
    "notargets_dic = notargets_dic.reset_index()['index'].to_dict()\n",
    "notargets_vocab = {notargets_dic.get(k):k for k in notargets_dic}"
   ]
  },
  {
   "cell_type": "code",
   "execution_count": 43,
   "metadata": {},
   "outputs": [],
   "source": [
    "targets_dic = targets_df[targets_df > 1].sort_values(ascending=False)\n",
    "targets_dic = targets_dic.reset_index()['index'].to_dict()\n",
    "targets_vocab = {targets_dic.get(k):k for k in targets_dic}"
   ]
  },
  {
   "cell_type": "code",
   "execution_count": 75,
   "metadata": {},
   "outputs": [
    {
     "name": "stdout",
     "output_type": "stream",
     "text": [
      "size of vocab (conditioned, general, whole, targets): 9070 15877 38696 1026\n"
     ]
    }
   ],
   "source": [
    "# smishing cases; length of vocab when it's out of vocab\n",
    "tidf_conditioned = []\n",
    "tidf_general = []\n",
    "tidf_whole = []\n",
    "tidf_notargets = []\n",
    "tidf_targets = []\n",
    "tidf_etc = []\n",
    "\n",
    "cond_vocabsize = len(conditioned_vocab)\n",
    "gen_vocabsize = len(general_vocab)\n",
    "whole_vocabsize = len(whole_vocab)\n",
    "notargets_vocabsize = len(notargets_vocab)\n",
    "targets_vocabsize = len(targets_vocab)\n",
    "\n",
    "print('size of vocab (conditioned, general, whole, targets):', cond_vocabsize, gen_vocabsize, whole_vocabsize, targets_vocabsize)\n",
    "\n",
    "# 문장별 bag of word를 제외한 항목의 수 : notargets, targets, etc, idx\n",
    "LEN_OF_OTHERS = 4\n",
    "for msg in normals:\n",
    "    tidf_conditioned.append([conditioned_vocab.get(x) if x in conditioned_vocab else cond_vocabsize for row in msg[:-LEN_OF_OTHERS] if row[1] == True for x in row[3]])\n",
    "    tidf_general.append([general_vocab.get(x) if x in general_vocab else gen_vocabsize for row in msg[:-LEN_OF_OTHERS] if row[1] == False for x in row[3]])\n",
    "    tidf_whole.append([whole_vocab.get(x) if x in whole_vocab else whole_vocabsize for row in msg[:-LEN_OF_OTHERS] for x in row[2]])\n",
    "    tidf_notargets.append([notargets_vocab.get(x) if x in notargets_vocab else notargets_vocabsize for x in msg[-4]])\n",
    "    tidf_targets.append([targets_vocab.get(x) if x in targets_vocab else targets_vocabsize for x in msg[-3]])\n",
    "    tidf_etc.append(msg[-2])\n",
    "for msg in smishings:\n",
    "    tidf_conditioned.append([conditioned_vocab.get(x) if x in conditioned_vocab else cond_vocabsize for row in msg[:-LEN_OF_OTHERS] if row[1] == True for x in row[3]])\n",
    "    tidf_general.append([general_vocab.get(x) if x in general_vocab else gen_vocabsize for row in msg[:-LEN_OF_OTHERS] if row[1] == False for x in row[3]])\n",
    "    tidf_whole.append([whole_vocab.get(x) if x in whole_vocab else whole_vocabsize for row in msg[:-LEN_OF_OTHERS] for x in row[2]])\n",
    "    tidf_notargets.append([notargets_vocab.get(x) if x in notargets_vocab else notargets_vocabsize for x in msg[-4]])\n",
    "    tidf_targets.append([targets_vocab.get(x) if x in targets_vocab else targets_vocabsize for x in msg[-3]])\n",
    "    tidf_etc.append(msg[-2])"
   ]
  },
  {
   "cell_type": "code",
   "execution_count": 45,
   "metadata": {},
   "outputs": [
    {
     "data": {
      "text/plain": [
       "(295945, 295945, 295945, 295945)"
      ]
     },
     "execution_count": 45,
     "metadata": {},
     "output_type": "execute_result"
    }
   ],
   "source": [
    "len(tidf_conditioned), len(tidf_general), len(tidf_etc), len(tidf_targets)"
   ]
  },
  {
   "cell_type": "code",
   "execution_count": 76,
   "metadata": {},
   "outputs": [
    {
     "name": "stdout",
     "output_type": "stream",
     "text": [
      "conditioned vector minimum size: 260\n",
      "general vector minimum size: 333\n",
      "whole vector minimum size: 508\n",
      "notarget vector minimum size: 332\n",
      "target vector minimum size: 50\n"
     ]
    }
   ],
   "source": [
    "convec_size = max([len(x) for x in tidf_conditioned])\n",
    "genvec_size = max([len(x) for x in tidf_general])\n",
    "whlvec_size = max([len(x) for x in tidf_whole])\n",
    "notgtvec_size = max([len(x) for x in tidf_notargets])\n",
    "tgtvec_size = max([len(x) for x in tidf_targets])\n",
    "\n",
    "# 문장 내 인식한 단어의 개수의 최대값 (문장의 길이가 길수록 크겠지..)\n",
    "print('conditioned vector minimum size:', convec_size)\n",
    "print('general vector minimum size:', genvec_size)\n",
    "print('whole vector minimum size:', whlvec_size)\n",
    "print('notarget vector minimum size:', notgtvec_size)\n",
    "print('target vector minimum size:', tgtvec_size)"
   ]
  },
  {
   "cell_type": "code",
   "execution_count": null,
   "metadata": {},
   "outputs": [],
   "source": []
  },
  {
   "cell_type": "code",
   "execution_count": 78,
   "metadata": {},
   "outputs": [],
   "source": [
    "# 훈련용, 훈련검증용, 결과검증용 분리\n",
    "tidf_conditioned = np.array(tidf_conditioned)\n",
    "tidf_general = np.array(tidf_general)\n",
    "tidf_whole = np.array(tidf_whole)\n",
    "tidf_notargets = np.array(tidf_notargets)\n",
    "tidf_targets = np.array(tidf_targets)\n",
    "tidf_etc = np.array(tidf_etc)\n",
    "tidf_label = np.array([1 if x >= len(normals) else 0 for x in range(tidf_conditioned.shape[0])])"
   ]
  },
  {
   "cell_type": "code",
   "execution_count": 83,
   "metadata": {},
   "outputs": [],
   "source": [
    "from tensorflow.keras.preprocessing.sequence import pad_sequences\n",
    "\n",
    "class DataGenerator(keras.utils.Sequence):\n",
    "    def __init__(self, tidf_cond_train, tidf_gen_train, tidf_whole_train, tidf_notargets_train, tidf_targets_train, tidf_etc_train, tidf_label_train, normal_size=160, smishing_size=160, convec_size=350, genvec_size=470, whlvec_size=500, notgtvec_size=100, tgtvec_size=100):\n",
    "        self.convec_size = convec_size  # including 0 paddings\n",
    "        self.genvec_size = genvec_size  # including 0 paddings\n",
    "        self.whlvec_size = whlvec_size  # including 0 paddings\n",
    "        self.notgtvec_size = notgtvec_size  # including 0 paddings\n",
    "        self.tgtvec_size = tgtvec_size  # including 0 paddings\n",
    "        self.tidf_cond_train_normal = pad_sequences(tidf_cond_train[tidf_label_train == 0], maxlen=self.convec_size, padding='pre')\n",
    "        self.tidf_gen_train_normal = pad_sequences(tidf_gen_train[tidf_label_train == 0], maxlen=self.genvec_size, padding='pre')\n",
    "        self.tidf_whole_train_normal = pad_sequences(tidf_whole_train[tidf_label_train == 0], maxlen=self.whlvec_size, padding='pre')\n",
    "        self.tidf_targets_train_normal = pad_sequences(tidf_targets_train[tidf_label_train == 0], maxlen=self.tgtvec_size, padding='pre')\n",
    "        self.tidf_notargets_train_normal = pad_sequences(tidf_notargets_train[tidf_label_train == 0], maxlen=self.notgtvec_size, padding='pre')\n",
    "        self.tidf_etc_train_normal = tidf_etc_train[tidf_label_train == 0]\n",
    "        self.tidf_cond_train_smishing = pad_sequences(tidf_cond_train[tidf_label_train == 1], maxlen=self.convec_size, padding='pre')\n",
    "        self.tidf_gen_train_smishing = pad_sequences(tidf_gen_train[tidf_label_train == 1], maxlen=self.genvec_size, padding='pre')\n",
    "        self.tidf_whole_train_smishing = pad_sequences(tidf_whole_train[tidf_label_train == 1], maxlen=self.whlvec_size, padding='pre')\n",
    "        self.tidf_notargets_train_smishing = pad_sequences(tidf_notargets_train[tidf_label_train == 1], maxlen=self.notgtvec_size, padding='pre')\n",
    "        self.tidf_targets_train_smishing = pad_sequences(tidf_targets_train[tidf_label_train == 1], maxlen=self.tgtvec_size, padding='pre')\n",
    "        self.tidf_etc_train_smishing = tidf_etc_train[tidf_label_train == 1]\n",
    "        self.sample_size_normal = normal_size\n",
    "        self.sample_size_smishing = smishing_size\n",
    "        self.train_size_normal = len(self.tidf_cond_train_normal)\n",
    "        self.train_size_smishing = len(self.tidf_cond_train_smishing)\n",
    "#         self.sample_size = normal_size + smishing_size\n",
    "#         self.num_batch = int(np.ceil(len(self.tidf_cond_train_normal) // self.sample_size / 10))\n",
    "        self.num_batch_normal = int(np.ceil(self.train_size_normal / self.sample_size_normal))\n",
    "        self.num_batch_smishing = int(np.ceil(self.train_size_smishing / self.sample_size_smishing))\n",
    "        self.normal_train_index = np.array(range(self.train_size_normal))\n",
    "        self.smishing_train_index = np.array(range(self.train_size_smishing))\n",
    "        print(f\"num_batch_normal: {self.num_batch_normal}, num_batch_smishing: {self.num_batch_smishing}\")\n",
    "    \n",
    "    def __len__(self):\n",
    "        return max(self.num_batch_normal, self.num_batch_smishing)\n",
    "    \n",
    "    def __getitem__(self, index):\n",
    "        # sequencial sampling\n",
    "        normal_idx, smishing_idx = index % self.num_batch_normal, index % self.num_batch_smishing\n",
    "        #print(f\"normal_idx: {normal_idx}, smishing_idx: {smishing_idx}\")\n",
    "        normal_sampling = self.normal_train_index // self.sample_size_normal == normal_idx\n",
    "#         normal_sampling = np.random.choice(len(self.tidf_cond_train_normal), self.normal_sample_size)\n",
    "        normal_cond_sample = self.tidf_cond_train_normal[normal_sampling]\n",
    "        normal_gen_sample = self.tidf_gen_train_normal[normal_sampling]\n",
    "        normal_whole_sample = self.tidf_whole_train_normal[normal_sampling]\n",
    "        normal_notargets_sample = self.tidf_notargets_train_normal[normal_sampling]\n",
    "        normal_targets_sample = self.tidf_targets_train_normal[normal_sampling]\n",
    "        normal_etc_sample = self.tidf_etc_train_normal[normal_sampling]\n",
    "        smishing_sampling = self.smishing_train_index // self.sample_size_smishing == smishing_idx\n",
    "#         smishing_sampling = np.random.choice(len(self.tidf_cond_train_smishing), self.smishing_sample_size)\n",
    "        smishing_cond_sample = self.tidf_cond_train_smishing[smishing_sampling]\n",
    "        smishing_gen_sample = self.tidf_gen_train_smishing[smishing_sampling]\n",
    "        smishing_whole_sample = self.tidf_whole_train_smishing[smishing_sampling]\n",
    "        smishing_notargets_sample = self.tidf_notargets_train_smishing[smishing_sampling]\n",
    "        smishing_targets_sample = self.tidf_targets_train_smishing[smishing_sampling]\n",
    "        smishing_etc_sample = self.tidf_etc_train_smishing[smishing_sampling]\n",
    "        sample_cond_train = np.concatenate([normal_cond_sample, smishing_cond_sample])\n",
    "        sample_gen_train = np.concatenate([normal_gen_sample, smishing_gen_sample])\n",
    "        sample_whole_train = np.concatenate([normal_whole_sample, smishing_whole_sample])\n",
    "        sample_notargets_train = np.concatenate([normal_notargets_sample, smishing_notargets_sample])\n",
    "        sample_targets_train = np.concatenate([normal_targets_sample, smishing_targets_sample])\n",
    "        sample_etc_train = np.concatenate([normal_etc_sample, smishing_etc_sample])\n",
    "        sample_label_train = [1 if x >= len(normal_cond_sample) else 0 for x in range(len(sample_cond_train))]\n",
    "        return [sample_cond_train, sample_gen_train, sample_whole_train, sample_notargets_train, sample_targets_train, sample_etc_train], sample_label_train\n",
    "#        return [sample_gen_train, sample_etc_train], sample_label_train\n",
    "\n",
    "    def on_epoch_end(self):\n",
    "        pass"
   ]
  },
  {
   "cell_type": "code",
   "execution_count": 84,
   "metadata": {},
   "outputs": [
    {
     "data": {
      "text/plain": [
       "((177533,), (59281,))"
      ]
     },
     "execution_count": 84,
     "metadata": {},
     "output_type": "execute_result"
    }
   ],
   "source": [
    "TRAIN_RATIO, VALID_RATIO = 0.6, 0.8\n",
    "np.random.seed(0)\n",
    "split = np.random.rand(tidf_conditioned.shape[0])\n",
    "tidf_cond_train = tidf_conditioned[split < TRAIN_RATIO]\n",
    "tidf_cond_valid = tidf_conditioned[(split >= TRAIN_RATIO) & (split < VALID_RATIO)]\n",
    "tidf_cond_test = tidf_conditioned[split >= VALID_RATIO]\n",
    "\n",
    "tidf_gen_train = tidf_general[split < TRAIN_RATIO]\n",
    "tidf_gen_valid = tidf_general[(split >= TRAIN_RATIO) & (split < VALID_RATIO)]\n",
    "tidf_gen_test = tidf_general[split >= VALID_RATIO]\n",
    "\n",
    "tidf_whole_train = tidf_whole[split < TRAIN_RATIO]\n",
    "tidf_whole_valid = tidf_whole[(split >= TRAIN_RATIO) & (split < VALID_RATIO)]\n",
    "tidf_whole_test = tidf_whole[split >= VALID_RATIO]\n",
    "\n",
    "tidf_notargets_train = tidf_notargets[split < TRAIN_RATIO]\n",
    "tidf_notargets_valid = tidf_notargets[(split >= TRAIN_RATIO) & (split < VALID_RATIO)]\n",
    "tidf_notargets_test = tidf_notargets[split >= VALID_RATIO]\n",
    "\n",
    "tidf_targets_train = tidf_targets[split < TRAIN_RATIO]\n",
    "tidf_targets_valid = tidf_targets[(split >= TRAIN_RATIO) & (split < VALID_RATIO)]\n",
    "tidf_targets_test = tidf_targets[split >= VALID_RATIO]\n",
    "\n",
    "tidf_etc_train = tidf_etc[split < TRAIN_RATIO]\n",
    "tidf_etc_valid = tidf_etc[(split >= TRAIN_RATIO) & (split < VALID_RATIO)]\n",
    "tidf_etc_test = tidf_etc[split >= VALID_RATIO]\n",
    "\n",
    "tidf_label_train = tidf_label[split < TRAIN_RATIO]\n",
    "tidf_label_valid = tidf_label[(split >= TRAIN_RATIO) & (split < VALID_RATIO)]\n",
    "tidf_label_test = tidf_label[split >= VALID_RATIO]\n",
    "\n",
    "tidf_cond_train.shape, tidf_cond_valid.shape #, tidf_cond_test.shape"
   ]
  },
  {
   "cell_type": "code",
   "execution_count": 87,
   "metadata": {},
   "outputs": [
    {
     "name": "stderr",
     "output_type": "stream",
     "text": [
      "/home/xikizima/.conda/lib/python3.7/site-packages/ipykernel_launcher.py:45: UserWarning: Update your `Model` call to the Keras 2 API: `Model(inputs=[<tf.Tenso..., outputs=Tensor(\"Ac...)`\n"
     ]
    }
   ],
   "source": [
    "num_predictive_factors1, num_predictive_factors2, num_predictive_factors3, num_predictive_factors4, num_predictive_factors5 = 20, 26, 40, 26, 8\n",
    "n_cond, n_gen, n_whole, n_notargets, n_targets, n_etc = convec_size, genvec_size, whlvec_size, notgtvec_size, tgtvec_size, len(tidf_etc_train[0])\n",
    "cond_input = keras.layers.Input(shape=(n_cond,), name='Cond')\n",
    "gen_input = keras.layers.Input(shape=(n_gen,), name='General')\n",
    "whole_input = keras.layers.Input(shape=(n_whole,), name='Whole')\n",
    "notargets_input = keras.layers.Input(shape=(n_notargets,), name='NoTargets')\n",
    "targets_input = keras.layers.Input(shape=(n_targets,), name='Targets')\n",
    "etc_input = keras.layers.Input(shape=(n_etc,), name='Etc')\n",
    "\n",
    "cond_vec_mlp = keras.layers.Embedding(cond_vocabsize + 1, num_predictive_factors1, )(cond_input)\n",
    "cond_vec_mlp = keras.layers.Flatten(name='Flattenconds-MLP')(cond_vec_mlp)\n",
    "cond_vec_mlp = keras.layers.Dropout(0.3)(cond_vec_mlp)\n",
    "\n",
    "gen_vec_mlp = keras.layers.Embedding(gen_vocabsize + 1, num_predictive_factors2, )(gen_input)\n",
    "gen_vec_mlp = keras.layers.Flatten(name='Flattengens-MLP')(gen_vec_mlp)\n",
    "gen_vec_mlp = keras.layers.Dropout(0.3)(gen_vec_mlp)\n",
    "\n",
    "whole_vec_mlp = keras.layers.Embedding(whole_vocabsize + 1, num_predictive_factors3, )(whole_input)\n",
    "whole_vec_mlp = keras.layers.Flatten(name='Flattenwhls-MLP')(whole_vec_mlp)\n",
    "whole_vec_mlp = keras.layers.Dropout(0.3)(whole_vec_mlp)\n",
    "\n",
    "notargets_vec_mlp = keras.layers.Embedding(notargets_vocabsize + 1, num_predictive_factors4, )(notargets_input)\n",
    "notargets_vec_mlp = keras.layers.Flatten(name='FlattenNotgts-MLP')(notargets_vec_mlp)\n",
    "notargets_vec_mlp = keras.layers.Dropout(0.3)(notargets_vec_mlp)\n",
    "\n",
    "targets_vec_mlp = keras.layers.Embedding(targets_vocabsize + 1, num_predictive_factors5, )(targets_input)\n",
    "targets_vec_mlp = keras.layers.Flatten(name='Flattentgts-MLP')(targets_vec_mlp)\n",
    "targets_vec_mlp = keras.layers.Dropout(0.3)(targets_vec_mlp)\n",
    "\n",
    "concat_mlp = keras.layers.merge.concatenate([cond_vec_mlp, gen_vec_mlp, whole_vec_mlp, notargets_vec_mlp, targets_vec_mlp, etc_input])\n",
    "concat_dropout_mlp = keras.layers.Dropout(0.3)(concat_mlp)\n",
    "\n",
    "dense = keras.layers.Dense(32, kernel_regularizer=keras.regularizers.l2(0.0025), name='FullyConnected-1', activation='relu')(concat_dropout_mlp)\n",
    "dropout_1 = keras.layers.Dropout(0.3, name='Dropout-1')(dense)\n",
    "\n",
    "#dense_2 = keras.layers.Dense(DENSE2, kernel_regularizer=keras.regularizers.l2(0.001), name='FullyConnected-2', activation='relu')(dropout_1)\n",
    "#dropout_2 = keras.layers.Dropout(0.3, name='Dropout-2')(dense_2)\n",
    "\n",
    "#dense_3 = keras.layers.Dense(DENSE3, kernel_regularizer=keras.regularizers.l2(0.001), name='FullyConnected-3', activation='relu')(dropout_2)\n",
    "#dropout_3 = keras.layers.Dropout(0.3, name='Dropout-3')(dense_3)\n",
    "\n",
    "dense_4 = keras.layers.Dense(32, kernel_regularizer=keras.regularizers.l2(0.0025), name='FullyConnected-4', activation='relu')(dropout_1)\n",
    "pred_mlp = keras.layers.Dense(1, activation='sigmoid', name='Activation')(dense_4)\n",
    "\n",
    "model = keras.Model(inputs=[cond_input, gen_input, whole_input, notargets_input, targets_input, etc_input ], output=pred_mlp)  #  etc_input\n",
    "model.compile(optimizer=keras.optimizers.Adam(lr=1e-4), loss='binary_crossentropy', metrics=['binary_crossentropy', 'accuracy'])\n",
    "#model.compile(optimizer=keras.optimizers.Adamax(lr=1e-3), loss='binary_crossentropy', metrics=['binary_crossentropy', 'accuracy'])"
   ]
  },
  {
   "cell_type": "code",
   "execution_count": 88,
   "metadata": {},
   "outputs": [
    {
     "name": "stdout",
     "output_type": "stream",
     "text": [
      "num_batch_normal: 1039, num_batch_smishing: 71\n",
      "num_batch_normal: 56, num_batch_smishing: 4\n",
      "Epoch 1/40\n",
      "1039/1039 [==============================] - 403s 388ms/step - loss: 0.1116 - binary_crossentropy: 0.0527 - acc: 0.9840 - val_loss: 0.0418 - val_binary_crossentropy: 0.0063 - val_acc: 0.9986\n",
      "Epoch 2/40\n",
      "1039/1039 [==============================] - 392s 378ms/step - loss: 0.0334 - binary_crossentropy: 0.0066 - acc: 0.9991 - val_loss: 0.0256 - val_binary_crossentropy: 0.0045 - val_acc: 0.9989\n",
      "Epoch 3/40\n",
      "1039/1039 [==============================] - 406s 391ms/step - loss: 0.0218 - binary_crossentropy: 0.0042 - acc: 0.9994 - val_loss: 0.0192 - val_binary_crossentropy: 0.0042 - val_acc: 0.9989\n",
      "Epoch 4/40\n",
      "1039/1039 [==============================] - 412s 396ms/step - loss: 0.0161 - binary_crossentropy: 0.0032 - acc: 0.9995 - val_loss: 0.0165 - val_binary_crossentropy: 0.0053 - val_acc: 0.9987\n",
      "Epoch 5/40\n",
      "1039/1039 [==============================] - 412s 397ms/step - loss: 0.0121 - binary_crossentropy: 0.0025 - acc: 0.9996 - val_loss: 0.0123 - val_binary_crossentropy: 0.0041 - val_acc: 0.9989\n",
      "Epoch 6/40\n",
      "1039/1039 [==============================] - 414s 398ms/step - loss: 0.0095 - binary_crossentropy: 0.0022 - acc: 0.9997 - val_loss: 0.0118 - val_binary_crossentropy: 0.0053 - val_acc: 0.9987\n",
      "Epoch 7/40\n",
      "1039/1039 [==============================] - 412s 396ms/step - loss: 0.0077 - binary_crossentropy: 0.0018 - acc: 0.9997 - val_loss: 0.0089 - val_binary_crossentropy: 0.0038 - val_acc: 0.9992\n",
      "Epoch 8/40\n",
      "1039/1039 [==============================] - 412s 397ms/step - loss: 0.0064 - binary_crossentropy: 0.0017 - acc: 0.9998 - val_loss: 0.0092 - val_binary_crossentropy: 0.0048 - val_acc: 0.9988\n",
      "Epoch 9/40\n",
      "1039/1039 [==============================] - 412s 397ms/step - loss: 0.0057 - binary_crossentropy: 0.0015 - acc: 0.9998 - val_loss: 0.0074 - val_binary_crossentropy: 0.0035 - val_acc: 0.9993\n",
      "Epoch 10/40\n",
      "1039/1039 [==============================] - 413s 397ms/step - loss: 0.0050 - binary_crossentropy: 0.0013 - acc: 0.9998 - val_loss: 0.0082 - val_binary_crossentropy: 0.0048 - val_acc: 0.9988\n",
      "Epoch 11/40\n",
      "1039/1039 [==============================] - 412s 396ms/step - loss: 0.0046 - binary_crossentropy: 0.0013 - acc: 0.9998 - val_loss: 0.0076 - val_binary_crossentropy: 0.0043 - val_acc: 0.9989\n",
      "Epoch 12/40\n",
      "1039/1039 [==============================] - 412s 397ms/step - loss: 0.0040 - binary_crossentropy: 0.0010 - acc: 0.9999 - val_loss: 0.0061 - val_binary_crossentropy: 0.0033 - val_acc: 0.9993\n",
      "Epoch 13/40\n",
      "1039/1039 [==============================] - 469s 451ms/step - loss: 0.0038 - binary_crossentropy: 0.0010 - acc: 0.9999 - val_loss: 0.0072 - val_binary_crossentropy: 0.0044 - val_acc: 0.9989\n",
      "Epoch 14/40\n",
      "1039/1039 [==============================] - 475s 457ms/step - loss: 0.0036 - binary_crossentropy: 9.8304e-04 - acc: 0.9998 - val_loss: 0.0066 - val_binary_crossentropy: 0.0036 - val_acc: 0.9993\n",
      "Epoch 15/40\n",
      "   5/1039 [..............................] - ETA: 6:56 - loss: 0.0035 - binary_crossentropy: 5.3762e-04 - acc: 1.0000"
     ]
    },
    {
     "ename": "KeyboardInterrupt",
     "evalue": "",
     "output_type": "error",
     "traceback": [
      "\u001b[0;31m---------------------------------------------------------------------------\u001b[0m",
      "\u001b[0;31mKeyboardInterrupt\u001b[0m                         Traceback (most recent call last)",
      "\u001b[0;32m<ipython-input-88-54394d45aa43>\u001b[0m in \u001b[0;36m<module>\u001b[0;34m\u001b[0m\n\u001b[1;32m      7\u001b[0m \u001b[0;31m#                               workers=3,\u001b[0m\u001b[0;34m\u001b[0m\u001b[0;34m\u001b[0m\u001b[0;34m\u001b[0m\u001b[0m\n\u001b[1;32m      8\u001b[0m                              \u001b[0mvalidation_data\u001b[0m\u001b[0;34m=\u001b[0m\u001b[0mvalid_gen\u001b[0m\u001b[0;34m,\u001b[0m\u001b[0;34m\u001b[0m\u001b[0;34m\u001b[0m\u001b[0m\n\u001b[0;32m----> 9\u001b[0;31m                              verbose=1)\n\u001b[0m",
      "\u001b[0;32m~/.conda/lib/python3.7/site-packages/keras/legacy/interfaces.py\u001b[0m in \u001b[0;36mwrapper\u001b[0;34m(*args, **kwargs)\u001b[0m\n\u001b[1;32m     89\u001b[0m                 warnings.warn('Update your `' + object_name + '` call to the ' +\n\u001b[1;32m     90\u001b[0m                               'Keras 2 API: ' + signature, stacklevel=2)\n\u001b[0;32m---> 91\u001b[0;31m             \u001b[0;32mreturn\u001b[0m \u001b[0mfunc\u001b[0m\u001b[0;34m(\u001b[0m\u001b[0;34m*\u001b[0m\u001b[0margs\u001b[0m\u001b[0;34m,\u001b[0m \u001b[0;34m**\u001b[0m\u001b[0mkwargs\u001b[0m\u001b[0;34m)\u001b[0m\u001b[0;34m\u001b[0m\u001b[0;34m\u001b[0m\u001b[0m\n\u001b[0m\u001b[1;32m     92\u001b[0m         \u001b[0mwrapper\u001b[0m\u001b[0;34m.\u001b[0m\u001b[0m_original_function\u001b[0m \u001b[0;34m=\u001b[0m \u001b[0mfunc\u001b[0m\u001b[0;34m\u001b[0m\u001b[0;34m\u001b[0m\u001b[0m\n\u001b[1;32m     93\u001b[0m         \u001b[0;32mreturn\u001b[0m \u001b[0mwrapper\u001b[0m\u001b[0;34m\u001b[0m\u001b[0;34m\u001b[0m\u001b[0m\n",
      "\u001b[0;32m~/.conda/lib/python3.7/site-packages/keras/engine/training.py\u001b[0m in \u001b[0;36mfit_generator\u001b[0;34m(self, generator, steps_per_epoch, epochs, verbose, callbacks, validation_data, validation_steps, class_weight, max_queue_size, workers, use_multiprocessing, shuffle, initial_epoch)\u001b[0m\n\u001b[1;32m   1416\u001b[0m             \u001b[0muse_multiprocessing\u001b[0m\u001b[0;34m=\u001b[0m\u001b[0muse_multiprocessing\u001b[0m\u001b[0;34m,\u001b[0m\u001b[0;34m\u001b[0m\u001b[0;34m\u001b[0m\u001b[0m\n\u001b[1;32m   1417\u001b[0m             \u001b[0mshuffle\u001b[0m\u001b[0;34m=\u001b[0m\u001b[0mshuffle\u001b[0m\u001b[0;34m,\u001b[0m\u001b[0;34m\u001b[0m\u001b[0;34m\u001b[0m\u001b[0m\n\u001b[0;32m-> 1418\u001b[0;31m             initial_epoch=initial_epoch)\n\u001b[0m\u001b[1;32m   1419\u001b[0m \u001b[0;34m\u001b[0m\u001b[0m\n\u001b[1;32m   1420\u001b[0m     \u001b[0;34m@\u001b[0m\u001b[0minterfaces\u001b[0m\u001b[0;34m.\u001b[0m\u001b[0mlegacy_generator_methods_support\u001b[0m\u001b[0;34m\u001b[0m\u001b[0;34m\u001b[0m\u001b[0m\n",
      "\u001b[0;32m~/.conda/lib/python3.7/site-packages/keras/engine/training_generator.py\u001b[0m in \u001b[0;36mfit_generator\u001b[0;34m(model, generator, steps_per_epoch, epochs, verbose, callbacks, validation_data, validation_steps, class_weight, max_queue_size, workers, use_multiprocessing, shuffle, initial_epoch)\u001b[0m\n\u001b[1;32m    215\u001b[0m                 outs = model.train_on_batch(x, y,\n\u001b[1;32m    216\u001b[0m                                             \u001b[0msample_weight\u001b[0m\u001b[0;34m=\u001b[0m\u001b[0msample_weight\u001b[0m\u001b[0;34m,\u001b[0m\u001b[0;34m\u001b[0m\u001b[0;34m\u001b[0m\u001b[0m\n\u001b[0;32m--> 217\u001b[0;31m                                             class_weight=class_weight)\n\u001b[0m\u001b[1;32m    218\u001b[0m \u001b[0;34m\u001b[0m\u001b[0m\n\u001b[1;32m    219\u001b[0m                 \u001b[0mouts\u001b[0m \u001b[0;34m=\u001b[0m \u001b[0mto_list\u001b[0m\u001b[0;34m(\u001b[0m\u001b[0mouts\u001b[0m\u001b[0;34m)\u001b[0m\u001b[0;34m\u001b[0m\u001b[0;34m\u001b[0m\u001b[0m\n",
      "\u001b[0;32m~/.conda/lib/python3.7/site-packages/keras/engine/training.py\u001b[0m in \u001b[0;36mtrain_on_batch\u001b[0;34m(self, x, y, sample_weight, class_weight)\u001b[0m\n\u001b[1;32m   1215\u001b[0m             \u001b[0mins\u001b[0m \u001b[0;34m=\u001b[0m \u001b[0mx\u001b[0m \u001b[0;34m+\u001b[0m \u001b[0my\u001b[0m \u001b[0;34m+\u001b[0m \u001b[0msample_weights\u001b[0m\u001b[0;34m\u001b[0m\u001b[0;34m\u001b[0m\u001b[0m\n\u001b[1;32m   1216\u001b[0m         \u001b[0mself\u001b[0m\u001b[0;34m.\u001b[0m\u001b[0m_make_train_function\u001b[0m\u001b[0;34m(\u001b[0m\u001b[0;34m)\u001b[0m\u001b[0;34m\u001b[0m\u001b[0;34m\u001b[0m\u001b[0m\n\u001b[0;32m-> 1217\u001b[0;31m         \u001b[0moutputs\u001b[0m \u001b[0;34m=\u001b[0m \u001b[0mself\u001b[0m\u001b[0;34m.\u001b[0m\u001b[0mtrain_function\u001b[0m\u001b[0;34m(\u001b[0m\u001b[0mins\u001b[0m\u001b[0;34m)\u001b[0m\u001b[0;34m\u001b[0m\u001b[0;34m\u001b[0m\u001b[0m\n\u001b[0m\u001b[1;32m   1218\u001b[0m         \u001b[0;32mreturn\u001b[0m \u001b[0munpack_singleton\u001b[0m\u001b[0;34m(\u001b[0m\u001b[0moutputs\u001b[0m\u001b[0;34m)\u001b[0m\u001b[0;34m\u001b[0m\u001b[0;34m\u001b[0m\u001b[0m\n\u001b[1;32m   1219\u001b[0m \u001b[0;34m\u001b[0m\u001b[0m\n",
      "\u001b[0;32m~/.conda/lib/python3.7/site-packages/keras/backend/tensorflow_backend.py\u001b[0m in \u001b[0;36m__call__\u001b[0;34m(self, inputs)\u001b[0m\n\u001b[1;32m   2713\u001b[0m                 \u001b[0;32mreturn\u001b[0m \u001b[0mself\u001b[0m\u001b[0;34m.\u001b[0m\u001b[0m_legacy_call\u001b[0m\u001b[0;34m(\u001b[0m\u001b[0minputs\u001b[0m\u001b[0;34m)\u001b[0m\u001b[0;34m\u001b[0m\u001b[0;34m\u001b[0m\u001b[0m\n\u001b[1;32m   2714\u001b[0m \u001b[0;34m\u001b[0m\u001b[0m\n\u001b[0;32m-> 2715\u001b[0;31m             \u001b[0;32mreturn\u001b[0m \u001b[0mself\u001b[0m\u001b[0;34m.\u001b[0m\u001b[0m_call\u001b[0m\u001b[0;34m(\u001b[0m\u001b[0minputs\u001b[0m\u001b[0;34m)\u001b[0m\u001b[0;34m\u001b[0m\u001b[0;34m\u001b[0m\u001b[0m\n\u001b[0m\u001b[1;32m   2716\u001b[0m         \u001b[0;32melse\u001b[0m\u001b[0;34m:\u001b[0m\u001b[0;34m\u001b[0m\u001b[0;34m\u001b[0m\u001b[0m\n\u001b[1;32m   2717\u001b[0m             \u001b[0;32mif\u001b[0m \u001b[0mpy_any\u001b[0m\u001b[0;34m(\u001b[0m\u001b[0mis_tensor\u001b[0m\u001b[0;34m(\u001b[0m\u001b[0mx\u001b[0m\u001b[0;34m)\u001b[0m \u001b[0;32mfor\u001b[0m \u001b[0mx\u001b[0m \u001b[0;32min\u001b[0m \u001b[0minputs\u001b[0m\u001b[0;34m)\u001b[0m\u001b[0;34m:\u001b[0m\u001b[0;34m\u001b[0m\u001b[0;34m\u001b[0m\u001b[0m\n",
      "\u001b[0;32m~/.conda/lib/python3.7/site-packages/keras/backend/tensorflow_backend.py\u001b[0m in \u001b[0;36m_call\u001b[0;34m(self, inputs)\u001b[0m\n\u001b[1;32m   2673\u001b[0m             \u001b[0mfetched\u001b[0m \u001b[0;34m=\u001b[0m \u001b[0mself\u001b[0m\u001b[0;34m.\u001b[0m\u001b[0m_callable_fn\u001b[0m\u001b[0;34m(\u001b[0m\u001b[0;34m*\u001b[0m\u001b[0marray_vals\u001b[0m\u001b[0;34m,\u001b[0m \u001b[0mrun_metadata\u001b[0m\u001b[0;34m=\u001b[0m\u001b[0mself\u001b[0m\u001b[0;34m.\u001b[0m\u001b[0mrun_metadata\u001b[0m\u001b[0;34m)\u001b[0m\u001b[0;34m\u001b[0m\u001b[0;34m\u001b[0m\u001b[0m\n\u001b[1;32m   2674\u001b[0m         \u001b[0;32melse\u001b[0m\u001b[0;34m:\u001b[0m\u001b[0;34m\u001b[0m\u001b[0;34m\u001b[0m\u001b[0m\n\u001b[0;32m-> 2675\u001b[0;31m             \u001b[0mfetched\u001b[0m \u001b[0;34m=\u001b[0m \u001b[0mself\u001b[0m\u001b[0;34m.\u001b[0m\u001b[0m_callable_fn\u001b[0m\u001b[0;34m(\u001b[0m\u001b[0;34m*\u001b[0m\u001b[0marray_vals\u001b[0m\u001b[0;34m)\u001b[0m\u001b[0;34m\u001b[0m\u001b[0;34m\u001b[0m\u001b[0m\n\u001b[0m\u001b[1;32m   2676\u001b[0m         \u001b[0;32mreturn\u001b[0m \u001b[0mfetched\u001b[0m\u001b[0;34m[\u001b[0m\u001b[0;34m:\u001b[0m\u001b[0mlen\u001b[0m\u001b[0;34m(\u001b[0m\u001b[0mself\u001b[0m\u001b[0;34m.\u001b[0m\u001b[0moutputs\u001b[0m\u001b[0;34m)\u001b[0m\u001b[0;34m]\u001b[0m\u001b[0;34m\u001b[0m\u001b[0;34m\u001b[0m\u001b[0m\n\u001b[1;32m   2677\u001b[0m \u001b[0;34m\u001b[0m\u001b[0m\n",
      "\u001b[0;32m~/.conda/lib/python3.7/site-packages/tensorflow_core/python/client/session.py\u001b[0m in \u001b[0;36m__call__\u001b[0;34m(self, *args, **kwargs)\u001b[0m\n\u001b[1;32m   1470\u001b[0m         ret = tf_session.TF_SessionRunCallable(self._session._session,\n\u001b[1;32m   1471\u001b[0m                                                \u001b[0mself\u001b[0m\u001b[0;34m.\u001b[0m\u001b[0m_handle\u001b[0m\u001b[0;34m,\u001b[0m \u001b[0margs\u001b[0m\u001b[0;34m,\u001b[0m\u001b[0;34m\u001b[0m\u001b[0;34m\u001b[0m\u001b[0m\n\u001b[0;32m-> 1472\u001b[0;31m                                                run_metadata_ptr)\n\u001b[0m\u001b[1;32m   1473\u001b[0m         \u001b[0;32mif\u001b[0m \u001b[0mrun_metadata\u001b[0m\u001b[0;34m:\u001b[0m\u001b[0;34m\u001b[0m\u001b[0;34m\u001b[0m\u001b[0m\n\u001b[1;32m   1474\u001b[0m           \u001b[0mproto_data\u001b[0m \u001b[0;34m=\u001b[0m \u001b[0mtf_session\u001b[0m\u001b[0;34m.\u001b[0m\u001b[0mTF_GetBuffer\u001b[0m\u001b[0;34m(\u001b[0m\u001b[0mrun_metadata_ptr\u001b[0m\u001b[0;34m)\u001b[0m\u001b[0;34m\u001b[0m\u001b[0;34m\u001b[0m\u001b[0m\n",
      "\u001b[0;31mKeyboardInterrupt\u001b[0m: "
     ]
    }
   ],
   "source": [
    "train_gen = DataGenerator(tidf_cond_train, tidf_gen_train, tidf_whole_train, tidf_notargets_train, tidf_targets_train, tidf_etc_train, tidf_label_train, 160, 160, convec_size, genvec_size, whlvec_size, notgtvec_size, tgtvec_size)\n",
    "valid_gen = DataGenerator(tidf_cond_valid, tidf_gen_valid, tidf_whole_valid, tidf_notargets_valid, tidf_targets_valid, tidf_etc_valid, tidf_label_valid, 1000, 1000, convec_size, genvec_size, whlvec_size, notgtvec_size, tgtvec_size)\n",
    "\n",
    "history = model.fit_generator(generator=train_gen,\n",
    "                             epochs = 40,\n",
    "#                              use_multiprocessing=True,\n",
    "#                               workers=3,\n",
    "                             validation_data=valid_gen,\n",
    "                             verbose=1)"
   ]
  },
  {
   "cell_type": "code",
   "execution_count": null,
   "metadata": {},
   "outputs": [],
   "source": [
    "import matplotlib.pyplot as plt\n",
    "fig, loss_ax = plt.subplots()\n",
    "fig.set_figheight(10)\n",
    "fig.set_figwidth(20)\n",
    "acc_ax = loss_ax.twinx()\n",
    "loss_ax.plot(history.history['loss'], 'y', label='train_loss')\n",
    "loss_ax.plot(history.history['val_loss'], 'r', label='val_loss')\n",
    "\n",
    "acc_ax.plot(history.history['acc'], 'b', label='train_acc')\n",
    "acc_ax.plot(history.history['val_acc'], 'g', label='val_acc')\n",
    "\n",
    "loss_ax.set_xlabel('epoch')\n",
    "loss_ax.set_ylabel('loss')\n",
    "acc_ax.set_ylabel('accuracy')\n",
    "loss_ax.legend(loc='upper left')\n",
    "acc_ax.legend(loc='lower left')\n",
    "\n",
    "plt.show()"
   ]
  },
  {
   "cell_type": "code",
   "execution_count": 89,
   "metadata": {},
   "outputs": [
    {
     "data": {
      "text/plain": [
       "[<matplotlib.lines.Line2D at 0x7fba26cda290>]"
      ]
     },
     "execution_count": 89,
     "metadata": {},
     "output_type": "execute_result"
    },
    {
     "data": {
      "image/png": "[encoded data removed]",
      "text/plain": [
       "<Figure size 1440x720 with 1 Axes>"
      ]
     },
     "metadata": {
      "needs_background": "light"
     },
     "output_type": "display_data"
    }
   ],
   "source": [
    "# 14번 trained. val acc:0.993\n",
    "data_gen_test = pad_sequences(tidf_gen_test, maxlen=genvec_size, padding='pre')\n",
    "data_cond_test = pad_sequences(tidf_cond_test, maxlen=convec_size, padding='pre')\n",
    "data_whole_test = pad_sequences(tidf_whole_test, maxlen=whlvec_size, padding='pre')\n",
    "data_notargets_test = pad_sequences(tidf_notargets_test, maxlen=notgtvec_size, padding='pre')\n",
    "data_targets_test = pad_sequences(tidf_targets_test, maxlen=tgtvec_size, padding='pre')\n",
    "data_etc_test = tidf_etc_test\n",
    "\n",
    "pred_test = model.predict(x=[data_cond_test, data_gen_test, data_whole_test, data_notargets_test, data_targets_test, data_etc_test], batch_size=160)\n",
    "gap = np.abs(tidf_label_test - pred_test.reshape([-1,]))\n",
    "\n",
    "plt.figure(figsize=(20,10))\n",
    "plt.plot(gap)"
   ]
  },
  {
   "cell_type": "code",
   "execution_count": 25,
   "metadata": {},
   "outputs": [
    {
     "data": {
      "text/plain": [
       "[<matplotlib.lines.Line2D at 0x7fb9c8623610>]"
      ]
     },
     "execution_count": 25,
     "metadata": {},
     "output_type": "execute_result"
    },
    {
     "data": {
      "image/png": "[encoded data removed]",
      "text/plain": [
       "<Figure size 1440x720 with 1 Axes>"
      ]
     },
     "metadata": {
      "needs_background": "light"
     },
     "output_type": "display_data"
    }
   ],
   "source": [
    "# 14번 trained. 결과는?\n",
    "data_gen_test = pad_sequences(tidf_gen_test, maxlen=genvec_size, padding='pre')\n",
    "data_cond_test = pad_sequences(tidf_cond_test, maxlen=convec_size, padding='pre')\n",
    "data_whole_test = pad_sequences(tidf_whole_test, maxlen=whlvec_size, padding='pre')\n",
    "data_notargets_test = pad_sequences(tidf_notargets_test, maxlen=notgtvec_size, padding='pre')\n",
    "data_targets_test = pad_sequences(tidf_targets_test, maxlen=tgtvec_size, padding='pre')\n",
    "data_etc_test = tidf_etc_test\n",
    "\n",
    "pred_test = model.predict(x=[data_cond_test, data_gen_test, data_whole_test, data_notargets_test, data_targets_test, data_etc_test], batch_size=160)\n",
    "gap = np.abs(tidf_label_test - pred_test.reshape([-1,]))\n",
    "\n",
    "plt.figure(figsize=(20,10))\n",
    "plt.plot(gap)"
   ]
  },
  {
   "cell_type": "code",
   "execution_count": 166,
   "metadata": {},
   "outputs": [
    {
     "data": {
      "text/plain": [
       "[<matplotlib.lines.Line2D at 0x75d888780>]"
      ]
     },
     "execution_count": 166,
     "metadata": {},
     "output_type": "execute_result"
    },
    {
     "data": {
      "image/png": "[encoded data removed]",
      "text/plain": [
       "<Figure size 1440x720 with 1 Axes>"
      ]
     },
     "metadata": {
      "needs_background": "light"
     },
     "output_type": "display_data"
    }
   ],
   "source": [
    "# 9번 trained. 꽤 좋을 듯.. 여러번 돌려보자 (조금 덜 overfit되는 듯)\n",
    "data_gen_test = pad_sequences(tidf_gen_test, maxlen=genvec_size, padding='pre')\n",
    "data_cond_test = pad_sequences(tidf_cond_test, maxlen=convec_size, padding='pre')\n",
    "data_whole_test = pad_sequences(tidf_whole_test, maxlen=whlvec_size, padding='pre')\n",
    "data_targets_test = pad_sequences(tidf_targets_test, maxlen=tgtvec_size, padding='pre')\n",
    "data_etc_test = tidf_etc_test\n",
    "\n",
    "pred_test = model.predict(x=[data_cond_test, data_gen_test, data_whole_test, data_targets_test, data_etc_test], batch_size=160)\n",
    "gap = np.abs(tidf_label_test - pred_test.reshape([-1,]))\n",
    "\n",
    "plt.figure(figsize=(20,10))\n",
    "plt.plot(gap)"
   ]
  },
  {
   "cell_type": "code",
   "execution_count": 152,
   "metadata": {},
   "outputs": [
    {
     "data": {
      "text/plain": [
       "[<matplotlib.lines.Line2D at 0x72a425f28>]"
      ]
     },
     "execution_count": 152,
     "metadata": {},
     "output_type": "execute_result"
    },
    {
     "data": {
      "image/png": "[encoded data removed]",
      "text/plain": [
       "<Figure size 1440x720 with 1 Axes>"
      ]
     },
     "metadata": {
      "needs_background": "light"
     },
     "output_type": "display_data"
    }
   ],
   "source": [
    "# 18 trained : weight vector 크기 줄이기 전. overfit 되는 것 같다. 0.972기록\n",
    "data_gen_test = pad_sequences(tidf_gen_test, maxlen=genvec_size, padding='pre')\n",
    "data_cond_test = pad_sequences(tidf_cond_test, maxlen=convec_size, padding='pre')\n",
    "data_whole_test = pad_sequences(tidf_whole_test, maxlen=whlvec_size, padding='pre')\n",
    "data_targets_test = pad_sequences(tidf_targets_test, maxlen=tgtvec_size, padding='pre')\n",
    "data_etc_test = tidf_etc_test\n",
    "\n",
    "pred_test = model.predict(x=[data_cond_test, data_gen_test, data_whole_test, data_targets_test, data_etc_test], batch_size=160)\n",
    "gap = np.abs(tidf_label_test - pred_test.reshape([-1,]))\n",
    "\n",
    "plt.figure(figsize=(20,10))\n",
    "plt.plot(gap)"
   ]
  },
  {
   "cell_type": "code",
   "execution_count": 90,
   "metadata": {},
   "outputs": [
    {
     "name": "stdout",
     "output_type": "stream",
     "text": [
      "auc : 0.999999921191529\n"
     ]
    },
    {
     "data": {
      "image/png": "[encoded data removed]",
      "text/plain": [
       "<Figure size 360x360 with 1 Axes>"
      ]
     },
     "metadata": {
      "needs_background": "light"
     },
     "output_type": "display_data"
    }
   ],
   "source": [
    "from sklearn.metrics import confusion_matrix, roc_curve\n",
    "from sklearn.metrics import auc\n",
    "from matplotlib import pyplot as plt\n",
    "\n",
    "fpr, tpr, thresholds = roc_curve(tidf_label_test, pred_test)\n",
    "print('auc :', auc(fpr,tpr))\n",
    "\n",
    "plt.figure(figsize=(5,5))\n",
    "plt.plot(fpr,tpr,'-')\n",
    "plt.plot([0,1],[0,1], 'k--')\n",
    "plt.show()"
   ]
  },
  {
   "cell_type": "code",
   "execution_count": null,
   "metadata": {},
   "outputs": [],
   "source": []
  },
  {
   "cell_type": "code",
   "execution_count": null,
   "metadata": {},
   "outputs": [],
   "source": []
  },
  {
   "cell_type": "code",
   "execution_count": null,
   "metadata": {},
   "outputs": [],
   "source": [
    "# 제출 준비"
   ]
  },
  {
   "cell_type": "code",
   "execution_count": 91,
   "metadata": {},
   "outputs": [],
   "source": [
    "submit_df = pd.read_csv('./data/public_test.csv')"
   ]
  },
  {
   "cell_type": "code",
   "execution_count": 92,
   "metadata": {},
   "outputs": [
    {
     "name": "stdout",
     "output_type": "stream",
     "text": [
      "2020-01-07 22:53:48.977209 0\n"
     ]
    }
   ],
   "source": [
    "unknowns = []\n",
    "\n",
    "idx = 0\n",
    "for idx, item in submit_df.iterrows():\n",
    "    splited, etc = parse_sentence(item.text)\n",
    "    etc.append(np.log(len(item.text))/8)  # 문장 전체의 길이\n",
    "    etc.append(np.log(len(splited))/4)  # 문장의 개수\n",
    "    splited.append(etc)\n",
    "    splited.append(item.id)\n",
    "    unknowns.append(splited)\n",
    "    if idx % 100000 == 0:\n",
    "        print(datetime.now(), idx)\n",
    "    idx += 1"
   ]
  },
  {
   "cell_type": "code",
   "execution_count": 93,
   "metadata": {},
   "outputs": [],
   "source": [
    "for unknown in unknowns:\n",
    "    notarget_word_list = [x for row in unknown[:-2] for x in row[3] if x in norm_target_words]\n",
    "    target_word_list = [x for row in unknown[:-2] for x in row[3] if x in smish_target_words]\n",
    "    unknown.insert(-2, notarget_word_list)\n",
    "    unknown.insert(-2, target_word_list)"
   ]
  },
  {
   "cell_type": "code",
   "execution_count": 95,
   "metadata": {},
   "outputs": [
    {
     "name": "stdout",
     "output_type": "stream",
     "text": [
      "size of vocab (conditioned, general): 9070 15877\n"
     ]
    }
   ],
   "source": [
    "# smishing cases; length of vocab when it's out of vocab\n",
    "submit_conditioned = []\n",
    "submit_general = []\n",
    "submit_whole = []\n",
    "submit_notargets = []\n",
    "submit_targets = []\n",
    "submit_etc = []\n",
    "\n",
    "cond_vocabsize = len(conditioned_vocab)\n",
    "gen_vocabsize = len(general_vocab)\n",
    "whole_vocabsize = len(whole_vocab)\n",
    "notargets_vocabsize = len(notargets_vocab)\n",
    "targets_vocabsize = len(targets_vocab)\n",
    "\n",
    "print('size of vocab (conditioned, general):', cond_vocabsize, gen_vocabsize)\n",
    "for msg in unknowns:\n",
    "    submit_conditioned.append([conditioned_vocab.get(x) if x in conditioned_vocab else cond_vocabsize for row in msg[:-4] if row[1] == True for x in row[3]])\n",
    "    submit_general.append([general_vocab.get(x) if x in general_vocab else gen_vocabsize for row in msg[:-4] if row[1] == False for x in row[3]])\n",
    "    submit_whole.append([whole_vocab.get(x) if x in whole_vocab else whole_vocabsize for row in msg[:-4] for x in row[2]])\n",
    "    submit_notargets.append([notargets_vocab.get(x) if x in notargets_vocab else notargets_vocabsize for x in msg[-4]])\n",
    "    submit_targets.append([targets_vocab.get(x) if x in targets_vocab else targets_vocabsize for x in msg[-3]])\n",
    "    submit_etc.append(msg[-2])"
   ]
  },
  {
   "cell_type": "code",
   "execution_count": 96,
   "metadata": {},
   "outputs": [],
   "source": [
    "data_submit_conditioned = pad_sequences(submit_conditioned, maxlen=convec_size, padding='pre')\n",
    "data_submit_general = pad_sequences(submit_general, maxlen=genvec_size, padding='pre')\n",
    "data_submit_whole = pad_sequences(submit_whole, maxlen=whlvec_size, padding='pre')\n",
    "data_submit_notargets = pad_sequences(submit_notargets, maxlen=notgtvec_size, padding='pre')\n",
    "data_submit_targets = pad_sequences(submit_targets, maxlen=tgtvec_size, padding='pre')\n",
    "data_submit_etc = np.array(submit_etc)"
   ]
  },
  {
   "cell_type": "code",
   "execution_count": 97,
   "metadata": {},
   "outputs": [
    {
     "name": "stdout",
     "output_type": "stream",
     "text": [
      "1626/1626 [==============================] - 0s 164us/step\n"
     ]
    }
   ],
   "source": [
    "pred_y = model.predict(x=[data_submit_conditioned, data_submit_general, data_submit_whole, data_submit_notargets, data_submit_targets, data_submit_etc], verbose=1)"
   ]
  },
  {
   "cell_type": "code",
   "execution_count": 98,
   "metadata": {},
   "outputs": [],
   "source": [
    "pred_y[pred_y > 1.0] = 1.0"
   ]
  },
  {
   "cell_type": "code",
   "execution_count": 99,
   "metadata": {},
   "outputs": [],
   "source": [
    "submit_df['smishing'] = np.abs(pred_y)"
   ]
  },
  {
   "cell_type": "code",
   "execution_count": 100,
   "metadata": {},
   "outputs": [],
   "source": [
    "submit_df[['id', 'smishing']].to_csv('./data/submission_20200107_3.csv', index=False)"
   ]
  },
  {
   "cell_type": "code",
   "execution_count": null,
   "metadata": {},
   "outputs": [],
   "source": [
    "# 일반/컨디션 문장의 경우.. 명사만 가지고 만들까?.. 의 컨셉\n",
    "# 거기다 전체 문장은 모든 품사 다 포함 + 여기다 문장 사이에 구분자 추가 (절취선) + mask단어 (XXX) 추가\n",
    "# 여기에 targets라는 smishing에만 주로 등장하는 단어들을 가지고 증강\n",
    "# 0.972854 기록 (2020.01.07 15:01). 변화없음. 아마 오버피팅되서 train셋에만 더 잘맞는거 같은데..\n",
    "# targets의 overfit을 줄이고, 전체적으로 train fitting을 감소해볼것"
   ]
  },
  {
   "cell_type": "code",
   "execution_count": null,
   "metadata": {},
   "outputs": [],
   "source": []
  }
 ],
 "metadata": {
  "kernelspec": {
   "display_name": "Python 3",
   "language": "python",
   "name": "python3"
  },
  "language_info": {
   "codemirror_mode": {
    "name": "ipython",
    "version": 3
   },
   "file_extension": ".py",
   "mimetype": "text/x-python",
   "name": "python",
   "nbconvert_exporter": "python",
   "pygments_lexer": "ipython3",
   "version": "3.7.4"
  }
 },
 "nbformat": 4,
 "nbformat_minor": 2
}
