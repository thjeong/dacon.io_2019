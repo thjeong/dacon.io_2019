{
 "cells": [
  {
   "cell_type": "code",
   "execution_count": 57,
   "metadata": {},
   "outputs": [
    {
     "name": "stderr",
     "output_type": "stream",
     "text": [
      "Using TensorFlow backend.\n"
     ]
    }
   ],
   "source": [
    "from datetime import datetime\n",
    "import numpy as np\n",
    "import pandas as pd\n",
    "from matplotlib import pyplot as plt\n",
    "import re\n",
    "from konlpy.tag import Mecab\n",
    "mecab = Mecab()\n",
    "\n",
    "#import lightgbm as lgb\n",
    "\n",
    "import tensorflow as tf\n",
    "import keras"
   ]
  },
  {
   "cell_type": "code",
   "execution_count": 58,
   "metadata": {},
   "outputs": [],
   "source": [
    "pd.options.display.max_rows = 1000"
   ]
  },
  {
   "cell_type": "code",
   "execution_count": 59,
   "metadata": {},
   "outputs": [],
   "source": [
    "df = pd.read_csv('./data/train.csv')"
   ]
  },
  {
   "cell_type": "code",
   "execution_count": 122,
   "metadata": {},
   "outputs": [],
   "source": [
    "def parse_sentence(sentence):\n",
    "    prev_word, prev_pos = '', ''\n",
    "    nouns = []\n",
    "    words = []\n",
    "    etc = []\n",
    "    buff = ''\n",
    "    ret = []\n",
    "    condition = False\n",
    "    idx, condidx = 0, 0\n",
    "    \n",
    "    if sentence[:4] == '(광고)':\n",
    "        words.append('(광고)')\n",
    "        nouns.append('(광고)')\n",
    "        sentence = sentence[4:]\n",
    "\n",
    "    for word, pos in mecab.pos(sentence):\n",
    "\n",
    "        if pos in ('SF') or pos[:1] in ('J'):\n",
    "            # 은/는/이/가/. 등\n",
    "            prev_word, prev_pos = '', ''\n",
    "            continue\n",
    "\n",
    "        if pos[:1] == 'N' and prev_pos[:1] == 'S':\n",
    "            # 1억, 1천만원 등\n",
    "            word = re.sub('[억천만]', '', word)\n",
    "            if len(word) == 0:\n",
    "                continue\n",
    "\n",
    "        if pos[:1] == 'S':\n",
    "            word = re.sub('[(:)]', '', word)\n",
    "            word = re.sub('[0-9.X]+', 'X', word)\n",
    "\n",
    "        # 조건절 판단\n",
    "        if prev_pos[-3:] == 'ETM' and word in ['분','고객','개인','사업자','이','대상','당신','직원','VIP', '자','분도','전문직','신용자','외국인','본인','임직원','부모','회계사','귀하','투자자','분과']:\n",
    "            condition = True  \n",
    "        elif pos[:1] == 'N':\n",
    "            if word[:2] in ('경우', '필요', '라면', '다면'): # 경우, 필요 단어 등장 시 조건절로 판단\n",
    "                condition = True\n",
    "        elif pos[-2:] == 'EC':\n",
    "            # 여도, 라도, 라면, 면\n",
    "            if word[-1:] in ('면', '도') or word[-2:] in ('도록'):\n",
    "                condition = True\n",
    "\n",
    "        if pos[:1] == 'E':\n",
    "            buff += word\n",
    "        #elif pos[:1] == 'N' and prev_pos[:1] == 'N' and len(word) == 1:\n",
    "        #    buff += word\n",
    "        elif pos[:1] == 'S' and prev_pos[:1] == 'S' and word[:1] in 'X0123456789%.-': #('%', '.', '-'):\n",
    "            if buff[-1:] in ('시', '원', '%'):\n",
    "                words.append(buff)\n",
    "                buff = ''\n",
    "            buff += word\n",
    "            #buff += re.sub('[0-9.X]+', 'X', word)\n",
    "            #buff = re.sub('[0-9.X]+', 'X', buff)\n",
    "        elif pos[:1] == 'N' and prev_pos[:1] == 'S' and len(buff) > 0 and word in ('시', '분', '초', '시간'):\n",
    "            buff = re.sub('시', '', buff)\n",
    "            buff += '시'\n",
    "        elif pos[:1] == 'N' and prev_pos[:1] == 'S' and len(buff) > 0 and word in ('년', '월', '일', '개월'):\n",
    "            buff = re.sub('일', '', buff)\n",
    "            buff += '일'\n",
    "        elif pos[:1] == 'N' and prev_pos[:1] == 'S' and len(buff) > 0 and word in ('원'):\n",
    "            buff = re.sub('원', '', buff)\n",
    "            buff += '원'\n",
    "        elif pos[:1] == 'N' and prev_pos[:1] == 'S' and len(buff) > 0 and word in ('건', '배', 'pt'):\n",
    "            buff += word\n",
    "        else:\n",
    "            if len(buff) > 0:\n",
    "                buff = re.sub('[0-9.X]+', 'X', buff)\n",
    "                buff = re.sub('[-]+', '-', buff)\n",
    "                buff = re.sub('[X]+', 'X', buff)\n",
    "                if buff != 'X':\n",
    "                    words.append(buff)\n",
    "                    # M, N 경우만 저장해보자\n",
    "                    if prev_pos[:1] in ('N'):  # 'M', \n",
    "                        nouns.append(buff)\n",
    "            buff = word\n",
    "            prev_word, prev_pos = word, pos\n",
    "\n",
    "        if pos[-2:] in ('EF'): # and word[0][-1:] in ['요', '다']:\n",
    "            # words가 꼭 명사를 뜻하는 게 아니고 특색있는 키워드 모두를 포함\n",
    "            if len(buff) > 0:\n",
    "                words.append(buff)\n",
    "            buff = ''\n",
    "            ret.append([word, condition, words, nouns])\n",
    "            idx += 1\n",
    "            if condition: condidx += 1\n",
    "            nouns = []\n",
    "            words = []\n",
    "            condition = False\n",
    "    if len(buff) > 0:\n",
    "        words.append(buff)\n",
    "    if len(words) > 0:\n",
    "        ret.append([word, condition, words, nouns])\n",
    "        #ret.append([word, condition, nouns])\n",
    "        idx += 1\n",
    "        if condition: condidx += 1\n",
    "    etc.append(condidx / idx)\n",
    "    return ret, etc"
   ]
  },
  {
   "cell_type": "code",
   "execution_count": 123,
   "metadata": {},
   "outputs": [
    {
     "name": "stdout",
     "output_type": "stream",
     "text": [
      "2020-01-05 19:21:33.978035 0\n",
      "2020-01-05 19:22:41.951549 100000\n",
      "2020-01-05 19:23:59.941757 200000\n"
     ]
    }
   ],
   "source": [
    "smishings = []\n",
    "normals = []\n",
    "idx = 0\n",
    "for idx, item in df.iterrows():\n",
    "    #print(item.text)\n",
    "    splited, etc = parse_sentence(item.text)\n",
    "    etc.append(np.log(len(item.text))/8)  # 문장 전체의 길이\n",
    "    etc.append(np.log(len(splited))/4)  # 문장의 개수\n",
    "    splited.append(etc)\n",
    "    splited.append(item.id)\n",
    "    #splited = m.parse(item.text).split()\n",
    "    if item.smishing == 1:\n",
    "        smishings.append(splited)\n",
    "    else:\n",
    "        normals.append(splited)\n",
    "    if idx % 100000 == 0:\n",
    "        print(datetime.now(), idx)\n",
    "    idx += 1\n",
    "#     if idx > 20000:\n",
    "#         break"
   ]
  },
  {
   "cell_type": "code",
   "execution_count": 124,
   "metadata": {},
   "outputs": [
    {
     "name": "stdout",
     "output_type": "stream",
     "text": [
      "['세요', False, ['(광고)', '안녕', '하세요'], ['(광고)', '안녕']]\n",
      "['습니다', True, ['수신', '희망', '하지', '않으실', '경우', '거부', '라는', '답장', '주시면', 'KISA', '수신', '거부', '목록', '등록', '시켜', '두', '번', '다시', '발송', '되지', '않도록', '조치', '취해', '드리겠습니다'], ['수신', '희망', '경우', '거부', '답장', '수신', '거부', '목록', '등록', '번', '발송', '조치']]\n",
      "['습니다', False, ['추가', '자금', '이나', '채무', '통합', '상담', '안내', '문자', '발송', '하였습니다'], ['추가', '자금', '이나', '채무', '통합', '상담', '안내', '문자', '발송']]\n",
      "['깁니다', True, ['X-X-X', '담당', '팀장', '매우', '바쁘신', '줄', '알지만', 'X시', '시간', '내주셔서', '저', '글', '끝', '읽어', '주시면', '조금', '도움', '되실', '거', '라', '판단', '되어', '감히', '글', '남깁니다'], ['담당', '팀장', '줄', 'X시', '시간', '저', '글', '끝', '조금', '도움', '거', '판단', '글']]\n",
      "['입니다', False, ['일전', '금융', '상담', '해', '드렸던', '입니다'], ['일전', '금융', '상담']]\n",
      "['습니다', False, ['이런', '연락', '들', '하루', '몇', '번', '씩', '받으실', '텐데', '저', '거들게', '되어', '깊은', '사과', '말씀', '드리겠습니다'], ['연락', '들', '하루', '번', '텐데', '저', '사과', '말씀']]\n",
      "['습니다', False, ['다름', '아니라', '이번', '대출', '전문', '컨설팅', '회사', '이직', '했습니다'], ['다름', '이번', '대출', '전문', '컨설팅', '회사', '이직']]\n",
      "['습니다', False, ['기존', '금융', '근무', '할', '때', '세렉', '트론', '한', '상품', '취급', '했지만', '이제', '전', '금융', '권', '전부', '가이드', '해', '드릴', '수', '있기', '때문', '보다', '나은', '금융', '서비스', '제공', '해', '드릴', '수', '있습니다'], ['기존', '금융', '근무', '때', '세렉', '트론', '상품', '취급', '이제', '금융', '권', '가이드', '수', '때문', '금융', '서비스', '제공', '수']]\n",
      "['합니다', False, ['고객', '님', '이용', '중', '이신', '금융', '권', '중', '금리', '높은', '부분', '추후', '저금리', '추가', '자금', '채무', '통합', '기존', '정부', '상품', '햇살', '론', '새', '희망', '드림', '론', '정부', '지원', '자금', '사', '잇돌', '보증', '재단', '상품', '담보', '아파트', '빌라', '상가', '건물', '토지', '등', '상품', '차량', '상품', '또한', '진행', '가능', '합니다'], ['고객', '이용', '중', '금융', '중', '금리', '부분', '추후', '저금리', '추가', '자금', '채무', '통합', '기존', '정부', '상품', '햇살', '희망', '드림', '정부', '지원', '자금', '사', '잇돌', '보증', '재단', '상품', '담보', '아파트', '빌라', '상가', '건물', '토지', '등', '상품', '차량', '상품', '진행', '가능']]\n",
      "['습니다', True, ['궁금', '한', '사항', '있으시면', '언제', '든지', '연락', '주시면', '성심', '성의껏', '상담', '해', '드리겠습니다'], ['사항', '언제', '연락', '성심', '상담']]\n",
      "['십니다', True, ['그리고', '마지막', '간혹', '부채', '너무', '많이', '있으셔서', '부채', '통합', '안', '되신다고', '걱정', '하시는데', '부채', '고객', '님', '부채', 'X원', '만들어', '드린', '상태', '이렇게', '되면', '당연히', '등급', '한도', '최대', '살아나십니다'], ['마지막', '부채', '부채', '통합', '걱정', '부채', '고객', '부채', 'X원', '상태', '등급', '한도', '최대']]\n",
      "['십니다', True, ['이런', '상황', '진행', '해', '드리는', '부채', '통합', '상품', '있으니', '부채', '많으셔도', '진행', '가능', '하십니다'], ['상황', '진행', '부채', '통합', '상품', '부채', '진행', '가능']]\n",
      "['입니다', False, ['부채', '통합', '상품', '오히려', '부채', '많으신', '분', '들', '이용', '하시는', '상품', '입니다'], ['부채', '통합', '상품', '부채', '분', '들', '이용', '상품']]\n",
      "['습니다', True, ['위', '내용', '중', '하나', '라도', '해당', '되시는', '분', '들', '언제', '든지', '전화', '문자', '연락', '주시면', '정확', '한', '상담', '해', '드리겠습니다'], ['위', '내용', '중', '하나', '해당', '분', '들', '언제', '전화', '문자', '연락', '정확', '상담']]\n",
      "['습니다', True, ['속는', '셈', '연락', '한번', '주시면', '만족', '하실', '수', '있도록', '최선', '다', '하고', '신뢰', '할', '수', '있는', '상담', '도움', '드리겠습니다'], ['셈', '연락', '만족', '수', '최선', '신뢰', '수', '상담', '도움']]\n",
      "['습니다', True, ['많이', '불편', '하셨다면', '발신', '번호', '무료', '수신', '거부', '문자', '주시면', '수신', '거부', '처리', '해', '드리겠습니다'], ['불편', '발신', '번호', '무료', '수신', '거부', '문자', '수신', '거부', '처리']]\n",
      "['은행', False, ['불편', '하게', '해', '드', '정말', '광고', '은행'], ['불편', '광고']]\n",
      "[0.47058823529411764, 0.8553354102798028, 0.708303336014054]\n",
      "45\n"
     ]
    },
    {
     "data": {
      "text/plain": [
       "[None,\n",
       " None,\n",
       " None,\n",
       " None,\n",
       " None,\n",
       " None,\n",
       " None,\n",
       " None,\n",
       " None,\n",
       " None,\n",
       " None,\n",
       " None,\n",
       " None,\n",
       " None,\n",
       " None,\n",
       " None,\n",
       " None,\n",
       " None,\n",
       " None]"
      ]
     },
     "execution_count": 124,
     "metadata": {},
     "output_type": "execute_result"
    }
   ],
   "source": [
    "[print(x) for x in smishings[3]]"
   ]
  },
  {
   "cell_type": "code",
   "execution_count": null,
   "metadata": {},
   "outputs": [],
   "source": []
  },
  {
   "cell_type": "code",
   "execution_count": 125,
   "metadata": {},
   "outputs": [],
   "source": [
    "class wordCounter():\n",
    "    def __init__(self):\n",
    "        self.word_bank = {}\n",
    "    \n",
    "    def add_bucket(self, bucket_name):\n",
    "        self.word_bank[bucket_name] = {}\n",
    "        \n",
    "    def add_list(self, bucket_name, word_list:[]):\n",
    "        bucket = self.word_bank[bucket_name]\n",
    "        for keyword in word_list:\n",
    "            if keyword in bucket:\n",
    "                bucket[keyword] += 1\n",
    "            else:\n",
    "                bucket[keyword] = 1\n",
    "                \n",
    "    def get_counts(self, bucket_name):\n",
    "        return self.word_bank[bucket_name]"
   ]
  },
  {
   "cell_type": "code",
   "execution_count": 126,
   "metadata": {},
   "outputs": [],
   "source": [
    "wc = wordCounter()\n",
    "wc.add_bucket('conditioned')\n",
    "wc.add_bucket('general')\n",
    "\n",
    "for normal in normals:\n",
    "    for item in normal[:-2]:\n",
    "        if item[1] == True:\n",
    "            wc.add_list('conditioned', item[2])\n",
    "        else:\n",
    "            wc.add_list('general', item[2])\n",
    "\n",
    "for smishing in smishings:\n",
    "    for item in smishing[:-2]:\n",
    "        if item[1] == True:\n",
    "            wc.add_list('conditioned', item[2])\n",
    "        else:\n",
    "            wc.add_list('general', item[2])"
   ]
  },
  {
   "cell_type": "code",
   "execution_count": 127,
   "metadata": {},
   "outputs": [],
   "source": [
    "conditioned_df = pd.Series(wc.get_counts('conditioned'))\n",
    "general_df = pd.Series(wc.get_counts('general'))\n",
    "\n",
    "# 글자가 2개 이상인 것만 모아보자\n",
    "conditioned_df = conditioned_df[conditioned_df.index.map(len) > 1]  # M,N 만 포함시켰으므로.. 길이 2이상인것만\n",
    "general_df = general_df[general_df.index.map(len) > 1]\n",
    "\n",
    "# 3번 이상 출현한 것만 모아보자\n",
    "#conditioned_df = conditioned_df[conditioned_df.sort_values() > 2]\n",
    "#general_df = general_df[general_df.sort_values() > 2]"
   ]
  },
  {
   "cell_type": "code",
   "execution_count": 128,
   "metadata": {},
   "outputs": [],
   "source": [
    "general_dic = general_df[general_df > 1].sort_values(ascending=False)\n",
    "general_dic = general_dic.reset_index()['index'].to_dict()\n",
    "general_vocab = {general_dic.get(k):k for k in general_dic}"
   ]
  },
  {
   "cell_type": "code",
   "execution_count": 129,
   "metadata": {},
   "outputs": [],
   "source": [
    "conditioned_dic = conditioned_df[conditioned_df > 1].sort_values(ascending=False)\n",
    "conditioned_dic = conditioned_dic.reset_index()['index'].to_dict()\n",
    "conditioned_vocab = {conditioned_dic.get(k):k for k in conditioned_dic}"
   ]
  },
  {
   "cell_type": "code",
   "execution_count": 130,
   "metadata": {},
   "outputs": [
    {
     "name": "stdout",
     "output_type": "stream",
     "text": [
      "size of vocab (conditioned, general): 18476 31524\n"
     ]
    }
   ],
   "source": [
    "# smishing cases; length of vocab when it's out of vocab\n",
    "tidf_conditioned = []\n",
    "tidf_general = []\n",
    "tidf_etc = []\n",
    "\n",
    "cond_vocabsize = len(conditioned_vocab)\n",
    "gen_vocabsize = len(general_vocab)\n",
    "\n",
    "print('size of vocab (conditioned, general):', cond_vocabsize, gen_vocabsize)\n",
    "for msg in normals:\n",
    "    tidf_conditioned.append([conditioned_vocab.get(x) if x in conditioned_vocab else cond_vocabsize for row in msg[:-2] if row[1] == True for x in row[3]])\n",
    "    tidf_general.append([general_vocab.get(x) if x in general_vocab else gen_vocabsize for row in msg[:-2] if row[1] == False for x in row[3]])\n",
    "#    tidf_general.append([general_vocab.get(x) if x in general_vocab else gen_vocabsize for row in msg[:-2] for x in row[2]])    \n",
    "    tidf_etc.append(msg[-2])\n",
    "for msg in smishings:\n",
    "    tidf_conditioned.append([conditioned_vocab.get(x) if x in conditioned_vocab else cond_vocabsize for row in msg[:-2] if row[1] == True for x in row[3]])\n",
    "    tidf_general.append([general_vocab.get(x) if x in general_vocab else gen_vocabsize for row in msg[:-2] if row[1] == False for x in row[3]])\n",
    "#    tidf_general.append([general_vocab.get(x) if x in general_vocab else gen_vocabsize for row in msg[:-2] for x in row[2]])\n",
    "    tidf_etc.append(msg[-2])"
   ]
  },
  {
   "cell_type": "code",
   "execution_count": 131,
   "metadata": {},
   "outputs": [
    {
     "data": {
      "text/plain": [
       "(295945, 295945, 295945)"
      ]
     },
     "execution_count": 131,
     "metadata": {},
     "output_type": "execute_result"
    }
   ],
   "source": [
    "len(tidf_conditioned), len(tidf_general), len(tidf_etc)"
   ]
  },
  {
   "cell_type": "code",
   "execution_count": 132,
   "metadata": {},
   "outputs": [
    {
     "name": "stdout",
     "output_type": "stream",
     "text": [
      "conditioned vector minimum size: 258\n",
      "general vector minimum size: 333\n"
     ]
    }
   ],
   "source": [
    "convec_size = max(max([len(x) for x in tidf_conditioned]), max([len(x) for x in tidf_conditioned]))\n",
    "genvec_size = max(max([len(x) for x in tidf_general]), max([len(x) for x in tidf_general]))\n",
    "\n",
    "# 문장 내 인식한 단어의 개수의 최대값 (문장의 길이가 길수록 크겠지..)\n",
    "print('conditioned vector minimum size:', convec_size)\n",
    "print('general vector minimum size:', genvec_size)"
   ]
  },
  {
   "cell_type": "code",
   "execution_count": null,
   "metadata": {},
   "outputs": [],
   "source": []
  },
  {
   "cell_type": "code",
   "execution_count": null,
   "metadata": {},
   "outputs": [],
   "source": []
  },
  {
   "cell_type": "code",
   "execution_count": 133,
   "metadata": {},
   "outputs": [],
   "source": [
    "# 훈련용, 훈련검증용, 결과검증용 분리\n",
    "tidf_conditioned = np.array(tidf_conditioned)\n",
    "tidf_general = np.array(tidf_general)\n",
    "tidf_etc = np.array(tidf_etc)\n",
    "tidf_label = np.array([1 if x >= len(normals) else 0 for x in range(tidf_conditioned.shape[0])])"
   ]
  },
  {
   "cell_type": "code",
   "execution_count": 134,
   "metadata": {},
   "outputs": [],
   "source": [
    "from tensorflow.keras.preprocessing.sequence import pad_sequences\n",
    "\n",
    "class DataGenerator(keras.utils.Sequence):\n",
    "    def __init__(self, tidf_cond_train, tidf_gen_train, tidf_etc_train, tidf_label_train, normal_size=160, smishing_size=160, convec_size=350, genvec_size=470):\n",
    "        self.convec_size = convec_size  # including 0 paddings\n",
    "        self.genvec_size = genvec_size  # including 0 paddings\n",
    "        self.tidf_cond_train_normal = pad_sequences(tidf_cond_train[tidf_label_train == 0], maxlen=self.convec_size, padding='pre')\n",
    "        self.tidf_gen_train_normal = pad_sequences(tidf_gen_train[tidf_label_train == 0], maxlen=self.genvec_size, padding='pre')\n",
    "        self.tidf_etc_train_normal = tidf_etc_train[tidf_label_train == 0]\n",
    "        self.tidf_cond_train_smishing = pad_sequences(tidf_cond_train[tidf_label_train == 1], maxlen=self.convec_size, padding='pre')\n",
    "        self.tidf_gen_train_smishing = pad_sequences(tidf_gen_train[tidf_label_train == 1], maxlen=self.genvec_size, padding='pre')\n",
    "        self.tidf_etc_train_smishing = tidf_etc_train[tidf_label_train == 1]\n",
    "        self.sample_size_normal = normal_size\n",
    "        self.sample_size_smishing = smishing_size\n",
    "        self.train_size_normal = len(self.tidf_cond_train_normal)\n",
    "        self.train_size_smishing = len(self.tidf_cond_train_smishing)\n",
    "#         self.sample_size = normal_size + smishing_size\n",
    "#         self.num_batch = int(np.ceil(len(self.tidf_cond_train_normal) // self.sample_size / 10))\n",
    "        self.num_batch_normal = int(np.ceil(self.train_size_normal / self.sample_size_normal))\n",
    "        self.num_batch_smishing = int(np.ceil(self.train_size_smishing / self.sample_size_smishing))\n",
    "        self.normal_train_index = np.array(range(self.train_size_normal))\n",
    "        self.smishing_train_index = np.array(range(self.train_size_smishing))\n",
    "        print(f\"num_batch_normal: {self.num_batch_normal}, num_batch_smishing: {self.num_batch_smishing}\")\n",
    "    \n",
    "    def __len__(self):\n",
    "        return max(self.num_batch_normal, self.num_batch_smishing)\n",
    "    \n",
    "    def __getitem__(self, index):\n",
    "        # sequencial sampling\n",
    "        normal_idx, smishing_idx = index % self.num_batch_normal, index % self.num_batch_smishing\n",
    "        #print(f\"normal_idx: {normal_idx}, smishing_idx: {smishing_idx}\")\n",
    "        normal_sampling = self.normal_train_index // self.sample_size_normal == normal_idx\n",
    "#         normal_sampling = np.random.choice(len(self.tidf_cond_train_normal), self.normal_sample_size)\n",
    "        normal_cond_sample = self.tidf_cond_train_normal[normal_sampling]\n",
    "        normal_gen_sample = self.tidf_gen_train_normal[normal_sampling]\n",
    "        normal_etc_sample = self.tidf_etc_train_normal[normal_sampling]\n",
    "        smishing_sampling = self.smishing_train_index // self.sample_size_smishing == smishing_idx\n",
    "#         smishing_sampling = np.random.choice(len(self.tidf_cond_train_smishing), self.smishing_sample_size)\n",
    "        smishing_cond_sample = self.tidf_cond_train_smishing[smishing_sampling]\n",
    "        smishing_gen_sample = self.tidf_gen_train_smishing[smishing_sampling]\n",
    "        smishing_etc_sample = self.tidf_etc_train_smishing[smishing_sampling]\n",
    "        sample_cond_train = np.concatenate([normal_cond_sample, smishing_cond_sample])\n",
    "        sample_gen_train = np.concatenate([normal_gen_sample, smishing_gen_sample])\n",
    "        sample_etc_train = np.concatenate([normal_etc_sample, smishing_etc_sample])\n",
    "        sample_label_train = [1 if x >= len(normal_cond_sample) else 0 for x in range(len(sample_cond_train))]\n",
    "        return [sample_cond_train, sample_gen_train, sample_etc_train], sample_label_train\n",
    "#        return [sample_gen_train, sample_etc_train], sample_label_train\n",
    "\n",
    "    def on_epoch_end(self):\n",
    "        pass"
   ]
  },
  {
   "cell_type": "code",
   "execution_count": 135,
   "metadata": {},
   "outputs": [
    {
     "data": {
      "text/plain": [
       "((177533,), (59281,))"
      ]
     },
     "execution_count": 135,
     "metadata": {},
     "output_type": "execute_result"
    }
   ],
   "source": [
    "TRAIN_RATIO, VALID_RATIO = 0.6, 0.8\n",
    "np.random.seed(0)\n",
    "split = np.random.rand(tidf_conditioned.shape[0])\n",
    "tidf_cond_train = tidf_conditioned[split < TRAIN_RATIO]\n",
    "tidf_cond_valid = tidf_conditioned[(split >= TRAIN_RATIO) & (split < VALID_RATIO)]\n",
    "tidf_cond_test = tidf_conditioned[split >= VALID_RATIO]\n",
    "\n",
    "tidf_gen_train = tidf_general[split < TRAIN_RATIO]\n",
    "tidf_gen_valid = tidf_general[(split >= TRAIN_RATIO) & (split < VALID_RATIO)]\n",
    "tidf_gen_test = tidf_general[split >= VALID_RATIO]\n",
    "\n",
    "tidf_etc_train = tidf_etc[split < TRAIN_RATIO]\n",
    "tidf_etc_valid = tidf_etc[(split >= TRAIN_RATIO) & (split < VALID_RATIO)]\n",
    "tidf_etc_test = tidf_etc[split >= VALID_RATIO]\n",
    "\n",
    "tidf_label_train = tidf_label[split < TRAIN_RATIO]\n",
    "tidf_label_valid = tidf_label[(split >= TRAIN_RATIO) & (split < VALID_RATIO)]\n",
    "tidf_label_test = tidf_label[split >= VALID_RATIO]\n",
    "\n",
    "tidf_cond_train.shape, tidf_cond_valid.shape #, tidf_cond_test.shape"
   ]
  },
  {
   "cell_type": "code",
   "execution_count": 136,
   "metadata": {},
   "outputs": [
    {
     "name": "stderr",
     "output_type": "stream",
     "text": [
      "/home/xikizima/.conda/lib/python3.7/site-packages/ipykernel_launcher.py:36: UserWarning: Update your `Model` call to the Keras 2 API: `Model(inputs=[<tf.Tenso..., outputs=Tensor(\"Ac...)`\n"
     ]
    }
   ],
   "source": [
    "num_predictive_factors1, num_predictive_factors2 = 24, 32\n",
    "n_cond, n_gen, n_etc = convec_size, genvec_size, len(tidf_etc_train[0])\n",
    "cond_input = keras.layers.Input(shape=(n_cond,), name='Cond')\n",
    "gen_input = keras.layers.Input(shape=(n_gen,), name='General')\n",
    "etc_input = keras.layers.Input(shape=(n_etc,), name='Etc')\n",
    "\n",
    "cond_vec_mlp = keras.layers.Embedding(cond_vocabsize + 1, num_predictive_factors1, )(cond_input)\n",
    "cond_vec_mlp = keras.layers.Flatten(name='Flattenconds-MLP')(cond_vec_mlp)\n",
    "cond_vec_mlp = keras.layers.Dropout(0.3)(cond_vec_mlp)\n",
    "\n",
    "# cond_dense = keras.layers.Dense(32, kernel_regularizer=keras.regularizers.l1(0.001), name='FullyConnected-Cond')(cond_vec_mlp)\n",
    "# cond_dropout = keras.layers.Dropout(0.3, name='Dropout-Cond')(cond_dense)\n",
    "\n",
    "gen_vec_mlp = keras.layers.Embedding(gen_vocabsize + 1, num_predictive_factors2, )(gen_input)\n",
    "gen_vec_mlp = keras.layers.Flatten(name='Flattengens-MLP')(gen_vec_mlp)\n",
    "gen_vec_mlp = keras.layers.Dropout(0.3)(gen_vec_mlp)\n",
    "\n",
    "# gen_dense = keras.layers.Dense(32, kernel_regularizer=keras.regularizers.l1(0.001), name='FullyConnected-Gen')(gen_vec_mlp)\n",
    "# gen_dropout = keras.layers.Dropout(0.3, name='Dropout-Gen')(gen_dense)\n",
    "\n",
    "concat_mlp = keras.layers.merge.concatenate([cond_vec_mlp, gen_vec_mlp, etc_input]) # , etc_input\n",
    "concat_dropout_mlp = keras.layers.Dropout(0.3)(concat_mlp)\n",
    "\n",
    "dense = keras.layers.Dense(32, kernel_regularizer=keras.regularizers.l2(0.001), name='FullyConnected-1', activation='relu')(concat_dropout_mlp)\n",
    "dropout_1 = keras.layers.Dropout(0.3, name='Dropout-1')(dense)\n",
    "\n",
    "#dense_2 = keras.layers.Dense(DENSE2, kernel_regularizer=keras.regularizers.l2(0.001), name='FullyConnected-2', activation='relu')(dropout_1)\n",
    "#dropout_2 = keras.layers.Dropout(0.3, name='Dropout-2')(dense_2)\n",
    "\n",
    "#dense_3 = keras.layers.Dense(DENSE3, kernel_regularizer=keras.regularizers.l2(0.001), name='FullyConnected-3', activation='relu')(dropout_2)\n",
    "#dropout_3 = keras.layers.Dropout(0.3, name='Dropout-3')(dense_3)\n",
    "\n",
    "dense_4 = keras.layers.Dense(32, kernel_regularizer=keras.regularizers.l2(0.001), name='FullyConnected-4', activation='relu')(dropout_1)\n",
    "pred_mlp = keras.layers.Dense(1, activation='sigmoid', name='Activation')(dense_4)\n",
    "\n",
    "model = keras.Model(inputs=[cond_input, gen_input, etc_input ], output=pred_mlp)  #  etc_input\n",
    "model.compile(optimizer=keras.optimizers.Adam(lr=1e-4), loss='binary_crossentropy', metrics=['binary_crossentropy', 'accuracy'])\n",
    "#model.compile(optimizer=keras.optimizers.Adamax(lr=1e-3), loss='binary_crossentropy', metrics=['binary_crossentropy', 'accuracy'])"
   ]
  },
  {
   "cell_type": "code",
   "execution_count": 141,
   "metadata": {},
   "outputs": [
    {
     "name": "stdout",
     "output_type": "stream",
     "text": [
      "num_batch_normal: 1039, num_batch_smishing: 71\n",
      "num_batch_normal: 56, num_batch_smishing: 4\n",
      "Epoch 1/20\n",
      "1039/1039 [==============================] - 168s 162ms/step - loss: 0.0060 - binary_crossentropy: 0.0019 - acc: 0.9997 - val_loss: 0.0106 - val_binary_crossentropy: 0.0065 - val_acc: 0.9987\n",
      "Epoch 2/20\n",
      "1039/1039 [==============================] - 169s 162ms/step - loss: 0.0053 - binary_crossentropy: 0.0016 - acc: 0.9998 - val_loss: 0.0098 - val_binary_crossentropy: 0.0062 - val_acc: 0.9986\n",
      "Epoch 3/20\n",
      "1039/1039 [==============================] - 168s 162ms/step - loss: 0.0049 - binary_crossentropy: 0.0015 - acc: 0.9998 - val_loss: 0.0097 - val_binary_crossentropy: 0.0065 - val_acc: 0.9986\n",
      "Epoch 4/20\n",
      "1039/1039 [==============================] - 167s 161ms/step - loss: 0.0046 - binary_crossentropy: 0.0015 - acc: 0.9998 - val_loss: 0.0097 - val_binary_crossentropy: 0.0067 - val_acc: 0.9985\n",
      "Epoch 5/20\n",
      "1039/1039 [==============================] - 167s 161ms/step - loss: 0.0043 - binary_crossentropy: 0.0014 - acc: 0.9998 - val_loss: 0.0089 - val_binary_crossentropy: 0.0061 - val_acc: 0.9986\n",
      "Epoch 6/20\n",
      "1039/1039 [==============================] - 168s 162ms/step - loss: 0.0040 - binary_crossentropy: 0.0013 - acc: 0.9998 - val_loss: 0.0084 - val_binary_crossentropy: 0.0057 - val_acc: 0.9988\n",
      "Epoch 7/20\n",
      "1039/1039 [==============================] - 167s 160ms/step - loss: 0.0036 - binary_crossentropy: 0.0012 - acc: 0.9998 - val_loss: 0.0086 - val_binary_crossentropy: 0.0062 - val_acc: 0.9985\n",
      "Epoch 8/20\n",
      "1039/1039 [==============================] - 168s 162ms/step - loss: 0.0035 - binary_crossentropy: 0.0012 - acc: 0.9998 - val_loss: 0.0086 - val_binary_crossentropy: 0.0063 - val_acc: 0.9987\n",
      "Epoch 9/20\n",
      "1039/1039 [==============================] - 169s 163ms/step - loss: 0.0033 - binary_crossentropy: 0.0011 - acc: 0.9999 - val_loss: 0.0092 - val_binary_crossentropy: 0.0071 - val_acc: 0.9984\n",
      "Epoch 10/20\n",
      "1039/1039 [==============================] - 170s 163ms/step - loss: 0.0031 - binary_crossentropy: 0.0010 - acc: 0.9998 - val_loss: 0.0091 - val_binary_crossentropy: 0.0071 - val_acc: 0.9986\n",
      "Epoch 11/20\n",
      "1039/1039 [==============================] - 170s 164ms/step - loss: 0.0030 - binary_crossentropy: 0.0010 - acc: 0.9999 - val_loss: 0.0076 - val_binary_crossentropy: 0.0056 - val_acc: 0.9988\n",
      "Epoch 12/20\n",
      "1039/1039 [==============================] - 169s 163ms/step - loss: 0.0028 - binary_crossentropy: 9.5754e-04 - acc: 0.9999 - val_loss: 0.0089 - val_binary_crossentropy: 0.0071 - val_acc: 0.9984\n",
      "Epoch 13/20\n",
      "1039/1039 [==============================] - 169s 163ms/step - loss: 0.0027 - binary_crossentropy: 9.1361e-04 - acc: 0.9999 - val_loss: 0.0087 - val_binary_crossentropy: 0.0069 - val_acc: 0.9984\n",
      "Epoch 14/20\n",
      "1039/1039 [==============================] - 170s 163ms/step - loss: 0.0026 - binary_crossentropy: 8.9470e-04 - acc: 0.9999 - val_loss: 0.0081 - val_binary_crossentropy: 0.0062 - val_acc: 0.9987\n",
      "Epoch 15/20\n",
      "1039/1039 [==============================] - 170s 164ms/step - loss: 0.0024 - binary_crossentropy: 8.2312e-04 - acc: 0.9999 - val_loss: 0.0082 - val_binary_crossentropy: 0.0066 - val_acc: 0.9987\n",
      "Epoch 16/20\n",
      "1039/1039 [==============================] - 170s 163ms/step - loss: 0.0024 - binary_crossentropy: 7.9691e-04 - acc: 0.9999 - val_loss: 0.0092 - val_binary_crossentropy: 0.0075 - val_acc: 0.9986\n",
      "Epoch 17/20\n",
      "1039/1039 [==============================] - 170s 164ms/step - loss: 0.0023 - binary_crossentropy: 8.2030e-04 - acc: 0.9999 - val_loss: 0.0080 - val_binary_crossentropy: 0.0066 - val_acc: 0.9987\n",
      "Epoch 18/20\n",
      "1039/1039 [==============================] - 168s 162ms/step - loss: 0.0022 - binary_crossentropy: 7.5683e-04 - acc: 0.9999 - val_loss: 0.0076 - val_binary_crossentropy: 0.0062 - val_acc: 0.9987\n",
      "Epoch 19/20\n",
      "1039/1039 [==============================] - 167s 161ms/step - loss: 0.0021 - binary_crossentropy: 7.4865e-04 - acc: 0.9999 - val_loss: 0.0076 - val_binary_crossentropy: 0.0062 - val_acc: 0.9986\n",
      "Epoch 20/20\n",
      "1039/1039 [==============================] - 167s 161ms/step - loss: 0.0020 - binary_crossentropy: 7.2224e-04 - acc: 0.9999 - val_loss: 0.0072 - val_binary_crossentropy: 0.0059 - val_acc: 0.9987\n"
     ]
    }
   ],
   "source": [
    "train_gen = DataGenerator(tidf_cond_train, tidf_gen_train, tidf_etc_train, tidf_label_train, 160, 160, convec_size, genvec_size)\n",
    "valid_gen = DataGenerator(tidf_cond_valid, tidf_gen_valid, tidf_etc_valid, tidf_label_valid, 1000, 1000, convec_size, genvec_size)\n",
    "\n",
    "history = model.fit_generator(generator=train_gen,\n",
    "                             epochs = 20,\n",
    "#                              use_multiprocessing=True,\n",
    "#                               workers=3,\n",
    "                             validation_data=valid_gen,\n",
    "                             verbose=1)"
   ]
  },
  {
   "cell_type": "code",
   "execution_count": 142,
   "metadata": {},
   "outputs": [
    {
     "data": {
      "image/png": "[encoded data removed]",
      "text/plain": [
       "<Figure size 1440x720 with 2 Axes>"
      ]
     },
     "metadata": {
      "needs_background": "light"
     },
     "output_type": "display_data"
    }
   ],
   "source": [
    "import matplotlib.pyplot as plt\n",
    "fig, loss_ax = plt.subplots()\n",
    "fig.set_figheight(10)\n",
    "fig.set_figwidth(20)\n",
    "acc_ax = loss_ax.twinx()\n",
    "loss_ax.plot(history.history['loss'], 'y', label='train_loss')\n",
    "loss_ax.plot(history.history['val_loss'], 'r', label='val_loss')\n",
    "\n",
    "acc_ax.plot(history.history['acc'], 'b', label='train_acc')\n",
    "acc_ax.plot(history.history['val_acc'], 'g', label='val_acc')\n",
    "\n",
    "loss_ax.set_xlabel('epoch')\n",
    "loss_ax.set_ylabel('loss')\n",
    "acc_ax.set_ylabel('accuracy')\n",
    "loss_ax.legend(loc='upper left')\n",
    "acc_ax.legend(loc='lower left')\n",
    "\n",
    "plt.show()"
   ]
  },
  {
   "cell_type": "code",
   "execution_count": 243,
   "metadata": {},
   "outputs": [],
   "source": [
    "data_gen_train = pad_sequences(tidf_gen_train, maxlen=genvec_size, padding='pre')\n",
    "data_cond_train = pad_sequences(tidf_cond_train, maxlen=convec_size, padding='pre')\n",
    "data_gen_valid = pad_sequences(tidf_gen_valid, maxlen=genvec_size, padding='pre')\n",
    "data_cond_valid = pad_sequences(tidf_cond_valid, maxlen=convec_size, padding='pre')"
   ]
  },
  {
   "cell_type": "code",
   "execution_count": null,
   "metadata": {},
   "outputs": [],
   "source": [
    "*_, train_acc = model.evaluate([data_cond_train, data_gen_train], tidf_label_train)\n",
    "*_, valid_acc = model.evaluate([data_cond_valid, data_gen_valid], tidf_label_valid)\n",
    "train_acc, valid_acc, '{:.3f}%'.format(valid_acc / train_acc * 100)"
   ]
  },
  {
   "cell_type": "code",
   "execution_count": 139,
   "metadata": {},
   "outputs": [],
   "source": [
    "data_gen_test = pad_sequences(tidf_gen_test, maxlen=genvec_size, padding='pre')\n",
    "data_cond_test = pad_sequences(tidf_cond_test, maxlen=convec_size, padding='pre')\n",
    "data_etc_test = tidf_etc_test"
   ]
  },
  {
   "cell_type": "code",
   "execution_count": 143,
   "metadata": {},
   "outputs": [
    {
     "data": {
      "text/plain": [
       "[<matplotlib.lines.Line2D at 0x7f0a64ecefd0>]"
      ]
     },
     "execution_count": 143,
     "metadata": {},
     "output_type": "execute_result"
    },
    {
     "data": {
      "image/png": "[encoded data removed]",
      "text/plain": [
       "<Figure size 1440x720 with 1 Axes>"
      ]
     },
     "metadata": {
      "needs_background": "light"
     },
     "output_type": "display_data"
    }
   ],
   "source": [
    "# 30 trained\n",
    "pred_test = model.predict(x=[data_cond_test, data_gen_test, data_etc_test], batch_size=160)\n",
    "gap = np.abs(tidf_label_test - pred_test.reshape([-1,]))\n",
    "\n",
    "plt.figure(figsize=(20,10))\n",
    "plt.plot(gap)"
   ]
  },
  {
   "cell_type": "code",
   "execution_count": 140,
   "metadata": {},
   "outputs": [
    {
     "data": {
      "text/plain": [
       "[<matplotlib.lines.Line2D at 0x7f0a64fe7790>]"
      ]
     },
     "execution_count": 140,
     "metadata": {},
     "output_type": "execute_result"
    },
    {
     "data": {
      "image/png": "[encoded data removed]",
      "text/plain": [
       "<Figure size 1440x720 with 1 Axes>"
      ]
     },
     "metadata": {
      "needs_background": "light"
     },
     "output_type": "display_data"
    }
   ],
   "source": [
    "# 10 trained\n",
    "pred_test = model.predict(x=[data_cond_test, data_gen_test, data_etc_test], batch_size=160)\n",
    "gap = np.abs(tidf_label_test - pred_test.reshape([-1,]))\n",
    "\n",
    "plt.figure(figsize=(20,10))\n",
    "plt.plot(gap)"
   ]
  },
  {
   "cell_type": "code",
   "execution_count": 262,
   "metadata": {},
   "outputs": [
    {
     "data": {
      "text/plain": [
       "[<matplotlib.lines.Line2D at 0x7f352dd59c10>]"
      ]
     },
     "execution_count": 262,
     "metadata": {},
     "output_type": "execute_result"
    },
    {
     "data": {
      "image/png": "[encoded data removed]",
      "text/plain": [
       "<Figure size 1440x720 with 1 Axes>"
      ]
     },
     "metadata": {
      "needs_background": "light"
     },
     "output_type": "display_data"
    }
   ],
   "source": [
    "# test\n",
    "pred_test = model.predict(x=[data_cond_test, data_gen_test, data_etc_test], batch_size=160)\n",
    "gap = np.abs(tidf_label_test - pred_test.reshape([-1,]))\n",
    "\n",
    "plt.figure(figsize=(20,10))\n",
    "plt.plot(gap)"
   ]
  },
  {
   "cell_type": "code",
   "execution_count": null,
   "metadata": {},
   "outputs": [],
   "source": []
  },
  {
   "cell_type": "code",
   "execution_count": null,
   "metadata": {},
   "outputs": [],
   "source": []
  },
  {
   "cell_type": "code",
   "execution_count": null,
   "metadata": {},
   "outputs": [],
   "source": [
    "# 제출 준비"
   ]
  },
  {
   "cell_type": "code",
   "execution_count": 145,
   "metadata": {},
   "outputs": [],
   "source": [
    "submit_df = pd.read_csv('./data/public_test.csv')"
   ]
  },
  {
   "cell_type": "code",
   "execution_count": 146,
   "metadata": {},
   "outputs": [
    {
     "name": "stdout",
     "output_type": "stream",
     "text": [
      "2020-01-05 20:55:23.359392 0\n"
     ]
    }
   ],
   "source": [
    "unknowns = []\n",
    "\n",
    "idx = 0\n",
    "for idx, item in submit_df.iterrows():\n",
    "    splited, etc = parse_sentence(item.text)\n",
    "    etc.append(np.log(len(item.text))/8)  # 문장 전체의 길이\n",
    "    etc.append(np.log(len(splited))/4)  # 문장의 개수\n",
    "    splited.append(etc)\n",
    "    splited.append(item.id)\n",
    "    unknowns.append(splited)\n",
    "    if idx % 100000 == 0:\n",
    "        print(datetime.now(), idx)\n",
    "    idx += 1"
   ]
  },
  {
   "cell_type": "code",
   "execution_count": 148,
   "metadata": {},
   "outputs": [
    {
     "name": "stdout",
     "output_type": "stream",
     "text": [
      "size of vocab (conditioned, general): 18476 31524\n"
     ]
    }
   ],
   "source": [
    "# smishing cases; length of vocab when it's out of vocab\n",
    "submit_conditioned = []\n",
    "submit_general = []\n",
    "submit_etc = []\n",
    "\n",
    "cond_vocabsize = len(conditioned_vocab)\n",
    "gen_vocabsize = len(general_vocab)\n",
    "\n",
    "print('size of vocab (conditioned, general):', cond_vocabsize, gen_vocabsize)\n",
    "for msg in unknowns:\n",
    "    submit_conditioned.append([conditioned_vocab.get(x) if x in conditioned_vocab else cond_vocabsize for row in msg[:-2] if row[1] == True for x in row[3]])\n",
    "    submit_general.append([general_vocab.get(x) if x in general_vocab else gen_vocabsize for row in msg[:-2] if row[1] == False for x in row[3]])\n",
    "#    submit_general.append([general_vocab.get(x) if x in general_vocab else gen_vocabsize for row in msg[:-2] for x in row[2]])\n",
    "    submit_etc.append(msg[-2])"
   ]
  },
  {
   "cell_type": "code",
   "execution_count": 149,
   "metadata": {},
   "outputs": [],
   "source": [
    "data_submit_conditioned = pad_sequences(submit_conditioned, maxlen=convec_size, padding='pre')\n",
    "data_submit_general = pad_sequences(submit_general, maxlen=genvec_size, padding='pre')\n",
    "data_submit_etc = np.array(submit_etc)"
   ]
  },
  {
   "cell_type": "code",
   "execution_count": 150,
   "metadata": {},
   "outputs": [
    {
     "name": "stdout",
     "output_type": "stream",
     "text": [
      "1626/1626 [==============================] - 0s 89us/step\n"
     ]
    }
   ],
   "source": [
    "pred_y = model.predict(x=[data_submit_conditioned, data_submit_general, data_submit_etc], verbose=1)"
   ]
  },
  {
   "cell_type": "code",
   "execution_count": 151,
   "metadata": {},
   "outputs": [],
   "source": [
    "pred_y[pred_y > 1.0] = 1.0"
   ]
  },
  {
   "cell_type": "code",
   "execution_count": 152,
   "metadata": {},
   "outputs": [],
   "source": [
    "submit_df['smishing'] = np.abs(pred_y)"
   ]
  },
  {
   "cell_type": "code",
   "execution_count": 153,
   "metadata": {},
   "outputs": [],
   "source": [
    "submit_df[['id', 'smishing']].to_csv('./data/submission_20200105_2.csv', index=False)"
   ]
  },
  {
   "cell_type": "code",
   "execution_count": null,
   "metadata": {},
   "outputs": [],
   "source": [
    "# 컨디션 문장의 경우.. 명사만 가지고 만들까?.. 의 컨셉\n",
    "# 0.962889 기록 (2020.01.04 23:50)"
   ]
  },
  {
   "cell_type": "code",
   "execution_count": null,
   "metadata": {},
   "outputs": [],
   "source": []
  }
 ],
 "metadata": {
  "kernelspec": {
   "display_name": "Python 3",
   "language": "python",
   "name": "python3"
  },
  "language_info": {
   "codemirror_mode": {
    "name": "ipython",
    "version": 3
   },
   "file_extension": ".py",
   "mimetype": "text/x-python",
   "name": "python",
   "nbconvert_exporter": "python",
   "pygments_lexer": "ipython3",
   "version": "3.7.4"
  }
 },
 "nbformat": 4,
 "nbformat_minor": 2
}
