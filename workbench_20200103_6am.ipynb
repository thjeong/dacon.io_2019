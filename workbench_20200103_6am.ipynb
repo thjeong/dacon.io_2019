{
 "cells": [
  {
   "cell_type": "code",
   "execution_count": 6,
   "metadata": {},
   "outputs": [],
   "source": [
    "from datetime import datetime\n",
    "import numpy as np\n",
    "import pandas as pd\n",
    "from matplotlib import pyplot as plt\n",
    "import re\n",
    "\n",
    "from konlpy.tag import Mecab\n",
    "mecab = Mecab()\n",
    "\n",
    "#import lightgbm as lgb\n",
    "\n",
    "import tensorflow as tf\n",
    "import keras"
   ]
  },
  {
   "cell_type": "code",
   "execution_count": 2,
   "metadata": {},
   "outputs": [],
   "source": [
    "pd.options.display.max_rows = 1000"
   ]
  },
  {
   "cell_type": "code",
   "execution_count": 3,
   "metadata": {},
   "outputs": [],
   "source": [
    "df = pd.read_csv('./data/train.csv')"
   ]
  },
  {
   "cell_type": "code",
   "execution_count": 384,
   "metadata": {},
   "outputs": [],
   "source": [
    "def parse_sentence(sentence):\n",
    "    prev_word, prev_pos = '', ''\n",
    "    nouns = []\n",
    "    buff = ''\n",
    "    ret = []\n",
    "    condition = False\n",
    "    idx = 0\n",
    "    n_words = {}\n",
    "    #for word, pos in mecab.pos(df[df['id'] == 312232].iloc[0].text):\n",
    "    for word, pos in mecab.pos(sentence):\n",
    "\n",
    "        if pos in ('SF') or pos[:1] == 'J':\n",
    "            # 은/는/이/가/. 등\n",
    "            prev_word, prev_pos = '', ''\n",
    "            continue\n",
    "\n",
    "        if pos[:1] == 'N' and prev_pos[:1] == 'S':\n",
    "            # 1억, 1천만원 등\n",
    "            word = re.sub('[억천만]', '', word)\n",
    "            if len(word) == 0:\n",
    "                continue\n",
    "\n",
    "        if pos[:1] == 'S':\n",
    "            word = re.sub('[(:)]', '', word)\n",
    "            word = re.sub('[0-9.X]+', 'X', word)\n",
    "\n",
    "            x_pos = word.find('X')\n",
    "            if (prev_pos[:1] != 'S' or len(buff) == 0) and x_pos > 0:\n",
    "                nouns.append(buff)\n",
    "                buff = ''\n",
    "                nouns.append(word[:x_pos])\n",
    "                word = word[x_pos:]\n",
    "            if len(buff) > 0 and x_pos >= 0:\n",
    "                xr_pos = word.rfind('X') + 1\n",
    "                if xr_pos < len(word):\n",
    "                    buff += word[:xr_pos]\n",
    "                    word = word[xr_pos:]\n",
    "\n",
    "        # 조건절 판단\n",
    "        if prev_pos[-3:] == 'ETM' and word in ['분','고객','개인','사업자','이','대상','당신','직원','VIP', '자','분도','전문직','신용자','외국인','본인','임직원','부모','회계사','귀하','투자자','분과']:\n",
    "            condition = True\n",
    "            \n",
    "        if pos[:1] == 'N':\n",
    "            if word[:2] in ('경우', '필요', '라면', '다면'): # 경우, 필요 단어 등장 시 조건절로 판단\n",
    "                condition = True\n",
    "            elif word == '시' and prev_pos[:1] == 'N':  # 넣으나 마나.. 왜 그렇지?\n",
    "                condition = True\n",
    "        elif pos[-2:] == 'EC':\n",
    "            # 여도, 라도, 라면, 면\n",
    "            if word[-1:] in ('면', '도'): # or word[-2:] in ('도록'):\n",
    "                condition = True\n",
    "\n",
    "        if pos[:1] == 'E':\n",
    "            buff += word\n",
    "        #elif pos[:1] == 'N' and prev_pos[:1] == 'N' and len(word) == 1:\n",
    "        #    buff += word\n",
    "        elif pos[:1] == 'S' and prev_pos[:1] == 'S' and word[:1] in 'X0123456789%.-': #('%', '.', '-'):\n",
    "            if buff[-1:] in ('일','시','원','%','건', '배', 'pt', '등급'):\n",
    "                nouns.append(buff)\n",
    "                buff = ''\n",
    "            buff += word\n",
    "            #buff += re.sub('[0-9.X]+', 'X', word)\n",
    "            #buff = re.sub('[0-9.X]+', 'X', buff)\n",
    "        elif pos[:1] == 'N' and prev_pos[:1] == 'S' and len(buff) > 0 and buff[-1:] in 'X0123456789':\n",
    "            if word in ('시', '분', '초', '시간'):\n",
    "                keyword = '시'\n",
    "                buff = re.sub(keyword, '', buff)\n",
    "            elif word in ('년', '월', '일', '개월'):\n",
    "                keyword = '일'\n",
    "                buff = re.sub(keyword, '', buff)\n",
    "            elif word in ('원', '건', '배', 'pt', '등급'):\n",
    "                keyword = word\n",
    "            else:\n",
    "                keyword = ''\n",
    "            buff += keyword\n",
    "        else:\n",
    "            if len(buff) > 0:\n",
    "                buff = re.sub('[0-9.X]+', 'X', buff)\n",
    "                buff = re.sub('[-]+', '-', buff)\n",
    "                buff = re.sub('[X]+', 'X', buff)\n",
    "                nouns.append(buff)\n",
    "            buff = word\n",
    "            prev_word, prev_pos = word, pos\n",
    "\n",
    "        if pos[-2:] in ('EF'): # and word[0][-1:] in ['요', '다']:\n",
    "            # nouns가 꼭 명사를 뜻하는 게 아니고 특색있는 키워드 모두를 포함\n",
    "            if len(buff) > 0:\n",
    "                nouns.append(buff)\n",
    "            buff = ''\n",
    "            ret.append([word, condition, nouns])\n",
    "            if condition:\n",
    "                n_words[idx] = len(nouns)\n",
    "            idx += 1\n",
    "            nouns = []\n",
    "            condition = False\n",
    "    if len(buff) > 0:\n",
    "        nouns.append(buff)\n",
    "    if len(nouns) > 0:\n",
    "        ret.append([word, condition, nouns])\n",
    "        n_words[idx] = len(nouns)\n",
    "    \n",
    "    # cond는 상위 9개만 남기고 나머지는 general로\n",
    "    sorted_idx = {k: v for k, v in sorted(n_words.items(), key=lambda item: item[1])}\n",
    "    selected_cond_idx = [x[0] for x in list(sorted_idx.items())[-9:]]\n",
    "    for k, v in enumerate(ret):\n",
    "        v[1] = k in selected_cond_idx\n",
    "\n",
    "    return ret"
   ]
  },
  {
   "cell_type": "code",
   "execution_count": 385,
   "metadata": {},
   "outputs": [
    {
     "name": "stdout",
     "output_type": "stream",
     "text": [
      "2020-01-03 13:47:39.056547 0\n",
      "2020-01-03 13:48:43.466776 100000\n",
      "2020-01-03 13:49:53.186029 200000\n"
     ]
    }
   ],
   "source": [
    "smishings = []\n",
    "normals = []\n",
    "idx = 0\n",
    "for idx, item in df.iterrows():\n",
    "    #print(item.text)\n",
    "    splited = parse_sentence(item.text)\n",
    "    splited.append(item.id)\n",
    "    #splited = m.parse(item.text).split()\n",
    "    if item.smishing == 1:\n",
    "        smishings.append(splited)\n",
    "    else:\n",
    "        normals.append(splited)\n",
    "    if idx % 100000 == 0:\n",
    "        print(datetime.now(), idx)\n",
    "    idx += 1\n",
    "#     if idx > 20000:\n",
    "#         break"
   ]
  },
  {
   "cell_type": "code",
   "execution_count": 386,
   "metadata": {},
   "outputs": [],
   "source": [
    "class wordCounter():\n",
    "    def __init__(self):\n",
    "        self.word_bank = {}\n",
    "    \n",
    "    def add_bucket(self, bucket_name):\n",
    "        self.word_bank[bucket_name] = {}\n",
    "        \n",
    "    def add_list(self, bucket_name, word_list:[]):\n",
    "        bucket = self.word_bank[bucket_name]\n",
    "        for keyword in word_list:\n",
    "            if keyword in bucket:\n",
    "                bucket[keyword] += 1\n",
    "            else:\n",
    "                bucket[keyword] = 1\n",
    "                \n",
    "    def get_counts(self, bucket_name):\n",
    "        return self.word_bank[bucket_name]"
   ]
  },
  {
   "cell_type": "code",
   "execution_count": 387,
   "metadata": {},
   "outputs": [],
   "source": [
    "wc = wordCounter()\n",
    "wc.add_bucket('conditioned')\n",
    "wc.add_bucket('general')\n",
    "\n",
    "for normal in normals:\n",
    "    for item in normal[:-1]:\n",
    "        if item[1] == True:\n",
    "            wc.add_list('conditioned', item[2])\n",
    "        else:\n",
    "            wc.add_list('general', item[2])\n",
    "\n",
    "for smishing in smishings:\n",
    "    for item in smishing[:-1]:\n",
    "        if item[1] == True:\n",
    "            wc.add_list('conditioned', item[2])\n",
    "        else:\n",
    "            wc.add_list('general', item[2])"
   ]
  },
  {
   "cell_type": "code",
   "execution_count": 388,
   "metadata": {},
   "outputs": [],
   "source": [
    "conditioned_df = pd.Series(wc.get_counts('conditioned'))\n",
    "general_df = pd.Series(wc.get_counts('general'))\n",
    "\n",
    "# 글자가 2개 이상인 것만 모아보자\n",
    "#conditioned_df = conditioned_df[conditioned_df.index.map(len) > 1]\n",
    "#general_df = general_df[general_df.index.map(len) > 1]\n",
    "\n",
    "# 3번 이상 출현한 것만 모아보자\n",
    "conditioned_df = conditioned_df[conditioned_df.sort_values() > 2]\n",
    "general_df = general_df[general_df.sort_values() > 2]"
   ]
  },
  {
   "cell_type": "code",
   "execution_count": 389,
   "metadata": {},
   "outputs": [],
   "source": [
    "general_dic = general_df[general_df > 1].sort_values(ascending=False)\n",
    "general_dic = general_dic.reset_index()\n",
    "general_dic.index = general_dic.index + 1\n",
    "general_dic = general_dic['index'].to_dict()\n",
    "general_vocab = {general_dic.get(k):k for k in general_dic}"
   ]
  },
  {
   "cell_type": "code",
   "execution_count": 390,
   "metadata": {},
   "outputs": [],
   "source": [
    "conditioned_dic = conditioned_df[conditioned_df > 1].sort_values(ascending=False)\n",
    "conditioned_dic = conditioned_dic.reset_index()\n",
    "conditioned_dic.index = conditioned_dic.index + 1\n",
    "conditioned_dic = conditioned_dic['index'].to_dict()\n",
    "conditioned_vocab = {conditioned_dic.get(k):k for k in conditioned_dic}"
   ]
  },
  {
   "cell_type": "code",
   "execution_count": 391,
   "metadata": {},
   "outputs": [
    {
     "name": "stdout",
     "output_type": "stream",
     "text": [
      "size of vocab (conditioned, general): 17180 24102\n"
     ]
    }
   ],
   "source": [
    "# smishing cases; length of vocab when it's out of vocab\n",
    "tidf_conditioned = []\n",
    "tidf_general = []\n",
    "\n",
    "cond_vocabsize = len(conditioned_vocab)\n",
    "gen_vocabsize = len(general_vocab)\n",
    "\n",
    "print('size of vocab (conditioned, general):', cond_vocabsize, gen_vocabsize)\n",
    "for msg in normals:\n",
    "#    tidf_conditioned.append([conditioned_vocab.get(x) if x in conditioned_vocab else cond_vocabsize for row in msg[:-1] if row[1] == True for x in row[2]])\n",
    "    tidf_conditioned.append([[conditioned_vocab.get(x) if x in conditioned_vocab else cond_vocabsize for x in row[2]] for row in msg[:-1] if row[1] == True])\n",
    "    tidf_general.append([general_vocab.get(x) if x in general_vocab else gen_vocabsize for row in msg[:-1] for x in row[2]])    \n",
    "for msg in smishings:\n",
    "#    tidf_conditioned.append([conditioned_vocab.get(x) if x in conditioned_vocab else cond_vocabsize for row in msg[:-1] if row[1] == True for x in row[2]])\n",
    "    tidf_conditioned.append([[conditioned_vocab.get(x) if x in conditioned_vocab else cond_vocabsize for x in row[2]] for row in msg[:-1] if row[1] == True])\n",
    "    tidf_general.append([general_vocab.get(x) if x in general_vocab else gen_vocabsize for row in msg[:-1] for x in row[2]])"
   ]
  },
  {
   "cell_type": "code",
   "execution_count": 392,
   "metadata": {},
   "outputs": [
    {
     "data": {
      "text/plain": [
       "(17180, 17180)"
      ]
     },
     "execution_count": 392,
     "metadata": {},
     "output_type": "execute_result"
    }
   ],
   "source": [
    "max(conditioned_vocab.values()), len(conditioned_vocab)"
   ]
  },
  {
   "cell_type": "code",
   "execution_count": 393,
   "metadata": {},
   "outputs": [
    {
     "name": "stdout",
     "output_type": "stream",
     "text": [
      "conditioned vector minimum size: 334 * 9 (sentence cnt)\n",
      "general vector minimum size: 436\n"
     ]
    }
   ],
   "source": [
    "convec_size = max([len(x) for row in tidf_conditioned for x in row])\n",
    "genvec_size = max([len(x) for x in tidf_general]) #, max([len(x) for x in tidf_general]))\n",
    "\n",
    "# 문장 내 인식한 단어의 개수의 최대값 (문장의 길이가 길수록 크겠지..)\n",
    "print('conditioned vector minimum size:', convec_size, '* 9 (sentence cnt)')\n",
    "print('general vector minimum size:', genvec_size)"
   ]
  },
  {
   "cell_type": "code",
   "execution_count": null,
   "metadata": {},
   "outputs": [],
   "source": []
  },
  {
   "cell_type": "code",
   "execution_count": 394,
   "metadata": {},
   "outputs": [],
   "source": [
    "# 훈련용, 훈련검증용, 결과검증용 분리\n",
    "tidf_conditioned = np.array(tidf_conditioned)\n",
    "tidf_general = np.array(tidf_general)\n",
    "tidf_label = np.array([1 if x >= len(normals) else 0 for x in range(tidf_conditioned.shape[0])])"
   ]
  },
  {
   "cell_type": "code",
   "execution_count": 395,
   "metadata": {},
   "outputs": [],
   "source": [
    "from tensorflow.keras.preprocessing.sequence import pad_sequences\n",
    "\n",
    "class DataGenerator(keras.utils.Sequence):\n",
    "    def __init__(self, tidf_cond_train, tidf_gen_train, tidf_label_train, normal_size=160, smishing_size=160, convec_size=350, genvec_size=470):\n",
    "        self.convec_size = convec_size  # including 0 paddings\n",
    "        self.genvec_size = genvec_size  # including 0 paddings\n",
    "#         self.tidf_cond_train_normal = pad_sequences(tidf_cond_train[tidf_label_train == 0], maxlen=self.convec_size, padding='pre')\n",
    "#         self.tidf_gen_train_normal = pad_sequences(tidf_gen_train[tidf_label_train == 0], maxlen=self.genvec_size, padding='pre')\n",
    "#         self.tidf_cond_train_smishing = pad_sequences(tidf_cond_train[tidf_label_train == 1], maxlen=self.convec_size, padding='pre')\n",
    "#         self.tidf_gen_train_smishing = pad_sequences(tidf_gen_train[tidf_label_train == 1], maxlen=self.genvec_size, padding='pre')\n",
    "        self.tidf_cond_train_normal = np.array([x + [[]] * (9 - len(x)) for x in tidf_cond_train[tidf_label_train == 0]])\n",
    "        self.tidf_gen_train_normal = tidf_gen_train[tidf_label_train == 0]\n",
    "        self.tidf_cond_train_smishing = np.array([x + [[]] * (9 - len(x)) for x in tidf_cond_train[tidf_label_train == 1]])\n",
    "        self.tidf_gen_train_smishing = tidf_gen_train[tidf_label_train == 1]\n",
    "        self.normal_sample_size = normal_size\n",
    "        self.smishing_sample_size = smishing_size\n",
    "        self.num_batch = int(np.ceil(len(self.tidf_cond_train_normal) / (self.normal_sample_size + self.smishing_sample_size) / 10))\n",
    "        print('num_batch:', self.num_batch)\n",
    "    \n",
    "    def __len__(self):\n",
    "        return self.num_batch\n",
    "    \n",
    "    def __getitem__(self, index):\n",
    "        # random sampling. ignore index\n",
    "        normal_sampling = np.random.choice(len(self.tidf_cond_train_normal), self.normal_sample_size)\n",
    "        normal_cond_sample = [pad_sequences(x, maxlen=self.convec_size, padding='pre') for x in self.tidf_cond_train_normal[normal_sampling]]\n",
    "        normal_gen_sample = pad_sequences(self.tidf_gen_train_normal[normal_sampling], maxlen=self.genvec_size, padding='pre')\n",
    "#         normal_cond_sample = self.tidf_cond_train_normal[normal_sampling]\n",
    "#         normal_gen_sample = self.tidf_gen_train_normal[normal_sampling]\n",
    "        smishing_sampling = np.random.choice(len(self.tidf_cond_train_smishing), self.smishing_sample_size)\n",
    "        smishing_cond_sample = [pad_sequences(x, maxlen=self.convec_size, padding='pre') for x in self.tidf_cond_train_smishing[smishing_sampling]]\n",
    "        smishing_gen_sample = pad_sequences(self.tidf_gen_train_smishing[smishing_sampling], maxlen=self.genvec_size, padding='pre')\n",
    "#         smishing_cond_sample = self.tidf_cond_train_smishing[smishing_sampling]\n",
    "#         smishing_gen_sample = self.tidf_gen_train_smishing[smishing_sampling]\n",
    "        sample_cond_train = np.concatenate([normal_cond_sample, smishing_cond_sample])\n",
    "        sample_gen_train = np.concatenate([normal_gen_sample, smishing_gen_sample])\n",
    "        sample_label_train = [1 if x >= self.normal_sample_size else 0 for x in range(len(sample_cond_train))]\n",
    "#        return [sample_cond_train, sample_gen_train], sample_label_train\n",
    "        sct = np.swapaxes(sample_cond_train, 0, 1)\n",
    "        return [sct[0], sct[1], sct[2], sct[3], sct[4], sct[5], sct[6], sct[7], sct[8], sample_gen_train], sample_label_train\n",
    "\n",
    "    def on_epoch_end(self):\n",
    "        pass"
   ]
  },
  {
   "cell_type": "code",
   "execution_count": 396,
   "metadata": {},
   "outputs": [
    {
     "data": {
      "text/plain": [
       "((177533,), (59281,))"
      ]
     },
     "execution_count": 396,
     "metadata": {},
     "output_type": "execute_result"
    }
   ],
   "source": [
    "TRAIN_RATIO, VALID_RATIO = 0.6, 0.8\n",
    "np.random.seed(0)\n",
    "split = np.random.rand(tidf_conditioned.shape[0])\n",
    "tidf_cond_train = tidf_conditioned[split < TRAIN_RATIO]\n",
    "tidf_cond_valid = tidf_conditioned[(split >= TRAIN_RATIO) & (split < VALID_RATIO)]\n",
    "tidf_cond_test = tidf_conditioned[split >= VALID_RATIO]\n",
    "\n",
    "tidf_gen_train = tidf_general[split < TRAIN_RATIO]\n",
    "tidf_gen_valid = tidf_general[(split >= TRAIN_RATIO) & (split < VALID_RATIO)]\n",
    "tidf_gen_test = tidf_general[split >= VALID_RATIO]\n",
    "\n",
    "tidf_label_train = tidf_label[split < TRAIN_RATIO]\n",
    "tidf_label_valid = tidf_label[(split >= TRAIN_RATIO) & (split < VALID_RATIO)]\n",
    "tidf_label_test = tidf_label[split >= VALID_RATIO]\n",
    "\n",
    "tidf_cond_train.shape, tidf_cond_valid.shape #, tidf_cond_test.shape"
   ]
  },
  {
   "cell_type": "code",
   "execution_count": 399,
   "metadata": {},
   "outputs": [
    {
     "name": "stderr",
     "output_type": "stream",
     "text": [
      "/Users/a80099707/anaconda3/lib/python3.6/site-packages/ipykernel_launcher.py:126: UserWarning: Update your `Model` call to the Keras 2 API: `Model(inputs=[<tf.Tenso..., outputs=Tensor(\"Ac...)`\n"
     ]
    }
   ],
   "source": [
    "DENSE1, DENSE2, DENSE3, DENSE4 = 32+16, 16, 16, 16\n",
    "\n",
    "num_predictive_factors1, num_predictive_factors2 = 16, 20\n",
    "#n_cond, n_gen = CONDITION_WORD_FTR_SIZE, GENERAL_WORD_FTR_SIZE\n",
    "n_cond, n_gen = convec_size, genvec_size\n",
    "c1_input = keras.layers.Input(shape=(n_cond,), name='C1')\n",
    "c2_input = keras.layers.Input(shape=(n_cond,), name='C2')\n",
    "c3_input = keras.layers.Input(shape=(n_cond,), name='C3')\n",
    "c4_input = keras.layers.Input(shape=(n_cond,), name='C4')\n",
    "c5_input = keras.layers.Input(shape=(n_cond,), name='C5')\n",
    "c6_input = keras.layers.Input(shape=(n_cond,), name='C6')\n",
    "c7_input = keras.layers.Input(shape=(n_cond,), name='C7')\n",
    "c8_input = keras.layers.Input(shape=(n_cond,), name='C8')\n",
    "c9_input = keras.layers.Input(shape=(n_cond,), name='C9')\n",
    "\n",
    "#cond_input = keras.layers.Input(shape=(n_cond,), name='Cond')\n",
    "gen_input = keras.layers.Input(shape=(n_gen,), name='General')\n",
    "\n",
    "C_DENSE1, C_DENSE2 = 8, 4\n",
    "num_predictive_factors = 16\n",
    "c1_vec_mlp = keras.layers.Embedding(cond_vocabsize + 1, num_predictive_factors, )(c1_input)\n",
    "c1_vec_mlp = keras.layers.Flatten(name='FlattenC1-MLP')(c1_vec_mlp)\n",
    "c1_vec_mlp = keras.layers.Dropout(0.3)(c1_vec_mlp)\n",
    "\n",
    "dense_c1 = keras.layers.Dense(C_DENSE1, kernel_regularizer=keras.regularizers.l2(0.001), name='FullyConnected-C1-1', activation='relu')(c1_vec_mlp)\n",
    "dropout_c1 = keras.layers.Dropout(0.3, name='Dropout-C1')(dense_c1)\n",
    "dense_c1_ = keras.layers.Dense(C_DENSE2, kernel_regularizer=keras.regularizers.l2(0.001), name='FullyConnected-C1-2', activation='relu')(dropout_c1)\n",
    "pred_c1 = keras.layers.Dense(1, activation='relu', name='Activation-C1')(dense_c1_)\n",
    "\n",
    "c2_vec_mlp = keras.layers.Embedding(cond_vocabsize + 1, num_predictive_factors, )(c2_input)\n",
    "c2_vec_mlp = keras.layers.Flatten(name='FlattenC2-MLP')(c2_vec_mlp)\n",
    "c2_vec_mlp = keras.layers.Dropout(0.3)(c2_vec_mlp)\n",
    "\n",
    "dense_c2 = keras.layers.Dense(C_DENSE1, kernel_regularizer=keras.regularizers.l2(0.001), name='FullyConnected-C2-1', activation='relu')(c2_vec_mlp)\n",
    "dropout_c2 = keras.layers.Dropout(0.3, name='Dropout-C2')(dense_c2)\n",
    "dense_c2_ = keras.layers.Dense(C_DENSE2, kernel_regularizer=keras.regularizers.l2(0.001), name='FullyConnected-C2-2', activation='relu')(dropout_c2)\n",
    "pred_c2 = keras.layers.Dense(1, activation='relu', name='Activation-C2')(dense_c2_)\n",
    "\n",
    "c3_vec_mlp = keras.layers.Embedding(cond_vocabsize + 1, num_predictive_factors, )(c3_input)\n",
    "c3_vec_mlp = keras.layers.Flatten(name='FlattenC3-MLP')(c3_vec_mlp)\n",
    "c3_vec_mlp = keras.layers.Dropout(0.3)(c3_vec_mlp)\n",
    "\n",
    "dense_c3 = keras.layers.Dense(C_DENSE1, kernel_regularizer=keras.regularizers.l2(0.001), name='FullyConnected-C3-1', activation='relu')(c3_vec_mlp)\n",
    "dropout_c3 = keras.layers.Dropout(0.3, name='Dropout-C3')(dense_c3)\n",
    "dense_c3_ = keras.layers.Dense(C_DENSE2, kernel_regularizer=keras.regularizers.l2(0.001), name='FullyConnected-C3-2', activation='relu')(dropout_c3)\n",
    "pred_c3 = keras.layers.Dense(1, activation='relu', name='Activation-C3')(dense_c3_)\n",
    "\n",
    "c4_vec_mlp = keras.layers.Embedding(cond_vocabsize + 1, num_predictive_factors, )(c4_input)\n",
    "c4_vec_mlp = keras.layers.Flatten(name='FlattenC4-MLP')(c4_vec_mlp)\n",
    "c4_vec_mlp = keras.layers.Dropout(0.3)(c4_vec_mlp)\n",
    "\n",
    "dense_c4 = keras.layers.Dense(C_DENSE1, kernel_regularizer=keras.regularizers.l2(0.001), name='FullyConnected-C4-1', activation='relu')(c4_vec_mlp)\n",
    "dropout_c4 = keras.layers.Dropout(0.3, name='Dropout-C4')(dense_c4)\n",
    "dense_c4_ = keras.layers.Dense(C_DENSE2, kernel_regularizer=keras.regularizers.l2(0.001), name='FullyConnected-C4-2', activation='relu')(dropout_c4)\n",
    "pred_c4 = keras.layers.Dense(1, activation='relu', name='Activation-C4')(dense_c4_)\n",
    "\n",
    "c5_vec_mlp = keras.layers.Embedding(cond_vocabsize + 1, num_predictive_factors, )(c5_input)\n",
    "c5_vec_mlp = keras.layers.Flatten(name='FlattenC5-MLP')(c5_vec_mlp)\n",
    "c5_vec_mlp = keras.layers.Dropout(0.3)(c5_vec_mlp)\n",
    "\n",
    "dense_c5 = keras.layers.Dense(C_DENSE1, kernel_regularizer=keras.regularizers.l2(0.001), name='FullyConnected-C5-1', activation='relu')(c5_vec_mlp)\n",
    "dropout_c5 = keras.layers.Dropout(0.3, name='Dropout-C5')(dense_c5)\n",
    "dense_c5_ = keras.layers.Dense(C_DENSE2, kernel_regularizer=keras.regularizers.l2(0.001), name='FullyConnected-C5-2', activation='relu')(dropout_c5)\n",
    "pred_c5 = keras.layers.Dense(1, activation='relu', name='Activation-C5')(dense_c5_)\n",
    "\n",
    "c6_vec_mlp = keras.layers.Embedding(cond_vocabsize + 1, num_predictive_factors, )(c6_input)\n",
    "c6_vec_mlp = keras.layers.Flatten(name='Flattenc6-MLP')(c6_vec_mlp)\n",
    "c6_vec_mlp = keras.layers.Dropout(0.3)(c6_vec_mlp)\n",
    "\n",
    "dense_c6 = keras.layers.Dense(C_DENSE1, kernel_regularizer=keras.regularizers.l2(0.001), name='FullyConnected-c6-1', activation='relu')(c6_vec_mlp)\n",
    "dropout_c6 = keras.layers.Dropout(0.3, name='Dropout-c6')(dense_c6)\n",
    "dense_c6_ = keras.layers.Dense(C_DENSE2, kernel_regularizer=keras.regularizers.l2(0.001), name='FullyConnected-c6-2', activation='relu')(dropout_c6)\n",
    "pred_c6 = keras.layers.Dense(1, activation='relu', name='Activation-c6')(dense_c6_)\n",
    "\n",
    "c7_vec_mlp = keras.layers.Embedding(cond_vocabsize + 1, num_predictive_factors, )(c7_input)\n",
    "c7_vec_mlp = keras.layers.Flatten(name='Flattenc7-MLP')(c7_vec_mlp)\n",
    "c7_vec_mlp = keras.layers.Dropout(0.3)(c7_vec_mlp)\n",
    "\n",
    "dense_c7 = keras.layers.Dense(C_DENSE1, kernel_regularizer=keras.regularizers.l2(0.001), name='FullyConnected-c7-1', activation='relu')(c7_vec_mlp)\n",
    "dropout_c7 = keras.layers.Dropout(0.3, name='Dropout-c7')(dense_c7)\n",
    "dense_c7_ = keras.layers.Dense(C_DENSE2, kernel_regularizer=keras.regularizers.l2(0.001), name='FullyConnected-c7-2', activation='relu')(dropout_c7)\n",
    "pred_c7 = keras.layers.Dense(1, activation='relu', name='Activation-c7')(dense_c7_)\n",
    "\n",
    "c8_vec_mlp = keras.layers.Embedding(cond_vocabsize + 1, num_predictive_factors, )(c8_input)\n",
    "c8_vec_mlp = keras.layers.Flatten(name='Flattenc8-MLP')(c8_vec_mlp)\n",
    "c8_vec_mlp = keras.layers.Dropout(0.3)(c8_vec_mlp)\n",
    "\n",
    "dense_c8 = keras.layers.Dense(C_DENSE1, kernel_regularizer=keras.regularizers.l2(0.001), name='FullyConnected-c8-1', activation='relu')(c8_vec_mlp)\n",
    "dropout_c8 = keras.layers.Dropout(0.3, name='Dropout-c8')(dense_c8)\n",
    "dense_c8_ = keras.layers.Dense(C_DENSE2, kernel_regularizer=keras.regularizers.l2(0.001), name='FullyConnected-c8-2', activation='relu')(dropout_c8)\n",
    "pred_c8 = keras.layers.Dense(1, activation='relu', name='Activation-c8')(dense_c8_)\n",
    "\n",
    "c9_vec_mlp = keras.layers.Embedding(cond_vocabsize + 1, num_predictive_factors, )(c9_input)\n",
    "c9_vec_mlp = keras.layers.Flatten(name='Flattenc9-MLP')(c9_vec_mlp)\n",
    "c9_vec_mlp = keras.layers.Dropout(0.3)(c9_vec_mlp)\n",
    "\n",
    "dense_c9 = keras.layers.Dense(C_DENSE1, kernel_regularizer=keras.regularizers.l2(0.001), name='FullyConnected-c9-1', activation='relu')(c9_vec_mlp)\n",
    "dropout_c9 = keras.layers.Dropout(0.3, name='Dropout-c9')(dense_c9)\n",
    "dense_c9_ = keras.layers.Dense(C_DENSE2, kernel_regularizer=keras.regularizers.l2(0.001), name='FullyConnected-c9-2', activation='relu')(dropout_c9)\n",
    "pred_c9 = keras.layers.Dense(1, activation='relu', name='Activation-c9')(dense_c9_)\n",
    "\n",
    "# cond_vec_mlp = keras.layers.Embedding(cond_vocabsize + 1, num_predictive_factors1, )(cond_input)\n",
    "# cond_vec_mlp = keras.layers.Flatten(name='Flattenconds-MLP')(cond_vec_mlp)\n",
    "# cond_vec_mlp = keras.layers.Dropout(0.3)(cond_vec_mlp)\n",
    "\n",
    "gen_vec_mlp = keras.layers.Embedding(gen_vocabsize + 1, num_predictive_factors2, )(gen_input)\n",
    "gen_vec_mlp = keras.layers.Flatten(name='Flattengens-MLP')(gen_vec_mlp)\n",
    "gen_vec_mlp = keras.layers.Dropout(0.3)(gen_vec_mlp)\n",
    "\n",
    "concat_mlp = keras.layers.merge.concatenate([pred_c1, pred_c2, pred_c3, pred_c4, pred_c5, pred_c6, pred_c7, pred_c8, pred_c9, gen_vec_mlp])\n",
    "concat_dropout_mlp = keras.layers.Dropout(0.3)(concat_mlp)\n",
    "\n",
    "dense = keras.layers.Dense(DENSE1, kernel_regularizer=keras.regularizers.l2(0.001), name='FullyConnected-1', activation='relu')(concat_dropout_mlp)\n",
    "dropout_1 = keras.layers.Dropout(0.3, name='Dropout-1')(dense)\n",
    "\n",
    "# dense_2 = keras.layers.Dense(DENSE2, kernel_regularizer=keras.regularizers.l2(0.001), name='FullyConnected-2', activation='relu')(dropout_1)\n",
    "# dropout_2 = keras.layers.Dropout(0.3, name='Dropout-2')(dense_2)\n",
    "\n",
    "# dense_3 = keras.layers.Dense(DENSE3, kernel_regularizer=keras.regularizers.l2(0.001), name='FullyConnected-3', activation='relu')(dropout_2)\n",
    "# dropout_3 = keras.layers.Dropout(0.3, name='Dropout-3')(dense_3)\n",
    "\n",
    "dense_4 = keras.layers.Dense(DENSE4, kernel_regularizer=keras.regularizers.l2(0.001), name='FullyConnected-4', activation='relu')(dropout_1)\n",
    "\n",
    "pred_mlp = keras.layers.Dense(1, activation='sigmoid', name='Activation')(dense_4)\n",
    "\n",
    "model = keras.Model(inputs=[c1_input, c2_input, c3_input, c4_input, c5_input, c6_input, c7_input, c8_input, c9_input, gen_input], output=pred_mlp)\n",
    "model.compile(optimizer=keras.optimizers.Adam(lr=1e-4), loss='binary_crossentropy', metrics=['binary_crossentropy', 'accuracy'])\n",
    "#model.compile(optimizer=keras.optimizers.Adamax(lr=1e-3), loss='binary_crossentropy', metrics=['binary_crossentropy', 'accuracy'])"
   ]
  },
  {
   "cell_type": "code",
   "execution_count": 400,
   "metadata": {},
   "outputs": [
    {
     "name": "stdout",
     "output_type": "stream",
     "text": [
      "num_batch: 52\n",
      "num_batch: 3\n",
      "Epoch 1/150\n",
      "52/52 [==============================] - 58s 1s/step - loss: 0.7538 - binary_crossentropy: 0.4734 - acc: 0.7978 - val_loss: 0.5206 - val_binary_crossentropy: 0.2693 - val_acc: 0.9517\n",
      "Epoch 2/150\n",
      "52/52 [==============================] - 45s 875ms/step - loss: 0.4374 - binary_crossentropy: 0.2074 - acc: 0.9572 - val_loss: 0.3287 - val_binary_crossentropy: 0.1183 - val_acc: 0.9740\n",
      "Epoch 3/150\n",
      "52/52 [==============================] - 45s 873ms/step - loss: 0.3124 - binary_crossentropy: 0.1176 - acc: 0.9680 - val_loss: 0.2617 - val_binary_crossentropy: 0.0818 - val_acc: 0.9745\n",
      "Epoch 4/150\n",
      "52/52 [==============================] - 45s 873ms/step - loss: 0.2454 - binary_crossentropy: 0.0770 - acc: 0.9785 - val_loss: 0.2098 - val_binary_crossentropy: 0.0521 - val_acc: 0.9852\n",
      "Epoch 5/150\n",
      "52/52 [==============================] - 45s 873ms/step - loss: 0.2074 - binary_crossentropy: 0.0580 - acc: 0.9850 - val_loss: 0.1758 - val_binary_crossentropy: 0.0342 - val_acc: 0.9925\n",
      "Epoch 6/150\n",
      "52/52 [==============================] - 45s 875ms/step - loss: 0.1816 - binary_crossentropy: 0.0461 - acc: 0.9891 - val_loss: 0.1588 - val_binary_crossentropy: 0.0291 - val_acc: 0.9923\n",
      "Epoch 7/150\n",
      "52/52 [==============================] - 45s 874ms/step - loss: 0.1599 - binary_crossentropy: 0.0348 - acc: 0.9923 - val_loss: 0.1466 - val_binary_crossentropy: 0.0260 - val_acc: 0.9947\n",
      "Epoch 8/150\n",
      "52/52 [==============================] - 46s 879ms/step - loss: 0.1484 - binary_crossentropy: 0.0317 - acc: 0.9928 - val_loss: 0.1323 - val_binary_crossentropy: 0.0194 - val_acc: 0.9957\n",
      "Epoch 9/150\n",
      "52/52 [==============================] - 45s 873ms/step - loss: 0.1331 - binary_crossentropy: 0.0234 - acc: 0.9957 - val_loss: 0.1245 - val_binary_crossentropy: 0.0179 - val_acc: 0.9967\n",
      "Epoch 10/150\n",
      "52/52 [==============================] - 45s 873ms/step - loss: 0.1252 - binary_crossentropy: 0.0215 - acc: 0.9957 - val_loss: 0.1135 - val_binary_crossentropy: 0.0126 - val_acc: 0.9970\n",
      "Epoch 11/150\n",
      "52/52 [==============================] - 46s 876ms/step - loss: 0.1180 - binary_crossentropy: 0.0197 - acc: 0.9968 - val_loss: 0.1100 - val_binary_crossentropy: 0.0143 - val_acc: 0.9972\n",
      "Epoch 12/150\n",
      "52/52 [==============================] - 45s 873ms/step - loss: 0.1126 - binary_crossentropy: 0.0192 - acc: 0.9962 - val_loss: 0.1059 - val_binary_crossentropy: 0.0148 - val_acc: 0.9963\n",
      "Epoch 13/150\n",
      "52/52 [==============================] - 45s 871ms/step - loss: 0.1049 - binary_crossentropy: 0.0159 - acc: 0.9977 - val_loss: 0.1012 - val_binary_crossentropy: 0.0142 - val_acc: 0.9968\n",
      "Epoch 14/150\n",
      "52/52 [==============================] - 46s 876ms/step - loss: 0.1026 - binary_crossentropy: 0.0175 - acc: 0.9965 - val_loss: 0.0956 - val_binary_crossentropy: 0.0125 - val_acc: 0.9972\n",
      "Epoch 15/150\n",
      "52/52 [==============================] - 47s 898ms/step - loss: 0.0968 - binary_crossentropy: 0.0155 - acc: 0.9974 - val_loss: 0.0943 - val_binary_crossentropy: 0.0147 - val_acc: 0.9965\n",
      "Epoch 16/150\n",
      "52/52 [==============================] - 46s 886ms/step - loss: 0.0905 - binary_crossentropy: 0.0124 - acc: 0.9981 - val_loss: 0.0867 - val_binary_crossentropy: 0.0103 - val_acc: 0.9970\n",
      "Epoch 17/150\n",
      "52/52 [==============================] - 47s 909ms/step - loss: 0.0896 - binary_crossentropy: 0.0146 - acc: 0.9973 - val_loss: 0.0835 - val_binary_crossentropy: 0.0100 - val_acc: 0.9977\n",
      "Epoch 18/150\n",
      "52/52 [==============================] - 46s 879ms/step - loss: 0.0864 - binary_crossentropy: 0.0142 - acc: 0.9972 - val_loss: 0.0834 - val_binary_crossentropy: 0.0126 - val_acc: 0.9970\n",
      "Epoch 19/150\n",
      "52/52 [==============================] - 46s 888ms/step - loss: 0.0804 - binary_crossentropy: 0.0107 - acc: 0.9984 - val_loss: 0.0760 - val_binary_crossentropy: 0.0076 - val_acc: 0.9975\n",
      "Epoch 20/150\n",
      "52/52 [==============================] - 46s 881ms/step - loss: 0.0792 - binary_crossentropy: 0.0120 - acc: 0.9977 - val_loss: 0.0723 - val_binary_crossentropy: 0.0063 - val_acc: 0.9987\n",
      "Epoch 21/150\n",
      "52/52 [==============================] - 45s 871ms/step - loss: 0.0766 - binary_crossentropy: 0.0116 - acc: 0.9979 - val_loss: 0.0732 - val_binary_crossentropy: 0.0094 - val_acc: 0.9965\n",
      "Epoch 22/150\n",
      "52/52 [==============================] - 45s 872ms/step - loss: 0.0736 - binary_crossentropy: 0.0108 - acc: 0.9983 - val_loss: 0.0772 - val_binary_crossentropy: 0.0154 - val_acc: 0.9968\n",
      "Epoch 23/150\n",
      "52/52 [==============================] - 45s 873ms/step - loss: 0.0704 - binary_crossentropy: 0.0095 - acc: 0.9981 - val_loss: 0.0692 - val_binary_crossentropy: 0.0091 - val_acc: 0.9978\n",
      "Epoch 24/150\n",
      "52/52 [==============================] - 45s 872ms/step - loss: 0.0687 - binary_crossentropy: 0.0095 - acc: 0.9981 - val_loss: 0.0683 - val_binary_crossentropy: 0.0099 - val_acc: 0.9978\n",
      "Epoch 25/150\n",
      "52/52 [==============================] - 45s 873ms/step - loss: 0.0689 - binary_crossentropy: 0.0114 - acc: 0.9979 - val_loss: 0.0644 - val_binary_crossentropy: 0.0078 - val_acc: 0.9978\n",
      "Epoch 26/150\n",
      "52/52 [==============================] - 45s 873ms/step - loss: 0.0649 - binary_crossentropy: 0.0090 - acc: 0.9989 - val_loss: 0.0634 - val_binary_crossentropy: 0.0083 - val_acc: 0.9982\n",
      "Epoch 27/150\n",
      "52/52 [==============================] - 45s 874ms/step - loss: 0.0633 - binary_crossentropy: 0.0088 - acc: 0.9982 - val_loss: 0.0619 - val_binary_crossentropy: 0.0082 - val_acc: 0.9975\n",
      "Epoch 28/150\n",
      "52/52 [==============================] - 45s 872ms/step - loss: 0.0631 - binary_crossentropy: 0.0102 - acc: 0.9984 - val_loss: 0.0579 - val_binary_crossentropy: 0.0056 - val_acc: 0.9990\n",
      "Epoch 29/150\n",
      "52/52 [==============================] - 45s 873ms/step - loss: 0.0605 - binary_crossentropy: 0.0089 - acc: 0.9985 - val_loss: 0.0580 - val_binary_crossentropy: 0.0071 - val_acc: 0.9988\n",
      "Epoch 30/150\n",
      "52/52 [==============================] - 45s 871ms/step - loss: 0.0581 - binary_crossentropy: 0.0079 - acc: 0.9988 - val_loss: 0.0586 - val_binary_crossentropy: 0.0090 - val_acc: 0.9982\n",
      "Epoch 31/150\n",
      "52/52 [==============================] - 45s 873ms/step - loss: 0.0565 - binary_crossentropy: 0.0074 - acc: 0.9989 - val_loss: 0.0582 - val_binary_crossentropy: 0.0097 - val_acc: 0.9977\n",
      "Epoch 32/150\n",
      "52/52 [==============================] - 45s 872ms/step - loss: 0.0566 - binary_crossentropy: 0.0088 - acc: 0.9989 - val_loss: 0.0570 - val_binary_crossentropy: 0.0098 - val_acc: 0.9985\n",
      "Epoch 33/150\n",
      "52/52 [==============================] - 45s 873ms/step - loss: 0.0537 - binary_crossentropy: 0.0070 - acc: 0.9990 - val_loss: 0.0559 - val_binary_crossentropy: 0.0098 - val_acc: 0.9975\n",
      "Epoch 34/150\n",
      "52/52 [==============================] - 45s 871ms/step - loss: 0.0547 - binary_crossentropy: 0.0091 - acc: 0.9983 - val_loss: 0.0554 - val_binary_crossentropy: 0.0105 - val_acc: 0.9975\n",
      "Epoch 35/150\n",
      "52/52 [==============================] - 46s 881ms/step - loss: 0.0525 - binary_crossentropy: 0.0080 - acc: 0.9986 - val_loss: 0.0546 - val_binary_crossentropy: 0.0105 - val_acc: 0.9978\n",
      "Epoch 36/150\n",
      "52/52 [==============================] - 46s 877ms/step - loss: 0.0509 - binary_crossentropy: 0.0071 - acc: 0.9987 - val_loss: 0.0529 - val_binary_crossentropy: 0.0098 - val_acc: 0.9985\n",
      "Epoch 37/150\n",
      "52/52 [==============================] - 45s 871ms/step - loss: 0.0508 - binary_crossentropy: 0.0082 - acc: 0.9987 - val_loss: 0.0486 - val_binary_crossentropy: 0.0065 - val_acc: 0.9987\n",
      "Epoch 38/150\n",
      "52/52 [==============================] - 45s 873ms/step - loss: 0.0514 - binary_crossentropy: 0.0098 - acc: 0.9984 - val_loss: 0.0496 - val_binary_crossentropy: 0.0085 - val_acc: 0.9982\n",
      "Epoch 39/150\n",
      "52/52 [==============================] - 46s 887ms/step - loss: 0.0474 - binary_crossentropy: 0.0067 - acc: 0.9988 - val_loss: 0.0441 - val_binary_crossentropy: 0.0038 - val_acc: 0.9995\n",
      "Epoch 40/150\n",
      "52/52 [==============================] - 47s 907ms/step - loss: 0.0478 - binary_crossentropy: 0.0079 - acc: 0.9987 - val_loss: 0.0482 - val_binary_crossentropy: 0.0089 - val_acc: 0.9985\n",
      "Epoch 41/150\n",
      "52/52 [==============================] - 45s 873ms/step - loss: 0.0462 - binary_crossentropy: 0.0073 - acc: 0.9986 - val_loss: 0.0445 - val_binary_crossentropy: 0.0059 - val_acc: 0.9992\n",
      "Epoch 42/150\n"
     ]
    },
    {
     "name": "stdout",
     "output_type": "stream",
     "text": [
      "52/52 [==============================] - 46s 886ms/step - loss: 0.0454 - binary_crossentropy: 0.0072 - acc: 0.9990 - val_loss: 0.0437 - val_binary_crossentropy: 0.0060 - val_acc: 0.9987\n",
      "Epoch 43/150\n",
      "52/52 [==============================] - 45s 873ms/step - loss: 0.0457 - binary_crossentropy: 0.0083 - acc: 0.9988 - val_loss: 0.0442 - val_binary_crossentropy: 0.0074 - val_acc: 0.9987\n",
      "Epoch 44/150\n",
      "52/52 [==============================] - 46s 876ms/step - loss: 0.0442 - binary_crossentropy: 0.0077 - acc: 0.9987 - val_loss: 0.0448 - val_binary_crossentropy: 0.0086 - val_acc: 0.9980\n",
      "Epoch 45/150\n",
      "52/52 [==============================] - 45s 872ms/step - loss: 0.0427 - binary_crossentropy: 0.0069 - acc: 0.9987 - val_loss: 0.0404 - val_binary_crossentropy: 0.0050 - val_acc: 0.9990\n",
      "Epoch 46/150\n",
      "52/52 [==============================] - 45s 870ms/step - loss: 0.0413 - binary_crossentropy: 0.0062 - acc: 0.9990 - val_loss: 0.0390 - val_binary_crossentropy: 0.0043 - val_acc: 0.9992\n",
      "Epoch 47/150\n",
      "52/52 [==============================] - 45s 873ms/step - loss: 0.0407 - binary_crossentropy: 0.0064 - acc: 0.9992 - val_loss: 0.0379 - val_binary_crossentropy: 0.0039 - val_acc: 0.9992\n",
      "Epoch 48/150\n",
      "52/52 [==============================] - 45s 873ms/step - loss: 0.0388 - binary_crossentropy: 0.0051 - acc: 0.9993 - val_loss: 0.0388 - val_binary_crossentropy: 0.0055 - val_acc: 0.9987\n",
      "Epoch 49/150\n",
      "52/52 [==============================] - 46s 875ms/step - loss: 0.0396 - binary_crossentropy: 0.0067 - acc: 0.9992 - val_loss: 0.0397 - val_binary_crossentropy: 0.0072 - val_acc: 0.9983\n",
      "Epoch 50/150\n",
      "52/52 [==============================] - 45s 872ms/step - loss: 0.0389 - binary_crossentropy: 0.0066 - acc: 0.9990 - val_loss: 0.0386 - val_binary_crossentropy: 0.0066 - val_acc: 0.9977\n",
      "Epoch 51/150\n",
      "52/52 [==============================] - 45s 874ms/step - loss: 0.0374 - binary_crossentropy: 0.0058 - acc: 0.9991 - val_loss: 0.0391 - val_binary_crossentropy: 0.0078 - val_acc: 0.9988\n",
      "Epoch 52/150\n",
      "52/52 [==============================] - 46s 876ms/step - loss: 0.0359 - binary_crossentropy: 0.0050 - acc: 0.9991 - val_loss: 0.0359 - val_binary_crossentropy: 0.0053 - val_acc: 0.9990\n",
      "Epoch 53/150\n",
      "52/52 [==============================] - 46s 880ms/step - loss: 0.0356 - binary_crossentropy: 0.0052 - acc: 0.9992 - val_loss: 0.0333 - val_binary_crossentropy: 0.0032 - val_acc: 0.9992\n",
      "Epoch 54/150\n",
      "52/52 [==============================] - 45s 868ms/step - loss: 0.0346 - binary_crossentropy: 0.0049 - acc: 0.9993 - val_loss: 0.0361 - val_binary_crossentropy: 0.0067 - val_acc: 0.9982\n",
      "Epoch 55/150\n",
      "52/52 [==============================] - 45s 873ms/step - loss: 0.0333 - binary_crossentropy: 0.0042 - acc: 0.9993 - val_loss: 0.0342 - val_binary_crossentropy: 0.0054 - val_acc: 0.9988\n",
      "Epoch 56/150\n",
      "52/52 [==============================] - 45s 874ms/step - loss: 0.0326 - binary_crossentropy: 0.0041 - acc: 0.9994 - val_loss: 0.0375 - val_binary_crossentropy: 0.0092 - val_acc: 0.9982\n",
      "Epoch 57/150\n",
      "52/52 [==============================] - 45s 874ms/step - loss: 0.0315 - binary_crossentropy: 0.0036 - acc: 0.9993 - val_loss: 0.0353 - val_binary_crossentropy: 0.0076 - val_acc: 0.9982\n",
      "Epoch 58/150\n",
      "52/52 [==============================] - 46s 877ms/step - loss: 0.0335 - binary_crossentropy: 0.0063 - acc: 0.9991 - val_loss: 0.0346 - val_binary_crossentropy: 0.0077 - val_acc: 0.9982\n",
      "Epoch 59/150\n",
      "52/52 [==============================] - 45s 875ms/step - loss: 0.0338 - binary_crossentropy: 0.0073 - acc: 0.9990 - val_loss: 0.0296 - val_binary_crossentropy: 0.0034 - val_acc: 0.9997\n",
      "Epoch 60/150\n",
      "52/52 [==============================] - 46s 885ms/step - loss: 0.0308 - binary_crossentropy: 0.0047 - acc: 0.9993 - val_loss: 0.0324 - val_binary_crossentropy: 0.0065 - val_acc: 0.9983\n",
      "Epoch 61/150\n",
      "52/52 [==============================] - 45s 872ms/step - loss: 0.0324 - binary_crossentropy: 0.0069 - acc: 0.9989 - val_loss: 0.0299 - val_binary_crossentropy: 0.0046 - val_acc: 0.9988\n",
      "Epoch 62/150\n",
      "52/52 [==============================] - 45s 868ms/step - loss: 0.0290 - binary_crossentropy: 0.0039 - acc: 0.9993 - val_loss: 0.0287 - val_binary_crossentropy: 0.0037 - val_acc: 0.9985\n",
      "Epoch 63/150\n",
      "52/52 [==============================] - 45s 871ms/step - loss: 0.0291 - binary_crossentropy: 0.0045 - acc: 0.9993 - val_loss: 0.0304 - val_binary_crossentropy: 0.0060 - val_acc: 0.9980\n",
      "Epoch 64/150\n",
      "52/52 [==============================] - 45s 870ms/step - loss: 0.0287 - binary_crossentropy: 0.0045 - acc: 0.9992 - val_loss: 0.0283 - val_binary_crossentropy: 0.0044 - val_acc: 0.9988\n",
      "Epoch 65/150\n",
      "52/52 [==============================] - 45s 873ms/step - loss: 0.0292 - binary_crossentropy: 0.0056 - acc: 0.9991 - val_loss: 0.0301 - val_binary_crossentropy: 0.0067 - val_acc: 0.9985\n",
      "Epoch 66/150\n",
      "52/52 [==============================] - 45s 869ms/step - loss: 0.0269 - binary_crossentropy: 0.0036 - acc: 0.9996 - val_loss: 0.0273 - val_binary_crossentropy: 0.0044 - val_acc: 0.9985\n",
      "Epoch 67/150\n",
      "52/52 [==============================] - 46s 879ms/step - loss: 0.0279 - binary_crossentropy: 0.0051 - acc: 0.9988 - val_loss: 0.0294 - val_binary_crossentropy: 0.0067 - val_acc: 0.9982\n",
      "Epoch 68/150\n",
      "52/52 [==============================] - 45s 875ms/step - loss: 0.0265 - binary_crossentropy: 0.0042 - acc: 0.9993 - val_loss: 0.0292 - val_binary_crossentropy: 0.0071 - val_acc: 0.9978\n",
      "Epoch 69/150\n",
      "52/52 [==============================] - 45s 871ms/step - loss: 0.0273 - binary_crossentropy: 0.0055 - acc: 0.9990 - val_loss: 0.0276 - val_binary_crossentropy: 0.0060 - val_acc: 0.9987\n",
      "Epoch 70/150\n",
      "52/52 [==============================] - 45s 867ms/step - loss: 0.0260 - binary_crossentropy: 0.0046 - acc: 0.9990 - val_loss: 0.0284 - val_binary_crossentropy: 0.0072 - val_acc: 0.9982\n",
      "Epoch 71/150\n",
      "52/52 [==============================] - 45s 870ms/step - loss: 0.0255 - binary_crossentropy: 0.0046 - acc: 0.9995 - val_loss: 0.0290 - val_binary_crossentropy: 0.0083 - val_acc: 0.9982\n",
      "Epoch 72/150\n",
      "52/52 [==============================] - 45s 871ms/step - loss: 0.0249 - binary_crossentropy: 0.0045 - acc: 0.9995 - val_loss: 0.0267 - val_binary_crossentropy: 0.0065 - val_acc: 0.9980\n",
      "Epoch 73/150\n",
      "52/52 [==============================] - 45s 870ms/step - loss: 0.0247 - binary_crossentropy: 0.0047 - acc: 0.9992 - val_loss: 0.0321 - val_binary_crossentropy: 0.0125 - val_acc: 0.9973\n",
      "Epoch 74/150\n",
      "52/52 [==============================] - 45s 868ms/step - loss: 0.0235 - binary_crossentropy: 0.0039 - acc: 0.9995 - val_loss: 0.0256 - val_binary_crossentropy: 0.0062 - val_acc: 0.9988\n",
      "Epoch 75/150\n",
      "52/52 [==============================] - 45s 870ms/step - loss: 0.0236 - binary_crossentropy: 0.0045 - acc: 0.9993 - val_loss: 0.0269 - val_binary_crossentropy: 0.0080 - val_acc: 0.9982\n",
      "Epoch 76/150\n",
      "52/52 [==============================] - 45s 871ms/step - loss: 0.0243 - binary_crossentropy: 0.0056 - acc: 0.9992 - val_loss: 0.0231 - val_binary_crossentropy: 0.0045 - val_acc: 0.9988\n",
      "Epoch 77/150\n",
      "52/52 [==============================] - 45s 871ms/step - loss: 0.0220 - binary_crossentropy: 0.0036 - acc: 0.9995 - val_loss: 0.0252 - val_binary_crossentropy: 0.0070 - val_acc: 0.9982\n",
      "Epoch 78/150\n",
      "52/52 [==============================] - 45s 867ms/step - loss: 0.0220 - binary_crossentropy: 0.0039 - acc: 0.9993 - val_loss: 0.0239 - val_binary_crossentropy: 0.0061 - val_acc: 0.9978\n",
      "Epoch 79/150\n",
      "52/52 [==============================] - 45s 873ms/step - loss: 0.0213 - binary_crossentropy: 0.0038 - acc: 0.9991 - val_loss: 0.0216 - val_binary_crossentropy: 0.0042 - val_acc: 0.9992\n",
      "Epoch 80/150\n",
      "52/52 [==============================] - 45s 869ms/step - loss: 0.0224 - binary_crossentropy: 0.0052 - acc: 0.9993 - val_loss: 0.0210 - val_binary_crossentropy: 0.0040 - val_acc: 0.9983\n",
      "Epoch 81/150\n",
      "52/52 [==============================] - 46s 875ms/step - loss: 0.0212 - binary_crossentropy: 0.0043 - acc: 0.9992 - val_loss: 0.0229 - val_binary_crossentropy: 0.0061 - val_acc: 0.9988\n",
      "Epoch 82/150\n",
      "52/52 [==============================] - 45s 868ms/step - loss: 0.0223 - binary_crossentropy: 0.0057 - acc: 0.9993 - val_loss: 0.0235 - val_binary_crossentropy: 0.0072 - val_acc: 0.9988\n",
      "Epoch 83/150\n"
     ]
    },
    {
     "name": "stdout",
     "output_type": "stream",
     "text": [
      "52/52 [==============================] - 45s 871ms/step - loss: 0.0201 - binary_crossentropy: 0.0039 - acc: 0.9995 - val_loss: 0.0223 - val_binary_crossentropy: 0.0061 - val_acc: 0.9982\n",
      "Epoch 84/150\n",
      "52/52 [==============================] - 45s 871ms/step - loss: 0.0205 - binary_crossentropy: 0.0045 - acc: 0.9992 - val_loss: 0.0228 - val_binary_crossentropy: 0.0069 - val_acc: 0.9987\n",
      "Epoch 85/150\n",
      "52/52 [==============================] - 45s 871ms/step - loss: 0.0191 - binary_crossentropy: 0.0033 - acc: 0.9994 - val_loss: 0.0226 - val_binary_crossentropy: 0.0070 - val_acc: 0.9980\n",
      "Epoch 86/150\n",
      "52/52 [==============================] - 46s 878ms/step - loss: 0.0179 - binary_crossentropy: 0.0026 - acc: 0.9997 - val_loss: 0.0209 - val_binary_crossentropy: 0.0057 - val_acc: 0.9982\n",
      "Epoch 87/150\n",
      "52/52 [==============================] - 45s 874ms/step - loss: 0.0191 - binary_crossentropy: 0.0041 - acc: 0.9993 - val_loss: 0.0215 - val_binary_crossentropy: 0.0068 - val_acc: 0.9982\n",
      "Epoch 88/150\n",
      "52/52 [==============================] - 45s 872ms/step - loss: 0.0178 - binary_crossentropy: 0.0032 - acc: 0.9996 - val_loss: 0.0194 - val_binary_crossentropy: 0.0049 - val_acc: 0.9985\n",
      "Epoch 89/150\n",
      "52/52 [==============================] - 45s 873ms/step - loss: 0.0178 - binary_crossentropy: 0.0035 - acc: 0.9996 - val_loss: 0.0192 - val_binary_crossentropy: 0.0052 - val_acc: 0.9990\n",
      "Epoch 90/150\n",
      "52/52 [==============================] - 45s 871ms/step - loss: 0.0177 - binary_crossentropy: 0.0038 - acc: 0.9992 - val_loss: 0.0179 - val_binary_crossentropy: 0.0040 - val_acc: 0.9985\n",
      "Epoch 91/150\n",
      "52/52 [==============================] - 45s 873ms/step - loss: 0.0176 - binary_crossentropy: 0.0039 - acc: 0.9995 - val_loss: 0.0191 - val_binary_crossentropy: 0.0054 - val_acc: 0.9983\n",
      "Epoch 92/150\n",
      "52/52 [==============================] - 45s 871ms/step - loss: 0.0167 - binary_crossentropy: 0.0031 - acc: 0.9995 - val_loss: 0.0216 - val_binary_crossentropy: 0.0081 - val_acc: 0.9980\n",
      "Epoch 93/150\n",
      "52/52 [==============================] - 45s 872ms/step - loss: 0.0166 - binary_crossentropy: 0.0033 - acc: 0.9996 - val_loss: 0.0171 - val_binary_crossentropy: 0.0040 - val_acc: 0.9985\n",
      "Epoch 94/150\n",
      "52/52 [==============================] - 45s 871ms/step - loss: 0.0159 - binary_crossentropy: 0.0029 - acc: 0.9996 - val_loss: 0.0164 - val_binary_crossentropy: 0.0034 - val_acc: 0.9990\n",
      "Epoch 95/150\n",
      "52/52 [==============================] - 45s 872ms/step - loss: 0.0155 - binary_crossentropy: 0.0026 - acc: 0.9994 - val_loss: 0.0164 - val_binary_crossentropy: 0.0036 - val_acc: 0.9990\n",
      "Epoch 96/150\n",
      "52/52 [==============================] - 46s 877ms/step - loss: 0.0151 - binary_crossentropy: 0.0025 - acc: 0.9998 - val_loss: 0.0153 - val_binary_crossentropy: 0.0030 - val_acc: 0.9992\n",
      "Epoch 97/150\n",
      "52/52 [==============================] - 45s 872ms/step - loss: 0.0156 - binary_crossentropy: 0.0034 - acc: 0.9995 - val_loss: 0.0184 - val_binary_crossentropy: 0.0062 - val_acc: 0.9983\n",
      "Epoch 98/150\n",
      "52/52 [==============================] - 45s 871ms/step - loss: 0.0149 - binary_crossentropy: 0.0030 - acc: 0.9996 - val_loss: 0.0165 - val_binary_crossentropy: 0.0047 - val_acc: 0.9988\n",
      "Epoch 99/150\n",
      "52/52 [==============================] - 45s 872ms/step - loss: 0.0158 - binary_crossentropy: 0.0041 - acc: 0.9993 - val_loss: 0.0154 - val_binary_crossentropy: 0.0039 - val_acc: 0.9987\n",
      "Epoch 100/150\n",
      "52/52 [==============================] - 45s 873ms/step - loss: 0.0157 - binary_crossentropy: 0.0043 - acc: 0.9996 - val_loss: 0.0153 - val_binary_crossentropy: 0.0040 - val_acc: 0.9983\n",
      "Epoch 101/150\n",
      "52/52 [==============================] - 45s 872ms/step - loss: 0.0139 - binary_crossentropy: 0.0028 - acc: 0.9996 - val_loss: 0.0163 - val_binary_crossentropy: 0.0051 - val_acc: 0.9983\n",
      "Epoch 102/150\n",
      "52/52 [==============================] - 45s 871ms/step - loss: 0.0136 - binary_crossentropy: 0.0025 - acc: 0.9996 - val_loss: 0.0163 - val_binary_crossentropy: 0.0053 - val_acc: 0.9985\n",
      "Epoch 103/150\n",
      "52/52 [==============================] - 45s 870ms/step - loss: 0.0160 - binary_crossentropy: 0.0051 - acc: 0.9992 - val_loss: 0.0139 - val_binary_crossentropy: 0.0033 - val_acc: 0.9990\n",
      "Epoch 104/150\n",
      "52/52 [==============================] - 46s 880ms/step - loss: 0.0150 - binary_crossentropy: 0.0044 - acc: 0.9995 - val_loss: 0.0143 - val_binary_crossentropy: 0.0039 - val_acc: 0.9990\n",
      "Epoch 105/150\n",
      "52/52 [==============================] - 46s 878ms/step - loss: 0.0140 - binary_crossentropy: 0.0036 - acc: 0.9996 - val_loss: 0.0158 - val_binary_crossentropy: 0.0055 - val_acc: 0.9992\n",
      "Epoch 106/150\n",
      "52/52 [==============================] - 45s 870ms/step - loss: 0.0146 - binary_crossentropy: 0.0044 - acc: 0.9995 - val_loss: 0.0131 - val_binary_crossentropy: 0.0030 - val_acc: 0.9992\n",
      "Epoch 107/150\n",
      "52/52 [==============================] - 46s 876ms/step - loss: 0.0146 - binary_crossentropy: 0.0046 - acc: 0.9993 - val_loss: 0.0138 - val_binary_crossentropy: 0.0039 - val_acc: 0.9993\n",
      "Epoch 108/150\n",
      "52/52 [==============================] - 45s 872ms/step - loss: 0.0136 - binary_crossentropy: 0.0037 - acc: 0.9993 - val_loss: 0.0149 - val_binary_crossentropy: 0.0051 - val_acc: 0.9985\n",
      "Epoch 109/150\n",
      "52/52 [==============================] - 45s 874ms/step - loss: 0.0119 - binary_crossentropy: 0.0022 - acc: 0.9998 - val_loss: 0.0157 - val_binary_crossentropy: 0.0061 - val_acc: 0.9977\n",
      "Epoch 110/150\n",
      "52/52 [==============================] - 45s 871ms/step - loss: 0.0119 - binary_crossentropy: 0.0024 - acc: 0.9997 - val_loss: 0.0144 - val_binary_crossentropy: 0.0050 - val_acc: 0.9988\n",
      "Epoch 111/150\n",
      "52/52 [==============================] - 46s 876ms/step - loss: 0.0136 - binary_crossentropy: 0.0044 - acc: 0.9995 - val_loss: 0.0135 - val_binary_crossentropy: 0.0044 - val_acc: 0.9988\n",
      "Epoch 112/150\n",
      "52/52 [==============================] - 46s 879ms/step - loss: 0.0141 - binary_crossentropy: 0.0051 - acc: 0.9992 - val_loss: 0.0151 - val_binary_crossentropy: 0.0062 - val_acc: 0.9980\n",
      "Epoch 113/150\n",
      "52/52 [==============================] - 45s 873ms/step - loss: 0.0115 - binary_crossentropy: 0.0025 - acc: 0.9997 - val_loss: 0.0149 - val_binary_crossentropy: 0.0060 - val_acc: 0.9987\n",
      "Epoch 114/150\n",
      "52/52 [==============================] - 45s 869ms/step - loss: 0.0118 - binary_crossentropy: 0.0029 - acc: 0.9995 - val_loss: 0.0162 - val_binary_crossentropy: 0.0074 - val_acc: 0.9977\n",
      "Epoch 115/150\n",
      "52/52 [==============================] - 46s 878ms/step - loss: 0.0123 - binary_crossentropy: 0.0036 - acc: 0.9994 - val_loss: 0.0146 - val_binary_crossentropy: 0.0060 - val_acc: 0.9982\n",
      "Epoch 116/150\n",
      "52/52 [==============================] - 46s 877ms/step - loss: 0.0113 - binary_crossentropy: 0.0027 - acc: 0.9997 - val_loss: 0.0111 - val_binary_crossentropy: 0.0026 - val_acc: 0.9993\n",
      "Epoch 117/150\n",
      "52/52 [==============================] - 46s 877ms/step - loss: 0.0109 - binary_crossentropy: 0.0025 - acc: 0.9996 - val_loss: 0.0126 - val_binary_crossentropy: 0.0044 - val_acc: 0.9990\n",
      "Epoch 118/150\n",
      "52/52 [==============================] - 45s 870ms/step - loss: 0.0112 - binary_crossentropy: 0.0029 - acc: 0.9996 - val_loss: 0.0141 - val_binary_crossentropy: 0.0059 - val_acc: 0.9987\n",
      "Epoch 119/150\n",
      "52/52 [==============================] - 45s 872ms/step - loss: 0.0122 - binary_crossentropy: 0.0040 - acc: 0.9995 - val_loss: 0.0116 - val_binary_crossentropy: 0.0036 - val_acc: 0.9993\n",
      "Epoch 120/150\n",
      "52/52 [==============================] - 45s 873ms/step - loss: 0.0109 - binary_crossentropy: 0.0029 - acc: 0.9996 - val_loss: 0.0128 - val_binary_crossentropy: 0.0049 - val_acc: 0.9988\n",
      "Epoch 121/150\n",
      "52/52 [==============================] - 45s 873ms/step - loss: 0.0102 - binary_crossentropy: 0.0023 - acc: 0.9997 - val_loss: 0.0141 - val_binary_crossentropy: 0.0063 - val_acc: 0.9980\n",
      "Epoch 122/150\n",
      "52/52 [==============================] - 45s 872ms/step - loss: 0.0095 - binary_crossentropy: 0.0018 - acc: 0.9998 - val_loss: 0.0143 - val_binary_crossentropy: 0.0066 - val_acc: 0.9987\n",
      "Epoch 123/150\n",
      "52/52 [==============================] - 45s 875ms/step - loss: 0.0100 - binary_crossentropy: 0.0024 - acc: 0.9998 - val_loss: 0.0137 - val_binary_crossentropy: 0.0062 - val_acc: 0.9980\n",
      "Epoch 124/150\n"
     ]
    },
    {
     "name": "stdout",
     "output_type": "stream",
     "text": [
      "52/52 [==============================] - 45s 872ms/step - loss: 0.0108 - binary_crossentropy: 0.0034 - acc: 0.9995 - val_loss: 0.0115 - val_binary_crossentropy: 0.0041 - val_acc: 0.9982\n",
      "Epoch 125/150\n",
      "52/52 [==============================] - 45s 874ms/step - loss: 0.0099 - binary_crossentropy: 0.0026 - acc: 0.9996 - val_loss: 0.0125 - val_binary_crossentropy: 0.0053 - val_acc: 0.9982\n",
      "Epoch 126/150\n",
      "52/52 [==============================] - 45s 872ms/step - loss: 0.0091 - binary_crossentropy: 0.0019 - acc: 0.9997 - val_loss: 0.0150 - val_binary_crossentropy: 0.0079 - val_acc: 0.9982\n",
      "Epoch 127/150\n",
      "52/52 [==============================] - 45s 874ms/step - loss: 0.0096 - binary_crossentropy: 0.0026 - acc: 0.9997 - val_loss: 0.0105 - val_binary_crossentropy: 0.0036 - val_acc: 0.9988\n",
      "Epoch 128/150\n",
      "52/52 [==============================] - 46s 877ms/step - loss: 0.0105 - binary_crossentropy: 0.0038 - acc: 0.9996 - val_loss: 0.0113 - val_binary_crossentropy: 0.0045 - val_acc: 0.9988\n",
      "Epoch 129/150\n",
      "52/52 [==============================] - 46s 880ms/step - loss: 0.0107 - binary_crossentropy: 0.0041 - acc: 0.9992 - val_loss: 0.0097 - val_binary_crossentropy: 0.0029 - val_acc: 0.9993\n",
      "Epoch 130/150\n",
      "52/52 [==============================] - 45s 871ms/step - loss: 0.0086 - binary_crossentropy: 0.0018 - acc: 0.9999 - val_loss: 0.0107 - val_binary_crossentropy: 0.0040 - val_acc: 0.9993\n",
      "Epoch 131/150\n",
      "52/52 [==============================] - 46s 887ms/step - loss: 0.0093 - binary_crossentropy: 0.0027 - acc: 0.9996 - val_loss: 0.0119 - val_binary_crossentropy: 0.0054 - val_acc: 0.9985\n",
      "Epoch 132/150\n",
      "52/52 [==============================] - 46s 884ms/step - loss: 0.0099 - binary_crossentropy: 0.0035 - acc: 0.9995 - val_loss: 0.0138 - val_binary_crossentropy: 0.0074 - val_acc: 0.9987\n",
      "Epoch 133/150\n",
      "52/52 [==============================] - 45s 873ms/step - loss: 0.0090 - binary_crossentropy: 0.0026 - acc: 0.9996 - val_loss: 0.0117 - val_binary_crossentropy: 0.0053 - val_acc: 0.9985\n",
      "Epoch 134/150\n",
      "52/52 [==============================] - 45s 873ms/step - loss: 0.0087 - binary_crossentropy: 0.0023 - acc: 0.9997 - val_loss: 0.0117 - val_binary_crossentropy: 0.0053 - val_acc: 0.9987\n",
      "Epoch 135/150\n",
      "52/52 [==============================] - 46s 875ms/step - loss: 0.0107 - binary_crossentropy: 0.0044 - acc: 0.9992 - val_loss: 0.0164 - val_binary_crossentropy: 0.0102 - val_acc: 0.9977\n",
      "Epoch 136/150\n",
      "52/52 [==============================] - 46s 883ms/step - loss: 0.0084 - binary_crossentropy: 0.0021 - acc: 0.9997 - val_loss: 0.0158 - val_binary_crossentropy: 0.0094 - val_acc: 0.9973\n",
      "Epoch 137/150\n",
      "52/52 [==============================] - 47s 913ms/step - loss: 0.0093 - binary_crossentropy: 0.0030 - acc: 0.9996 - val_loss: 0.0117 - val_binary_crossentropy: 0.0056 - val_acc: 0.9982\n",
      "Epoch 138/150\n",
      "52/52 [==============================] - 47s 897ms/step - loss: 0.0091 - binary_crossentropy: 0.0031 - acc: 0.9996 - val_loss: 0.0102 - val_binary_crossentropy: 0.0042 - val_acc: 0.9988\n",
      "Epoch 139/150\n",
      "52/52 [==============================] - 46s 892ms/step - loss: 0.0078 - binary_crossentropy: 0.0018 - acc: 0.9998 - val_loss: 0.0123 - val_binary_crossentropy: 0.0063 - val_acc: 0.9983\n",
      "Epoch 140/150\n",
      "52/52 [==============================] - 46s 889ms/step - loss: 0.0087 - binary_crossentropy: 0.0027 - acc: 0.9995 - val_loss: 0.0091 - val_binary_crossentropy: 0.0031 - val_acc: 0.9993\n",
      "Epoch 141/150\n",
      "52/52 [==============================] - 46s 875ms/step - loss: 0.0083 - binary_crossentropy: 0.0024 - acc: 0.9998 - val_loss: 0.0091 - val_binary_crossentropy: 0.0033 - val_acc: 0.9988\n",
      "Epoch 142/150\n",
      "52/52 [==============================] - 46s 890ms/step - loss: 0.0081 - binary_crossentropy: 0.0023 - acc: 0.9996 - val_loss: 0.0105 - val_binary_crossentropy: 0.0048 - val_acc: 0.9987\n",
      "Epoch 143/150\n",
      "52/52 [==============================] - 45s 873ms/step - loss: 0.0089 - binary_crossentropy: 0.0030 - acc: 0.9996 - val_loss: 0.0138 - val_binary_crossentropy: 0.0080 - val_acc: 0.9978\n",
      "Epoch 144/150\n",
      "52/52 [==============================] - 45s 874ms/step - loss: 0.0071 - binary_crossentropy: 0.0014 - acc: 0.9998 - val_loss: 0.0142 - val_binary_crossentropy: 0.0085 - val_acc: 0.9978\n",
      "Epoch 145/150\n",
      "52/52 [==============================] - 45s 871ms/step - loss: 0.0068 - binary_crossentropy: 0.0012 - acc: 1.0000 - val_loss: 0.0081 - val_binary_crossentropy: 0.0025 - val_acc: 0.9992\n",
      "Epoch 146/150\n",
      "52/52 [==============================] - 45s 872ms/step - loss: 0.0087 - binary_crossentropy: 0.0033 - acc: 0.9996 - val_loss: 0.0106 - val_binary_crossentropy: 0.0052 - val_acc: 0.9983\n",
      "Epoch 147/150\n",
      "52/52 [==============================] - 45s 875ms/step - loss: 0.0084 - binary_crossentropy: 0.0030 - acc: 0.9995 - val_loss: 0.0120 - val_binary_crossentropy: 0.0066 - val_acc: 0.9982\n",
      "Epoch 148/150\n",
      "52/52 [==============================] - 45s 872ms/step - loss: 0.0085 - binary_crossentropy: 0.0031 - acc: 0.9995 - val_loss: 0.0131 - val_binary_crossentropy: 0.0077 - val_acc: 0.9975\n",
      "Epoch 149/150\n",
      "52/52 [==============================] - 46s 877ms/step - loss: 0.0068 - binary_crossentropy: 0.0013 - acc: 0.9998 - val_loss: 0.0080 - val_binary_crossentropy: 0.0026 - val_acc: 0.9995\n",
      "Epoch 150/150\n",
      "52/52 [==============================] - 45s 870ms/step - loss: 0.0078 - binary_crossentropy: 0.0025 - acc: 0.9998 - val_loss: 0.0118 - val_binary_crossentropy: 0.0066 - val_acc: 0.9987\n"
     ]
    }
   ],
   "source": [
    "train_gen = DataGenerator(tidf_cond_train, tidf_gen_train, tidf_label_train, 160, 160, convec_size, genvec_size)\n",
    "valid_gen = DataGenerator(tidf_cond_valid, tidf_gen_valid, tidf_label_valid, 1000, 1000, convec_size, genvec_size)\n",
    "\n",
    "history = model.fit_generator(generator=train_gen,\n",
    "                             epochs = 150,\n",
    "#                              use_multiprocessing=True,\n",
    "#                               workers=3,\n",
    "                             validation_data=valid_gen,\n",
    "                             verbose=1)"
   ]
  },
  {
   "cell_type": "code",
   "execution_count": 401,
   "metadata": {},
   "outputs": [
    {
     "data": {
      "image/png": "[encoded data removed]",
      "text/plain": [
       "<Figure size 1440x720 with 2 Axes>"
      ]
     },
     "metadata": {
      "needs_background": "light"
     },
     "output_type": "display_data"
    }
   ],
   "source": [
    "import matplotlib.pyplot as plt\n",
    "fig, loss_ax = plt.subplots()\n",
    "fig.set_figheight(10)\n",
    "fig.set_figwidth(20)\n",
    "acc_ax = loss_ax.twinx()\n",
    "loss_ax.plot(history.history['loss'], 'y', label='train_loss')\n",
    "loss_ax.plot(history.history['val_loss'], 'r', label='val_loss')\n",
    "\n",
    "acc_ax.plot(history.history['acc'], 'b', label='train_acc')\n",
    "acc_ax.plot(history.history['val_acc'], 'g', label='val_acc')\n",
    "\n",
    "loss_ax.set_xlabel('epoch')\n",
    "loss_ax.set_ylabel('loss')\n",
    "acc_ax.set_ylabel('accuracy')\n",
    "loss_ax.legend(loc='upper left')\n",
    "acc_ax.legend(loc='lower left')\n",
    "\n",
    "plt.show()"
   ]
  },
  {
   "cell_type": "code",
   "execution_count": 402,
   "metadata": {},
   "outputs": [],
   "source": [
    "data_gen_train = pad_sequences(tidf_gen_train, maxlen=genvec_size, padding='pre')\n",
    "#data_cond_train = pad_sequences(tidf_cond_train, maxlen=convec_size, padding='pre')\n",
    "data_cond_train = np.array([x + [[]] * (9 - len(x)) for x in tidf_cond_train])\n",
    "data_cond_train = [pad_sequences(x, maxlen=convec_size, padding='pre') for x in data_cond_train]\n",
    "data_gen_valid = pad_sequences(tidf_gen_valid, maxlen=genvec_size, padding='pre')\n",
    "#data_cond_valid = pad_sequences(tidf_cond_valid, maxlen=convec_size, padding='pre')\n",
    "data_cond_valid = np.array([x + [[]] * (9 - len(x)) for x in tidf_cond_valid])\n",
    "data_cond_valid = [pad_sequences(x, maxlen=convec_size, padding='pre') for x in data_cond_valid]"
   ]
  },
  {
   "cell_type": "code",
   "execution_count": 403,
   "metadata": {},
   "outputs": [],
   "source": [
    "dct = np.swapaxes(data_cond_train, 0, 1)\n",
    "dcv = np.swapaxes(data_cond_valid, 0, 1)"
   ]
  },
  {
   "cell_type": "code",
   "execution_count": 404,
   "metadata": {},
   "outputs": [
    {
     "name": "stdout",
     "output_type": "stream",
     "text": [
      "177533/177533 [==============================] - 47s 265us/step\n",
      "59281/59281 [==============================] - 17s 284us/step\n"
     ]
    },
    {
     "data": {
      "text/plain": [
       "(0.999938039688396, 0.9997807054536867, '99.984%')"
      ]
     },
     "execution_count": 404,
     "metadata": {},
     "output_type": "execute_result"
    }
   ],
   "source": [
    "*_, train_acc = model.evaluate([dct[0], dct[1], dct[2], dct[3], dct[4], dct[5], dct[6], dct[7], dct[8], data_gen_train], tidf_label_train)\n",
    "*_, valid_acc = model.evaluate([dcv[0], dcv[1], dcv[2], dcv[3], dcv[4], dcv[5], dcv[6], dcv[7], dcv[8], data_gen_valid], tidf_label_valid)\n",
    "train_acc, valid_acc, '{:.3f}%'.format(valid_acc / train_acc * 100)"
   ]
  },
  {
   "cell_type": "code",
   "execution_count": 405,
   "metadata": {},
   "outputs": [],
   "source": [
    "data_gen_test = pad_sequences(tidf_gen_test, maxlen=genvec_size, padding='pre')\n",
    "#data_cond_test = pad_sequences(tidf_cond_test, maxlen=convec_size, padding='pre')\n",
    "data_cond_test = np.array([x + [[]] * (9 - len(x)) for x in tidf_cond_test])\n",
    "data_cond_test = np.array([pad_sequences(x, maxlen=convec_size, padding='pre') for x in data_cond_test])\n",
    "dctt = np.swapaxes(data_cond_test, 0, 1)"
   ]
  },
  {
   "cell_type": "code",
   "execution_count": 406,
   "metadata": {},
   "outputs": [
    {
     "data": {
      "text/plain": [
       "[<matplotlib.lines.Line2D at 0x74292b7f0>]"
      ]
     },
     "execution_count": 406,
     "metadata": {},
     "output_type": "execute_result"
    },
    {
     "data": {
      "image/png": "[encoded data removed]",
      "text/plain": [
       "<Figure size 1440x720 with 1 Axes>"
      ]
     },
     "metadata": {
      "needs_background": "light"
     },
     "output_type": "display_data"
    }
   ],
   "source": [
    "# 결과검증(overfit, underfit)\n",
    "pred_test = model.predict(x=[dctt[0], dctt[1], dctt[2], dctt[3], dctt[4], dctt[5], dctt[6], dctt[7], dctt[8], data_gen_test], batch_size=160)\n",
    "gap = np.abs(tidf_label_test - pred_test.reshape([-1,]))\n",
    "\n",
    "plt.figure(figsize=(20,10))\n",
    "plt.plot(gap)"
   ]
  },
  {
   "cell_type": "code",
   "execution_count": 407,
   "metadata": {},
   "outputs": [
    {
     "name": "stdout",
     "output_type": "stream",
     "text": [
      "auc : 0.9999948281940851\n"
     ]
    },
    {
     "data": {
      "image/png": "[encoded data removed]",
      "text/plain": [
       "<Figure size 360x360 with 1 Axes>"
      ]
     },
     "metadata": {
      "needs_background": "light"
     },
     "output_type": "display_data"
    }
   ],
   "source": [
    "from sklearn.metrics import confusion_matrix, roc_curve\n",
    "from sklearn.metrics import auc\n",
    "from matplotlib import pyplot as plt\n",
    "\n",
    "fpr, tpr, thresholds = roc_curve(tidf_label_test, pred_test)\n",
    "print('auc :', auc(fpr,tpr))\n",
    "\n",
    "plt.figure(figsize=(5,5))\n",
    "plt.plot(fpr,tpr,'-')\n",
    "plt.plot([0,1],[0,1], 'k--')\n",
    "plt.show()"
   ]
  },
  {
   "cell_type": "code",
   "execution_count": null,
   "metadata": {},
   "outputs": [],
   "source": []
  },
  {
   "cell_type": "code",
   "execution_count": null,
   "metadata": {},
   "outputs": [],
   "source": []
  },
  {
   "cell_type": "code",
   "execution_count": null,
   "metadata": {},
   "outputs": [],
   "source": [
    "# 제출 준비"
   ]
  },
  {
   "cell_type": "code",
   "execution_count": 408,
   "metadata": {},
   "outputs": [],
   "source": [
    "submit_df = pd.read_csv('./data/public_test.csv')"
   ]
  },
  {
   "cell_type": "code",
   "execution_count": 409,
   "metadata": {},
   "outputs": [
    {
     "name": "stdout",
     "output_type": "stream",
     "text": [
      "2020-01-03 16:01:35.603865 0\n"
     ]
    }
   ],
   "source": [
    "unknowns = []\n",
    "\n",
    "idx = 0\n",
    "for idx, item in submit_df.iterrows():\n",
    "    splited = parse_sentence(item.text)\n",
    "    splited.append(item.id)\n",
    "    unknowns.append(splited)\n",
    "    if idx % 100000 == 0:\n",
    "        print(datetime.now(), idx)\n",
    "    idx += 1"
   ]
  },
  {
   "cell_type": "code",
   "execution_count": 410,
   "metadata": {},
   "outputs": [
    {
     "name": "stdout",
     "output_type": "stream",
     "text": [
      "size of vocab (conditioned, general): 17180 24102\n"
     ]
    }
   ],
   "source": [
    "# smishing cases; length of vocab when it's out of vocab\n",
    "submit_conditioned = []\n",
    "submit_general = []\n",
    "\n",
    "cond_vocabsize = len(conditioned_vocab)\n",
    "gen_vocabsize = len(general_vocab)\n",
    "\n",
    "print('size of vocab (conditioned, general):', cond_vocabsize, gen_vocabsize)\n",
    "for msg in unknowns:\n",
    "    submit_conditioned.append([conditioned_vocab.get(x) if x in conditioned_vocab else cond_vocabsize for row in msg[:-1] if row[1] == True for x in row[2]])\n",
    "    submit_general.append([general_vocab.get(x) if x in general_vocab else gen_vocabsize for row in msg[:-1] if row[1] == False for x in row[2]])\n"
   ]
  },
  {
   "cell_type": "code",
   "execution_count": 413,
   "metadata": {},
   "outputs": [
    {
     "ename": "NameError",
     "evalue": "name 'tidf_submit_general' is not defined",
     "output_type": "error",
     "traceback": [
      "\u001b[0;31m---------------------------------------------------------------------------\u001b[0m",
      "\u001b[0;31mNameError\u001b[0m                                 Traceback (most recent call last)",
      "\u001b[0;32m<ipython-input-413-ab3d88a3090d>\u001b[0m in \u001b[0;36m<module>\u001b[0;34m\u001b[0m\n\u001b[0;32m----> 1\u001b[0;31m \u001b[0mdata_gen_submit\u001b[0m \u001b[0;34m=\u001b[0m \u001b[0mpad_sequences\u001b[0m\u001b[0;34m(\u001b[0m\u001b[0mtidf_submit_general\u001b[0m\u001b[0;34m,\u001b[0m \u001b[0mmaxlen\u001b[0m\u001b[0;34m=\u001b[0m\u001b[0mgenvec_size\u001b[0m\u001b[0;34m,\u001b[0m \u001b[0mpadding\u001b[0m\u001b[0;34m=\u001b[0m\u001b[0;34m'pre'\u001b[0m\u001b[0;34m)\u001b[0m\u001b[0;34m\u001b[0m\u001b[0;34m\u001b[0m\u001b[0m\n\u001b[0m\u001b[1;32m      2\u001b[0m \u001b[0mdata_cond_submit\u001b[0m \u001b[0;34m=\u001b[0m \u001b[0mnp\u001b[0m\u001b[0;34m.\u001b[0m\u001b[0marray\u001b[0m\u001b[0;34m(\u001b[0m\u001b[0;34m[\u001b[0m\u001b[0mx\u001b[0m \u001b[0;34m+\u001b[0m \u001b[0;34m[\u001b[0m\u001b[0;34m[\u001b[0m\u001b[0;34m]\u001b[0m\u001b[0;34m]\u001b[0m \u001b[0;34m*\u001b[0m \u001b[0;34m(\u001b[0m\u001b[0;36m9\u001b[0m \u001b[0;34m-\u001b[0m \u001b[0mlen\u001b[0m\u001b[0;34m(\u001b[0m\u001b[0mx\u001b[0m\u001b[0;34m)\u001b[0m\u001b[0;34m)\u001b[0m \u001b[0;32mfor\u001b[0m \u001b[0mx\u001b[0m \u001b[0;32min\u001b[0m \u001b[0mtidf_submit_cond\u001b[0m\u001b[0;34m]\u001b[0m\u001b[0;34m)\u001b[0m\u001b[0;34m\u001b[0m\u001b[0;34m\u001b[0m\u001b[0m\n\u001b[1;32m      3\u001b[0m \u001b[0mdata_cond_submit\u001b[0m \u001b[0;34m=\u001b[0m \u001b[0mnp\u001b[0m\u001b[0;34m.\u001b[0m\u001b[0marray\u001b[0m\u001b[0;34m(\u001b[0m\u001b[0;34m[\u001b[0m\u001b[0mpad_sequences\u001b[0m\u001b[0;34m(\u001b[0m\u001b[0mx\u001b[0m\u001b[0;34m,\u001b[0m \u001b[0mmaxlen\u001b[0m\u001b[0;34m=\u001b[0m\u001b[0mconvec_size\u001b[0m\u001b[0;34m,\u001b[0m \u001b[0mpadding\u001b[0m\u001b[0;34m=\u001b[0m\u001b[0;34m'pre'\u001b[0m\u001b[0;34m)\u001b[0m \u001b[0;32mfor\u001b[0m \u001b[0mx\u001b[0m \u001b[0;32min\u001b[0m \u001b[0mdata_cond_submit\u001b[0m\u001b[0;34m]\u001b[0m\u001b[0;34m)\u001b[0m\u001b[0;34m\u001b[0m\u001b[0;34m\u001b[0m\u001b[0m\n\u001b[1;32m      4\u001b[0m \u001b[0mdcs\u001b[0m \u001b[0;34m=\u001b[0m \u001b[0mnp\u001b[0m\u001b[0;34m.\u001b[0m\u001b[0mswapaxes\u001b[0m\u001b[0;34m(\u001b[0m\u001b[0mdata_cond_submit\u001b[0m\u001b[0;34m,\u001b[0m \u001b[0;36m0\u001b[0m\u001b[0;34m,\u001b[0m \u001b[0;36m1\u001b[0m\u001b[0;34m)\u001b[0m\u001b[0;34m\u001b[0m\u001b[0;34m\u001b[0m\u001b[0m\n",
      "\u001b[0;31mNameError\u001b[0m: name 'tidf_submit_general' is not defined"
     ]
    }
   ],
   "source": [
    "data_gen_submit = pad_sequences(tidf_submit_general, maxlen=genvec_size, padding='pre')\n",
    "data_cond_submit = np.array([x + [[]] * (9 - len(x)) for x in tidf_submit_cond])\n",
    "data_cond_submit = np.array([pad_sequences(x, maxlen=convec_size, padding='pre') for x in data_cond_submit])\n",
    "dcs = np.swapaxes(data_cond_submit, 0, 1)"
   ]
  },
  {
   "cell_type": "code",
   "execution_count": 44,
   "metadata": {},
   "outputs": [
    {
     "name": "stdout",
     "output_type": "stream",
     "text": [
      "1626/1626 [==============================] - 0s 73us/step\n"
     ]
    }
   ],
   "source": [
    "pred_y = model.predict(x=[dcs[0], dcs[1], dcs[2], dcs[3], dcs[4], dcs[5], dcs[6], dcs[7], dcs[8], data_gen_submit], verbose=1)"
   ]
  },
  {
   "cell_type": "code",
   "execution_count": 45,
   "metadata": {},
   "outputs": [],
   "source": [
    "pred_y[pred_y > 1.0] = 1.0"
   ]
  },
  {
   "cell_type": "code",
   "execution_count": 46,
   "metadata": {},
   "outputs": [],
   "source": [
    "submit_df['smishing'] = np.abs(pred_y)"
   ]
  },
  {
   "cell_type": "code",
   "execution_count": 47,
   "metadata": {},
   "outputs": [],
   "source": [
    "submit_df[['id', 'smishing']].to_csv('./data/submission_20200103_1.csv', index=False)"
   ]
  },
  {
   "cell_type": "code",
   "execution_count": null,
   "metadata": {},
   "outputs": [],
   "source": []
  },
  {
   "cell_type": "code",
   "execution_count": null,
   "metadata": {},
   "outputs": [],
   "source": []
  }
 ],
 "metadata": {
  "kernelspec": {
   "display_name": "Python 3",
   "language": "python",
   "name": "python3"
  },
  "language_info": {
   "codemirror_mode": {
    "name": "ipython",
    "version": 3
   },
   "file_extension": ".py",
   "mimetype": "text/x-python",
   "name": "python",
   "nbconvert_exporter": "python",
   "pygments_lexer": "ipython3",
   "version": "3.6.9"
  }
 },
 "nbformat": 4,
 "nbformat_minor": 2
}
