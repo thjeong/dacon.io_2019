{
 "cells": [
  {
   "cell_type": "code",
   "execution_count": 1,
   "metadata": {},
   "outputs": [
    {
     "name": "stderr",
     "output_type": "stream",
     "text": [
      "Using TensorFlow backend.\n"
     ]
    }
   ],
   "source": [
    "from datetime import datetime\n",
    "import numpy as np\n",
    "import pandas as pd\n",
    "from matplotlib import pyplot as plt\n",
    "\n",
    "from konlpy.tag import Mecab\n",
    "mecab = Mecab()\n",
    "\n",
    "#import lightgbm as lgb\n",
    "\n",
    "import tensorflow as tf\n",
    "import keras"
   ]
  },
  {
   "cell_type": "code",
   "execution_count": 2,
   "metadata": {},
   "outputs": [],
   "source": [
    "df = pd.read_csv('./data/train.csv')"
   ]
  },
  {
   "cell_type": "code",
   "execution_count": 3,
   "metadata": {},
   "outputs": [],
   "source": [
    "import re\n",
    "\n",
    "fon_re = re.compile('[0-9X]{2,4}-[0-9Xx]{2,4}-[0-9Xx]{2,4}')\n",
    "\n",
    "deny_re = re.compile(\"무료거부|무료수신거부\")"
   ]
  },
  {
   "cell_type": "code",
   "execution_count": 29,
   "metadata": {},
   "outputs": [],
   "source": [
    "def parse_sentence(sentence):\n",
    "    ret = []\n",
    "    nouns = []\n",
    "    etc = []\n",
    "    condition = False\n",
    "    \n",
    "    if sentence[:4] == '(광고)':\n",
    "        etc.append(1)\n",
    "        sentence = sentence[4:]\n",
    "    else:\n",
    "        etc.append(0)\n",
    "    \n",
    "    # 무료거부 메시지 있는가\n",
    "    etc.append(1 if len(deny_re.findall(sentence)) > 0 else 0)\n",
    "    # 전화번호 형식이 있는가\n",
    "    etc.append(1 if len(fon_re.findall(sentence)) > 0 else 0)\n",
    "    \n",
    "    prev_pos = ''\n",
    "    count_ec, count_m, count_n, count_vv = 0, 0, 0, 0\n",
    "    for word in mecab.pos(sentence):\n",
    "        # 계시다면 등에서 다면이 N으로 파싱됨\n",
    "        if word[1][:1] == 'M':\n",
    "            nouns.append(word[0])\n",
    "            count_m += 1\n",
    "        if word[1][:1] == 'N':\n",
    "            count_n += 1\n",
    "            if word[0][:2] in ('경우', '필요', '라면', '다면'): # 경우, 필요 단어 등장 시 조건절로 판단\n",
    "                condition = True\n",
    "            elif word[0] == '시' and prev_pos[:1] == 'N':  # 넣으나 마나.. 왜 그렇지?\n",
    "                condition = True\n",
    "            else:\n",
    "                nouns.append(word[0])\n",
    "        # 도 : 여도, 라도\n",
    "        # 면 : 라면, 면\n",
    "        elif word[1] == 'EC':\n",
    "            count_ec += 1\n",
    "            if word[0][-1:] in ('면', '도') or word[0][-2:] in ('도록'):\n",
    "                condition = True\n",
    "        elif word[1][:1] == 'V':\n",
    "            count_vv += 1\n",
    "            nouns.append(word[0])\n",
    "        elif word[1][-2:] in ('EF'): # and word[0][-1:] in ['요', '다']:\n",
    "            # nouns가 꼭 명사를 뜻하는 게 아니고 특색있는 키워드 모두를 포함\n",
    "            nouns.append(word[0])\n",
    "            ret.append([word[0], condition, nouns])\n",
    "            nouns = []\n",
    "            condition = False\n",
    "        prev_pos = word[1]\n",
    "    if len(nouns) > 0:\n",
    "        nouns.append(word[0])\n",
    "        ret.append([word[0], condition, nouns])\n",
    "    \n",
    "    etc += [count_ec, count_m, count_n, count_vv]\n",
    "    \n",
    "    # 가장 많은 단어를 가진 조건절만 남기고 나머지는 일반문장으로 원복\n",
    "    max_len, selected = 0, -1\n",
    "    for idx, item in enumerate(ret):\n",
    "        if item[1] == True and len(item[2]) > max_len:\n",
    "            selected, max_len = idx, len(item[2])\n",
    "        ret[idx][1] = False\n",
    "    if selected >= 0:\n",
    "        ret[selected][1] = True\n",
    "    return ret, etc"
   ]
  },
  {
   "cell_type": "code",
   "execution_count": 30,
   "metadata": {},
   "outputs": [
    {
     "name": "stdout",
     "output_type": "stream",
     "text": [
      "2019-12-25 19:05:11.583479 0\n",
      "2019-12-25 19:06:03.567400 100000\n",
      "2019-12-25 19:06:57.326566 200000\n"
     ]
    }
   ],
   "source": [
    "smishings = []\n",
    "normals = []\n",
    "idx = 0\n",
    "for idx, item in df.iterrows():\n",
    "    #print(item.text)\n",
    "    splited, etc = parse_sentence(item.text)\n",
    "    # 일반 피쳐를 여기에서 etc에 넣는다\n",
    "    etc.append(len(item.text))\n",
    "    splited.append(etc)\n",
    "    splited.append(item.id)\n",
    "    #splited = m.parse(item.text).split()\n",
    "    if item.smishing == 1:\n",
    "        smishings.append(splited)\n",
    "    else:\n",
    "        normals.append(splited)\n",
    "    if idx % 100000 == 0:\n",
    "        print(datetime.now(), idx)\n",
    "    idx += 1\n",
    "#     if idx > 20000:\n",
    "#         break"
   ]
  },
  {
   "cell_type": "code",
   "execution_count": 31,
   "metadata": {},
   "outputs": [],
   "source": [
    "class wordCounter():\n",
    "    def __init__(self):\n",
    "        self.word_bank = {}\n",
    "    \n",
    "    def add_bucket(self, bucket_name):\n",
    "        self.word_bank[bucket_name] = {}\n",
    "        \n",
    "    def add_list(self, bucket_name, word_list:[]):\n",
    "        bucket = self.word_bank[bucket_name]\n",
    "        for keyword in word_list:\n",
    "            if keyword in bucket:\n",
    "                bucket[keyword] += 1\n",
    "            else:\n",
    "                bucket[keyword] = 1\n",
    "                \n",
    "    def get_counts(self, bucket_name):\n",
    "        return self.word_bank[bucket_name]"
   ]
  },
  {
   "cell_type": "code",
   "execution_count": 38,
   "metadata": {},
   "outputs": [],
   "source": [
    "wc = wordCounter()\n",
    "wc.add_bucket('conditioned')\n",
    "wc.add_bucket('general')\n",
    "\n",
    "for normal in normals:\n",
    "    for item in normal[:-2]:\n",
    "        if item[1] == True:\n",
    "            wc.add_list('conditioned', item[2])\n",
    "        else:\n",
    "            wc.add_list('general', item[2])\n",
    "\n",
    "for smishing in smishings:\n",
    "    for item in smishing[:-2]:\n",
    "        if item[1] == True:\n",
    "            wc.add_list('conditioned', item[2])\n",
    "        else:\n",
    "            wc.add_list('general', item[2])"
   ]
  },
  {
   "cell_type": "code",
   "execution_count": 39,
   "metadata": {},
   "outputs": [
    {
     "data": {
      "text/plain": [
       "첫날        98\n",
       "아니      2603\n",
       "누군가      250\n",
       "행복     13275\n",
       "내내       144\n",
       "       ...  \n",
       "기울일       64\n",
       "자채       299\n",
       "면책        63\n",
       "채팅       479\n",
       "원거        52\n",
       "Length: 2584, dtype: int64"
      ]
     },
     "metadata": {},
     "output_type": "display_data"
    },
    {
     "data": {
      "text/plain": [
       "행성       659\n",
       "팀장     33529\n",
       "입니다    81742\n",
       "행복     96186\n",
       "주말     47470\n",
       "       ...  \n",
       "지급금      803\n",
       "전폭       560\n",
       "사대      1170\n",
       "도최      1272\n",
       "승인서      660\n",
       "Length: 1416, dtype: int64"
      ]
     },
     "metadata": {},
     "output_type": "display_data"
    }
   ],
   "source": [
    "conditioned_df = pd.Series(wc.get_counts('conditioned'))\n",
    "general_df = pd.Series(wc.get_counts('general'))\n",
    "\n",
    "# 글자가 2개 이상인 것만 모아보자\n",
    "conditioned_df = conditioned_df[conditioned_df.index.map(len) > 1]\n",
    "general_df = general_df[general_df.index.map(len) > 1]\n",
    "\n",
    "# 출현빈도가 일정 개수 이상되는 키워드만 표시해보면\n",
    "display(conditioned_df[conditioned_df > 50])  # 조건절이 있는 문장에서 출현 빈도\n",
    "display(general_df[general_df > 500])"
   ]
  },
  {
   "cell_type": "code",
   "execution_count": 40,
   "metadata": {},
   "outputs": [],
   "source": [
    "# size of feature vector : 아래 두 숫자를 합한 것만큼이 피쳐개수가 됨 \\ 위의 출현개수 기반으로 판단해볼것\n",
    "# 참고 : 400/400 에서 늘려서.. 700/500 800/400 600/600 이렇게 해봐도.. 아래 케이스에서 못맞히는 개수가 12~14개 꾸준함... ㅎㅎ\n",
    "# 400/400 일 때는 15개 틀림.. 좀 늘리면 12개 까지는 좋아질 수 있음.. 합이 1200을 넘으면 너무 느려져서 사용불가 (이 mac기준)\n",
    "CONDITION_WORD_FTR_SIZE = 300  \n",
    "GENERAL_WORD_FTR_SIZE = 400\n",
    "\n",
    "conditioned_dic = list(conditioned_df.sort_values(ascending=False).head(CONDITION_WORD_FTR_SIZE).index)\n",
    "general_dic = list(general_df.sort_values(ascending=False).head(GENERAL_WORD_FTR_SIZE).index)"
   ]
  },
  {
   "cell_type": "code",
   "execution_count": 41,
   "metadata": {},
   "outputs": [],
   "source": [
    "train_conditioned = []\n",
    "train_general = []\n",
    "train_etc = []"
   ]
  },
  {
   "cell_type": "code",
   "execution_count": 42,
   "metadata": {},
   "outputs": [],
   "source": [
    "original_idx = []\n",
    "for normal in normals:\n",
    "    # 하나의 문자메시지에서 여러개의 문장이 있을 때, 한문장씩 처리(조건절 있는 경우 없는경우 나눠서)\n",
    "    conditioned = []\n",
    "    general = []\n",
    "    for item in normal[:-2]:\n",
    "        if item[1] == True:  # conditioned\n",
    "            conditioned += [x for x in item[2] if x in conditioned_dic]\n",
    "        else:\n",
    "            general += [x for x in item[2] if x in general_dic]\n",
    "    train_conditioned.append(list(conditioned))\n",
    "    train_general.append(list(general))\n",
    "    train_etc.append(normal[-2])\n",
    "    original_idx.append(normal[-1])"
   ]
  },
  {
   "cell_type": "code",
   "execution_count": 43,
   "metadata": {},
   "outputs": [],
   "source": [
    "for smishing in smishings:\n",
    "    # 하나의 문자메시지에서 여러개의 문장이 있을 때, 한문장씩 처리(조건절 있는 경우 없는경우 나눠서)\n",
    "    conditioned = []\n",
    "    general = []\n",
    "    for item in smishing[:-2]:\n",
    "        if item[1] == True:  # conditioned\n",
    "            conditioned += [x for x in item[2] if x in conditioned_dic]\n",
    "        else:\n",
    "            general += [x for x in item[2] if x in general_dic]\n",
    "    train_conditioned.append(list(conditioned))\n",
    "    train_general.append(list(general))\n",
    "    train_etc.append(smishing[-2])\n",
    "    original_idx.append(smishing[-1])"
   ]
  },
  {
   "cell_type": "code",
   "execution_count": 44,
   "metadata": {},
   "outputs": [],
   "source": [
    "from sklearn.feature_extraction.text import TfidfVectorizer\n",
    "vectorizer_conditioned = TfidfVectorizer(tokenizer=lambda x: x, lowercase=False)\n",
    "vectorizer_general = TfidfVectorizer(tokenizer=lambda x: x, lowercase=False)\n",
    "\n",
    "tidf_conditioned = vectorizer_conditioned.fit_transform(train_conditioned)\n",
    "tidf_general = vectorizer_general.fit_transform(train_general)"
   ]
  },
  {
   "cell_type": "code",
   "execution_count": null,
   "metadata": {},
   "outputs": [],
   "source": []
  },
  {
   "cell_type": "code",
   "execution_count": 45,
   "metadata": {},
   "outputs": [],
   "source": [
    "# 훈련용, 훈련검증용, 결과검증용 분리\n",
    "tidf_conditioned = np.array(tidf_conditioned.toarray())\n",
    "tidf_general = np.array(tidf_general.toarray())\n",
    "ftr_etc = np.array(train_etc)\n",
    "tidf_label = np.array([1 if x >= len(normals) else 0 for x in range(tidf_conditioned.shape[0])])"
   ]
  },
  {
   "cell_type": "code",
   "execution_count": 46,
   "metadata": {},
   "outputs": [
    {
     "data": {
      "text/plain": [
       "((177533, 300), (59281, 300))"
      ]
     },
     "execution_count": 46,
     "metadata": {},
     "output_type": "execute_result"
    }
   ],
   "source": [
    "TRAIN_RATIO, VALID_RATIO = 0.6, 0.8\n",
    "np.random.seed(0)\n",
    "split = np.random.rand(tidf_conditioned.shape[0])\n",
    "tidf_cond_train = tidf_conditioned[split < TRAIN_RATIO]\n",
    "tidf_cond_valid = tidf_conditioned[(split >= TRAIN_RATIO) & (split < VALID_RATIO)]\n",
    "tidf_cond_test = tidf_conditioned[split >= VALID_RATIO]\n",
    "\n",
    "tidf_gen_train = tidf_general[split < TRAIN_RATIO]\n",
    "tidf_gen_valid = tidf_general[(split >= TRAIN_RATIO) & (split < VALID_RATIO)]\n",
    "tidf_gen_test = tidf_general[split >= VALID_RATIO]\n",
    "\n",
    "ftr_etc_train = ftr_etc[split < TRAIN_RATIO]\n",
    "ftr_etc_valid = ftr_etc[(split >= TRAIN_RATIO) & (split < VALID_RATIO)]\n",
    "ftr_etc_test = ftr_etc[split >= VALID_RATIO]\n",
    "\n",
    "tidf_label_train = tidf_label[split < TRAIN_RATIO]\n",
    "tidf_label_valid = tidf_label[(split >= TRAIN_RATIO) & (split < VALID_RATIO)]\n",
    "tidf_label_test = tidf_label[split >= VALID_RATIO]\n",
    "\n",
    "tidf_cond_train.shape, tidf_cond_valid.shape #, tidf_cond_test.shape"
   ]
  },
  {
   "cell_type": "code",
   "execution_count": 47,
   "metadata": {},
   "outputs": [
    {
     "data": {
      "text/plain": [
       "((177533, 400), (59281, 400))"
      ]
     },
     "execution_count": 47,
     "metadata": {},
     "output_type": "execute_result"
    }
   ],
   "source": [
    "tidf_gen_train.shape, tidf_gen_valid.shape #, tidf_gen_test.shape"
   ]
  },
  {
   "cell_type": "code",
   "execution_count": 72,
   "metadata": {},
   "outputs": [
    {
     "name": "stderr",
     "output_type": "stream",
     "text": [
      "/home/xikizima/.conda/lib/python3.7/site-packages/ipykernel_launcher.py:38: UserWarning: Update your `Model` call to the Keras 2 API: `Model(inputs=[<tf.Tenso..., outputs=Tensor(\"Ac...)`\n"
     ]
    }
   ],
   "source": [
    "INPUT1, INPUT2, DENSE1, DENSE4 = 16, 32, 32, 24\n",
    "\n",
    "n_cond, n_gen = CONDITION_WORD_FTR_SIZE, GENERAL_WORD_FTR_SIZE\n",
    "n_etc = ftr_etc.shape[1]\n",
    "cond_input = keras.layers.Input(shape=(n_cond,), name='Cond')\n",
    "gen_input = keras.layers.Input(shape=(n_gen,), name='General')\n",
    "etc_input = keras.layers.Input(shape=(n_etc,), name='Etc')\n",
    "\n",
    "#cond_vec_mlp = keras.layers.Embedding(n_cond, num_predictive_factors, )(cond_input)\n",
    "#cond_vec_mlp = keras.layers.Flatten(name='Flattenconds-MLP')(cond_vec_mlp)\n",
    "#cond_vec_mlp = keras.layers.Dropout(0.3)(cond_vec_mlp)\n",
    "\n",
    "#gen_vec_mlp = keras.layers.Embedding(n_gen, num_predictive_factors)(gen_input)\n",
    "#gen_vec_mlp = keras.layers.Flatten(name='Flattengens-MLP')(gen_vec_mlp)\n",
    "#gen_vec_mlp = keras.layers.Dropout(0.3)(gen_vec_mlp)\n",
    "\n",
    "enc_input1 = keras.layers.Dense(INPUT1, name='AutoEncoder-1')(cond_input)\n",
    "dropout_input1 = keras.layers.Dropout(0.1, name='enc_input1')(enc_input1)\n",
    "enc_input2 = keras.layers.Dense(INPUT2, name='AutoEncoder-2')(gen_input)\n",
    "dropout_input2 = keras.layers.Dropout(0.1, name='enc_input2')(enc_input2)\n",
    "\n",
    "concat_mlp = keras.layers.merge.concatenate([dropout_input1, dropout_input2, etc_input])\n",
    "concat_dropout_mlp = keras.layers.Dropout(0.2)(concat_mlp)\n",
    "\n",
    "dense = keras.layers.Dense(DENSE1, kernel_regularizer=keras.regularizers.l2(0.002), name='FullyConnected-1', activation='relu')(concat_dropout_mlp)\n",
    "dropout_1 = keras.layers.Dropout(0.4, name='Dropout-1')(dense)\n",
    "\n",
    "# dense_2 = keras.layers.Dense(128, name='FullyConnected-2')(dropout_1)\n",
    "# dropout_2 = keras.layers.Dropout(0.3, name='Dropout-2')(dense_2)\n",
    "\n",
    "# dense_3 = keras.layers.Dense(512, name='FullyConnected-3')(dropout_2)\n",
    "# dropout_3 = keras.layers.Dropout(0.2, name='Dropout-3')(dense_3)\n",
    "\n",
    "dense_4 = keras.layers.Dense(DENSE4, kernel_regularizer=keras.regularizers.l2(0.002), name='FullyConnected-4', activation='relu')(dropout_1)\n",
    "\n",
    "pred_mlp = keras.layers.Dense(1, activation='sigmoid', name='Activation')(dense_4)\n",
    "\n",
    "model = keras.Model(inputs=[cond_input, gen_input, etc_input], output=pred_mlp)\n",
    "model.compile(optimizer=keras.optimizers.Adam(lr=1e-4), loss='binary_crossentropy', metrics=['binary_crossentropy', 'accuracy'])\n",
    "#model.compile(optimizer=keras.optimizers.Adamax(lr=1e-3), loss='binary_crossentropy', metrics=['binary_crossentropy', 'accuracy'])"
   ]
  },
  {
   "cell_type": "code",
   "execution_count": 73,
   "metadata": {},
   "outputs": [
    {
     "data": {
      "text/plain": [
       "((59281,), 3724)"
      ]
     },
     "execution_count": 73,
     "metadata": {},
     "output_type": "execute_result"
    }
   ],
   "source": [
    "tidf_label_valid.shape, sum(tidf_label_valid)"
   ]
  },
  {
   "cell_type": "code",
   "execution_count": 74,
   "metadata": {},
   "outputs": [],
   "source": [
    "class DataGenerator(keras.utils.Sequence):\n",
    "    def __init__(self, tidf_cond_train, tidf_gen_train, ftr_etc_train, tidf_label_train, normal_size=160, smishing_size=160):\n",
    "        self.tidf_cond_train_normal = tidf_cond_train[tidf_label_train == 0]\n",
    "        self.tidf_gen_train_normal = tidf_gen_train[tidf_label_train == 0]\n",
    "        self.tidf_cond_train_smishing = tidf_cond_train[tidf_label_train == 1]\n",
    "        self.tidf_gen_train_smishing = tidf_gen_train[tidf_label_train == 1]\n",
    "        self.ftr_etc_train_normal = ftr_etc_train[tidf_label_train == 0]\n",
    "        self.ftr_etc_train_smishing = ftr_etc_train[tidf_label_train == 1]\n",
    "        self.normal_sample_size = normal_size\n",
    "        self.smishing_sample_size = smishing_size\n",
    "        self.num_batch = int(np.ceil(len(self.tidf_cond_train_normal) / (self.normal_sample_size + self.smishing_sample_size)))\n",
    "        print('num_batch:', self.num_batch)\n",
    "    \n",
    "    def __len__(self):\n",
    "        return self.num_batch\n",
    "    \n",
    "    def __getitem__(self, index):\n",
    "        # random sampling. ignore index\n",
    "        normal_sampling = np.random.choice(len(self.tidf_cond_train_normal), self.normal_sample_size)\n",
    "        normal_cond_sample = self.tidf_cond_train_normal[normal_sampling]\n",
    "        normal_gen_sample = self.tidf_gen_train_normal[normal_sampling]\n",
    "        normal_etc_sample = self.ftr_etc_train_normal[normal_sampling]\n",
    "        smishing_sampling = np.random.choice(len(self.tidf_cond_train_smishing), self.smishing_sample_size)\n",
    "        smishing_cond_sample = self.tidf_cond_train_smishing[smishing_sampling]\n",
    "        smishing_gen_sample = self.tidf_gen_train_smishing[smishing_sampling]\n",
    "        smishing_etc_sample = self.ftr_etc_train_smishing[smishing_sampling]\n",
    "        sample_cond_train = np.concatenate([normal_cond_sample, smishing_cond_sample])\n",
    "        sample_gen_train = np.concatenate([normal_gen_sample, smishing_gen_sample])\n",
    "        sample_etc_train = np.concatenate([normal_etc_sample, smishing_etc_sample])\n",
    "        sample_label_train = [1 if x >= self.normal_sample_size else 0 for x in range(len(sample_cond_train))]\n",
    "        return [sample_cond_train, sample_gen_train, sample_etc_train], sample_label_train\n",
    "\n",
    "    def on_epoch_end(self):\n",
    "        pass"
   ]
  },
  {
   "cell_type": "code",
   "execution_count": 75,
   "metadata": {},
   "outputs": [
    {
     "name": "stdout",
     "output_type": "stream",
     "text": [
      "num_batch: 520\n",
      "num_batch: 14\n",
      "Epoch 1/80\n",
      "520/520 [==============================] - 12s 22ms/step - loss: 2.3525 - binary_crossentropy: 2.2366 - acc: 0.5228 - val_loss: 1.0440 - val_binary_crossentropy: 0.9414 - val_acc: 0.5010\n",
      "Epoch 2/80\n",
      "520/520 [==============================] - 6s 11ms/step - loss: 1.0674 - binary_crossentropy: 0.9721 - acc: 0.6524 - val_loss: 0.4613 - val_binary_crossentropy: 0.3701 - val_acc: 0.8736\n",
      "Epoch 3/80\n",
      "520/520 [==============================] - 3s 6ms/step - loss: 0.4888 - binary_crossentropy: 0.3980 - acc: 0.8796 - val_loss: 0.1381 - val_binary_crossentropy: 0.0479 - val_acc: 0.9931\n",
      "Epoch 4/80\n",
      "520/520 [==============================] - 9s 18ms/step - loss: 0.2526 - binary_crossentropy: 0.1641 - acc: 0.9517 - val_loss: 0.1117 - val_binary_crossentropy: 0.0254 - val_acc: 0.9964\n",
      "Epoch 5/80\n",
      "520/520 [==============================] - 8s 15ms/step - loss: 0.1785 - binary_crossentropy: 0.0949 - acc: 0.9725 - val_loss: 0.1114 - val_binary_crossentropy: 0.0305 - val_acc: 0.9961\n",
      "Epoch 6/80\n",
      "520/520 [==============================] - 4s 7ms/step - loss: 0.1438 - binary_crossentropy: 0.0657 - acc: 0.9805 - val_loss: 0.1111 - val_binary_crossentropy: 0.0356 - val_acc: 0.9940\n",
      "Epoch 7/80\n",
      "520/520 [==============================] - 5s 9ms/step - loss: 0.1261 - binary_crossentropy: 0.0533 - acc: 0.9846 - val_loss: 0.0985 - val_binary_crossentropy: 0.0283 - val_acc: 0.9963\n",
      "Epoch 8/80\n",
      "520/520 [==============================] - 4s 9ms/step - loss: 0.1111 - binary_crossentropy: 0.0435 - acc: 0.9879 - val_loss: 0.0977 - val_binary_crossentropy: 0.0327 - val_acc: 0.9960\n",
      "Epoch 9/80\n",
      "520/520 [==============================] - 4s 8ms/step - loss: 0.1009 - binary_crossentropy: 0.0383 - acc: 0.9894 - val_loss: 0.0913 - val_binary_crossentropy: 0.0311 - val_acc: 0.9963\n",
      "Epoch 10/80\n",
      "520/520 [==============================] - 4s 8ms/step - loss: 0.0907 - binary_crossentropy: 0.0329 - acc: 0.9912 - val_loss: 0.0868 - val_binary_crossentropy: 0.0314 - val_acc: 0.9959\n",
      "Epoch 11/80\n",
      "520/520 [==============================] - 5s 9ms/step - loss: 0.0836 - binary_crossentropy: 0.0304 - acc: 0.9921 - val_loss: 0.0821 - val_binary_crossentropy: 0.0309 - val_acc: 0.9959\n",
      "Epoch 12/80\n",
      "520/520 [==============================] - 4s 7ms/step - loss: 0.0766 - binary_crossentropy: 0.0275 - acc: 0.9927 - val_loss: 0.0755 - val_binary_crossentropy: 0.0285 - val_acc: 0.9967\n",
      "Epoch 13/80\n",
      "520/520 [==============================] - 4s 7ms/step - loss: 0.0696 - binary_crossentropy: 0.0246 - acc: 0.9936 - val_loss: 0.0698 - val_binary_crossentropy: 0.0265 - val_acc: 0.9964\n",
      "Epoch 14/80\n",
      "520/520 [==============================] - 3s 6ms/step - loss: 0.0650 - binary_crossentropy: 0.0233 - acc: 0.9940 - val_loss: 0.0597 - val_binary_crossentropy: 0.0196 - val_acc: 0.9966\n",
      "Epoch 15/80\n",
      "520/520 [==============================] - 3s 7ms/step - loss: 0.0611 - binary_crossentropy: 0.0224 - acc: 0.9946 - val_loss: 0.0548 - val_binary_crossentropy: 0.0176 - val_acc: 0.9969\n",
      "Epoch 16/80\n",
      "520/520 [==============================] - 4s 7ms/step - loss: 0.0568 - binary_crossentropy: 0.0209 - acc: 0.9947 - val_loss: 0.0543 - val_binary_crossentropy: 0.0197 - val_acc: 0.9965\n",
      "Epoch 17/80\n",
      "520/520 [==============================] - 3s 6ms/step - loss: 0.0526 - binary_crossentropy: 0.0191 - acc: 0.9950 - val_loss: 0.0513 - val_binary_crossentropy: 0.0189 - val_acc: 0.9967\n",
      "Epoch 18/80\n",
      "520/520 [==============================] - 3s 6ms/step - loss: 0.0500 - binary_crossentropy: 0.0185 - acc: 0.9953 - val_loss: 0.0505 - val_binary_crossentropy: 0.0201 - val_acc: 0.9968\n",
      "Epoch 19/80\n",
      "520/520 [==============================] - 3s 6ms/step - loss: 0.0466 - binary_crossentropy: 0.0172 - acc: 0.9957 - val_loss: 0.0452 - val_binary_crossentropy: 0.0167 - val_acc: 0.9962\n",
      "Epoch 20/80\n",
      "520/520 [==============================] - 4s 8ms/step - loss: 0.0446 - binary_crossentropy: 0.0170 - acc: 0.9958 - val_loss: 0.0444 - val_binary_crossentropy: 0.0176 - val_acc: 0.9967\n",
      "Epoch 21/80\n",
      "520/520 [==============================] - 3s 6ms/step - loss: 0.0417 - binary_crossentropy: 0.0157 - acc: 0.9959 - val_loss: 0.0441 - val_binary_crossentropy: 0.0187 - val_acc: 0.9967\n",
      "Epoch 22/80\n",
      "520/520 [==============================] - 3s 6ms/step - loss: 0.0401 - binary_crossentropy: 0.0155 - acc: 0.9962 - val_loss: 0.0391 - val_binary_crossentropy: 0.0152 - val_acc: 0.9971\n",
      "Epoch 23/80\n",
      "520/520 [==============================] - 3s 7ms/step - loss: 0.0369 - binary_crossentropy: 0.0138 - acc: 0.9965 - val_loss: 0.0372 - val_binary_crossentropy: 0.0147 - val_acc: 0.9968\n",
      "Epoch 24/80\n",
      "520/520 [==============================] - 3s 6ms/step - loss: 0.0353 - binary_crossentropy: 0.0134 - acc: 0.9964 - val_loss: 0.0378 - val_binary_crossentropy: 0.0164 - val_acc: 0.9969\n",
      "Epoch 25/80\n",
      "520/520 [==============================] - 3s 7ms/step - loss: 0.0335 - binary_crossentropy: 0.0128 - acc: 0.9966 - val_loss: 0.0350 - val_binary_crossentropy: 0.0148 - val_acc: 0.9969\n",
      "Epoch 26/80\n",
      "520/520 [==============================] - 3s 7ms/step - loss: 0.0316 - binary_crossentropy: 0.0119 - acc: 0.9970 - val_loss: 0.0347 - val_binary_crossentropy: 0.0156 - val_acc: 0.9966\n",
      "Epoch 27/80\n",
      "520/520 [==============================] - 3s 6ms/step - loss: 0.0303 - binary_crossentropy: 0.0117 - acc: 0.9970 - val_loss: 0.0332 - val_binary_crossentropy: 0.0150 - val_acc: 0.9970\n",
      "Epoch 28/80\n",
      "520/520 [==============================] - 3s 6ms/step - loss: 0.0295 - binary_crossentropy: 0.0117 - acc: 0.9970 - val_loss: 0.0354 - val_binary_crossentropy: 0.0180 - val_acc: 0.9968\n",
      "Epoch 29/80\n",
      "520/520 [==============================] - 3s 6ms/step - loss: 0.0282 - binary_crossentropy: 0.0113 - acc: 0.9972 - val_loss: 0.0307 - val_binary_crossentropy: 0.0141 - val_acc: 0.9962\n",
      "Epoch 30/80\n",
      "520/520 [==============================] - 3s 6ms/step - loss: 0.0273 - binary_crossentropy: 0.0109 - acc: 0.9972 - val_loss: 0.0287 - val_binary_crossentropy: 0.0127 - val_acc: 0.9975\n",
      "Epoch 31/80\n",
      "520/520 [==============================] - 5s 9ms/step - loss: 0.0258 - binary_crossentropy: 0.0102 - acc: 0.9975 - val_loss: 0.0271 - val_binary_crossentropy: 0.0116 - val_acc: 0.9973\n",
      "Epoch 32/80\n",
      "520/520 [==============================] - 3s 6ms/step - loss: 0.0253 - binary_crossentropy: 0.0100 - acc: 0.9976 - val_loss: 0.0267 - val_binary_crossentropy: 0.0117 - val_acc: 0.9972\n",
      "Epoch 33/80\n",
      "520/520 [==============================] - 4s 7ms/step - loss: 0.0249 - binary_crossentropy: 0.0100 - acc: 0.9976 - val_loss: 0.0259 - val_binary_crossentropy: 0.0113 - val_acc: 0.9976\n",
      "Epoch 34/80\n",
      "520/520 [==============================] - 5s 9ms/step - loss: 0.0236 - binary_crossentropy: 0.0093 - acc: 0.9978 - val_loss: 0.0261 - val_binary_crossentropy: 0.0120 - val_acc: 0.9971\n",
      "Epoch 35/80\n",
      "520/520 [==============================] - 4s 7ms/step - loss: 0.0231 - binary_crossentropy: 0.0091 - acc: 0.9978 - val_loss: 0.0265 - val_binary_crossentropy: 0.0128 - val_acc: 0.9972\n",
      "Epoch 36/80\n",
      "520/520 [==============================] - 3s 6ms/step - loss: 0.0222 - binary_crossentropy: 0.0086 - acc: 0.9980 - val_loss: 0.0265 - val_binary_crossentropy: 0.0132 - val_acc: 0.9973\n",
      "Epoch 37/80\n",
      "520/520 [==============================] - 3s 6ms/step - loss: 0.0213 - binary_crossentropy: 0.0082 - acc: 0.9980 - val_loss: 0.0236 - val_binary_crossentropy: 0.0108 - val_acc: 0.9978\n",
      "Epoch 38/80\n",
      "520/520 [==============================] - 3s 6ms/step - loss: 0.0208 - binary_crossentropy: 0.0082 - acc: 0.9979 - val_loss: 0.0222 - val_binary_crossentropy: 0.0097 - val_acc: 0.9978\n",
      "Epoch 39/80\n",
      "520/520 [==============================] - 3s 6ms/step - loss: 0.0198 - binary_crossentropy: 0.0075 - acc: 0.9984 - val_loss: 0.0217 - val_binary_crossentropy: 0.0096 - val_acc: 0.9982\n",
      "Epoch 40/80\n",
      "520/520 [==============================] - 4s 7ms/step - loss: 0.0190 - binary_crossentropy: 0.0071 - acc: 0.9982 - val_loss: 0.0236 - val_binary_crossentropy: 0.0120 - val_acc: 0.9975\n",
      "Epoch 41/80\n",
      "520/520 [==============================] - 3s 6ms/step - loss: 0.0180 - binary_crossentropy: 0.0066 - acc: 0.9985 - val_loss: 0.0212 - val_binary_crossentropy: 0.0099 - val_acc: 0.9983\n",
      "Epoch 42/80\n"
     ]
    },
    {
     "name": "stdout",
     "output_type": "stream",
     "text": [
      "520/520 [==============================] - 3s 6ms/step - loss: 0.0173 - binary_crossentropy: 0.0063 - acc: 0.9986 - val_loss: 0.0216 - val_binary_crossentropy: 0.0107 - val_acc: 0.9977\n",
      "Epoch 43/80\n",
      "520/520 [==============================] - 3s 6ms/step - loss: 0.0173 - binary_crossentropy: 0.0066 - acc: 0.9985 - val_loss: 0.0201 - val_binary_crossentropy: 0.0096 - val_acc: 0.9980\n",
      "Epoch 44/80\n",
      "520/520 [==============================] - 3s 6ms/step - loss: 0.0157 - binary_crossentropy: 0.0054 - acc: 0.9987 - val_loss: 0.0192 - val_binary_crossentropy: 0.0091 - val_acc: 0.9978\n",
      "Epoch 45/80\n",
      "520/520 [==============================] - 3s 6ms/step - loss: 0.0157 - binary_crossentropy: 0.0058 - acc: 0.9986 - val_loss: 0.0206 - val_binary_crossentropy: 0.0108 - val_acc: 0.9976\n",
      "Epoch 46/80\n",
      "520/520 [==============================] - 3s 6ms/step - loss: 0.0154 - binary_crossentropy: 0.0058 - acc: 0.9986 - val_loss: 0.0194 - val_binary_crossentropy: 0.0098 - val_acc: 0.9981\n",
      "Epoch 47/80\n",
      "520/520 [==============================] - 3s 6ms/step - loss: 0.0143 - binary_crossentropy: 0.0049 - acc: 0.9988 - val_loss: 0.0202 - val_binary_crossentropy: 0.0111 - val_acc: 0.9975\n",
      "Epoch 48/80\n",
      "520/520 [==============================] - 3s 6ms/step - loss: 0.0140 - binary_crossentropy: 0.0051 - acc: 0.9988 - val_loss: 0.0162 - val_binary_crossentropy: 0.0074 - val_acc: 0.9985\n",
      "Epoch 49/80\n",
      "520/520 [==============================] - 3s 6ms/step - loss: 0.0136 - binary_crossentropy: 0.0050 - acc: 0.9988 - val_loss: 0.0172 - val_binary_crossentropy: 0.0086 - val_acc: 0.9983\n",
      "Epoch 50/80\n",
      "520/520 [==============================] - 3s 6ms/step - loss: 0.0127 - binary_crossentropy: 0.0043 - acc: 0.9991 - val_loss: 0.0148 - val_binary_crossentropy: 0.0066 - val_acc: 0.9987\n",
      "Epoch 51/80\n",
      "520/520 [==============================] - 4s 8ms/step - loss: 0.0127 - binary_crossentropy: 0.0046 - acc: 0.9990 - val_loss: 0.0170 - val_binary_crossentropy: 0.0090 - val_acc: 0.9980\n",
      "Epoch 52/80\n",
      "520/520 [==============================] - 3s 6ms/step - loss: 0.0124 - binary_crossentropy: 0.0045 - acc: 0.9989 - val_loss: 0.0162 - val_binary_crossentropy: 0.0083 - val_acc: 0.9984\n",
      "Epoch 53/80\n",
      "520/520 [==============================] - 3s 6ms/step - loss: 0.0121 - binary_crossentropy: 0.0044 - acc: 0.9989 - val_loss: 0.0144 - val_binary_crossentropy: 0.0067 - val_acc: 0.9985\n",
      "Epoch 54/80\n",
      "520/520 [==============================] - 3s 6ms/step - loss: 0.0119 - binary_crossentropy: 0.0044 - acc: 0.9989 - val_loss: 0.0157 - val_binary_crossentropy: 0.0083 - val_acc: 0.9983\n",
      "Epoch 55/80\n",
      "520/520 [==============================] - 3s 6ms/step - loss: 0.0115 - binary_crossentropy: 0.0042 - acc: 0.9990 - val_loss: 0.0156 - val_binary_crossentropy: 0.0083 - val_acc: 0.9984\n",
      "Epoch 56/80\n",
      "520/520 [==============================] - 3s 6ms/step - loss: 0.0110 - binary_crossentropy: 0.0039 - acc: 0.9991 - val_loss: 0.0161 - val_binary_crossentropy: 0.0091 - val_acc: 0.9981\n",
      "Epoch 57/80\n",
      "520/520 [==============================] - 0s 310us/step - loss: 0.0111 - binary_crossentropy: 0.0042 - acc: 0.9989 - val_loss: 0.0155 - val_binary_crossentropy: 0.0087 - val_acc: 0.9983\n",
      "Epoch 58/80\n",
      "520/520 [==============================] - 3s 6ms/step - loss: 0.0109 - binary_crossentropy: 0.0041 - acc: 0.9991 - val_loss: 0.0154 - val_binary_crossentropy: 0.0087 - val_acc: 0.9985\n",
      "Epoch 59/80\n",
      "520/520 [==============================] - 4s 8ms/step - loss: 0.0109 - binary_crossentropy: 0.0043 - acc: 0.9989 - val_loss: 0.0153 - val_binary_crossentropy: 0.0088 - val_acc: 0.9984\n",
      "Epoch 60/80\n",
      "520/520 [==============================] - 3s 6ms/step - loss: 0.0103 - binary_crossentropy: 0.0039 - acc: 0.9991 - val_loss: 0.0134 - val_binary_crossentropy: 0.0070 - val_acc: 0.9988\n",
      "Epoch 61/80\n",
      "520/520 [==============================] - 3s 6ms/step - loss: 0.0102 - binary_crossentropy: 0.0039 - acc: 0.9990 - val_loss: 0.0148 - val_binary_crossentropy: 0.0085 - val_acc: 0.9983\n",
      "Epoch 62/80\n",
      "520/520 [==============================] - 3s 6ms/step - loss: 0.0101 - binary_crossentropy: 0.0039 - acc: 0.9991 - val_loss: 0.0138 - val_binary_crossentropy: 0.0076 - val_acc: 0.9984\n",
      "Epoch 63/80\n",
      "520/520 [==============================] - 3s 6ms/step - loss: 0.0099 - binary_crossentropy: 0.0038 - acc: 0.9991 - val_loss: 0.0154 - val_binary_crossentropy: 0.0093 - val_acc: 0.9985\n",
      "Epoch 64/80\n",
      "520/520 [==============================] - 3s 6ms/step - loss: 0.0101 - binary_crossentropy: 0.0041 - acc: 0.9990 - val_loss: 0.0149 - val_binary_crossentropy: 0.0089 - val_acc: 0.9984\n",
      "Epoch 65/80\n",
      "520/520 [==============================] - 3s 6ms/step - loss: 0.0095 - binary_crossentropy: 0.0036 - acc: 0.9992 - val_loss: 0.0150 - val_binary_crossentropy: 0.0092 - val_acc: 0.9982\n",
      "Epoch 66/80\n",
      "520/520 [==============================] - 3s 6ms/step - loss: 0.0095 - binary_crossentropy: 0.0038 - acc: 0.9990 - val_loss: 0.0141 - val_binary_crossentropy: 0.0084 - val_acc: 0.9986\n",
      "Epoch 67/80\n",
      "520/520 [==============================] - 3s 6ms/step - loss: 0.0089 - binary_crossentropy: 0.0033 - acc: 0.9991 - val_loss: 0.0136 - val_binary_crossentropy: 0.0080 - val_acc: 0.9984\n",
      "Epoch 68/80\n",
      "520/520 [==============================] - 3s 6ms/step - loss: 0.0088 - binary_crossentropy: 0.0033 - acc: 0.9993 - val_loss: 0.0145 - val_binary_crossentropy: 0.0091 - val_acc: 0.9984\n",
      "Epoch 69/80\n",
      "520/520 [==============================] - 3s 6ms/step - loss: 0.0088 - binary_crossentropy: 0.0034 - acc: 0.9992 - val_loss: 0.0138 - val_binary_crossentropy: 0.0086 - val_acc: 0.9984\n",
      "Epoch 70/80\n",
      "520/520 [==============================] - 3s 6ms/step - loss: 0.0087 - binary_crossentropy: 0.0034 - acc: 0.9991 - val_loss: 0.0151 - val_binary_crossentropy: 0.0099 - val_acc: 0.9982\n",
      "Epoch 71/80\n",
      "520/520 [==============================] - 3s 6ms/step - loss: 0.0083 - binary_crossentropy: 0.0031 - acc: 0.9993 - val_loss: 0.0143 - val_binary_crossentropy: 0.0091 - val_acc: 0.9984\n",
      "Epoch 72/80\n",
      "520/520 [==============================] - 3s 6ms/step - loss: 0.0087 - binary_crossentropy: 0.0036 - acc: 0.9991 - val_loss: 0.0155 - val_binary_crossentropy: 0.0105 - val_acc: 0.9977\n",
      "Epoch 73/80\n",
      "520/520 [==============================] - 3s 6ms/step - loss: 0.0079 - binary_crossentropy: 0.0029 - acc: 0.9993 - val_loss: 0.0156 - val_binary_crossentropy: 0.0106 - val_acc: 0.9980\n",
      "Epoch 74/80\n",
      "520/520 [==============================] - 3s 6ms/step - loss: 0.0082 - binary_crossentropy: 0.0033 - acc: 0.9992 - val_loss: 0.0153 - val_binary_crossentropy: 0.0104 - val_acc: 0.9982\n",
      "Epoch 75/80\n",
      "520/520 [==============================] - 4s 7ms/step - loss: 0.0082 - binary_crossentropy: 0.0034 - acc: 0.9991 - val_loss: 0.0132 - val_binary_crossentropy: 0.0084 - val_acc: 0.9983\n",
      "Epoch 76/80\n",
      "520/520 [==============================] - 3s 6ms/step - loss: 0.0078 - binary_crossentropy: 0.0030 - acc: 0.9993 - val_loss: 0.0139 - val_binary_crossentropy: 0.0091 - val_acc: 0.9983\n",
      "Epoch 77/80\n",
      "520/520 [==============================] - 3s 6ms/step - loss: 0.0078 - binary_crossentropy: 0.0031 - acc: 0.9991 - val_loss: 0.0147 - val_binary_crossentropy: 0.0100 - val_acc: 0.9983\n",
      "Epoch 78/80\n",
      "520/520 [==============================] - 3s 7ms/step - loss: 0.0075 - binary_crossentropy: 0.0028 - acc: 0.9993 - val_loss: 0.0118 - val_binary_crossentropy: 0.0072 - val_acc: 0.9989\n",
      "Epoch 79/80\n",
      "520/520 [==============================] - 3s 6ms/step - loss: 0.0077 - binary_crossentropy: 0.0032 - acc: 0.9992 - val_loss: 0.0118 - val_binary_crossentropy: 0.0073 - val_acc: 0.9988\n",
      "Epoch 80/80\n",
      "520/520 [==============================] - 3s 6ms/step - loss: 0.0073 - binary_crossentropy: 0.0028 - acc: 0.9993 - val_loss: 0.0112 - val_binary_crossentropy: 0.0067 - val_acc: 0.9987\n"
     ]
    }
   ],
   "source": [
    "train_gen = DataGenerator(tidf_cond_train, tidf_gen_train, ftr_etc_train, tidf_label_train, 160, 160)\n",
    "valid_gen = DataGenerator(tidf_cond_valid, tidf_gen_valid, ftr_etc_valid, tidf_label_valid, 2000, 2000)\n",
    "\n",
    "history = model.fit_generator(generator=train_gen,\n",
    "                             epochs = 80,\n",
    "#                              use_multiprocessing=True,\n",
    "#                               workers=3,\n",
    "                             validation_data=valid_gen,\n",
    "                             verbose=1)"
   ]
  },
  {
   "cell_type": "code",
   "execution_count": 76,
   "metadata": {},
   "outputs": [
    {
     "data": {
      "image/png": "[encoded data removed]",
      "text/plain": [
       "<Figure size 1440x720 with 2 Axes>"
      ]
     },
     "metadata": {
      "needs_background": "light"
     },
     "output_type": "display_data"
    }
   ],
   "source": [
    "import matplotlib.pyplot as plt\n",
    "fig, loss_ax = plt.subplots()\n",
    "fig.set_figheight(10)\n",
    "fig.set_figwidth(20)\n",
    "acc_ax = loss_ax.twinx()\n",
    "loss_ax.plot(history.history['loss'], 'y', label='train_loss')\n",
    "loss_ax.plot(history.history['val_loss'], 'r', label='val_loss')\n",
    "\n",
    "acc_ax.plot(history.history['acc'], 'b', label='train_acc')\n",
    "acc_ax.plot(history.history['val_acc'], 'g', label='val_acc')\n",
    "\n",
    "loss_ax.set_xlabel('epoch')\n",
    "loss_ax.set_ylabel('loss')\n",
    "acc_ax.set_ylabel('accuracy')\n",
    "loss_ax.legend(loc='upper left')\n",
    "acc_ax.legend(loc='lower left')\n",
    "\n",
    "plt.show()"
   ]
  },
  {
   "cell_type": "code",
   "execution_count": 77,
   "metadata": {},
   "outputs": [
    {
     "data": {
      "text/plain": [
       "[<matplotlib.lines.Line2D at 0x7f07878ed450>]"
      ]
     },
     "execution_count": 77,
     "metadata": {},
     "output_type": "execute_result"
    },
    {
     "data": {
      "image/png": "[encoded data removed]",
      "text/plain": [
       "<Figure size 1440x720 with 1 Axes>"
      ]
     },
     "metadata": {
      "needs_background": "light"
     },
     "output_type": "display_data"
    }
   ],
   "source": [
    "# 결과검증(overfit, underfit)\n",
    "pred_test = model.predict(x=[tidf_cond_test, tidf_gen_test, ftr_etc_test], batch_size=160)\n",
    "gap = tidf_label_test - pred_test.reshape([-1,])\n",
    "\n",
    "plt.figure(figsize=(20,10))\n",
    "plt.plot(gap)"
   ]
  },
  {
   "cell_type": "code",
   "execution_count": 71,
   "metadata": {},
   "outputs": [
    {
     "data": {
      "text/plain": [
       "[<matplotlib.lines.Line2D at 0x7f0789466350>]"
      ]
     },
     "execution_count": 71,
     "metadata": {},
     "output_type": "execute_result"
    },
    {
     "data": {
      "image/png": "[encoded data removed]",
      "text/plain": [
       "<Figure size 1440x720 with 1 Axes>"
      ]
     },
     "metadata": {
      "needs_background": "light"
     },
     "output_type": "display_data"
    }
   ],
   "source": [
    "# 결과검증(overfit, underfit)\n",
    "pred_test = model.predict(x=[tidf_cond_test, tidf_gen_test, ftr_etc_test], batch_size=160)\n",
    "gap = tidf_label_test - pred_test.reshape([-1,])\n",
    "\n",
    "plt.figure(figsize=(20,10))\n",
    "plt.plot(gap)"
   ]
  },
  {
   "cell_type": "code",
   "execution_count": 78,
   "metadata": {},
   "outputs": [
    {
     "name": "stdout",
     "output_type": "stream",
     "text": [
      "auc : 0.9999750965231377\n"
     ]
    },
    {
     "data": {
      "image/png": "[encoded data removed]",
      "text/plain": [
       "<Figure size 360x360 with 1 Axes>"
      ]
     },
     "metadata": {
      "needs_background": "light"
     },
     "output_type": "display_data"
    }
   ],
   "source": [
    "from sklearn.metrics import confusion_matrix, roc_curve\n",
    "from sklearn.metrics import auc\n",
    "from matplotlib import pyplot as plt\n",
    "\n",
    "fpr, tpr, thresholds = roc_curve(tidf_label_test, pred_test)\n",
    "print('auc :', auc(fpr,tpr))\n",
    "\n",
    "plt.figure(figsize=(5,5))\n",
    "plt.plot(fpr,tpr,'-')\n",
    "plt.plot([0,1],[0,1], 'k--')\n",
    "plt.show()"
   ]
  },
  {
   "cell_type": "code",
   "execution_count": 25,
   "metadata": {},
   "outputs": [
    {
     "name": "stdout",
     "output_type": "stream",
     "text": [
      "(광고)XXX신년특별빠르게천만원월39000원통화1번(무료거부XXX-XXX-XXX)\n",
      "(광고) 정관장에서 미리 설 준비하시고 특별한 혜택 받으세요!! 예약기간 : 13(화)  19(월) 행사내용 :- 밝을윤세트 은혜은세트 원앙세트 3종 구매 예약시 5% 포인트 추가 적립- 예약방법은 매장으로 문의하여 주세요. 20만원 XXX입 시 1만원 할인- 기간:11128까지적용카드: 현대이마트카드.삼성카드.XXX국민카드.현대카드.XXX카드 결재 시 적용됨. 예약문의 : 정관장 서울 이마트가양점 전화:XX-XXX-XXX 무료수신거부 : XXX-XXX-XXX(광고)정관장 사전예XXX\n",
      "SK텔레콤 2017년 1월 XXX이번달 납부하실 금액은 20650원 입니다.XXX 고객번호 : 010-16-3505 자동납부접수번호 : XXX-XXX-XXX 납기일 : 2017.1.23. 말일이 지나면 2%의 가산금이 두 달 후에 청구됩니다.이번달 금액 상세내역 단말기할부금 단말기할부금() - 단말기할부원금 : 20450원 - 단말기할부이자 : 200원 이번달금액 : 20650원 단말기 할부 대수 : 1대 단말기 총 할부금 : 743616원(총 할부개월 : 36개월) 단말기할부금 잔액 : 40056원(잔여개월 : 2개월) 자동납부은행 : XXX 계좌번호 : 고객요청에 의한 미기재 인출예정일 : 2017.1.23. ()표시 항목은 당사에서 청구 대행하는 타사 요금입니다. 표시 항목은 부가가치세 제외 대상입니다. 고객님께서 요청하신 번호로 문자XXX를 보내드리오니 이동전화번호가 변경될 경우 SK텔레콤 고객센터로 연락바랍니다. 1월 5일 기준으로 작성된 금액입니다.SK텔레콤 문자 XXX\n",
      "피플라이프재무설계XXX팀장입니다 이번에찾아뵙는 금융서비스라고해서은행 예.적금CMAMMF 등관련하여 1:1 재무설계를직접 찾아뵙고 무료상담을 도와드리고있습니다Ex) 현재-시중은행 1.25% 금리이용하시는분들같은 경우상담후-최저보증2.9% 비과세상품 이용하실수있는 방법을 기본베이스로안내를 도와드리고XXX고객님께서 가입되어있는 금융상품들을 다시한번 점검및진단을 함으로써개개인의 현금흐름표에 맞게(목돈마련결혼자금노후자금 등)맞춤형 포트폴리오 또한 안내를 드리고있습니다.평소 바쁘시다보니 전문가에게 이런 안내와 상담서비스를 받아보시지 못하셨을텐데 무료상담을 원하시면직접 집이나 회사앞까지 찾아뵙는 서비스이기XXX 시간절약도 하실수가 있습니다.현재 높은만족도와 많은혜택들을 받으시고 있기XXX 고객님께서도상담신청이라고 답장을 남겨주시면일정 확인차 전화를 드리겠습니다.감사합니다.제목없음\n",
      "안녕하십니까서울도XXX입니다. ------------XXX도로명주소 :서울특별시 동작구 여의대방로24다길 40 102-1202호 (대방동코오롱하늘채)------------XXX고객님사용계약번호 (XX-XXX-XXX4)------------XXX귀 댁(업소)에서 사용하시는 도XXX사용요금이 미납되어 채무불이행등록 예정을 알려드립니다.---------------2016년 11월  2017년 04월까지596660원장기체납으로 채무불이행 정보 등록될 예정입니다.-------------XXX채무불이행 정보 등록이 될경우 금융거래등상거래상의 불편이 초래될수도 있음을 꼭 알아두시기 바랍니다.------------XXX고객님 입금전용 계좌 번호입금계좌 납부금액 : 596660원기업     : XXX-XXX-XXX-82XXX : XXX-XXX-XXX-3국민     : XXX-XXX-XXX-13XXX     : XXX-XXX-XXX-94우리     : XXX-XXX-XXX-93XXX : XXX-XXX-XXX-49XXX하나 : XXX-XXX-XXX-37XXX     : XXX-XXX-XXX-46------------XXX도XXX 요금 고지서로 미납요금을납부하신 경우 은행으로부터 납부사실이당사에 통보되기까지일정기간(37일)소요되므로 미납 안내문자가 발송될수 있으니양해하여 주시기 바랍니다.------------XXX요금상세내역 및 고객정보가 상이할 경우 자세한 사항은서울도XXX(XX-XXX-XXX)연락 주시면 감사하겠습니다.서울도XXX\n",
      "XXX 가양동지점 서민금융(XXX새희망홀씨) 지원 안내생활자금이 필XXX 고객님 타금융기관 고금리 대출로 높은 이자를 부담하고XXX 고객님 낮은 신용등급으로 대출을 받을 수 XXX 고객님! 고객님께 새 희망이 될 은행권 대표 서민금융지원 상품인 XXX새희망홀씨 상품을 안내드립니다.-대상: 연소득 35백만원 이하인 자 35백만원 초과 45백만원 이하로서 CB 68등급인 자-한도: 연소득금액 범위 내 최고 3천만 원 이내 (전 금융기관 신용대출 및 현금서비스 포함)-금리: 최저 연 3.1%최고 9.5% 일반신용대출이 불가한 낮은 신용등급도 가능!  (단 다중채무등급 9등급 이하 불가) 타금융기관 고금리 대출도 낮은 금리로 대환 가능!서민금융의 씨앗! XXX이 함께 하겠습니다! 문의: XX-XXX-XXX (내선513 XXX 계장 내선 514 XXX 차장 내선 330 XXX 부지점장)대출금리는 시장금리 및 대출조건(기간 금액) 신용등급에 따라 변동될 수 있습니다.대출한도 및 대출가능여부는 개인의 신용등급 소득 재직확인 등에 따라 달라질 수 있으므로 정확한 안내는 영업점으로 문의하시기 바랍니다.제목없음\n",
      "(광고)이마트 은평점 추석 선물세트 사전예약 특별혜택 마감일 917XXX입니다.예약접수:814(월)917XXX상품배송:915(금)929(금)(혜택1)11대 카드로 인기세트 구매시 최대 30%할인 및 구매 금액대별 최대 100만원 상품권 증정현대e삼성XXX국민XXX현대비씨XXX우리하나롯데XXX 이마트 카드로 구매시상품권 증정은 카드단체선물신세계포인트 신선N1 할인 이후의 실제 결제금액 기준(혜택2)신선 선물세트 신세계이마트 포인트 카드 적립시 10%할인(혜택3)단체선물(동일품목)50만원 이상 구매시 최대 30%할인(혜택4)사전예약 선물 세트 구매시 사은품 증정사전 예약 문의:1층 고객 만족 센터 상담 데스크선물 세트 전시 장소:1층 무빙워크 상행선10만원 이상:갑티슈(3입)증정(200명 한정)50만원 이상:와인 한병 증정(200명 한정)행사기간:817(목)917XXX까지이마트 은평점에 한함증정장소:1층 고객만족센터조기품절가능1인1회 한정당일 영수증에 한함이마트 은평점 일렉트로마트(가전전문매장)단독행사가전 행사 기간:914(목)927(수)(혜택1)대형가전컴퓨터매장 방문후 상담만 받으셔도 갑티슈(1입)증정(혜택2)대형가전 200만원 이상 구매시 일렉트로가방 증정(혜택3)300만원 이상 구매시 코렐 국그릇세트 증정이마트 은평점에 한함증정장소:7층 페이서비스 데스크조기품절 가능1인1회 한정당일 영수증에 한함이마트 은평점: XX-XXX-XXX자세한 사항은 매장내 고지물을 참조 하세요.일부 품목은 조기 품절 될 수 있습니다.이마트 은평점은 매월 두번째네번째 일요일 휴점 합니다.문의 : XX-XXX-XXX무료수신거부:XXX-XXX-XXX(광고)이마트은평점명절 사전 예XXX\n",
      "씽XXX탁론 XXX 9월증시일정- 9월14일 선물 옵션만기    - 8.2710.22사이 : 독일총선   - 9.7 : 유럽XXX(ECB) 통화정책회의    - 9.199.20 : 미국 FOMC 회의   -9.209.21 : 일본은행(BOJ) 금융정책위원회    - 9.21 : XXX 금융 통화위원회 코스피지수가 월간 기준으로 9개월 만에 하락했다. 각종 이슈에 바람 잘 날 없었던 8월이었다. 외국인은 한 달 사이 국내 주식시장에서 2조원을 순매도  9월도 8월과 마찬가지로 증시의 변동성을 키울 수 있는 이벤트들이 기다리고 있다. 다만 시간이 지날수록 불확실성을 하나씩 걷어내며 반등의 기회를 모색할 것으로 전망 뉴욕마감뉴욕증시 지표호조 금리인상 가능성 하락에 상승...나스닥 7월 후 첫 최고가   유가 숏커버링에 상승...휘발유 2015년 6월 이후 최고가 유럽증시 마감 물가지표 호조에 상승  9월  이벤트- 9월 최저금리 월0.2416%- 2년고정3.7% 재개- 취급수수료 인하이벤트- 마이너스통장식  - 신용미수 주식매도없이 대환- 키움증권 100% 투자 상품 출시문의XX-XXX-XXX무료수신거부 XXX-XXX-XXX 씽XXX\n",
      "노사발전재단 경기중장년일XXX망센터 9월 단기취업특강 안내안녕하세요. 고용노동부 산하 중장년 재취업전직을 지원하는 공XXX입니다.  9월 단기취업특강 안내드립니다. 선착순으로 30명 신청을 받고 있습니다. 아래의 일정과 장소 꼭! 확인하시고 연락주세요.  일정- 9월 21일(목) 오후2시오후4시 행복한 노후를 위한 여정- 9월 28일(목) 오후2시오후4시 역경을 이겨내는 힘 감사하기 장소: 노사발전재단 경기중장년일XXX망센터 강의실(수원시 권선구 권광로149 안동빌딩 3층  대중교통: 지하철 분당선 수원시청역 3번출구 앞 1층 아웃백스테이크하우스 XXX 있음) 선착순 30명 모집. 참여 희망시 XXX-XXX-XXX(김나형 컨설턴트) 로 전화주세요.  교육참가확인증 발급노사발전재단 경기중장년일XXX\n",
      "(광고)X (광고)(XXX)  전문상담원(XX-XXX-XXX 고객님께서는 국민행복기금 신용보증증권 발행 XXX입니다.  한도금리 확인후 진행 도와드리겠습니다.  (한도는 고객 신용등급 및 직군소득확인에 따라 차등적용)  (고객 적용금리는 고객 신용등급은행기여도 등에 따라 차등 적용되며고객별 거래조건 및 상환능력 등에 의한 가산금리가 추가되어 적용)  우대금리: 최고 연 0.9% 중복우대  (신용카드 사용실적 우대: 최고 연0.3%할인)  (인터넷 또는 모바일뱅킹 신청이용고객: 연0.2%할인)  (급여이체고객: 연 0.2%할인)  (거래실적우대: 최고 연 0.2% 할인)  가산금리  (1000만원이하 소액: 연 1.0%가산)  보증보험료(1년기준:0.5%)  (일천만원 이상 신청건은 면제)  상환방식: 자율상환방식종합통장(마이너스)방식  기간: 1년10년(만기시연장)  상품혜택  (중도상환수수료취급수수료연장수수료계좌XXX수료 등.일체부과비용 없음)  대환목적 가능  신청방법 수신번호로 통화 또는 문자상XXX 상담가능시간 기재해주시면 전문상담원이 연락드리겠습니다.   XXX은행 여신영업부  전문상담원(XX-XXX-XXX 무료수신거부 XXX-XXX-XXX\n",
      "(광고)트레이더스 서면점 명절행사 및 가XXX 안내명절 선물세트도 트레이더스 서면점이 확실히 저렴 합니다.혜택1:이마트포인트카드 소지 고객설날 선물세트 최대 30%할인행사기간 :1229(금)  215(목) 까지혜택2:선물세트 행사카드 구매 금액대별 최대 100만원 상품권 증정 125(목)131(수) 구매 시-카드종류:삼성국민XXX현대비씨XXX우리하나롯데XXXXXX이마트카드-3050만원이상 구매시:상품권 1만5천원2만5천원 증정-1001000만원 구매시 100만원당 상품권 5만원 증정1000만원 이상 구매시 상품권 100만원 증정트레이더스 서면점 삼성엘지대유위니아 브랜드 대전행사기간: 2018년 02월01일04일 (4일간)행사1.삼성엘지대유위니아 대형가전 초특가전-자세한 내용은 전화문의 부탁드립니다.행사2.TV냉장고세탁기김치냉장고 대형가전 초특가전 엘지 65형55형 울트라 스마트 TV 최종 혜택가 180만원대120만원대 초특가 판매 엘지 850리터 4도어 상 냉장고 최종혜택가 180만원대 1한정 초특가 판매 엘지 16kg3.5kg 트윈워시 건조형 드럼세탁기 최종 혜택가 150만원대 10대 한정 초특가 판매 엘지 트롬 전기식 건조기 초특가 판매 삼성 65형55형 UHD 스마트 TV 초특가 판매(사운드바증정) 삼성 840리터 4도어 냉장고 최종혜택가 190만원대 초특가 판매 삼성 17kg3kg 플랙스 워시 최종헤택가 160만원대 초특가 판매 삼성 전기식 건조기 선착순 10대한정 90만원 초특가 판매행사3.행사카드로 XXX품 구매시 신세계상품권 최대 70만원 추가증정행사4.행사카드로 구매시 최대 10개월 무이자 혜택단일품목 50만원이상 구매시 혜택 적용행사5.삼성카드로 제품 구매시 추가할인 적용행사6.노트북데스크탑 컴퓨터 삼성엘지 브랜드 대전 자세한 금액사전 예약은 전화문의 부탁드립니다.문의 : XXX-XXX-XXX무료수신거부:XXX-XXX-XXX(광고)트레이더스 서면점 명절가XXX\n",
      "(광고)SSG청담점 설 사전예XXX 행사 SSG푸드마켓 청담점 설 세트 사전예약 특별혜택 예약접수: 18(월)131(수) 상품배송: 21(목)214(수) 행사카드로 구매 시 최대 40% 할인 -행사카드: 삼성XXX국민XXX현대비씨XXX우리하나XXXXXX 이마트카드 이마트e카드 동일품목 50만원 이상 구매 시 최대 20% 할인 신세계포인트 소지 고객 대상 신선 10% 할인 XXX품에 한함 행사카드로 세트 구매 시 금액대별 최대 100만원 상품권 증정 -30만원 이상 : 3만원 상품권 증정 -50만원 이상 : 5만원 상품권 증정 -1001000만원: 100만원당 10만원 -1000만원 이상: 100만원 상품권 증정은 위 행사 할인 이후의 실제 금액을 기준으로 합니다. 법인카드 제외 자세한 행사카드 구매 금액대별 상품권 증정행사 내용은 점내 고지물 참조 휴점안내: 128(일) 휴점합니다 (단 1층 매장과 B1층 베키아에누보 그래머시홀 정상영업) 문의 : XX-XXX-XXX 무료수신거부:XXX-XXX-XXX(광고)SSG청담점 설 사전예XXX 행사\n",
      "당신의 행복한 출근을 위해 공사가 힘이 되겠습니다.안녕하십니까? 한국자산관리공사(캠코) 취XXX센터입니다. 신규 취업을 희망하시거나 새로운 일자리로 이직을 고민하시는 분들께공사가 도움을 드리겠습니다. 공사의 취XXX센터에 노크하세요.고객님의 취업을 응원하겠습니다.  구직신청 상담전화  XXX-XXX-XXX36643675 방문신청  캠코 행복잡이 취업센터:부산 국제금융센터(BIFC) 40층 (2호선 국제금융센터XXX역 3번출구)     행복잡(Job)이 취업센터를 통해 꼭 취업에 성공하세요!! 일하는 행복! 활기찬 일터! 한국자산관리공사 취XXX 안내 \n",
      "요즘 열XXX 인해 잠 못 이루는밤....많으실텐데피로가 누적되지않게 심신을 잘 챙기시고휴가 잘 다녀오세요XXX? 둔산중앙지점대부계 XXX차장입니다.2018년 7월 27일자아파트전세담보대출금리안내드립니다.XXX 1년주기변동  --- 3.22%-은행권상품중 최저가상품-만기최대35년분할상환(기존주택 조건충족시 거치5년 가능- 구입자금제외)MI상품시 최대 75% 한도-- 3.25%(PrB고객다자녀장애인등우대금리적용시 3.02%)-부동산중개수수료 0.2%전은행사 상품중 가장 최저가 금리진행. 3년고정 ---3.53%(PrB고객다자녀장애인등우대금리적용시 3.33%)-부동산중개수수료 0.2%현재 가장 많이? 판매되는 상품임.  심사완료후부터 90일간 유효함  (2018년 710월잔금까지 미리 접수가능)임차인보증금 제외한 후순위대출 30년전체고정금리 3.63%-   10년30년 전체기간 고정금리(200억한정판매)(카드적금급여이체등 부수거래조건 하나도 없음)-부동산중개수수료 0.25% 전세자금대출금리 특판 3.20% 전은XXX품중 최저가(서울신용보증상품) 다자녀3.10%-매년 납부하는 보증보험료 전액면제상품임--부동산중개수수료  0.25% 신용XXX드림론 최저 3%중도상환수수료 100%면제가능단기사용자 최적상품 대형상가대출(빌딩)-BB모기지론 최저 3.2%오랜경험과 노하우로 최적의 상품을진행해드리겠습니다..중개시 대환 및 매매잔금대출소개 많이 부탁드립니다대출상담? 및 부동산출장자서 문의HP: XXX-XXX-XXX둔산중앙지점 대부계 XXX차장전달: 전달: 요즘 열XXX 인\n",
      "LGU XXX청구월: 2018년08월고객명: 원미란고객번호 - XXX-XXX-XXX서비스번호 - 070-56-6327       이용기간 - 2018.07.012018.07.31XXX 작성 기준일 : 2018년 08월 06일----------------------------------------------청구요금 상세보기  cv.uplus.kr180.html----------------------------------------------요금청구내역 U인터넷전화 요금 : 9634원   기본료 : 2000원   인터넷전화 할부금 : 2000원   발신자번호표시 : 1000원   국내통화료 : 456원   이동전화통화료 : 4048원   전국대표번호통화요금 : 130원 부가가치세 : 958원 기타할인 및 요금 : -62원   자동이체 할인 : -53원   10원미만 할인() : -9원이번달 요금 계(A) : 10530원미납 요금 계(B): 0원----------------------------------------------청구금액(AB): 10530원----------------------------------------------()표시 항목은 부가가치세가 포함된 요금으로 XXX에는 별도로 표기하지 않습니다.납부정보납입기한: 2018.08.31납부방법: 은행자동이체금융기관: XXX계좌카드번호 - 217XXX고객님만의 가상 계좌 XXX XXX-XXX-XXX01 XXX XXX-XXX-XXX64 XXX하나 XXX-XXX-XXX37 월요일은 통화량이 많아 고객센터 연결이 지연될 수 있으니 고객센터 문의 시 참고 부탁드립니다.원란님 LG U XXX\n"
     ]
    },
    {
     "data": {
      "text/plain": [
       "440       None\n",
       "938       None\n",
       "5711      None\n",
       "6221      None\n",
       "33905     None\n",
       "76671     None\n",
       "137858    None\n",
       "138214    None\n",
       "149795    None\n",
       "193787    None\n",
       "195865    None\n",
       "196896    None\n",
       "223491    None\n",
       "252122    None\n",
       "256306    None\n",
       "Name: text, dtype: object"
      ]
     },
     "execution_count": 25,
     "metadata": {},
     "output_type": "execute_result"
    }
   ],
   "source": [
    "df[df['id'].isin(np.array(original_idx)[split >= 0.8][gap > 0.5])].text.map(print)"
   ]
  },
  {
   "cell_type": "code",
   "execution_count": 86,
   "metadata": {},
   "outputs": [
    {
     "data": {
      "text/plain": [
       "(True, True)"
      ]
     },
     "execution_count": 86,
     "metadata": {},
     "output_type": "execute_result"
    }
   ],
   "source": [
    "# 특정 키워드가 feature dic에 포함되려면(feature가 되려면) 어느정도의 dic크기가 지정되어야 하나\n",
    "keyword = '취업'\n",
    "CONDITION_WORD_FTR_SIZE = 3500\n",
    "GENERAL_WORD_FTR_SIZE = 3500\n",
    "\n",
    "conditioned_dic = list(conditioned_df.sort_values(ascending=False).head(CONDITION_WORD_FTR_SIZE).index)\n",
    "general_dic = list(general_df.sort_values(ascending=False).head(GENERAL_WORD_FTR_SIZE).index)\n",
    "keyword in general_dic, keyword in conditioned_dic"
   ]
  },
  {
   "cell_type": "code",
   "execution_count": 139,
   "metadata": {},
   "outputs": [
    {
     "data": {
      "text/plain": [
       "(True, True)"
      ]
     },
     "execution_count": 139,
     "metadata": {},
     "output_type": "execute_result"
    }
   ],
   "source": [
    "keyword = '전시'\n",
    "keyword in general_dic, keyword in conditioned_dic"
   ]
  },
  {
   "cell_type": "code",
   "execution_count": null,
   "metadata": {},
   "outputs": [],
   "source": []
  },
  {
   "cell_type": "code",
   "execution_count": null,
   "metadata": {},
   "outputs": [],
   "source": [
    "# 제출 준비"
   ]
  },
  {
   "cell_type": "code",
   "execution_count": 79,
   "metadata": {},
   "outputs": [],
   "source": [
    "submit_df = pd.read_csv('./data/public_test.csv')"
   ]
  },
  {
   "cell_type": "code",
   "execution_count": 80,
   "metadata": {},
   "outputs": [
    {
     "name": "stdout",
     "output_type": "stream",
     "text": [
      "2019-12-25 21:17:16.344539 0\n"
     ]
    }
   ],
   "source": [
    "unknowns = []\n",
    "\n",
    "idx = 0\n",
    "for idx, item in submit_df.iterrows():\n",
    "    splited, etc = parse_sentence(item.text)\n",
    "    # 일반 피쳐를 여기에서 etc에 넣는다\n",
    "    etc.append(len(item.text))\n",
    "    splited.append(etc)\n",
    "    splited.append(item.id)\n",
    "    unknowns.append(splited)\n",
    "    if idx % 100000 == 0:\n",
    "        print(datetime.now(), idx)\n",
    "    idx += 1"
   ]
  },
  {
   "cell_type": "code",
   "execution_count": 81,
   "metadata": {},
   "outputs": [],
   "source": [
    "test_conditioned = []\n",
    "test_general = []\n",
    "test_etc = []\n",
    "\n",
    "original_idx = []\n",
    "for unknown in unknowns:\n",
    "    conditioned = []\n",
    "    general = []\n",
    "    for item in unknown[:-2]:\n",
    "        if item[1] == True:\n",
    "            conditioned += [x for x in item[2] if x in conditioned_dic]\n",
    "        else:\n",
    "            general += [x for x in item[2] if x in general_dic]\n",
    "    test_conditioned.append(list(conditioned))\n",
    "    test_general.append(list(general))\n",
    "    test_etc.append(unknown[-2])\n",
    "    original_idx.append(unknown[-1])"
   ]
  },
  {
   "cell_type": "code",
   "execution_count": 82,
   "metadata": {},
   "outputs": [],
   "source": [
    "tidf_conditioned = vectorizer_conditioned.transform(test_conditioned).toarray()\n",
    "tidf_general = vectorizer_general.transform(test_general).toarray()\n",
    "ftr_etc = np.array(test_etc)"
   ]
  },
  {
   "cell_type": "code",
   "execution_count": 83,
   "metadata": {},
   "outputs": [
    {
     "name": "stdout",
     "output_type": "stream",
     "text": [
      "1626/1626 [==============================] - 0s 100us/step\n"
     ]
    }
   ],
   "source": [
    "pred_y = model.predict(x=[tidf_conditioned, tidf_general, ftr_etc], verbose=1)"
   ]
  },
  {
   "cell_type": "code",
   "execution_count": 84,
   "metadata": {},
   "outputs": [],
   "source": [
    "pred_y[pred_y > 1.0] = 1.0"
   ]
  },
  {
   "cell_type": "code",
   "execution_count": 85,
   "metadata": {},
   "outputs": [],
   "source": [
    "submit_df['smishing'] = np.abs(pred_y)"
   ]
  },
  {
   "cell_type": "code",
   "execution_count": 86,
   "metadata": {},
   "outputs": [],
   "source": [
    "submit_df[['id', 'smishing']].to_csv('./data/submission_20191225_2.csv', index=False)"
   ]
  },
  {
   "cell_type": "code",
   "execution_count": null,
   "metadata": {},
   "outputs": [],
   "source": []
  },
  {
   "cell_type": "code",
   "execution_count": null,
   "metadata": {},
   "outputs": [],
   "source": []
  }
 ],
 "metadata": {
  "kernelspec": {
   "display_name": "Python 3",
   "language": "python",
   "name": "python3"
  },
  "language_info": {
   "codemirror_mode": {
    "name": "ipython",
    "version": 3
   },
   "file_extension": ".py",
   "mimetype": "text/x-python",
   "name": "python",
   "nbconvert_exporter": "python",
   "pygments_lexer": "ipython3",
   "version": "3.7.4"
  }
 },
 "nbformat": 4,
 "nbformat_minor": 2
}
