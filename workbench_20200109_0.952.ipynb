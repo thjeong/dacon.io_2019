{
 "cells": [
  {
   "cell_type": "code",
   "execution_count": 1,
   "metadata": {},
   "outputs": [
    {
     "name": "stderr",
     "output_type": "stream",
     "text": [
      "Using TensorFlow backend.\n"
     ]
    }
   ],
   "source": [
    "from datetime import datetime\n",
    "import numpy as np\n",
    "import pandas as pd\n",
    "from matplotlib import pyplot as plt\n",
    "import re\n",
    "from konlpy.tag import Mecab\n",
    "mecab = Mecab()\n",
    "\n",
    "#import lightgbm as lgb\n",
    "\n",
    "import tensorflow as tf\n",
    "import keras"
   ]
  },
  {
   "cell_type": "code",
   "execution_count": 2,
   "metadata": {},
   "outputs": [],
   "source": [
    "pd.options.display.max_rows = 1000"
   ]
  },
  {
   "cell_type": "code",
   "execution_count": 3,
   "metadata": {},
   "outputs": [],
   "source": [
    "df = pd.read_csv('./data/train.csv')"
   ]
  },
  {
   "cell_type": "code",
   "execution_count": 4,
   "metadata": {},
   "outputs": [],
   "source": [
    "def after_effect(arr):\n",
    "    words_in_brackets = ['광고']\n",
    "    ret = []\n",
    "    idx = 0\n",
    "    while idx < len(arr):\n",
    "        if arr[idx] == '(' and idx + 2 < len(arr) and arr[idx + 2] == ')':\n",
    "            if arr[idx + 1] in '일월화수목금토':\n",
    "                if len(ret) > 0 and ret[-1] == 'X':\n",
    "                    ret.pop()\n",
    "                    ret.append('X일')\n",
    "                ret.append('(요일)')\n",
    "                idx += 2\n",
    "            elif arr[idx + 1] in words_in_brackets:\n",
    "                ret.append('(' + arr[idx + 1] + ')')\n",
    "                idx += 2\n",
    "            else:\n",
    "                buff = re.sub('[0-9.X]+', 'X', arr[idx])\n",
    "                buff = re.sub('[-]+', '-', buff)\n",
    "                buff = re.sub('[X]+', 'X', buff)\n",
    "                ret.append(buff)\n",
    "        else:\n",
    "            buff = re.sub('[0-9.X]+', 'X', arr[idx])\n",
    "            buff = re.sub('[-]+', '-', buff)\n",
    "            buff = re.sub('[X]+', 'X', buff)\n",
    "            ret.append(buff)\n",
    "        idx += 1\n",
    "    return ret"
   ]
  },
  {
   "cell_type": "code",
   "execution_count": 5,
   "metadata": {},
   "outputs": [],
   "source": [
    "def parse_sentence(sentence):\n",
    "    prev_word, prev_pos = '', ''\n",
    "    nouns = []\n",
    "    words = []\n",
    "    adverbs = []\n",
    "    etc = []\n",
    "    buff = ''\n",
    "    ret = []\n",
    "    condition = False\n",
    "    idx, condidx = 0, 0\n",
    "    \n",
    "    for word, pos in mecab.pos(sentence):\n",
    "        # S인 경우 '() 각각 있는 경우 나누어서 여러개의 S로 처리'\n",
    "        if pos in ('SF') or pos[:1] in ('J'):\n",
    "            # 은/는/이/가/. 등\n",
    "            prev_word, prev_pos = '', ''\n",
    "            continue\n",
    "\n",
    "        if pos[:1] == 'N' and prev_pos[:1] == 'S':\n",
    "            # 1억, 1천만원 등\n",
    "            word = re.sub('[억천만]', '', word)\n",
    "            if len(word) == 0:\n",
    "                continue\n",
    "\n",
    "#         if pos[:1] == 'S':\n",
    "#             word = re.sub('[(:)]', '', word)\n",
    "#             word = re.sub('[0-9.X]+', 'X', word)\n",
    "\n",
    "        # 조건절 판단\n",
    "        if prev_pos[-3:] == 'ETM' and word in ['분','고객','개인','사업자','이','대상','당신','직원','VIP', '자','분도','전문직','신용자','외국인','본인','임직원','부모','회계사','귀하','투자자','분과']:\n",
    "            condition = True  \n",
    "        elif pos[:1] == 'N':\n",
    "            if word[:2] in ('경우', '필요', '라면', '다면'): # 경우, 필요 단어 등장 시 조건절로 판단\n",
    "                condition = True\n",
    "        elif pos[-2:] == 'EC':\n",
    "            # 여도, 라도, 라면, 면\n",
    "            if word[-1:] in ('면', '도') or word[-2:] in ('도록'):\n",
    "                condition = True\n",
    "\n",
    "        if pos[:1] == 'E':\n",
    "            buff += word\n",
    "        #elif pos[:1] == 'N' and prev_pos[:1] == 'N' and len(word) == 1:\n",
    "        #    buff += word\n",
    "        elif pos[:1] == 'S' and prev_pos[:1] == 'S' and word[:1] in 'X0123456789%.-': #('%', '.', '-'):\n",
    "            pos_x = re.search('[0-9X]', buff)\n",
    "            pos_x = pos_x.span()[0] if pos_x is not None else len(buff)\n",
    "            if pos_x > 0:\n",
    "                words.append(buff[:pos_x])\n",
    "                buff = buff[pos_x:]\n",
    "            \n",
    "            # 중간에 %가 있는 경우\n",
    "            if len(buff) > 0:\n",
    "                pos_pct = re.search('%', buff)\n",
    "                pos_pct = (pos_pct.span()[0] + 1) if pos_pct is not None else 0\n",
    "                if pos_pct > 0:\n",
    "                    words.append(buff[:pos_pct])\n",
    "                    buff = buff[pos_pct:]\n",
    "                \n",
    "            buff += word\n",
    "\n",
    "        elif pos[:1] in ('N', 'S') and prev_pos[:1] == 'S' and len(buff) > 0:\n",
    "            # 숫자 앞에 문자가 있는 경우\n",
    "            pos_x = re.search('[0-9X]', buff)\n",
    "            pos_x = pos_x.span()[0] if pos_x is not None else len(buff)\n",
    "            if pos_x > 0:\n",
    "                words.append(buff[:pos_x])\n",
    "                buff = buff[pos_x:]\n",
    "\n",
    "            # 중간에 %가 있는 경우\n",
    "            if len(buff) > 0:\n",
    "                pos_pct = re.search('%', buff)\n",
    "                pos_pct = (pos_pct.span()[0] + 1) if pos_pct is not None else 0\n",
    "                if pos_pct > 0:\n",
    "                    words.append(buff[:pos_pct])\n",
    "                    buff = buff[pos_pct:]\n",
    "\n",
    "            if word in ('시', '분', '초', '시간'):\n",
    "                buff = re.sub('시', '', buff)\n",
    "                buff += '시'\n",
    "            elif word in ('년', '월', '일', '개월'):\n",
    "                buff = re.sub('일', '', buff)\n",
    "                buff += '일'\n",
    "            elif word in ('원'):\n",
    "                buff = re.sub('원', '', buff)\n",
    "                buff += '원'\n",
    "                prev_word, prev_pos = word, pos\n",
    "            elif word in ('배'):\n",
    "                buff += '%'\n",
    "                prev_word, prev_pos = word, pos\n",
    "            elif word in ('kg', 'pt', '형'):\n",
    "                buff += '단위'\n",
    "                prev_word, prev_pos = word, 'N' #pos\n",
    "            elif word in ('건', '종', '대'):\n",
    "                buff += '개'\n",
    "                prev_word, prev_pos = word, pos\n",
    "            else:\n",
    "                if len(buff) > 0:\n",
    "                    words.append(buff)\n",
    "                buff = word\n",
    "        else:\n",
    "            if len(buff) > 0:\n",
    "                # 중간에 %가 있는 경우\n",
    "                if len(buff) > 0:\n",
    "                    pos_pct = re.search('%', buff)\n",
    "                    pos_pct = (pos_pct.span()[0] + 1) if pos_pct is not None else 0\n",
    "                    if pos_pct > 0:\n",
    "                        words.append(buff[:pos_pct])\n",
    "                        buff = buff[pos_pct:]\n",
    "                if True: #buff != 'X':\n",
    "                    words.append(buff)\n",
    "                    # M, N 경우만 저장해보자\n",
    "                    if prev_pos[:1] in ('N'):  # 'M', \n",
    "                        nouns.append(buff)\n",
    "                    elif prev_pos[:1] in ('M'):\n",
    "                        adverbs.append(buff)\n",
    "            buff = word\n",
    "            prev_word, prev_pos = word, pos\n",
    "\n",
    "        if pos[-2:] in ('EF'): # and word[0][-1:] in ['요', '다']:\n",
    "            # words가 꼭 명사를 뜻하는 게 아니고 특색있는 키워드 모두를 포함\n",
    "            if len(buff) > 0:\n",
    "                words.append(buff)\n",
    "            buff = ''\n",
    "            # 문장의 끝을 구분\n",
    "            #words.append('(절취선)')\n",
    "            \n",
    "            words = after_effect(words)\n",
    "            ret.append([word, condition, words, nouns, adverbs])\n",
    "            idx += 1\n",
    "            if condition: condidx += 1\n",
    "            nouns = []\n",
    "            words = []\n",
    "            adverbs = []\n",
    "            condition = False\n",
    "    if len(buff) > 0:\n",
    "        words.append(buff)\n",
    "    if len(words) > 0:\n",
    "        words = after_effect(words)\n",
    "        ret.append([word, condition, words, nouns, adverbs])\n",
    "        idx += 1\n",
    "        if condition: condidx += 1\n",
    "    etc.append(condidx / idx)\n",
    "    return ret, etc"
   ]
  },
  {
   "cell_type": "code",
   "execution_count": 7,
   "metadata": {},
   "outputs": [
    {
     "name": "stdout",
     "output_type": "stream",
     "text": [
      "['(광고)', 'citi', 'X', '은행', '안내', '새롭게', '시작', '하는', 'X', '입니다']\n",
      "['항상', '저희', 'citi', 'X', '은행', '이용', '해', '주시는', '고객', '님', '깊이', '감사', '드립니다']\n",
      "['저희', '당', '행', '일과', '바쁘신', '기존', '고객', '분', '들', '영업', '점', '방문', '이전', '대출', '가능', '여부', '먼저', '확인', '할', '수', '있도록', '비대면', '상담', '서비스', '제공', '하고', '있습니다']\n",
      "['(', '당사', '이용', '고객', '중', '마케팅', '활용', '동의', '하신', '고객', '들', '발송', '되는', '안내서', '비스', '입니다']\n",
      "[')', '상담', '대표', '번호', ':', 'X-X-X', '상품명', ':', 'citi', 'X', '신용', '대출', '상품', '특징', ':', '대환', '자금', '및', '생활', '여유', '자금', '사업', '자금', '대출', '신청', '자격', ':', '개인', '신용', '평가', '시스템', '(', 'CSS', ')', '의해', '대출', '한도', '산정', '되는', '고객', '대출', '한도', ':', '무', '보증', '최고', 'X원', '(', '마이너스', '통장', '대출', '최고', 'X원', '이내', ')', '대출', '금리', ':', '최저', '연', 'X%', 'X%', '(', '기존', '금리', '우대금리', ')', '우대금리', ':', '최고', '연', 'X%', 'p', '(', '실적', '우대', ':', '최고', '연', 'X%', 'p', ')', '(', '영업', '점', '우대', ':', '최고', '연', 'X%', 'p', ')', '우대금리', '금리', '재', '산정', '시점', '각', '항목', '충족', '여부', '따라', '제공', '되지', '않을', '수', '있습니다']\n",
      "['대출', '기간', '및', '상환', '방법', ':', '마이너스', '통장', '식자', '율', '상환', '기본', '약정', 'X일', '(', '최장', 'X일', '연장', ')', '대출', '진행', '절차', ':', '-', 'X', '차', '가승', '인', '한도', '금리', '확인', '-', 'X', '차', '본', '심사', '접수', '-', '최종', '승인', '-', '지점', '내방', '안내', '-', '내방', '대출금', '수령', '지점', '내', '방시', '(', '신분증', '도장', '등본', 'X', '통', ')', '지참', '약정서', '작성', '후', '마이너스', '통장', '발급', '본', '안내문', '상품', '대한', '이해', '돕고자', '안', '내드리는', '참고', '자료', '이며', '실제', '상품', '계약', '대출', '거래', '약정서', '여신', '거래', '기본', '약관', '등', '적용', '받습니다']\n",
      "['대출', '신청인', '신용', '정보', '등록', '자', '(', '개인', '파산', '회생', '신용', '회복', ')', '일', '경우', '대출', '제한', '될', '수', '있습니다']\n",
      "['번거로우시더라도', '상담', '대표', '번호', 'X-X-X', '전', 'X', '드립니다']\n",
      "['-', 'X', '여신', '영업', 'X', '팀', '-', '상담', '시', ':', '오전', 'X', ':', 'X시', '오후', 'X시', '기타', '자세', '한', '내용', 'X', '은행', '홈페이지', '(', 'www', 'X', 'citibank', 'X', 'co', 'X', 'kr', ')', '또는', '상품', '설명서', '참조', '하시기', '바랍니다']\n",
      "['(', '무료', '수신', '거부', ')', 'X-X-X']\n"
     ]
    },
    {
     "ename": "TypeError",
     "evalue": "'float' object is not subscriptable",
     "output_type": "error",
     "traceback": [
      "\u001b[0;31m---------------------------------------------------------------------------\u001b[0m",
      "\u001b[0;31mTypeError\u001b[0m                                 Traceback (most recent call last)",
      "\u001b[0;32m<ipython-input-7-4d2dcb74fb02>\u001b[0m in \u001b[0;36m<module>\u001b[0;34m\u001b[0m\n\u001b[1;32m      7\u001b[0m \"\"\"(광고)citiXXX은행 안내 새롭게 시작하는 XXX입니다.항상 저희 citiXXX은행을 이용해 주시는 고객님께 깊이 감사드립니다.저희 당행에서는 일과가 바쁘신 기존 고객분들께 영업점 방문 이전에 대출 가능여부를 먼저 확인할 수 있도록 비대면 상담 서비스를 제공하고 있습니다.(당사 이용고객 중 마케팅 활용 동의하신 고객들께 발송되는 안내서비스입니다)상담대표번호: XX-XXX-XXX상품명: citiXXX 신용대출상품특징: 대환자금 및 생활여유자금 사업자금대출신청자격: 개인신용평가시스템(CSS)에 의해 대출한도가 산정되는 고객대출한도: 무보증 최고 1억원(마이너스통장대출 최고 1억원 이내)대출금리: 최저 연3%7.5%(기존금리우대금리) 우대금리: 최고 연 0.9%p(실적 우대:최고 연 0.7%p) (영업점 우대: 최고 연 0.2%p)  우대금리는 금리재산정 시점에서 각 항목의 충족여부에 따라 제공되지 않을 수 있습니다.대출기간 및 상환 방법: 마이너스통장식자율상환기본약정 1년(최장 10년까지 연장)  대출진행절차: -1차 가승인한도금리확인 -2차 본심사 접수-최종승인-지점내방안내-내방대출금수령  지점내방시(신분증 도장 등본1통) 지참 약정서 작성후 마이너스통장 발급본 안내문은 상품에 대한 이해를 돕고자 안내드리는 참고자료이며 실제 상품의 계약은 대출거래 약정서 여신거래기본약관 등의 적용을 받습니다.대출신청인이 신용정보 등록자(개인파산회생신용회복)일 경우 대출이 제한 될 수 있습니다. 번거로우시더라도 상담대표번호 XX-XXX-XXX로 전XXX드립니다.-XXX 여신영업2팀-상담시간: 오전9:30분오후6시기타 자세한 내용은 XXX은행 홈페이지(www.citibank.co.kr)또는 상품설명서를 참조하시기 바랍니다.(무료수신거부)XXX-XXX-XXXFWXXX\"\"\"]\n\u001b[1;32m      8\u001b[0m \u001b[0;31m#mecab.pos(txt[4])\u001b[0m\u001b[0;34m\u001b[0m\u001b[0;34m\u001b[0m\u001b[0;34m\u001b[0m\u001b[0m\n\u001b[0;32m----> 9\u001b[0;31m \u001b[0;34m[\u001b[0m\u001b[0mprint\u001b[0m\u001b[0;34m(\u001b[0m\u001b[0mx\u001b[0m\u001b[0;34m[\u001b[0m\u001b[0;36m2\u001b[0m\u001b[0;34m]\u001b[0m\u001b[0;34m)\u001b[0m \u001b[0;32mfor\u001b[0m \u001b[0mrow\u001b[0m \u001b[0;32min\u001b[0m \u001b[0mparse_sentence\u001b[0m\u001b[0;34m(\u001b[0m\u001b[0mtxt\u001b[0m\u001b[0;34m[\u001b[0m\u001b[0;36m5\u001b[0m\u001b[0;34m]\u001b[0m\u001b[0;34m)\u001b[0m \u001b[0;32mfor\u001b[0m \u001b[0mx\u001b[0m \u001b[0;32min\u001b[0m \u001b[0mrow\u001b[0m\u001b[0;34m]\u001b[0m\u001b[0;34m\u001b[0m\u001b[0;34m\u001b[0m\u001b[0m\n\u001b[0m",
      "\u001b[0;32m<ipython-input-7-4d2dcb74fb02>\u001b[0m in \u001b[0;36m<listcomp>\u001b[0;34m(.0)\u001b[0m\n\u001b[1;32m      7\u001b[0m \"\"\"(광고)citiXXX은행 안내 새롭게 시작하는 XXX입니다.항상 저희 citiXXX은행을 이용해 주시는 고객님께 깊이 감사드립니다.저희 당행에서는 일과가 바쁘신 기존 고객분들께 영업점 방문 이전에 대출 가능여부를 먼저 확인할 수 있도록 비대면 상담 서비스를 제공하고 있습니다.(당사 이용고객 중 마케팅 활용 동의하신 고객들께 발송되는 안내서비스입니다)상담대표번호: XX-XXX-XXX상품명: citiXXX 신용대출상품특징: 대환자금 및 생활여유자금 사업자금대출신청자격: 개인신용평가시스템(CSS)에 의해 대출한도가 산정되는 고객대출한도: 무보증 최고 1억원(마이너스통장대출 최고 1억원 이내)대출금리: 최저 연3%7.5%(기존금리우대금리) 우대금리: 최고 연 0.9%p(실적 우대:최고 연 0.7%p) (영업점 우대: 최고 연 0.2%p)  우대금리는 금리재산정 시점에서 각 항목의 충족여부에 따라 제공되지 않을 수 있습니다.대출기간 및 상환 방법: 마이너스통장식자율상환기본약정 1년(최장 10년까지 연장)  대출진행절차: -1차 가승인한도금리확인 -2차 본심사 접수-최종승인-지점내방안내-내방대출금수령  지점내방시(신분증 도장 등본1통) 지참 약정서 작성후 마이너스통장 발급본 안내문은 상품에 대한 이해를 돕고자 안내드리는 참고자료이며 실제 상품의 계약은 대출거래 약정서 여신거래기본약관 등의 적용을 받습니다.대출신청인이 신용정보 등록자(개인파산회생신용회복)일 경우 대출이 제한 될 수 있습니다. 번거로우시더라도 상담대표번호 XX-XXX-XXX로 전XXX드립니다.-XXX 여신영업2팀-상담시간: 오전9:30분오후6시기타 자세한 내용은 XXX은행 홈페이지(www.citibank.co.kr)또는 상품설명서를 참조하시기 바랍니다.(무료수신거부)XXX-XXX-XXXFWXXX\"\"\"]\n\u001b[1;32m      8\u001b[0m \u001b[0;31m#mecab.pos(txt[4])\u001b[0m\u001b[0;34m\u001b[0m\u001b[0;34m\u001b[0m\u001b[0;34m\u001b[0m\u001b[0m\n\u001b[0;32m----> 9\u001b[0;31m \u001b[0;34m[\u001b[0m\u001b[0mprint\u001b[0m\u001b[0;34m(\u001b[0m\u001b[0mx\u001b[0m\u001b[0;34m[\u001b[0m\u001b[0;36m2\u001b[0m\u001b[0;34m]\u001b[0m\u001b[0;34m)\u001b[0m \u001b[0;32mfor\u001b[0m \u001b[0mrow\u001b[0m \u001b[0;32min\u001b[0m \u001b[0mparse_sentence\u001b[0m\u001b[0;34m(\u001b[0m\u001b[0mtxt\u001b[0m\u001b[0;34m[\u001b[0m\u001b[0;36m5\u001b[0m\u001b[0;34m]\u001b[0m\u001b[0;34m)\u001b[0m \u001b[0;32mfor\u001b[0m \u001b[0mx\u001b[0m \u001b[0;32min\u001b[0m \u001b[0mrow\u001b[0m\u001b[0;34m]\u001b[0m\u001b[0;34m\u001b[0m\u001b[0;34m\u001b[0m\u001b[0m\n\u001b[0m",
      "\u001b[0;31mTypeError\u001b[0m: 'float' object is not subscriptable"
     ]
    }
   ],
   "source": [
    "txt = [\"\"\"(광고) 정관장에서 미리 설 준비하시고 특별한 혜택 받으세요!! 예약기간 : 13(화)  19(월) 행사내용 :- 밝을윤세트 은혜은세트 원앙세트 3종 구매 예약시 5% 포인트 추가 적립- 예약방법은 매장으로 문의하여 주세요. 20만원 XXX입 시 1만원 할인- 기간:11128까지적용카드: 현대이마트카드.삼성카드.XXX국민카드.현대카드.XXX카드 결재 시 적용됨. 예약문의 : 정관장 서울 이마트가양점 전화:XX-XXX-XXX 무료수신거부 : XXX-XXX-XXX(광고)정관장 사전예XXX\"\"\",\n",
    "\"\"\"노사발전재단 경기중장년일XXX망센터 9월 단기취업특강 안내안녕하세요. 고용노동부 산하 중장년 재취업전직을 지원하는 공XXX입니다.  9월 단기취업특강 안내드립니다. 선착순으로 30명 신청을 받고 있습니다. 아래의 일정과 장소 꼭! 확인하시고 연락주세요.  일정- 9월 21일(목) 오후2시오후4시 행복한 노후를 위한 여정- 9월 28일(목) 오후2시오후4시 역경을 이겨내는 힘 감사하기 장소: 노사발전재단 경기중장년일XXX망센터 강의실(수원시 권선구 권광로149 안동빌딩 3층  대중교통: 지하철 분당선 수원시청역 3번출구 앞 1층 아웃백스테이크하우스 XXX 있음) 선착순 30명 모집. 참여 희망시 XXX-XXX-XXX(김나형 컨설턴트) 로 전화주세요.  교육참가확인증 발급노사발전재단 경기중장년일XXX\"\"\",\n",
    "\"\"\"(광고)트레이더스 서면점 명절행사 및 가XXX 안내명절 선물세트도 트레이더스 서면점이 확실히 저렴 합니다.혜택1:이마트포인트카드 소지 고객설날 선물세트 최대 30%할인행사기간 :1229(금)  215(목) 까지혜택2:선물세트 행사카드 구매 금액대별 최대 100만원 상품권 증정 125(목)131(수) 구매 시-카드종류:삼성국민XXX현대비씨XXX우리하나롯데XXXXXX이마트카드-3050만원이상 구매시:상품권 1만5천원2만5천원 증정-1001000만원 구매시 100만원당 상품권 5만원 증정1000만원 이상 구매시 상품권 100만원 증정트레이더스 서면점 삼성엘지대유위니아 브랜드 대전행사기간: 2018년 02월01일04일 (4일간)행사1.삼성엘지대유위니아 대형가전 초특가전-자세한 내용은 전화문의 부탁드립니다.행사2.TV냉장고세탁기김치냉장고 대형가전 초특가전 엘지 65형55형 울트라 스마트 TV 최종 혜택가 180만원대120만원대 초특가 판매 엘지 850리터 4도어 상 냉장고 최종혜택가 180만원대 1한정 초특가 판매 엘지 16kg3.5kg 트윈워시 건조형 드럼세탁기 최종 혜택가 150만원대 10대 한정 초특가 판매 엘지 트롬 전기식 건조기 초특가 판매 삼성 65형55형 UHD 스마트 TV 초특가 판매(사운드바증정) 삼성 840리터 4도어 냉장고 최종혜택가 190만원대 초특가 판매 삼성 17kg3kg 플랙스 워시 최종헤택가 160만원대 초특가 판매 삼성 전기식 건조기 선착순 10대한정 90만원 초특가 판매행사3.행사카드로 XXX품 구매시 신세계상품권 최대 70만원 추가증정행사4.행사카드로 구매시 최대 10개월 무이자 혜택단일품목 50만원이상 구매시 혜택 적용행사5.삼성카드로 제품 구매시 추가할인 적용행사6.노트북데스크탑 컴퓨터 삼성엘지 브랜드 대전 자세한 금액사전 예약은 전화문의 부탁드립니다.문의 : XXX-XXX-XXX무료수신거부:XXX-XXX-XXX(광고)트레이더스 서면점 명절가XXX\"\"\",\n",
    "\"\"\"(광고)SSG청담점 설 사전예XXX 행사 SSG푸드마켓 청담점 설 세트 사전예약 특별혜택 예약접수: 18(월)131(수) 상품배송: 21(목)214(수) 행사카드로 구매 시 최대 40% 할인 -행사카드: 삼성XXX국민XXX현대비씨XXX우리하나XXXXXX 이마트카드 이마트e카드 동일품목 50만원 이상 구매 시 최대 20% 할인 신세계포인트 소지 고객 대상 신선 10% 할인 XXX품에 한함 행사카드로 세트 구매 시 금액대별 최대 100만원 상품권 증정 -30만원 이상 : 3만원 상품권 증정 -50만원 이상 : 5만원 상품권 증정 -1001000만원: 100만원당 10만원 -1000만원 이상: 100만원 상품권 증정은 위 행사 할인 이후의 실제 금액을 기준으로 합니다. 법인카드 제외 자세한 행사카드 구매 금액대별 상품권 증정행사 내용은 점내 고지물 참조 휴점안내: 128(일) 휴점합니다 (단 1층 매장과 B1층 베키아에누보 그래머시홀 정상영업) 문의 : XX-XXX-XXX 무료수신거부:XXX-XXX-XXX(광고)SSG청담점 설 사전예XXX 행사\"\"\",\n",
    "\"\"\"요즘 열XXX 인해 잠 못 이루는밤....많으실텐데피로가 누적되지않게 심신을 잘 챙기시고휴가 잘 다녀오세요XXX? 둔산중앙지점대부계 XXX차장입니다.2018년 7월 27일자아파트전세담보대출금리안내드립니다.XXX 1년주기변동  --- 3.22%-은행권상품중 최저가상품-만기최대35년분할상환(기존주택 조건충족시 거치5년 가능- 구입자금제외)MI상품시 최대 75% 한도-- 3.25%(PrB고객다자녀장애인등우대금리적용시 3.02%)-부동산중개수수료 0.2%전은행사 상품중 가장 최저가 금리진행. 3년고정 ---3.53%(PrB고객다자녀장애인등우대금리적용시 3.33%)-부동산중개수수료 0.2%현재 가장 많이? 판매되는 상품임.  심사완료후부터 90일간 유효함  (2018년 710월잔금까지 미리 접수가능)임차인보증금 제외한 후순위대출 30년전체고정금리 3.63%-   10년30년 전체기간 고정금리(200억한정판매)(카드적금급여이체등 부수거래조건 하나도 없음)-부동산중개수수료 0.25% 전세자금대출금리 특판 3.20% 전은XXX품중 최저가(서울신용보증상품) 다자녀3.10%-매년 납부하는 보증보험료 전액면제상품임--부동산중개수수료  0.25% 신용XXX드림론 최저 3%중도상환수수료 100%면제가능단기사용자 최적상품 대형상가대출(빌딩)-BB모기지론 최저 3.2%오랜경험과 노하우로 최적의 상품을진행해드리겠습니다..중개시 대환 및 매매잔금대출소개 많이 부탁드립니다대출상담? 및 부동산출장자서 문의HP: XXX-XXX-XXX둔산중앙지점 대부계 XXX차장전달: 전달: 요즘 열XXX 인\"\"\",\n",
    "\"\"\"(광고)citiXXX은행 안내 새롭게 시작하는 XXX입니다.항상 저희 citiXXX은행을 이용해 주시는 고객님께 깊이 감사드립니다.저희 당행에서는 일과가 바쁘신 기존 고객분들께 영업점 방문 이전에 대출 가능여부를 먼저 확인할 수 있도록 비대면 상담 서비스를 제공하고 있습니다.(당사 이용고객 중 마케팅 활용 동의하신 고객들께 발송되는 안내서비스입니다)상담대표번호: XX-XXX-XXX상품명: citiXXX 신용대출상품특징: 대환자금 및 생활여유자금 사업자금대출신청자격: 개인신용평가시스템(CSS)에 의해 대출한도가 산정되는 고객대출한도: 무보증 최고 1억원(마이너스통장대출 최고 1억원 이내)대출금리: 최저 연3%7.5%(기존금리우대금리) 우대금리: 최고 연 0.9%p(실적 우대:최고 연 0.7%p) (영업점 우대: 최고 연 0.2%p)  우대금리는 금리재산정 시점에서 각 항목의 충족여부에 따라 제공되지 않을 수 있습니다.대출기간 및 상환 방법: 마이너스통장식자율상환기본약정 1년(최장 10년까지 연장)  대출진행절차: -1차 가승인한도금리확인 -2차 본심사 접수-최종승인-지점내방안내-내방대출금수령  지점내방시(신분증 도장 등본1통) 지참 약정서 작성후 마이너스통장 발급본 안내문은 상품에 대한 이해를 돕고자 안내드리는 참고자료이며 실제 상품의 계약은 대출거래 약정서 여신거래기본약관 등의 적용을 받습니다.대출신청인이 신용정보 등록자(개인파산회생신용회복)일 경우 대출이 제한 될 수 있습니다. 번거로우시더라도 상담대표번호 XX-XXX-XXX로 전XXX드립니다.-XXX 여신영업2팀-상담시간: 오전9:30분오후6시기타 자세한 내용은 XXX은행 홈페이지(www.citibank.co.kr)또는 상품설명서를 참조하시기 바랍니다.(무료수신거부)XXX-XXX-XXX\"\"\",\n",
    "\"\"\"(광고)citiXXX은행 안내 새롭게 시작하는 XXX입니다.항상 저희 citiXXX은행을 이용해 주시는 고객님께 깊이 감사드립니다.저희 당행에서는 일과가 바쁘신 기존 고객분들께 영업점 방문 이전에 대출 가능여부를 먼저 확인할 수 있도록 비대면 상담 서비스를 제공하고 있습니다.(당사 이용고객 중 마케팅 활용 동의하신 고객들께 발송되는 안내서비스입니다)상담대표번호: XX-XXX-XXX상품명: citiXXX 신용대출상품특징: 대환자금 및 생활여유자금 사업자금대출신청자격: 개인신용평가시스템(CSS)에 의해 대출한도가 산정되는 고객대출한도: 무보증 최고 1억원(마이너스통장대출 최고 1억원 이내)대출금리: 최저 연3%7.5%(기존금리우대금리) 우대금리: 최고 연 0.9%p(실적 우대:최고 연 0.7%p) (영업점 우대: 최고 연 0.2%p)  우대금리는 금리재산정 시점에서 각 항목의 충족여부에 따라 제공되지 않을 수 있습니다.대출기간 및 상환 방법: 마이너스통장식자율상환기본약정 1년(최장 10년까지 연장)  대출진행절차: -1차 가승인한도금리확인 -2차 본심사 접수-최종승인-지점내방안내-내방대출금수령  지점내방시(신분증 도장 등본1통) 지참 약정서 작성후 마이너스통장 발급본 안내문은 상품에 대한 이해를 돕고자 안내드리는 참고자료이며 실제 상품의 계약은 대출거래 약정서 여신거래기본약관 등의 적용을 받습니다.대출신청인이 신용정보 등록자(개인파산회생신용회복)일 경우 대출이 제한 될 수 있습니다. 번거로우시더라도 상담대표번호 XX-XXX-XXX로 전XXX드립니다.-XXX 여신영업2팀-상담시간: 오전9:30분오후6시기타 자세한 내용은 XXX은행 홈페이지(www.citibank.co.kr)또는 상품설명서를 참조하시기 바랍니다.(무료수신거부)XXX-XXX-XXXFWXXX\"\"\"]\n",
    "#mecab.pos(txt[4])\n",
    "[print(x[2]) for row in parse_sentence(txt[5]) for x in row]"
   ]
  },
  {
   "cell_type": "code",
   "execution_count": 8,
   "metadata": {},
   "outputs": [
    {
     "name": "stdout",
     "output_type": "stream",
     "text": [
      "2020-01-09 19:35:11.726804 0\n",
      "2020-01-09 19:36:22.030133 100000\n",
      "2020-01-09 19:37:44.878485 200000\n"
     ]
    }
   ],
   "source": [
    "smishings = []\n",
    "normals = []\n",
    "idx = 0\n",
    "for idx, item in df.iterrows():\n",
    "    #print(item.text)\n",
    "    splited, etc = parse_sentence(item.text)\n",
    "    etc.append(np.log(len(item.text))/8)  # 문장 전체의 길이\n",
    "    etc.append(np.log(len(splited))/4)  # 문장의 개수\n",
    "    splited.append(etc)\n",
    "    splited.append(item.id)\n",
    "    #splited = m.parse(item.text).split()\n",
    "    if item.smishing == 1:\n",
    "        smishings.append(splited)\n",
    "    else:\n",
    "        normals.append(splited)\n",
    "    if idx % 100000 == 0:\n",
    "        print(datetime.now(), idx)\n",
    "    idx += 1\n",
    "#     if idx > 20000:\n",
    "#         break"
   ]
  },
  {
   "cell_type": "code",
   "execution_count": 9,
   "metadata": {},
   "outputs": [
    {
     "name": "stdout",
     "output_type": "stream",
     "text": [
      "selected normal-like words count: 193\n",
      "selected smishing-like words count: 1642\n"
     ]
    },
    {
     "data": {
      "text/plain": [
       "[<matplotlib.lines.Line2D at 0x7fa1a9ba7fd0>]"
      ]
     },
     "execution_count": 9,
     "metadata": {},
     "output_type": "execute_result"
    },
    {
     "data": {
      "image/png": "[encoded data removed]",
      "text/plain": [
       "<Figure size 1440x360 with 2 Axes>"
      ]
     },
     "metadata": {
      "needs_background": "light"
     },
     "output_type": "display_data"
    }
   ],
   "source": [
    "# 스미싱에만 등장하는 noun들 : smish_target_words\n",
    "NORM_THRESHOLD, SMISH_THRESHOLD = 1000, 2\n",
    "POS_IDX_IN_ARR = 3\n",
    "IDX_TO_CUT = -2\n",
    "norm_dict = {}\n",
    "for item in [x for normal in normals for row in normal[:IDX_TO_CUT] for x in row[POS_IDX_IN_ARR]]:\n",
    "    if item in norm_dict:\n",
    "        norm_dict[item] += 1\n",
    "    else:\n",
    "        norm_dict[item] = 1\n",
    "norm_filter_words = {x:norm_dict.get(x) for x in norm_dict if norm_dict.get(x) > NORM_THRESHOLD}\n",
    "\n",
    "smish_dict = {}\n",
    "for item in [x for smishing in smishings for row in smishing[:IDX_TO_CUT] for x in row[POS_IDX_IN_ARR]]:\n",
    "    if item in smish_dict:\n",
    "        smish_dict[item] += 1\n",
    "    else:\n",
    "        smish_dict[item] = 1\n",
    "smish_filter_words = {x:smish_dict.get(x) for x in smish_dict if smish_dict.get(x) > SMISH_THRESHOLD}\n",
    "        \n",
    "word_only_in_smishings = [word for word in smish_dict if word not in norm_filter_words]\n",
    "word_only_in_normals = [word for word in norm_dict if word not in smish_filter_words]\n",
    "\n",
    "norm_target_words = {x:norm_dict.get(x) for x in word_only_in_normals if norm_dict.get(x) > NORM_THRESHOLD}\n",
    "smish_target_words = {x:smish_dict.get(x) for x in word_only_in_smishings if smish_dict.get(x) > SMISH_THRESHOLD}\n",
    "print('selected normal-like words count:', len(norm_target_words))\n",
    "print('selected smishing-like words count:', len(smish_target_words))\n",
    "\n",
    "smishing_word_cnt, smishing_noword_cnt = [], []\n",
    "normal_word_cnt, normal_noword_cnt = [], []\n",
    "for smishing in smishings:\n",
    "    notarget_word_list = [x for row in smishing[:IDX_TO_CUT] for x in row[POS_IDX_IN_ARR] if x in norm_target_words]\n",
    "    target_word_list = [x for row in smishing[:IDX_TO_CUT] for x in row[POS_IDX_IN_ARR] if x in smish_target_words]\n",
    "    smishing.insert(-2, notarget_word_list)\n",
    "    smishing.insert(-2, target_word_list)\n",
    "    smishing_noword_cnt.append(len(notarget_word_list))\n",
    "    smishing_word_cnt.append(len(target_word_list))\n",
    "for normal in normals:\n",
    "    notarget_word_list = [x for row in normal[:IDX_TO_CUT] for x in row[POS_IDX_IN_ARR] if x in norm_target_words]\n",
    "    target_word_list = [x for row in normal[:IDX_TO_CUT] for x in row[POS_IDX_IN_ARR] if x in smish_target_words]\n",
    "    normal.insert(-2, notarget_word_list)\n",
    "    normal.insert(-2, target_word_list)\n",
    "    normal_noword_cnt.append(len(notarget_word_list))\n",
    "    normal_word_cnt.append(len(target_word_list))\n",
    "\n",
    "plt.figure(figsize=(20,5))\n",
    "plt.subplot(1,2,1)\n",
    "plt.plot(normal_noword_cnt)\n",
    "plt.plot(smishing_noword_cnt)\n",
    "\n",
    "plt.subplot(1,2,2)\n",
    "plt.plot(smishing_word_cnt)\n",
    "plt.plot(normal_word_cnt)"
   ]
  },
  {
   "cell_type": "code",
   "execution_count": 10,
   "metadata": {},
   "outputs": [
    {
     "name": "stdout",
     "output_type": "stream",
     "text": [
      "selected normal-like adverbs count: 159\n",
      "selected smishing-like adverbs count: 68\n"
     ]
    },
    {
     "data": {
      "text/plain": [
       "[<matplotlib.lines.Line2D at 0x7fa1b45d9090>]"
      ]
     },
     "execution_count": 10,
     "metadata": {},
     "output_type": "execute_result"
    },
    {
     "data": {
      "image/png": "[encoded data removed]",
      "text/plain": [
       "<Figure size 1440x360 with 2 Axes>"
      ]
     },
     "metadata": {
      "needs_background": "light"
     },
     "output_type": "display_data"
    }
   ],
   "source": [
    "# 스미싱에만 등장하는 adv들 : smish_target_adverbs\n",
    "NORM_THRESHOLD, SMISH_THRESHOLD = 100, 2\n",
    "POS_IDX_IN_ARR = 4\n",
    "IDX_TO_CUT = -4\n",
    "norm_dict = {}\n",
    "for item in [x for normal in normals for row in normal[:IDX_TO_CUT] for x in row[POS_IDX_IN_ARR]]:\n",
    "    if item in norm_dict:\n",
    "        norm_dict[item] += 1\n",
    "    else:\n",
    "        norm_dict[item] = 1\n",
    "norm_filter_adverbs = {x:norm_dict.get(x) for x in norm_dict if norm_dict.get(x) > NORM_THRESHOLD}\n",
    "\n",
    "smish_dict = {}\n",
    "for item in [x for smishing in smishings for row in smishing[:IDX_TO_CUT] for x in row[POS_IDX_IN_ARR]]:\n",
    "    if item in smish_dict:\n",
    "        smish_dict[item] += 1\n",
    "    else:\n",
    "        smish_dict[item] = 1\n",
    "smish_filter_adverbs = {x:smish_dict.get(x) for x in smish_dict if smish_dict.get(x) > SMISH_THRESHOLD}\n",
    "        \n",
    "adverb_only_in_smishings = [adverb for adverb in smish_dict if adverb not in norm_filter_adverbs]\n",
    "adverb_only_in_normals = [adverb for adverb in norm_dict if adverb not in smish_filter_adverbs]\n",
    "\n",
    "norm_target_adverbs = {x:norm_dict.get(x) for x in adverb_only_in_normals if norm_dict.get(x) > NORM_THRESHOLD}\n",
    "smish_target_adverbs = {x:smish_dict.get(x) for x in adverb_only_in_smishings if smish_dict.get(x) > SMISH_THRESHOLD}\n",
    "print('selected normal-like adverbs count:', len(norm_target_adverbs))\n",
    "print('selected smishing-like adverbs count:', len(smish_target_adverbs))\n",
    "\n",
    "smishing_adverb_cnt, smishing_noadverb_cnt = [], []\n",
    "normal_adverb_cnt, normal_noadverb_cnt = [], []\n",
    "for smishing in smishings:\n",
    "    notarget_adverb_list = [x for row in smishing[:IDX_TO_CUT] for x in row[POS_IDX_IN_ARR] if x in norm_target_adverbs]\n",
    "    target_adverb_list = [x for row in smishing[:IDX_TO_CUT] for x in row[POS_IDX_IN_ARR] if x in smish_target_adverbs]\n",
    "    smishing.insert(-2, notarget_adverb_list)\n",
    "    smishing.insert(-2, target_adverb_list)\n",
    "    smishing_noadverb_cnt.append(len(notarget_adverb_list))\n",
    "    smishing_adverb_cnt.append(len(target_adverb_list))\n",
    "for normal in normals:\n",
    "    notarget_adverb_list = [x for row in normal[:IDX_TO_CUT] for x in row[POS_IDX_IN_ARR] if x in norm_target_adverbs]\n",
    "    target_adverb_list = [x for row in normal[:IDX_TO_CUT] for x in row[POS_IDX_IN_ARR] if x in smish_target_adverbs]\n",
    "    normal.insert(-2, notarget_adverb_list)\n",
    "    normal.insert(-2, target_adverb_list)\n",
    "    normal_noadverb_cnt.append(len(notarget_adverb_list))\n",
    "    normal_adverb_cnt.append(len(target_adverb_list))\n",
    "\n",
    "plt.figure(figsize=(20,5))\n",
    "plt.subplot(1,2,1)\n",
    "plt.plot(normal_noadverb_cnt)\n",
    "plt.plot(smishing_noadverb_cnt)\n",
    "\n",
    "plt.subplot(1,2,2)\n",
    "plt.plot(smishing_adverb_cnt)\n",
    "plt.plot(normal_adverb_cnt)"
   ]
  },
  {
   "cell_type": "code",
   "execution_count": 11,
   "metadata": {},
   "outputs": [
    {
     "name": "stdout",
     "output_type": "stream",
     "text": [
      "['어요', True, ['첫날', '아니지만', '누군가', '행복', '빌어', '주면', '한', '달', '내내', '행복', '하다는', '문자', '받았어요'], ['첫날', '누군가', '행복', '달', '행복', '문자'], ['한', '내내']]\n",
      "['세요', False, ['X일', '한', '달', '내내', '행복', '가득', '하시길', '바라며', '주말', '잘', '보내세요'], ['달', '행복', '주말'], ['한', '내내', '가득', '잘']]\n",
      "['올림', False, ['X', '은행', '청계', 'X', 'X', '올림'], ['3'], []]\n",
      "[]\n",
      "['누군가']\n",
      "['내내', '내내']\n",
      "[]\n",
      "[0.3333333333333333, 0.5624762087912831, 0.27465307216702745]\n",
      "12\n"
     ]
    },
    {
     "data": {
      "text/plain": [
       "[None, None, None, None, None, None, None, None, None]"
      ]
     },
     "execution_count": 11,
     "metadata": {},
     "output_type": "execute_result"
    }
   ],
   "source": [
    "# rows + notarget + target + noadverb + adverb + etc + idx\n",
    "[print(x) for x in normals[10]]"
   ]
  },
  {
   "cell_type": "code",
   "execution_count": 12,
   "metadata": {},
   "outputs": [],
   "source": [
    "class wordCounter():\n",
    "    def __init__(self):\n",
    "        self.word_bank = {}\n",
    "    \n",
    "    def add_bucket(self, bucket_name):\n",
    "        self.word_bank[bucket_name] = {}\n",
    "        \n",
    "    def add_list(self, bucket_name, word_list:[]):\n",
    "        bucket = self.word_bank[bucket_name]\n",
    "        for keyword in word_list:\n",
    "            if keyword in bucket:\n",
    "                bucket[keyword] += 1\n",
    "            else:\n",
    "                bucket[keyword] = 1\n",
    "                \n",
    "    def get_counts(self, bucket_name):\n",
    "        return self.word_bank[bucket_name]"
   ]
  },
  {
   "cell_type": "code",
   "execution_count": 13,
   "metadata": {},
   "outputs": [],
   "source": [
    "wc = wordCounter()\n",
    "wc.add_bucket('conditioned')\n",
    "wc.add_bucket('general')\n",
    "wc.add_bucket('whole')\n",
    "wc.add_bucket('notargets')\n",
    "wc.add_bucket('targets')\n",
    "wc.add_bucket('noadverbs')\n",
    "wc.add_bucket('adverbs')\n",
    "\n",
    "LEN_OF_OTHERS = 6\n",
    "\n",
    "for normal in normals:\n",
    "    for item in normal[:-LEN_OF_OTHERS]:\n",
    "        wc.add_list('whole', item[2])\n",
    "        if item[1] == True:\n",
    "            wc.add_list('conditioned', item[3])\n",
    "        else:\n",
    "            wc.add_list('general', item[3])\n",
    "    wc.add_list('notargets', normal[-6])\n",
    "    wc.add_list('targets', normal[-5])\n",
    "    wc.add_list('noadverbs', normal[-4])\n",
    "    wc.add_list('adverbs', normal[-3])\n",
    "\n",
    "for smishing in smishings:\n",
    "    for item in smishing[:-LEN_OF_OTHERS]:\n",
    "        wc.add_list('whole', item[2])\n",
    "        if item[1] == True:\n",
    "            wc.add_list('conditioned', item[3])\n",
    "        else:\n",
    "            wc.add_list('general', item[3])\n",
    "    wc.add_list('notargets', smishing[-6])\n",
    "    wc.add_list('targets', smishing[-5])\n",
    "    wc.add_list('noadverbs', smishing[-4])\n",
    "    wc.add_list('adverbs', smishing[-3])"
   ]
  },
  {
   "cell_type": "code",
   "execution_count": 14,
   "metadata": {},
   "outputs": [],
   "source": [
    "conditioned_df = pd.Series(wc.get_counts('conditioned'))\n",
    "general_df = pd.Series(wc.get_counts('general'))\n",
    "whole_df = pd.Series(wc.get_counts('whole'))\n",
    "notargets_df = pd.Series(wc.get_counts('notargets'))\n",
    "targets_df = pd.Series(wc.get_counts('targets'))\n",
    "noadverbs_df = pd.Series(wc.get_counts('noadverbs'))\n",
    "adverbs_df = pd.Series(wc.get_counts('adverbs'))\n",
    "\n",
    "# 글자가 2개 이상인 것만 모아보자\n",
    "conditioned_df = conditioned_df[conditioned_df.index.map(len) > 1]  # M 만 포함시켰으므로.. 길이 2이상인것만\n",
    "general_df = general_df[general_df.index.map(len) > 1]  # M 만 포함시켰으므로.. 길이 2이상인것만\n",
    "# targets_df 일단 생략\n",
    "\n",
    "# 3번 이상 출현한 것만 모아보자\n",
    "#conditioned_df = conditioned_df[conditioned_df.sort_values() > 2]\n",
    "#general_df = general_df[general_df.sort_values() > 2]"
   ]
  },
  {
   "cell_type": "code",
   "execution_count": 15,
   "metadata": {},
   "outputs": [],
   "source": [
    "general_dic = general_df[general_df > 1].sort_values(ascending=False)\n",
    "general_dic = general_dic.reset_index()['index'].to_dict()\n",
    "general_vocab = {general_dic.get(k):k for k in general_dic}"
   ]
  },
  {
   "cell_type": "code",
   "execution_count": 16,
   "metadata": {},
   "outputs": [],
   "source": [
    "conditioned_dic = conditioned_df[conditioned_df > 1].sort_values(ascending=False)\n",
    "conditioned_dic = conditioned_dic.reset_index()['index'].to_dict()\n",
    "conditioned_vocab = {conditioned_dic.get(k):k for k in conditioned_dic}"
   ]
  },
  {
   "cell_type": "code",
   "execution_count": 17,
   "metadata": {},
   "outputs": [],
   "source": [
    "whole_dic = whole_df[whole_df > 1].sort_values(ascending=False)\n",
    "whole_dic = whole_dic.reset_index()['index'].to_dict()\n",
    "whole_vocab = {whole_dic.get(k):k for k in whole_dic}"
   ]
  },
  {
   "cell_type": "code",
   "execution_count": 18,
   "metadata": {},
   "outputs": [],
   "source": [
    "notargets_dic = notargets_df[notargets_df > 1].sort_values(ascending=False)\n",
    "notargets_dic = notargets_dic.reset_index()['index'].to_dict()\n",
    "notargets_vocab = {notargets_dic.get(k):k for k in notargets_dic}\n",
    "\n",
    "targets_dic = targets_df[targets_df > 1].sort_values(ascending=False)\n",
    "targets_dic = targets_dic.reset_index()['index'].to_dict()\n",
    "targets_vocab = {targets_dic.get(k):k for k in targets_dic}"
   ]
  },
  {
   "cell_type": "code",
   "execution_count": 19,
   "metadata": {},
   "outputs": [],
   "source": [
    "noadverbs_dic = noadverbs_df[noadverbs_df > 1].sort_values(ascending=False)\n",
    "noadverbs_dic = noadverbs_dic.reset_index()['index'].to_dict()\n",
    "noadverbs_vocab = {noadverbs_dic.get(k):k for k in noadverbs_dic}\n",
    "\n",
    "adverbs_dic = adverbs_df[adverbs_df > 1].sort_values(ascending=False)\n",
    "adverbs_dic = adverbs_dic.reset_index()['index'].to_dict()\n",
    "adverbs_vocab = {adverbs_dic.get(k):k for k in adverbs_dic}"
   ]
  },
  {
   "cell_type": "code",
   "execution_count": 20,
   "metadata": {},
   "outputs": [
    {
     "name": "stdout",
     "output_type": "stream",
     "text": [
      "size of vocab (conditioned, general, whole): 8867 16057 37831\n",
      "size of vocab (notargets, targets, noadverbs, adverbs): 193 1642 159 68\n"
     ]
    }
   ],
   "source": [
    "# smishing cases; length of vocab when it's out of vocab\n",
    "tidf_conditioned = []\n",
    "tidf_general = []\n",
    "tidf_whole = []\n",
    "tidf_notargets = []\n",
    "tidf_targets = []\n",
    "tidf_noadverbs = []\n",
    "tidf_adverbs = []\n",
    "tidf_etc = []\n",
    "original_idx = []\n",
    "\n",
    "cond_vocabsize = len(conditioned_vocab)\n",
    "gen_vocabsize = len(general_vocab)\n",
    "whole_vocabsize = len(whole_vocab)\n",
    "notargets_vocabsize = len(notargets_vocab)\n",
    "targets_vocabsize = len(targets_vocab)\n",
    "noadverbs_vocabsize = len(noadverbs_vocab)\n",
    "adverbs_vocabsize = len(adverbs_vocab)\n",
    "\n",
    "print('size of vocab (conditioned, general, whole):', cond_vocabsize, gen_vocabsize, whole_vocabsize)\n",
    "print('size of vocab (notargets, targets, noadverbs, adverbs):', notargets_vocabsize, targets_vocabsize, noadverbs_vocabsize, adverbs_vocabsize)\n",
    "\n",
    "# 문장별 bag of word를 제외한 항목의 수 : notargets, targets, noadverbs, adverbs, etc, idx\n",
    "LEN_OF_OTHERS = 6\n",
    "for msg in normals:\n",
    "    tidf_conditioned.append([conditioned_vocab.get(x) if x in conditioned_vocab else cond_vocabsize for row in msg[:-LEN_OF_OTHERS] if row[1] == True for x in row[3]])\n",
    "    tidf_general.append([general_vocab.get(x) if x in general_vocab else gen_vocabsize for row in msg[:-LEN_OF_OTHERS] if row[1] == False for x in row[3]])\n",
    "    tidf_whole.append([whole_vocab.get(x) if x in whole_vocab else whole_vocabsize for row in msg[:-LEN_OF_OTHERS] for x in row[2]])\n",
    "    tidf_notargets.append([notargets_vocab.get(x) if x in notargets_vocab else notargets_vocabsize for x in msg[-6]])\n",
    "    tidf_targets.append([targets_vocab.get(x) if x in targets_vocab else targets_vocabsize for x in msg[-5]])\n",
    "    tidf_noadverbs.append([noadverbs_vocab.get(x) if x in noadverbs_vocab else noadverbs_vocabsize for x in msg[-4]])\n",
    "    tidf_adverbs.append([adverbs_vocab.get(x) if x in adverbs_vocab else adverbs_vocabsize for x in msg[-3]])\n",
    "    tidf_etc.append(msg[-2])\n",
    "    original_idx.append(msg[-1])\n",
    "for msg in smishings:\n",
    "    tidf_conditioned.append([conditioned_vocab.get(x) if x in conditioned_vocab else cond_vocabsize for row in msg[:-LEN_OF_OTHERS] if row[1] == True for x in row[3]])\n",
    "    tidf_general.append([general_vocab.get(x) if x in general_vocab else gen_vocabsize for row in msg[:-LEN_OF_OTHERS] if row[1] == False for x in row[3]])\n",
    "    tidf_whole.append([whole_vocab.get(x) if x in whole_vocab else whole_vocabsize for row in msg[:-LEN_OF_OTHERS] for x in row[2]])\n",
    "    tidf_notargets.append([notargets_vocab.get(x) if x in notargets_vocab else notargets_vocabsize for x in msg[-6]])\n",
    "    tidf_targets.append([targets_vocab.get(x) if x in targets_vocab else targets_vocabsize for x in msg[-5]])\n",
    "    tidf_noadverbs.append([noadverbs_vocab.get(x) if x in noadverbs_vocab else noadverbs_vocabsize for x in msg[-4]])\n",
    "    tidf_adverbs.append([adverbs_vocab.get(x) if x in adverbs_vocab else adverbs_vocabsize for x in msg[-3]])\n",
    "    tidf_etc.append(msg[-2])\n",
    "    original_idx.append(msg[-1])"
   ]
  },
  {
   "cell_type": "code",
   "execution_count": 21,
   "metadata": {},
   "outputs": [
    {
     "data": {
      "text/plain": [
       "(295945, 295945, 295945, 295945)"
      ]
     },
     "execution_count": 21,
     "metadata": {},
     "output_type": "execute_result"
    }
   ],
   "source": [
    "len(tidf_conditioned), len(tidf_general), len(tidf_etc), len(tidf_targets)"
   ]
  },
  {
   "cell_type": "code",
   "execution_count": 22,
   "metadata": {},
   "outputs": [
    {
     "name": "stdout",
     "output_type": "stream",
     "text": [
      "conditioned vector minimum size: 194\n",
      "general vector minimum size: 333\n",
      "whole vector minimum size: 493\n",
      "notarget vector minimum size: 40\n",
      "target vector minimum size: 85\n",
      "noadverb vector minimum size: 13\n",
      "adverb vector minimum size: 8\n"
     ]
    }
   ],
   "source": [
    "convec_size = max([len(x) for x in tidf_conditioned])\n",
    "genvec_size = max([len(x) for x in tidf_general])\n",
    "whlvec_size = max([len(x) for x in tidf_whole])\n",
    "notgtvec_size = max([len(x) for x in tidf_notargets])\n",
    "tgtvec_size = max([len(x) for x in tidf_targets])\n",
    "noadvvec_size = max([len(x) for x in tidf_noadverbs])\n",
    "advvec_size = max([len(x) for x in tidf_adverbs])\n",
    "\n",
    "# 문장 내 인식한 단어의 개수의 최대값 (문장의 길이가 길수록 크겠지..)\n",
    "print('conditioned vector minimum size:', convec_size)\n",
    "print('general vector minimum size:', genvec_size)\n",
    "print('whole vector minimum size:', whlvec_size)\n",
    "print('notarget vector minimum size:', notgtvec_size)\n",
    "print('target vector minimum size:', tgtvec_size)\n",
    "print('noadverb vector minimum size:', noadvvec_size)\n",
    "print('adverb vector minimum size:', advvec_size)"
   ]
  },
  {
   "cell_type": "code",
   "execution_count": null,
   "metadata": {},
   "outputs": [],
   "source": []
  },
  {
   "cell_type": "code",
   "execution_count": 23,
   "metadata": {},
   "outputs": [],
   "source": [
    "# 훈련용, 훈련검증용, 결과검증용 분리\n",
    "tidf_conditioned = np.array(tidf_conditioned)\n",
    "tidf_general = np.array(tidf_general)\n",
    "tidf_whole = np.array(tidf_whole)\n",
    "tidf_notargets = np.array(tidf_notargets)\n",
    "tidf_targets = np.array(tidf_targets)\n",
    "tidf_noadverbs = np.array(tidf_noadverbs)\n",
    "tidf_adverbs = np.array(tidf_adverbs)\n",
    "tidf_etc = np.array(tidf_etc)\n",
    "tidf_label = np.array([1 if x >= len(normals) else 0 for x in range(tidf_conditioned.shape[0])])"
   ]
  },
  {
   "cell_type": "code",
   "execution_count": 24,
   "metadata": {},
   "outputs": [],
   "source": [
    "from tensorflow.keras.preprocessing.sequence import pad_sequences\n",
    "\n",
    "class DataGenerator(keras.utils.Sequence):\n",
    "    def __init__(self, tidf_cond_train, tidf_gen_train, tidf_whole_train, tidf_notargets_train, tidf_targets_train, tidf_noadverbs_train, tidf_adverbs_train, tidf_etc_train, tidf_label_train, normal_size=160, smishing_size=160, convec_size=350, genvec_size=470, whlvec_size=500, notgtvec_size=100, tgtvec_size=100, noadvvec_size=100, advvec_size=100):\n",
    "        self.convec_size = convec_size  # including 0 paddings\n",
    "        self.genvec_size = genvec_size  # including 0 paddings\n",
    "        self.whlvec_size = whlvec_size  # including 0 paddings\n",
    "        self.notgtvec_size = notgtvec_size  # including 0 paddings\n",
    "        self.tgtvec_size = tgtvec_size  # including 0 paddings\n",
    "        self.noadvvec_size = noadvvec_size  # including 0 paddings\n",
    "        self.advvec_size = advvec_size  # including 0 paddings\n",
    "        self.tidf_cond_train_normal = pad_sequences(tidf_cond_train[tidf_label_train == 0], maxlen=self.convec_size, padding='pre')\n",
    "        self.tidf_gen_train_normal = pad_sequences(tidf_gen_train[tidf_label_train == 0], maxlen=self.genvec_size, padding='pre')\n",
    "        self.tidf_whole_train_normal = pad_sequences(tidf_whole_train[tidf_label_train == 0], maxlen=self.whlvec_size, padding='pre')\n",
    "        self.tidf_targets_train_normal = pad_sequences(tidf_targets_train[tidf_label_train == 0], maxlen=self.tgtvec_size, padding='pre')\n",
    "        self.tidf_notargets_train_normal = pad_sequences(tidf_notargets_train[tidf_label_train == 0], maxlen=self.notgtvec_size, padding='pre')\n",
    "        self.tidf_adverbs_train_normal = pad_sequences(tidf_adverbs_train[tidf_label_train == 0], maxlen=self.advvec_size, padding='pre')\n",
    "        self.tidf_noadverbs_train_normal = pad_sequences(tidf_noadverbs_train[tidf_label_train == 0], maxlen=self.noadvvec_size, padding='pre')\n",
    "        self.tidf_etc_train_normal = tidf_etc_train[tidf_label_train == 0]\n",
    "        self.tidf_cond_train_smishing = pad_sequences(tidf_cond_train[tidf_label_train == 1], maxlen=self.convec_size, padding='pre')\n",
    "        self.tidf_gen_train_smishing = pad_sequences(tidf_gen_train[tidf_label_train == 1], maxlen=self.genvec_size, padding='pre')\n",
    "        self.tidf_whole_train_smishing = pad_sequences(tidf_whole_train[tidf_label_train == 1], maxlen=self.whlvec_size, padding='pre')\n",
    "        self.tidf_notargets_train_smishing = pad_sequences(tidf_notargets_train[tidf_label_train == 1], maxlen=self.notgtvec_size, padding='pre')\n",
    "        self.tidf_targets_train_smishing = pad_sequences(tidf_targets_train[tidf_label_train == 1], maxlen=self.tgtvec_size, padding='pre')\n",
    "        self.tidf_noadverbs_train_smishing = pad_sequences(tidf_noadverbs_train[tidf_label_train == 1], maxlen=self.noadvvec_size, padding='pre')\n",
    "        self.tidf_adverbs_train_smishing = pad_sequences(tidf_adverbs_train[tidf_label_train == 1], maxlen=self.advvec_size, padding='pre')\n",
    "        self.tidf_etc_train_smishing = tidf_etc_train[tidf_label_train == 1]\n",
    "        self.sample_size_normal = normal_size\n",
    "        self.sample_size_smishing = smishing_size\n",
    "        self.train_size_normal = len(self.tidf_cond_train_normal)\n",
    "        self.train_size_smishing = len(self.tidf_cond_train_smishing)\n",
    "#         self.sample_size = normal_size + smishing_size\n",
    "#         self.num_batch = int(np.ceil(len(self.tidf_cond_train_normal) // self.sample_size / 10))\n",
    "        self.num_batch_normal = int(np.ceil(self.train_size_normal / self.sample_size_normal))\n",
    "        self.num_batch_smishing = int(np.ceil(self.train_size_smishing / self.sample_size_smishing))\n",
    "        self.normal_train_index = np.array(range(self.train_size_normal))\n",
    "        self.smishing_train_index = np.array(range(self.train_size_smishing))\n",
    "        print(f\"num_batch_normal: {self.num_batch_normal}, num_batch_smishing: {self.num_batch_smishing}\")\n",
    "    \n",
    "    def __len__(self):\n",
    "        return max(self.num_batch_normal, self.num_batch_smishing)\n",
    "    \n",
    "    def __getitem__(self, index):\n",
    "        # sequencial sampling\n",
    "        normal_idx, smishing_idx = index % self.num_batch_normal, index % self.num_batch_smishing\n",
    "        #print(f\"normal_idx: {normal_idx}, smishing_idx: {smishing_idx}\")\n",
    "        normal_sampling = self.normal_train_index // self.sample_size_normal == normal_idx\n",
    "#         normal_sampling = np.random.choice(len(self.tidf_cond_train_normal), self.normal_sample_size)\n",
    "        normal_cond_sample = self.tidf_cond_train_normal[normal_sampling]\n",
    "        normal_gen_sample = self.tidf_gen_train_normal[normal_sampling]\n",
    "        normal_whole_sample = self.tidf_whole_train_normal[normal_sampling]\n",
    "        normal_notargets_sample = self.tidf_notargets_train_normal[normal_sampling]\n",
    "        normal_targets_sample = self.tidf_targets_train_normal[normal_sampling]\n",
    "        normal_noadverbs_sample = self.tidf_noadverbs_train_normal[normal_sampling]\n",
    "        normal_adverbs_sample = self.tidf_adverbs_train_normal[normal_sampling]\n",
    "        normal_etc_sample = self.tidf_etc_train_normal[normal_sampling]\n",
    "        smishing_sampling = self.smishing_train_index // self.sample_size_smishing == smishing_idx\n",
    "#         smishing_sampling = np.random.choice(len(self.tidf_cond_train_smishing), self.smishing_sample_size)\n",
    "        smishing_cond_sample = self.tidf_cond_train_smishing[smishing_sampling]\n",
    "        smishing_gen_sample = self.tidf_gen_train_smishing[smishing_sampling]\n",
    "        smishing_whole_sample = self.tidf_whole_train_smishing[smishing_sampling]\n",
    "        smishing_notargets_sample = self.tidf_notargets_train_smishing[smishing_sampling]\n",
    "        smishing_targets_sample = self.tidf_targets_train_smishing[smishing_sampling]\n",
    "        smishing_noadverbs_sample = self.tidf_noadverbs_train_smishing[smishing_sampling]\n",
    "        smishing_adverbs_sample = self.tidf_adverbs_train_smishing[smishing_sampling]\n",
    "        smishing_etc_sample = self.tidf_etc_train_smishing[smishing_sampling]\n",
    "        sample_cond_train = np.concatenate([normal_cond_sample, smishing_cond_sample])\n",
    "        sample_gen_train = np.concatenate([normal_gen_sample, smishing_gen_sample])\n",
    "        sample_whole_train = np.concatenate([normal_whole_sample, smishing_whole_sample])\n",
    "        sample_notargets_train = np.concatenate([normal_notargets_sample, smishing_notargets_sample])\n",
    "        sample_targets_train = np.concatenate([normal_targets_sample, smishing_targets_sample])\n",
    "        sample_noadverbs_train = np.concatenate([normal_noadverbs_sample, smishing_noadverbs_sample])\n",
    "        sample_adverbs_train = np.concatenate([normal_adverbs_sample, smishing_adverbs_sample])\n",
    "        sample_etc_train = np.concatenate([normal_etc_sample, smishing_etc_sample])\n",
    "        sample_label_train = [1 if x >= len(normal_cond_sample) else 0 for x in range(len(sample_cond_train))]\n",
    "        return [sample_cond_train, sample_gen_train, sample_whole_train, sample_notargets_train, sample_targets_train, sample_noadverbs_train, sample_adverbs_train, sample_etc_train], sample_label_train\n",
    "#        return [sample_gen_train, sample_etc_train], sample_label_train\n",
    "\n",
    "    def on_epoch_end(self):\n",
    "        pass"
   ]
  },
  {
   "cell_type": "code",
   "execution_count": 25,
   "metadata": {},
   "outputs": [
    {
     "data": {
      "text/plain": [
       "((177533,), (59281,))"
      ]
     },
     "execution_count": 25,
     "metadata": {},
     "output_type": "execute_result"
    }
   ],
   "source": [
    "TRAIN_RATIO, VALID_RATIO = 0.6, 0.8\n",
    "np.random.seed(0)\n",
    "split = np.random.rand(tidf_conditioned.shape[0])\n",
    "tidf_cond_train = tidf_conditioned[split < TRAIN_RATIO]\n",
    "tidf_cond_valid = tidf_conditioned[(split >= TRAIN_RATIO) & (split < VALID_RATIO)]\n",
    "tidf_cond_test = tidf_conditioned[split >= VALID_RATIO]\n",
    "\n",
    "tidf_gen_train = tidf_general[split < TRAIN_RATIO]\n",
    "tidf_gen_valid = tidf_general[(split >= TRAIN_RATIO) & (split < VALID_RATIO)]\n",
    "tidf_gen_test = tidf_general[split >= VALID_RATIO]\n",
    "\n",
    "tidf_whole_train = tidf_whole[split < TRAIN_RATIO]\n",
    "tidf_whole_valid = tidf_whole[(split >= TRAIN_RATIO) & (split < VALID_RATIO)]\n",
    "tidf_whole_test = tidf_whole[split >= VALID_RATIO]\n",
    "\n",
    "tidf_notargets_train = tidf_notargets[split < TRAIN_RATIO]\n",
    "tidf_notargets_valid = tidf_notargets[(split >= TRAIN_RATIO) & (split < VALID_RATIO)]\n",
    "tidf_notargets_test = tidf_notargets[split >= VALID_RATIO]\n",
    "\n",
    "tidf_targets_train = tidf_targets[split < TRAIN_RATIO]\n",
    "tidf_targets_valid = tidf_targets[(split >= TRAIN_RATIO) & (split < VALID_RATIO)]\n",
    "tidf_targets_test = tidf_targets[split >= VALID_RATIO]\n",
    "\n",
    "tidf_noadverbs_train = tidf_noadverbs[split < TRAIN_RATIO]\n",
    "tidf_noadverbs_valid = tidf_noadverbs[(split >= TRAIN_RATIO) & (split < VALID_RATIO)]\n",
    "tidf_noadverbs_test = tidf_noadverbs[split >= VALID_RATIO]\n",
    "\n",
    "tidf_adverbs_train = tidf_adverbs[split < TRAIN_RATIO]\n",
    "tidf_adverbs_valid = tidf_adverbs[(split >= TRAIN_RATIO) & (split < VALID_RATIO)]\n",
    "tidf_adverbs_test = tidf_adverbs[split >= VALID_RATIO]\n",
    "\n",
    "tidf_etc_train = tidf_etc[split < TRAIN_RATIO]\n",
    "tidf_etc_valid = tidf_etc[(split >= TRAIN_RATIO) & (split < VALID_RATIO)]\n",
    "tidf_etc_test = tidf_etc[split >= VALID_RATIO]\n",
    "\n",
    "tidf_label_train = tidf_label[split < TRAIN_RATIO]\n",
    "tidf_label_valid = tidf_label[(split >= TRAIN_RATIO) & (split < VALID_RATIO)]\n",
    "tidf_label_test = tidf_label[split >= VALID_RATIO]\n",
    "\n",
    "tidf_cond_train.shape, tidf_cond_valid.shape #, tidf_cond_test.shape"
   ]
  },
  {
   "cell_type": "code",
   "execution_count": 56,
   "metadata": {},
   "outputs": [
    {
     "name": "stderr",
     "output_type": "stream",
     "text": [
      "/home/xikizima/.conda/lib/python3.7/site-packages/ipykernel_launcher.py:68: UserWarning: Update your `Model` call to the Keras 2 API: `Model(inputs=[<tf.Tenso..., outputs=Tensor(\"Ac...)`\n"
     ]
    }
   ],
   "source": [
    "# noadverb, adverb 추가했더니 오히려 떨어져서.. adverb쪽 embed size를 1로 줄이고, 나머지도 조금씩 줄여서 overfit완화시도\n",
    "# conditioned vector minimum size: 194\n",
    "# general vector minimum size: 333\n",
    "# whole vector minimum size: 493\n",
    "# notarget vector minimum size: 40\n",
    "# target vector minimum size: 85\n",
    "# noadverb vector minimum size: 13\n",
    "# adverb vector minimum size: 8\n",
    "    \n",
    "num_predictive_factors1, num_predictive_factors2, num_predictive_factors3 = 12, 18, 26\n",
    "num_predictive_factors4, num_predictive_factors5 = 4, 6\n",
    "num_predictive_factors6, num_predictive_factors7 = 2, 2\n",
    "n_cond, n_gen, n_whole, n_notargets, n_targets = convec_size, genvec_size, whlvec_size, notgtvec_size, tgtvec_size\n",
    "n_noadverbs, n_adverbs, n_etc = noadvvec_size, advvec_size, len(tidf_etc_train[0])\n",
    "\n",
    "cond_input = keras.layers.Input(shape=(n_cond,), name='Cond')\n",
    "gen_input = keras.layers.Input(shape=(n_gen,), name='General')\n",
    "whole_input = keras.layers.Input(shape=(n_whole,), name='Whole')\n",
    "notargets_input = keras.layers.Input(shape=(n_notargets,), name='NoTargets')\n",
    "targets_input = keras.layers.Input(shape=(n_targets,), name='Targets')\n",
    "noadverbs_input = keras.layers.Input(shape=(n_noadverbs,), name='NoAdverbs')\n",
    "adverbs_input = keras.layers.Input(shape=(n_adverbs,), name='Adverbs')\n",
    "etc_input = keras.layers.Input(shape=(n_etc,), name='Etc')\n",
    "\n",
    "cond_vec_mlp = keras.layers.Embedding(cond_vocabsize + 1, num_predictive_factors1, )(cond_input)\n",
    "cond_vec_mlp = keras.layers.Flatten(name='Flattenconds-MLP')(cond_vec_mlp)\n",
    "cond_vec_mlp = keras.layers.Dropout(0.3)(cond_vec_mlp)\n",
    "\n",
    "gen_vec_mlp = keras.layers.Embedding(gen_vocabsize + 1, num_predictive_factors2, )(gen_input)\n",
    "gen_vec_mlp = keras.layers.Flatten(name='Flattengens-MLP')(gen_vec_mlp)\n",
    "gen_vec_mlp = keras.layers.Dropout(0.3)(gen_vec_mlp)\n",
    "\n",
    "whole_vec_mlp = keras.layers.Embedding(whole_vocabsize + 1, num_predictive_factors3, )(whole_input)\n",
    "whole_vec_mlp = keras.layers.Flatten(name='Flattenwhls-MLP')(whole_vec_mlp)\n",
    "whole_vec_mlp = keras.layers.Dropout(0.3)(whole_vec_mlp)\n",
    "\n",
    "notargets_vec_mlp = keras.layers.Embedding(notargets_vocabsize + 1, num_predictive_factors4, )(notargets_input)\n",
    "notargets_vec_mlp = keras.layers.Flatten(name='FlattenNotgts-MLP')(notargets_vec_mlp)\n",
    "notargets_vec_mlp = keras.layers.Dropout(0.3)(notargets_vec_mlp)\n",
    "\n",
    "targets_vec_mlp = keras.layers.Embedding(targets_vocabsize + 1, num_predictive_factors5, )(targets_input)\n",
    "targets_vec_mlp = keras.layers.Flatten(name='Flattentgts-MLP')(targets_vec_mlp)\n",
    "targets_vec_mlp = keras.layers.Dropout(0.3)(targets_vec_mlp)\n",
    "\n",
    "noadverbs_vec_mlp = keras.layers.Embedding(noadverbs_vocabsize + 1, num_predictive_factors4, )(noadverbs_input)\n",
    "noadverbs_vec_mlp = keras.layers.Flatten(name='FlattenNoadvs-MLP')(noadverbs_vec_mlp)\n",
    "noadverbs_vec_mlp = keras.layers.Dropout(0.3)(noadverbs_vec_mlp)\n",
    "\n",
    "adverbs_vec_mlp = keras.layers.Embedding(adverbs_vocabsize + 1, num_predictive_factors5, )(adverbs_input)\n",
    "adverbs_vec_mlp = keras.layers.Flatten(name='Flattenadvs-MLP')(adverbs_vec_mlp)\n",
    "adverbs_vec_mlp = keras.layers.Dropout(0.3)(adverbs_vec_mlp)\n",
    "\n",
    "concat_mlp = keras.layers.merge.concatenate([cond_vec_mlp, gen_vec_mlp, whole_vec_mlp, notargets_vec_mlp, targets_vec_mlp, noadverbs_vec_mlp, adverbs_vec_mlp, etc_input])\n",
    "concat_dropout_mlp = keras.layers.Dropout(0.3)(concat_mlp)\n",
    "\n",
    "dense = keras.layers.Dense(24, kernel_regularizer=keras.regularizers.l2(0.001), name='FullyConnected-1', activation='relu')(concat_dropout_mlp)\n",
    "dropout_1 = keras.layers.Dropout(0.3, name='Dropout-1')(dense)\n",
    "\n",
    "dense_2 = keras.layers.Dense(16, kernel_regularizer=keras.regularizers.l2(0.001), name='FullyConnected-2', activation='relu')(dropout_1)\n",
    "dropout_2 = keras.layers.Dropout(0.3, name='Dropout-2')(dense_2)\n",
    "\n",
    "# dense_3 = keras.layers.Dense(16, kernel_regularizer=keras.regularizers.l2(0.001), name='FullyConnected-3', activation='relu')(dropout_2)\n",
    "# dropout_3 = keras.layers.Dropout(0.3, name='Dropout-3')(dense_3)\n",
    "\n",
    "dense_4 = keras.layers.Dense(16, kernel_regularizer=keras.regularizers.l2(0.0001), name='FullyConnected-4', activation='relu')(dropout_2)\n",
    "pred_mlp = keras.layers.Dense(1, activation='sigmoid', name='Activation')(dense_4)\n",
    "\n",
    "model = keras.Model(inputs=[cond_input, gen_input, whole_input, notargets_input, targets_input, noadverbs_input, adverbs_input, etc_input ], output=pred_mlp)  #  etc_input\n",
    "model.compile(optimizer=keras.optimizers.Adam(lr=1e-4), loss='binary_crossentropy', metrics=['binary_crossentropy', 'accuracy'])\n",
    "#model.compile(optimizer=keras.optimizers.Adamax(lr=1e-3), loss='binary_crossentropy', metrics=['binary_crossentropy', 'accuracy'])"
   ]
  },
  {
   "cell_type": "code",
   "execution_count": 57,
   "metadata": {},
   "outputs": [
    {
     "name": "stdout",
     "output_type": "stream",
     "text": [
      "num_batch_normal: 1039, num_batch_smishing: 71\n",
      "num_batch_normal: 56, num_batch_smishing: 4\n",
      "Epoch 1/15\n",
      "1039/1039 [==============================] - 258s 248ms/step - loss: 0.1541 - binary_crossentropy: 0.1049 - acc: 0.9677 - val_loss: 0.0461 - val_binary_crossentropy: 0.0093 - val_acc: 0.9976\n",
      "Epoch 2/15\n",
      "1039/1039 [==============================] - 215s 207ms/step - loss: 0.0453 - binary_crossentropy: 0.0168 - acc: 0.9972 - val_loss: 0.0303 - val_binary_crossentropy: 0.0072 - val_acc: 0.9982\n",
      "Epoch 3/15\n",
      "1039/1039 [==============================] - 207s 199ms/step - loss: 0.0301 - binary_crossentropy: 0.0099 - acc: 0.9986 - val_loss: 0.0234 - val_binary_crossentropy: 0.0058 - val_acc: 0.9989\n",
      "Epoch 4/15\n",
      "1039/1039 [==============================] - 210s 202ms/step - loss: 0.0229 - binary_crossentropy: 0.0069 - acc: 0.9990 - val_loss: 0.0221 - val_binary_crossentropy: 0.0077 - val_acc: 0.9984\n",
      "Epoch 5/15\n",
      "1039/1039 [==============================] - 210s 202ms/step - loss: 0.0177 - binary_crossentropy: 0.0048 - acc: 0.9994 - val_loss: 0.0170 - val_binary_crossentropy: 0.0053 - val_acc: 0.9988\n",
      "Epoch 6/15\n",
      "1039/1039 [==============================] - 210s 202ms/step - loss: 0.0142 - binary_crossentropy: 0.0039 - acc: 0.9996 - val_loss: 0.0162 - val_binary_crossentropy: 0.0072 - val_acc: 0.9985\n",
      "Epoch 7/15\n",
      "1039/1039 [==============================] - 209s 201ms/step - loss: 0.0112 - binary_crossentropy: 0.0030 - acc: 0.9997 - val_loss: 0.0140 - val_binary_crossentropy: 0.0067 - val_acc: 0.9985\n",
      "Epoch 8/15\n",
      "1039/1039 [==============================] - 208s 200ms/step - loss: 0.0091 - binary_crossentropy: 0.0024 - acc: 0.9997 - val_loss: 0.0117 - val_binary_crossentropy: 0.0055 - val_acc: 0.9988\n",
      "Epoch 9/15\n",
      "1039/1039 [==============================] - 212s 204ms/step - loss: 0.0075 - binary_crossentropy: 0.0020 - acc: 0.9998 - val_loss: 0.0108 - val_binary_crossentropy: 0.0060 - val_acc: 0.9988\n",
      "Epoch 10/15\n",
      "1039/1039 [==============================] - 211s 203ms/step - loss: 0.0064 - binary_crossentropy: 0.0018 - acc: 0.9998 - val_loss: 0.0098 - val_binary_crossentropy: 0.0054 - val_acc: 0.9988\n",
      "Epoch 11/15\n",
      "1039/1039 [==============================] - 209s 201ms/step - loss: 0.0058 - binary_crossentropy: 0.0017 - acc: 0.9998 - val_loss: 0.0094 - val_binary_crossentropy: 0.0055 - val_acc: 0.9988\n",
      "Epoch 12/15\n",
      "1039/1039 [==============================] - 210s 202ms/step - loss: 0.0052 - binary_crossentropy: 0.0015 - acc: 0.9999 - val_loss: 0.0090 - val_binary_crossentropy: 0.0055 - val_acc: 0.9988\n",
      "Epoch 13/15\n",
      "1039/1039 [==============================] - 211s 203ms/step - loss: 0.0048 - binary_crossentropy: 0.0013 - acc: 0.9998 - val_loss: 0.0098 - val_binary_crossentropy: 0.0063 - val_acc: 0.9988\n",
      "Epoch 14/15\n",
      "1039/1039 [==============================] - 208s 200ms/step - loss: 0.0046 - binary_crossentropy: 0.0013 - acc: 0.9999 - val_loss: 0.0088 - val_binary_crossentropy: 0.0056 - val_acc: 0.9988\n",
      "Epoch 15/15\n",
      "1039/1039 [==============================] - 208s 200ms/step - loss: 0.0042 - binary_crossentropy: 0.0011 - acc: 0.9999 - val_loss: 0.0088 - val_binary_crossentropy: 0.0058 - val_acc: 0.9987\n"
     ]
    }
   ],
   "source": [
    "train_gen = DataGenerator(tidf_cond_train, tidf_gen_train, tidf_whole_train, tidf_notargets_train, tidf_targets_train, tidf_noadverbs_train, tidf_adverbs_train, tidf_etc_train, tidf_label_train, 160, 160, convec_size, genvec_size, whlvec_size, notgtvec_size, tgtvec_size, noadvvec_size, advvec_size)\n",
    "valid_gen = DataGenerator(tidf_cond_valid, tidf_gen_valid, tidf_whole_valid, tidf_notargets_valid, tidf_targets_valid, tidf_noadverbs_valid, tidf_adverbs_valid, tidf_etc_valid, tidf_label_valid, 1000, 1000, convec_size, genvec_size, whlvec_size, notgtvec_size, tgtvec_size, noadvvec_size, advvec_size)\n",
    "\n",
    "# 총 20번 train?\n",
    "history = model.fit_generator(generator=train_gen,\n",
    "                             epochs = 15,\n",
    "#                              use_multiprocessing=True,\n",
    "#                               workers=3,\n",
    "                             validation_data=valid_gen,\n",
    "                             verbose=1)"
   ]
  },
  {
   "cell_type": "code",
   "execution_count": 58,
   "metadata": {},
   "outputs": [
    {
     "data": {
      "image/png": "[encoded data removed]",
      "text/plain": [
       "<Figure size 1440x720 with 2 Axes>"
      ]
     },
     "metadata": {
      "needs_background": "light"
     },
     "output_type": "display_data"
    }
   ],
   "source": [
    "import matplotlib.pyplot as plt\n",
    "fig, loss_ax = plt.subplots()\n",
    "fig.set_figheight(10)\n",
    "fig.set_figwidth(20)\n",
    "acc_ax = loss_ax.twinx()\n",
    "loss_ax.plot(history.history['loss'], 'y', label='train_loss')\n",
    "loss_ax.plot(history.history['val_loss'], 'r', label='val_loss')\n",
    "\n",
    "acc_ax.plot(history.history['acc'], 'b', label='train_acc')\n",
    "acc_ax.plot(history.history['val_acc'], 'g', label='val_acc')\n",
    "\n",
    "loss_ax.set_xlabel('epoch')\n",
    "loss_ax.set_ylabel('loss')\n",
    "acc_ax.set_ylabel('accuracy')\n",
    "loss_ax.legend(loc='upper left')\n",
    "acc_ax.legend(loc='lower left')\n",
    "\n",
    "plt.show()"
   ]
  },
  {
   "cell_type": "code",
   "execution_count": 59,
   "metadata": {},
   "outputs": [
    {
     "data": {
      "text/plain": [
       "[<matplotlib.lines.Line2D at 0x7fa174737110>]"
      ]
     },
     "execution_count": 59,
     "metadata": {},
     "output_type": "execute_result"
    },
    {
     "data": {
      "image/png": "[encoded data removed]",
      "text/plain": [
       "<Figure size 1440x720 with 1 Axes>"
      ]
     },
     "metadata": {
      "needs_background": "light"
     },
     "output_type": "display_data"
    }
   ],
   "source": [
    "# layer 3개로 늘리고 15번 train\n",
    "data_gen_test = pad_sequences(tidf_gen_test, maxlen=genvec_size, padding='pre')\n",
    "data_cond_test = pad_sequences(tidf_cond_test, maxlen=convec_size, padding='pre')\n",
    "data_whole_test = pad_sequences(tidf_whole_test, maxlen=whlvec_size, padding='pre')\n",
    "data_notargets_test = pad_sequences(tidf_notargets_test, maxlen=notgtvec_size, padding='pre')\n",
    "data_targets_test = pad_sequences(tidf_targets_test, maxlen=tgtvec_size, padding='pre')\n",
    "data_noadverbs_test = pad_sequences(tidf_noadverbs_test, maxlen=noadvvec_size, padding='pre')\n",
    "data_adverbs_test = pad_sequences(tidf_adverbs_test, maxlen=advvec_size, padding='pre')\n",
    "data_etc_test = tidf_etc_test\n",
    "\n",
    "pred_test = model.predict(x=[data_cond_test, data_gen_test, data_whole_test, data_notargets_test, data_targets_test, data_noadverbs_test, data_adverbs_test, data_etc_test], batch_size=160)\n",
    "gap = np.abs(tidf_label_test - pred_test.reshape([-1,]))\n",
    "\n",
    "plt.figure(figsize=(20,10))\n",
    "plt.plot(gap)"
   ]
  },
  {
   "cell_type": "code",
   "execution_count": null,
   "metadata": {},
   "outputs": [],
   "source": [
    "df[df['id'].isin(np.array(original_idx)[split >= 0.8][gap > 0.5])].text.map(print)"
   ]
  },
  {
   "cell_type": "code",
   "execution_count": 60,
   "metadata": {},
   "outputs": [
    {
     "name": "stdout",
     "output_type": "stream",
     "text": [
      "auc : 0.9999999655212939\n"
     ]
    },
    {
     "data": {
      "image/png": "[encoded data removed]",
      "text/plain": [
       "<Figure size 360x360 with 1 Axes>"
      ]
     },
     "metadata": {
      "needs_background": "light"
     },
     "output_type": "display_data"
    }
   ],
   "source": [
    "# auc\n",
    "from sklearn.metrics import confusion_matrix, roc_curve\n",
    "from sklearn.metrics import auc\n",
    "from matplotlib import pyplot as plt\n",
    "\n",
    "fpr, tpr, thresholds = roc_curve(tidf_label_test, pred_test)\n",
    "print('auc :', auc(fpr,tpr))\n",
    "\n",
    "plt.figure(figsize=(5,5))\n",
    "plt.plot(fpr,tpr,'-')\n",
    "plt.plot([0,1],[0,1], 'k--')\n",
    "plt.show()"
   ]
  },
  {
   "cell_type": "code",
   "execution_count": null,
   "metadata": {},
   "outputs": [],
   "source": []
  },
  {
   "cell_type": "code",
   "execution_count": null,
   "metadata": {},
   "outputs": [],
   "source": []
  },
  {
   "cell_type": "code",
   "execution_count": null,
   "metadata": {},
   "outputs": [],
   "source": [
    "# 제출 준비"
   ]
  },
  {
   "cell_type": "code",
   "execution_count": 61,
   "metadata": {},
   "outputs": [],
   "source": [
    "submit_df = pd.read_csv('./data/public_test.csv')"
   ]
  },
  {
   "cell_type": "code",
   "execution_count": 62,
   "metadata": {},
   "outputs": [
    {
     "name": "stdout",
     "output_type": "stream",
     "text": [
      "2020-01-09 23:44:26.985424 0\n"
     ]
    }
   ],
   "source": [
    "unknowns = []\n",
    "\n",
    "idx = 0\n",
    "for idx, item in submit_df.iterrows():\n",
    "    splited, etc = parse_sentence(item.text)\n",
    "    etc.append(np.log(len(item.text))/8)  # 문장 전체의 길이\n",
    "    etc.append(np.log(len(splited))/4)  # 문장의 개수\n",
    "    splited.append(etc)\n",
    "    splited.append(item.id)\n",
    "    unknowns.append(splited)\n",
    "    if idx % 100000 == 0:\n",
    "        print(datetime.now(), idx)\n",
    "    idx += 1"
   ]
  },
  {
   "cell_type": "code",
   "execution_count": 63,
   "metadata": {},
   "outputs": [],
   "source": [
    "for unknown in unknowns:\n",
    "    notarget_word_list = [x for row in unknown[:-2] for x in row[3] if x in norm_target_words]\n",
    "    target_word_list = [x for row in unknown[:-2] for x in row[3] if x in smish_target_words]\n",
    "    notarget_adverb_list = [x for row in unknown[:-2] for x in row[4] if x in norm_target_adverbs]\n",
    "    target_adverb_list = [x for row in unknown[:-2] for x in row[4] if x in smish_target_adverbs]\n",
    "    unknown.insert(-2, notarget_word_list)\n",
    "    unknown.insert(-2, target_word_list)\n",
    "    unknown.insert(-2, notarget_adverb_list)\n",
    "    unknown.insert(-2, target_adverb_list)"
   ]
  },
  {
   "cell_type": "code",
   "execution_count": 64,
   "metadata": {},
   "outputs": [
    {
     "name": "stdout",
     "output_type": "stream",
     "text": [
      "size of vocab (conditioned, general): 8867 16057\n"
     ]
    }
   ],
   "source": [
    "# smishing cases; length of vocab when it's out of vocab\n",
    "submit_conditioned = []\n",
    "submit_general = []\n",
    "submit_whole = []\n",
    "submit_notargets = []\n",
    "submit_targets = []\n",
    "submit_noadverbs = []\n",
    "submit_adverbs = []\n",
    "submit_etc = []\n",
    "\n",
    "cond_vocabsize = len(conditioned_vocab)\n",
    "gen_vocabsize = len(general_vocab)\n",
    "whole_vocabsize = len(whole_vocab)\n",
    "notargets_vocabsize = len(notargets_vocab)\n",
    "targets_vocabsize = len(targets_vocab)\n",
    "noadverbs_vocabsize = len(noadverbs_vocab)\n",
    "adverbs_vocabsize = len(adverbs_vocab)\n",
    "\n",
    "print('size of vocab (conditioned, general):', cond_vocabsize, gen_vocabsize)\n",
    "for msg in unknowns:\n",
    "    submit_conditioned.append([conditioned_vocab.get(x) if x in conditioned_vocab else cond_vocabsize for row in msg[:-6] if row[1] == True for x in row[3]])\n",
    "    submit_general.append([general_vocab.get(x) if x in general_vocab else gen_vocabsize for row in msg[:-6] if row[1] == False for x in row[3]])\n",
    "    submit_whole.append([whole_vocab.get(x) if x in whole_vocab else whole_vocabsize for row in msg[:-6] for x in row[2]])\n",
    "    submit_notargets.append([notargets_vocab.get(x) if x in notargets_vocab else notargets_vocabsize for x in msg[-6]])\n",
    "    submit_targets.append([targets_vocab.get(x) if x in targets_vocab else targets_vocabsize for x in msg[-5]])\n",
    "    submit_noadverbs.append([noadverbs_vocab.get(x) if x in noadverbs_vocab else noadverbs_vocabsize for x in msg[-4]])\n",
    "    submit_adverbs.append([adverbs_vocab.get(x) if x in adverbs_vocab else adverbs_vocabsize for x in msg[-3]])\n",
    "    submit_etc.append(msg[-2])"
   ]
  },
  {
   "cell_type": "code",
   "execution_count": 65,
   "metadata": {},
   "outputs": [],
   "source": [
    "data_submit_conditioned = pad_sequences(submit_conditioned, maxlen=convec_size, padding='pre')\n",
    "data_submit_general = pad_sequences(submit_general, maxlen=genvec_size, padding='pre')\n",
    "data_submit_whole = pad_sequences(submit_whole, maxlen=whlvec_size, padding='pre')\n",
    "data_submit_notargets = pad_sequences(submit_notargets, maxlen=notgtvec_size, padding='pre')\n",
    "data_submit_targets = pad_sequences(submit_targets, maxlen=tgtvec_size, padding='pre')\n",
    "data_submit_noadverbs = pad_sequences(submit_noadverbs, maxlen=noadvvec_size, padding='pre')\n",
    "data_submit_adverbs = pad_sequences(submit_adverbs, maxlen=advvec_size, padding='pre')\n",
    "data_submit_etc = np.array(submit_etc)"
   ]
  },
  {
   "cell_type": "code",
   "execution_count": 66,
   "metadata": {},
   "outputs": [
    {
     "name": "stdout",
     "output_type": "stream",
     "text": [
      "1626/1626 [==============================] - 0s 117us/step\n"
     ]
    }
   ],
   "source": [
    "pred_y = model.predict(x=[data_submit_conditioned, data_submit_general, data_submit_whole, data_submit_notargets, data_submit_targets, data_submit_noadverbs, data_submit_adverbs, data_submit_etc], verbose=1)"
   ]
  },
  {
   "cell_type": "code",
   "execution_count": 67,
   "metadata": {},
   "outputs": [],
   "source": [
    "pred_y[pred_y > 1.0] = 1.0"
   ]
  },
  {
   "cell_type": "code",
   "execution_count": 68,
   "metadata": {},
   "outputs": [],
   "source": [
    "submit_df['smishing'] = np.abs(pred_y)"
   ]
  },
  {
   "cell_type": "code",
   "execution_count": 69,
   "metadata": {},
   "outputs": [],
   "source": [
    "submit_df[['id', 'smishing']].to_csv('./data/submission_20200109_3.csv', index=False)"
   ]
  },
  {
   "cell_type": "code",
   "execution_count": null,
   "metadata": {},
   "outputs": [],
   "source": [
    "# 일반/컨디션 문장의 경우.. 명사만 가지고 만들까?.. 의 컨셉\n",
    "# 거기다 전체 문장은 모든 품사 다 포함 + 여기다 문장 사이에 구분자 추가 (절취선) + mask단어 (XXX) 추가\n",
    "# 여기에 targets라는 smishing에만 주로 등장하는 단어들을 가지고 증강\n",
    "# overfit 대응을 위해.. l2-reg 0.1 -> 0.25 바꾸고, 입력 embeding 사이즈를 조금 줄였더니\n",
    "# 0.974222 기록 (2020.01.08 06:16) 약간 나아짐 (40번 트레이닝. 총 6시간.)\n",
    "# trainning graph에 주목.. val acc는 학습이 반복될 수록 오히려 떨어지지만, 제출점수는 높아짐\n",
    "# 1/9 밤. weight를 줄였더니 (relu를 24x24 정도) train fit은 되는데.. (마치 overfit처럼..) 제출점수 95대로 낮아짐.. \n",
    "# 그래서 relu 24x16x16 으로 늘림 =>"
   ]
  },
  {
   "cell_type": "code",
   "execution_count": null,
   "metadata": {},
   "outputs": [],
   "source": []
  }
 ],
 "metadata": {
  "kernelspec": {
   "display_name": "Python 3",
   "language": "python",
   "name": "python3"
  },
  "language_info": {
   "codemirror_mode": {
    "name": "ipython",
    "version": 3
   },
   "file_extension": ".py",
   "mimetype": "text/x-python",
   "name": "python",
   "nbconvert_exporter": "python",
   "pygments_lexer": "ipython3",
   "version": "3.7.4"
  }
 },
 "nbformat": 4,
 "nbformat_minor": 2
}
